{
 "cells": [
  {
   "cell_type": "code",
   "execution_count": 1,
   "metadata": {},
   "outputs": [],
   "source": [
    "# The next data will be used in all the subsequent examples:\n",
    "\n",
    "thedata <- c(1, 7, 1, 1,  1,  5,  2,  5,  5,  8,  9,  8,  3,  7,  7,  5,  2,\n",
    "             8,  6, 10,  4,  1,  5,  4,  1,  8,  6,  2,  2, 10, 10,  7,  4,\n",
    "             4,  8, 10,  6,  6,  4,  2,  9,  3,  3, 10,  7,  8,  9,  8,  9,\n",
    "             1,  8,  7,  3,  1,  9,  9,  8,  9,  8,  3,  2,  4,  8,  7,  8,\n",
    "             2, 10,  1,  7,  3,  6,  5,  3,  4,  9,  5,  2,  1,  6,  8,  6,\n",
    "             9, 10,  5,  8,  7,  5,  9,  2,  1,  5,  8,  5,  9,  1,  2,  8,\n",
    "             4,  9,  6)"
   ]
  },
  {
   "cell_type": "code",
   "execution_count": 2,
   "metadata": {},
   "outputs": [
    {
     "data": {
      "text/html": [
       "<ol class=list-inline>\n",
       "\t<li>1</li>\n",
       "\t<li>7</li>\n",
       "\t<li>1</li>\n",
       "\t<li>1</li>\n",
       "\t<li>1</li>\n",
       "\t<li>5</li>\n",
       "\t<li>2</li>\n",
       "\t<li>5</li>\n",
       "\t<li>5</li>\n",
       "\t<li>8</li>\n",
       "\t<li>9</li>\n",
       "\t<li>8</li>\n",
       "\t<li>3</li>\n",
       "\t<li>7</li>\n",
       "\t<li>7</li>\n",
       "\t<li>5</li>\n",
       "\t<li>2</li>\n",
       "\t<li>8</li>\n",
       "\t<li>6</li>\n",
       "\t<li>10</li>\n",
       "\t<li>4</li>\n",
       "\t<li>1</li>\n",
       "\t<li>5</li>\n",
       "\t<li>4</li>\n",
       "\t<li>1</li>\n",
       "\t<li>8</li>\n",
       "\t<li>6</li>\n",
       "\t<li>2</li>\n",
       "\t<li>2</li>\n",
       "\t<li>10</li>\n",
       "\t<li>10</li>\n",
       "\t<li>7</li>\n",
       "\t<li>4</li>\n",
       "\t<li>4</li>\n",
       "\t<li>8</li>\n",
       "\t<li>10</li>\n",
       "\t<li>6</li>\n",
       "\t<li>6</li>\n",
       "\t<li>4</li>\n",
       "\t<li>2</li>\n",
       "\t<li>9</li>\n",
       "\t<li>3</li>\n",
       "\t<li>3</li>\n",
       "\t<li>10</li>\n",
       "\t<li>7</li>\n",
       "\t<li>8</li>\n",
       "\t<li>9</li>\n",
       "\t<li>8</li>\n",
       "\t<li>9</li>\n",
       "\t<li>1</li>\n",
       "\t<li>8</li>\n",
       "\t<li>7</li>\n",
       "\t<li>3</li>\n",
       "\t<li>1</li>\n",
       "\t<li>9</li>\n",
       "\t<li>9</li>\n",
       "\t<li>8</li>\n",
       "\t<li>9</li>\n",
       "\t<li>8</li>\n",
       "\t<li>3</li>\n",
       "\t<li>2</li>\n",
       "\t<li>4</li>\n",
       "\t<li>8</li>\n",
       "\t<li>7</li>\n",
       "\t<li>8</li>\n",
       "\t<li>2</li>\n",
       "\t<li>10</li>\n",
       "\t<li>1</li>\n",
       "\t<li>7</li>\n",
       "\t<li>3</li>\n",
       "\t<li>6</li>\n",
       "\t<li>5</li>\n",
       "\t<li>3</li>\n",
       "\t<li>4</li>\n",
       "\t<li>9</li>\n",
       "\t<li>5</li>\n",
       "\t<li>2</li>\n",
       "\t<li>1</li>\n",
       "\t<li>6</li>\n",
       "\t<li>8</li>\n",
       "\t<li>6</li>\n",
       "\t<li>9</li>\n",
       "\t<li>10</li>\n",
       "\t<li>5</li>\n",
       "\t<li>8</li>\n",
       "\t<li>7</li>\n",
       "\t<li>5</li>\n",
       "\t<li>9</li>\n",
       "\t<li>2</li>\n",
       "\t<li>1</li>\n",
       "\t<li>5</li>\n",
       "\t<li>8</li>\n",
       "\t<li>5</li>\n",
       "\t<li>9</li>\n",
       "\t<li>1</li>\n",
       "\t<li>2</li>\n",
       "\t<li>8</li>\n",
       "\t<li>4</li>\n",
       "\t<li>9</li>\n",
       "\t<li>6</li>\n",
       "</ol>\n"
      ],
      "text/latex": [
       "\\begin{enumerate*}\n",
       "\\item 1\n",
       "\\item 7\n",
       "\\item 1\n",
       "\\item 1\n",
       "\\item 1\n",
       "\\item 5\n",
       "\\item 2\n",
       "\\item 5\n",
       "\\item 5\n",
       "\\item 8\n",
       "\\item 9\n",
       "\\item 8\n",
       "\\item 3\n",
       "\\item 7\n",
       "\\item 7\n",
       "\\item 5\n",
       "\\item 2\n",
       "\\item 8\n",
       "\\item 6\n",
       "\\item 10\n",
       "\\item 4\n",
       "\\item 1\n",
       "\\item 5\n",
       "\\item 4\n",
       "\\item 1\n",
       "\\item 8\n",
       "\\item 6\n",
       "\\item 2\n",
       "\\item 2\n",
       "\\item 10\n",
       "\\item 10\n",
       "\\item 7\n",
       "\\item 4\n",
       "\\item 4\n",
       "\\item 8\n",
       "\\item 10\n",
       "\\item 6\n",
       "\\item 6\n",
       "\\item 4\n",
       "\\item 2\n",
       "\\item 9\n",
       "\\item 3\n",
       "\\item 3\n",
       "\\item 10\n",
       "\\item 7\n",
       "\\item 8\n",
       "\\item 9\n",
       "\\item 8\n",
       "\\item 9\n",
       "\\item 1\n",
       "\\item 8\n",
       "\\item 7\n",
       "\\item 3\n",
       "\\item 1\n",
       "\\item 9\n",
       "\\item 9\n",
       "\\item 8\n",
       "\\item 9\n",
       "\\item 8\n",
       "\\item 3\n",
       "\\item 2\n",
       "\\item 4\n",
       "\\item 8\n",
       "\\item 7\n",
       "\\item 8\n",
       "\\item 2\n",
       "\\item 10\n",
       "\\item 1\n",
       "\\item 7\n",
       "\\item 3\n",
       "\\item 6\n",
       "\\item 5\n",
       "\\item 3\n",
       "\\item 4\n",
       "\\item 9\n",
       "\\item 5\n",
       "\\item 2\n",
       "\\item 1\n",
       "\\item 6\n",
       "\\item 8\n",
       "\\item 6\n",
       "\\item 9\n",
       "\\item 10\n",
       "\\item 5\n",
       "\\item 8\n",
       "\\item 7\n",
       "\\item 5\n",
       "\\item 9\n",
       "\\item 2\n",
       "\\item 1\n",
       "\\item 5\n",
       "\\item 8\n",
       "\\item 5\n",
       "\\item 9\n",
       "\\item 1\n",
       "\\item 2\n",
       "\\item 8\n",
       "\\item 4\n",
       "\\item 9\n",
       "\\item 6\n",
       "\\end{enumerate*}\n"
      ],
      "text/markdown": [
       "1. 1\n",
       "2. 7\n",
       "3. 1\n",
       "4. 1\n",
       "5. 1\n",
       "6. 5\n",
       "7. 2\n",
       "8. 5\n",
       "9. 5\n",
       "10. 8\n",
       "11. 9\n",
       "12. 8\n",
       "13. 3\n",
       "14. 7\n",
       "15. 7\n",
       "16. 5\n",
       "17. 2\n",
       "18. 8\n",
       "19. 6\n",
       "20. 10\n",
       "21. 4\n",
       "22. 1\n",
       "23. 5\n",
       "24. 4\n",
       "25. 1\n",
       "26. 8\n",
       "27. 6\n",
       "28. 2\n",
       "29. 2\n",
       "30. 10\n",
       "31. 10\n",
       "32. 7\n",
       "33. 4\n",
       "34. 4\n",
       "35. 8\n",
       "36. 10\n",
       "37. 6\n",
       "38. 6\n",
       "39. 4\n",
       "40. 2\n",
       "41. 9\n",
       "42. 3\n",
       "43. 3\n",
       "44. 10\n",
       "45. 7\n",
       "46. 8\n",
       "47. 9\n",
       "48. 8\n",
       "49. 9\n",
       "50. 1\n",
       "51. 8\n",
       "52. 7\n",
       "53. 3\n",
       "54. 1\n",
       "55. 9\n",
       "56. 9\n",
       "57. 8\n",
       "58. 9\n",
       "59. 8\n",
       "60. 3\n",
       "61. 2\n",
       "62. 4\n",
       "63. 8\n",
       "64. 7\n",
       "65. 8\n",
       "66. 2\n",
       "67. 10\n",
       "68. 1\n",
       "69. 7\n",
       "70. 3\n",
       "71. 6\n",
       "72. 5\n",
       "73. 3\n",
       "74. 4\n",
       "75. 9\n",
       "76. 5\n",
       "77. 2\n",
       "78. 1\n",
       "79. 6\n",
       "80. 8\n",
       "81. 6\n",
       "82. 9\n",
       "83. 10\n",
       "84. 5\n",
       "85. 8\n",
       "86. 7\n",
       "87. 5\n",
       "88. 9\n",
       "89. 2\n",
       "90. 1\n",
       "91. 5\n",
       "92. 8\n",
       "93. 5\n",
       "94. 9\n",
       "95. 1\n",
       "96. 2\n",
       "97. 8\n",
       "98. 4\n",
       "99. 9\n",
       "100. 6\n",
       "\n",
       "\n"
      ],
      "text/plain": [
       "  [1]  1  7  1  1  1  5  2  5  5  8  9  8  3  7  7  5  2  8  6 10  4  1  5  4  1\n",
       " [26]  8  6  2  2 10 10  7  4  4  8 10  6  6  4  2  9  3  3 10  7  8  9  8  9  1\n",
       " [51]  8  7  3  1  9  9  8  9  8  3  2  4  8  7  8  2 10  1  7  3  6  5  3  4  9\n",
       " [76]  5  2  1  6  8  6  9 10  5  8  7  5  9  2  1  5  8  5  9  1  2  8  4  9  6"
      ]
     },
     "metadata": {},
     "output_type": "display_data"
    }
   ],
   "source": [
    "thedata"
   ]
  },
  {
   "cell_type": "code",
   "execution_count": 3,
   "metadata": {},
   "outputs": [
    {
     "name": "stdout",
     "output_type": "stream",
     "text": [
      "[1] \"Frequencies\"\n",
      "thedata\n",
      " 1  2  3  4  5  6  7  8  9 10 \n",
      "12 10  7  8 11  8  9 16 12  7 \n"
     ]
    }
   ],
   "source": [
    "# ###Frequencies\n",
    "# The code below will produce a table of frequencies.\n",
    "print('Frequencies')\n",
    "thefrec <- table(thedata)\n",
    "print(thefrec)"
   ]
  },
  {
   "cell_type": "code",
   "execution_count": 4,
   "metadata": {},
   "outputs": [
    {
     "name": "stdout",
     "output_type": "stream",
     "text": [
      "[1] \"Relative Frequencies\"\n",
      "thedata\n",
      "   1    2    3    4    5    6    7    8    9   10 \n",
      "0.12 0.10 0.07 0.08 0.11 0.08 0.09 0.16 0.12 0.07 \n"
     ]
    }
   ],
   "source": [
    "# ###Relative Frequencies\n",
    "# The relative frequency or empirical probability of an event refers to the absolute frequency normalized by the total number of events.\n",
    "# The function `prop.table()` produces a relative frequencies table out of the frequency table `thefrec` from the previous example.\n",
    "print('Relative Frequencies')\n",
    "therelfrec <- prop.table(thefrec)\n",
    "print(therelfrec)"
   ]
  },
  {
   "cell_type": "code",
   "execution_count": 4,
   "metadata": {},
   "outputs": [
    {
     "name": "stdout",
     "output_type": "stream",
     "text": [
      "[1] \"The Mean\"\n",
      "[1] 5.57\n"
     ]
    }
   ],
   "source": [
    "# ### The Mean\n",
    "# The mean is equal to the sum over every possible value weighted by the probability of that value. The `mean()` function computes the mean of a list of numbers in R.\n",
    "print('The Mean')\n",
    "themean <- mean(thedata)\n",
    "print(themean)"
   ]
  },
  {
   "cell_type": "code",
   "execution_count": 6,
   "metadata": {},
   "outputs": [
    {
     "name": "stdout",
     "output_type": "stream",
     "text": [
      "[1] \"The Trimmed Mean\"\n",
      "[1] 5.625\n"
     ]
    }
   ],
   "source": [
    "#  ###The Trimmed Mean\n",
    "#  To compute the trimmed mean **R** removes a small percentage of the largest and smallest values before calculating the mean. In this example the upper and lower 10% are removed by the extra parameter `trim=0.10`.\n",
    "print('The Trimmed Mean')\n",
    "thetrimmean <- mean(thedata, trim = 0.10)\n",
    "print(thetrimmean)"
   ]
  },
  {
   "cell_type": "code",
   "execution_count": 5,
   "metadata": {},
   "outputs": [
    {
     "name": "stdout",
     "output_type": "stream",
     "text": [
      "[1] \"The Median\"\n",
      "[1] 6\n"
     ]
    }
   ],
   "source": [
    "# ###The Median\n",
    "# If there is an odd number of data values then the median will be the value in the middle. If there is an even number of data values the median is the mean of the two data values in the middle. To compute the median with R the function `median()` is available.\n",
    "print('The Median')\n",
    "themedian <- median(thedata)\n",
    "print(themedian)"
   ]
  },
  {
   "cell_type": "code",
   "execution_count": 8,
   "metadata": {},
   "outputs": [
    {
     "name": "stdout",
     "output_type": "stream",
     "text": [
      "[1] \"The Quantiles\"\n",
      "25% 50% 75% \n",
      "  3   6   8 \n"
     ]
    }
   ],
   "source": [
    "# ###The Quantiles\n",
    "# These are computed dividing ordered data into q essentially equal-sized data subsets, the q-quantiles are the data values marking the boundaries between consecutive subsets. To compute them R has the function `quantile()` which takes two arguments: a list of data and a list of percentages. The example below computes the quantiles corresponding to 25%, 50% and 75% of the data.\n",
    "print('The Quantiles')\n",
    "thequantiles <- quantile(thedata, probs=c(0.25,0.5,0.75))\n",
    "print(thequantiles)"
   ]
  },
  {
   "cell_type": "code",
   "execution_count": 6,
   "metadata": {},
   "outputs": [
    {
     "name": "stdout",
     "output_type": "stream",
     "text": [
      "[1] \"The Variance\"\n",
      "[1] 8.49\n"
     ]
    }
   ],
   "source": [
    "# ###The Variance\n",
    "# The variance measures how far a set of numbers is spread out. The routine `var()` computes the variance of a list of numbers in R.\n",
    "print('The Variance')\n",
    "thevariance <- var(thedata)\n",
    "print(thevariance)"
   ]
  },
  {
   "cell_type": "code",
   "execution_count": 7,
   "metadata": {},
   "outputs": [
    {
     "name": "stdout",
     "output_type": "stream",
     "text": [
      "[1] \"The Standard Deviation\"\n",
      "[1] 2.91376\n"
     ]
    }
   ],
   "source": [
    "# ###The Standard Deviation\n",
    "# The standard deviation is a measure that is used to quantify the amount of variation or dispersion of a set of data values. It is the variance squared. R can compute the standard deviation of a set of data by means of `sd()`.\n",
    "print('The Standard Deviation')\n",
    "thesd <- sd(thedata)\n",
    "print(thesd)"
   ]
  },
  {
   "cell_type": "code",
   "execution_count": 8,
   "metadata": {},
   "outputs": [
    {
     "name": "stdout",
     "output_type": "stream",
     "text": [
      "[1] \"The Interquartile Range\"\n",
      "[1] 5\n"
     ]
    }
   ],
   "source": [
    "# ###The Interquartile Range\n",
    "# The interquartile range (IQR) is a measure of variability, based on dividing a data set into quartiles. You can compute the interquartile range in R with the `IQR()` function. \n",
    "print('The Interquartile Range')\n",
    "theiqr <- IQR(thedata)\n",
    "print(theiqr)"
   ]
  },
  {
   "cell_type": "code",
   "execution_count": 12,
   "metadata": {},
   "outputs": [
    {
     "name": "stdout",
     "output_type": "stream",
     "text": [
      "[1] \"The Median Absolute Deviation\"\n",
      "[1] 2.9652\n"
     ]
    }
   ],
   "source": [
    "# ###The Median Absolute Deviation\n",
    "# The median absolute deviation (MAD) is defined as the median of the absolute deviations from the data's median. The function `mad()` computes the MAD of a numeric set of data in R.\n",
    "print('The Median Absolute Deviation')\n",
    "themad <- mad(thedata)\n",
    "print(themad)\n"
   ]
  },
  {
   "cell_type": "code",
   "execution_count": 9,
   "metadata": {},
   "outputs": [
    {
     "name": "stderr",
     "output_type": "stream",
     "text": [
      "Warning message:\n",
      "\"package 'e1071' was built under R version 3.5.3\""
     ]
    },
    {
     "name": "stdout",
     "output_type": "stream",
     "text": [
      "[1] \"The Skewness\"\n",
      "[1] -0.1628241\n"
     ]
    }
   ],
   "source": [
    "# The library `e1071` is needed for the next two examples.\n",
    "library(e1071)\n",
    "\n",
    "# ###The Skewness\n",
    "# The skewness is a measure of the asymmetry of the data distribution about its mean. To compute it in R use the function `skewness()`.\n",
    "print('The Skewness')\n",
    "theskns <- skewness(thedata)\n",
    "print(theskns)"
   ]
  },
  {
   "cell_type": "code",
   "execution_count": 10,
   "metadata": {},
   "outputs": [
    {
     "name": "stdout",
     "output_type": "stream",
     "text": [
      "[1] \"The Kurtosis\"\n",
      "[1] -1.312111\n"
     ]
    }
   ],
   "source": [
    "# ###The Kurtosis\n",
    "# Kurtosis is a measure of the \"peakedness\" of graph of the data.\n",
    "print('The Kurtosis')\n",
    "thekts <- kurtosis(thedata)\n",
    "print(thekts)"
   ]
  },
  {
   "cell_type": "code",
   "execution_count": 11,
   "metadata": {},
   "outputs": [
    {
     "data": {
      "image/png": "[encoded data removed]",
      "text/plain": [
       "plot without title"
      ]
     },
     "metadata": {},
     "output_type": "display_data"
    }
   ],
   "source": [
    "# To visualize the data, the frequencies are plotted in the next [bar chart](https://www.getdatajoy.com/examples/r-plots/advanced-bar-charts)\n",
    "library(ggplot2)\n",
    "table = data.frame(thefrec)\n",
    "ggplot(data=table, aes(x=thedata, y=Freq)) +\n",
    "  geom_bar(colour=\"black\", stat=\"identity\") +\n",
    "  guides(fill=FALSE) +\n",
    "  ylab(\"Frequency\") +        # x-axis label\n",
    "  xlab(\"Data\")    "
   ]
  },
  {
   "cell_type": "code",
   "execution_count": null,
   "metadata": {},
   "outputs": [],
   "source": []
  }
 ],
 "metadata": {
  "kernelspec": {
   "display_name": "R",
   "language": "R",
   "name": "ir"
  },
  "language_info": {
   "codemirror_mode": "r",
   "file_extension": ".r",
   "mimetype": "text/x-r-source",
   "name": "R",
   "pygments_lexer": "r",
   "version": "4.1.0"
  }
 },
 "nbformat": 4,
 "nbformat_minor": 2
}
