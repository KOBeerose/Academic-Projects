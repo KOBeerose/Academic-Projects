{
 "cells": [
  {
   "cell_type": "markdown",
   "metadata": {},
   "source": [
    "<strong><b><font size=\"6\">NLP_preprocessing_Lab1</font></b></strong>"
   ]
  },
  {
   "cell_type": "markdown",
   "metadata": {},
   "source": [
    "\n",
    "<strong><b><font size=\"4\">Done by:<br>ELGHABI Taha<br> ELBATOURI Badr-EDDINE</font></b></strong>"
   ]
  },
  {
   "cell_type": "markdown",
   "metadata": {
    "toc": true
   },
   "source": [
    "<h1>To do tasks <span class=\"tocSkip\"></span></h1>\n",
    "    <li> Lower casing\n",
    "    <li> Punctuation removal\n",
    "    <li> Identifying and Remove Stop Words\n",
    "    <li> Tokenize Text in Words\n",
    "    <li> NLTK Word Stemming\n",
    "    <li> Build a bag-of-words\n",
    "    <li> Create Term Frequency-Inverse Document Frequency (TF-IDF)\n",
    "  "
   ]
  },
  {
   "cell_type": "markdown",
   "metadata": {},
   "source": [
    "## Importing Libraries"
   ]
  },
  {
   "cell_type": "code",
   "execution_count": 1,
   "metadata": {
    "scrolled": true
   },
   "outputs": [],
   "source": [
    "import warnings\n",
    "warnings.filterwarnings(\"ignore\")\n",
    "\n",
    "import pandas as pd\n",
    "import string\n",
    "import re\n",
    "\n",
    "#nltk\n",
    "import nltk\n",
    "from nltk.corpus import stopwords\n",
    "from nltk.tokenize import word_tokenize, sent_tokenize\n",
    "from nltk.stem import PorterStemmer, WordNetLemmatizer\n",
    "from nltk import tokenize\n",
    "\n",
    "#sci-kit learn\n",
    "from sklearn.feature_extraction.text import CountVectorizer, TfidfVectorizer\n"
   ]
  },
  {
   "cell_type": "markdown",
   "metadata": {},
   "source": [
    "## Download and Inspect the IMDB Movie Reviews Dataset\n",
    "- Labeled movie reviews data as either positive or negative reviews\n",
    "- We can download the __movie_reviews__ package using the nltk.download function:"
   ]
  },
  {
   "cell_type": "code",
   "execution_count": 2,
   "metadata": {},
   "outputs": [
    {
     "name": "stderr",
     "output_type": "stream",
     "text": [
      "[nltk_data] Downloading package movie_reviews to\n",
      "[nltk_data]     C:\\Users\\tahae\\AppData\\Roaming\\nltk_data...\n",
      "[nltk_data]   Package movie_reviews is already up-to-date!\n"
     ]
    },
    {
     "data": {
      "text/plain": [
       "True"
      ]
     },
     "execution_count": 2,
     "metadata": {},
     "output_type": "execute_result"
    }
   ],
   "source": [
    "nltk.download(\"movie_reviews\")"
   ]
  },
  {
   "cell_type": "code",
   "execution_count": 3,
   "metadata": {},
   "outputs": [],
   "source": [
    "from nltk.corpus import movie_reviews"
   ]
  },
  {
   "cell_type": "code",
   "execution_count": 4,
   "metadata": {},
   "outputs": [
    {
     "data": {
      "text/plain": [
       "2000"
      ]
     },
     "execution_count": 4,
     "metadata": {},
     "output_type": "execute_result"
    }
   ],
   "source": [
    "len(movie_reviews.fileids())"
   ]
  },
  {
   "cell_type": "code",
   "execution_count": 5,
   "metadata": {},
   "outputs": [
    {
     "data": {
      "text/plain": [
       "['neg/cv000_29416.txt',\n",
       " 'neg/cv001_19502.txt',\n",
       " 'neg/cv002_17424.txt',\n",
       " 'neg/cv003_12683.txt',\n",
       " 'neg/cv004_12641.txt']"
      ]
     },
     "execution_count": 5,
     "metadata": {},
     "output_type": "execute_result"
    }
   ],
   "source": [
    "movie_reviews.fileids()[:5]"
   ]
  },
  {
   "cell_type": "code",
   "execution_count": 6,
   "metadata": {
    "scrolled": true
   },
   "outputs": [
    {
     "data": {
      "text/plain": [
       "['pos/cv995_21821.txt',\n",
       " 'pos/cv996_11592.txt',\n",
       " 'pos/cv997_5046.txt',\n",
       " 'pos/cv998_14111.txt',\n",
       " 'pos/cv999_13106.txt']"
      ]
     },
     "execution_count": 6,
     "metadata": {},
     "output_type": "execute_result"
    }
   ],
   "source": [
    "movie_reviews.fileids()[-5:]"
   ]
  },
  {
   "cell_type": "markdown",
   "metadata": {},
   "source": [
    "- __fileids__ can also filter the available files based on their category, which is the name of the subfolders they are located in. Therefore we can have lists of positive and negative reviews separately."
   ]
  },
  {
   "cell_type": "code",
   "execution_count": 7,
   "metadata": {},
   "outputs": [],
   "source": [
    "negative_fileids = movie_reviews.fileids('neg')\n",
    "positive_fileids = movie_reviews.fileids('pos')"
   ]
  },
  {
   "cell_type": "code",
   "execution_count": 8,
   "metadata": {},
   "outputs": [
    {
     "data": {
      "text/plain": [
       "(1000, 1000)"
      ]
     },
     "execution_count": 8,
     "metadata": {},
     "output_type": "execute_result"
    }
   ],
   "source": [
    "len(negative_fileids), len(positive_fileids)"
   ]
  },
  {
   "cell_type": "markdown",
   "metadata": {},
   "source": [
    "- We can inspect one of the reviews using the raw method of movie_reviews, each file is split into sentences, the curators of this dataset also removed from each review from any direct mention of the rating of the movie."
   ]
  },
  {
   "cell_type": "code",
   "execution_count": 9,
   "metadata": {
    "scrolled": true
   },
   "outputs": [
    {
     "name": "stdout",
     "output_type": "stream",
     "text": [
      "by phil curtolo mel gibson ( braveheart ) gave a gripping performance as the father of a young kidnapped boy in ron howard's ransom . \n",
      "gibson plays tom mullen , a wealthy business tycoon whose past actions are coming back to haunt him as a deranged psychopath , played by gary sinise ( forrest gump ) , and his band of low-life thugs kidnap his only son for $2 million . \n",
      "tom and his wife , kate , played by rene russo ( tin cup ) were instructed not to inform the police , but they contacted the fbi . \n",
      "minutes later , an elite team of agents led by delroy lindo ( broken arrow ) are in tom's house and wiring every phone . \n",
      "the plot sounds average , just like most other kidnap movies that you've already seen , and it was nothing more than that . \n",
      "that is until about half-way through the movie . \n",
      "suddenly , tom goes to the fox 5 news room and makes a live broadcast saying , \" this is your ransom . \n",
      "but this is as close as you will ever get to it . \n",
      "instead , i am offering this money as a reward on your head , dead or alive . \" \n",
      "at this point , the plot thickened , and the unusually slow start of the film turned into a suspense-filled action film with great stunts . \n",
      "the last half of the film is very well done . \n",
      "another thing that carries this film are the superb performances by gibson and sinise , as they collide in a game of wits over their cellular phones for most of the movie . \n",
      "owen gleiberman of entertainment weekly commented on the subject : \" it makes you wonder what kidnappers did before cell phones . \" \n",
      "before this movie , sinise played mostly \" good guys , \" first in of mice & men , then in forrest gump , and most recently , in apollo 13 . \n",
      "but he was surprisingly devilish and cold in his portrayal of a cop-gone-bad . \n",
      "gibson , of course , was just being gibson , in an oscar-worthy performance . \n",
      "although most of the scenes were quite predictable , ransom is a very entertaining and suspenseful film . \n",
      " , \n",
      "\n"
     ]
    }
   ],
   "source": [
    "print(movie_reviews.raw(fileids=positive_fileids[20]))"
   ]
  },
  {
   "cell_type": "code",
   "execution_count": 10,
   "metadata": {},
   "outputs": [
    {
     "data": {
      "text/plain": [
       "'neg/cv002_17424.txt'"
      ]
     },
     "execution_count": 10,
     "metadata": {},
     "output_type": "execute_result"
    }
   ],
   "source": [
    "negative_fileids[2]"
   ]
  },
  {
   "cell_type": "code",
   "execution_count": 11,
   "metadata": {},
   "outputs": [],
   "source": [
    "negative_features = pd.DataFrame(\n",
    "    {'review':movie_reviews.raw(fileids=[f]),'label': 'neg'} for f in negative_fileids\n",
    ")"
   ]
  },
  {
   "cell_type": "code",
   "execution_count": 12,
   "metadata": {},
   "outputs": [],
   "source": [
    "positive_features = pd.DataFrame(\n",
    "    {'review':movie_reviews.raw(fileids=[f]),'label': 'pos'} for f in positive_fileids\n",
    ")"
   ]
  },
  {
   "cell_type": "code",
   "execution_count": 13,
   "metadata": {},
   "outputs": [],
   "source": [
    "data = pd.concat([positive_features, negative_features], ignore_index=True)\n"
   ]
  },
  {
   "cell_type": "code",
   "execution_count": 14,
   "metadata": {},
   "outputs": [
    {
     "data": {
      "text/html": [
       "<div>\n",
       "<style scoped>\n",
       "    .dataframe tbody tr th:only-of-type {\n",
       "        vertical-align: middle;\n",
       "    }\n",
       "\n",
       "    .dataframe tbody tr th {\n",
       "        vertical-align: top;\n",
       "    }\n",
       "\n",
       "    .dataframe thead th {\n",
       "        text-align: right;\n",
       "    }\n",
       "</style>\n",
       "<table border=\"1\" class=\"dataframe\">\n",
       "  <thead>\n",
       "    <tr style=\"text-align: right;\">\n",
       "      <th></th>\n",
       "      <th>review</th>\n",
       "      <th>label</th>\n",
       "    </tr>\n",
       "  </thead>\n",
       "  <tbody>\n",
       "    <tr>\n",
       "      <th>0</th>\n",
       "      <td>films adapted from comic books have had plenty...</td>\n",
       "      <td>pos</td>\n",
       "    </tr>\n",
       "    <tr>\n",
       "      <th>1</th>\n",
       "      <td>every now and then a movie comes along from a ...</td>\n",
       "      <td>pos</td>\n",
       "    </tr>\n",
       "    <tr>\n",
       "      <th>2</th>\n",
       "      <td>you've got mail works alot better than it dese...</td>\n",
       "      <td>pos</td>\n",
       "    </tr>\n",
       "    <tr>\n",
       "      <th>3</th>\n",
       "      <td>\" jaws \" is a rare film that grabs your atten...</td>\n",
       "      <td>pos</td>\n",
       "    </tr>\n",
       "    <tr>\n",
       "      <th>4</th>\n",
       "      <td>moviemaking is a lot like being the general ma...</td>\n",
       "      <td>pos</td>\n",
       "    </tr>\n",
       "    <tr>\n",
       "      <th>...</th>\n",
       "      <td>...</td>\n",
       "      <td>...</td>\n",
       "    </tr>\n",
       "    <tr>\n",
       "      <th>1995</th>\n",
       "      <td>if anything , \" stigmata \" should be taken as ...</td>\n",
       "      <td>neg</td>\n",
       "    </tr>\n",
       "    <tr>\n",
       "      <th>1996</th>\n",
       "      <td>john boorman's \" zardoz \" is a goofy cinematic...</td>\n",
       "      <td>neg</td>\n",
       "    </tr>\n",
       "    <tr>\n",
       "      <th>1997</th>\n",
       "      <td>the kids in the hall are an acquired taste . \\...</td>\n",
       "      <td>neg</td>\n",
       "    </tr>\n",
       "    <tr>\n",
       "      <th>1998</th>\n",
       "      <td>there was a time when john carpenter was a gre...</td>\n",
       "      <td>neg</td>\n",
       "    </tr>\n",
       "    <tr>\n",
       "      <th>1999</th>\n",
       "      <td>two party guys bob their heads to haddaway's d...</td>\n",
       "      <td>neg</td>\n",
       "    </tr>\n",
       "  </tbody>\n",
       "</table>\n",
       "<p>2000 rows × 2 columns</p>\n",
       "</div>"
      ],
      "text/plain": [
       "                                                 review label\n",
       "0     films adapted from comic books have had plenty...   pos\n",
       "1     every now and then a movie comes along from a ...   pos\n",
       "2     you've got mail works alot better than it dese...   pos\n",
       "3      \" jaws \" is a rare film that grabs your atten...   pos\n",
       "4     moviemaking is a lot like being the general ma...   pos\n",
       "...                                                 ...   ...\n",
       "1995  if anything , \" stigmata \" should be taken as ...   neg\n",
       "1996  john boorman's \" zardoz \" is a goofy cinematic...   neg\n",
       "1997  the kids in the hall are an acquired taste . \\...   neg\n",
       "1998  there was a time when john carpenter was a gre...   neg\n",
       "1999  two party guys bob their heads to haddaway's d...   neg\n",
       "\n",
       "[2000 rows x 2 columns]"
      ]
     },
     "execution_count": 14,
     "metadata": {},
     "output_type": "execute_result"
    }
   ],
   "source": [
    "data"
   ]
  },
  {
   "cell_type": "markdown",
   "metadata": {},
   "source": [
    "### Lower casing"
   ]
  },
  {
   "cell_type": "code",
   "execution_count": 15,
   "metadata": {},
   "outputs": [
    {
     "data": {
      "text/plain": [
       "\"films adapted from comic books have had plenty of success , whether they're about superheroes ( batman , superman , spawn ) , or geared toward kids ( casper ) or the arthouse crowd ( ghost world ) , but there's never really been a comic book like from hell before . \\nfor starters , it was created by alan moore ( and eddie campbell ) , who brought the medium to a whole new level in the mid '80s with a 12-part series called the watchmen . \\nto say moore and campbell thoroughly researched the subject of jack the ripper would be like saying michael jackson is starting to look a little odd \""
      ]
     },
     "execution_count": 15,
     "metadata": {},
     "output_type": "execute_result"
    }
   ],
   "source": [
    "data['review'][0][:590]"
   ]
  },
  {
   "cell_type": "code",
   "execution_count": 16,
   "metadata": {},
   "outputs": [],
   "source": [
    "data['review'] = data['review'].str.lower()"
   ]
  },
  {
   "cell_type": "code",
   "execution_count": 17,
   "metadata": {},
   "outputs": [
    {
     "data": {
      "text/plain": [
       "\"films adapted from comic books have had plenty of success , whether they're about superheroes ( batman , superman , spawn ) , or geared toward kids ( casper ) or the arthouse crowd ( ghost world ) , but there's never really been a comic book like from hell before . \\nfor starters , it was created by alan moore ( and eddie campbell ) , who brought the medium to a whole new level in the mid '80s with a 12-part series called the watchmen . \\nto say moore and campbell thoroughly researched the subject of jack the ripper would be like saying michael jackson is starting to look a little odd \""
      ]
     },
     "execution_count": 17,
     "metadata": {},
     "output_type": "execute_result"
    }
   ],
   "source": [
    "data['review'][0][:590]"
   ]
  },
  {
   "cell_type": "markdown",
   "metadata": {},
   "source": [
    "### Remove punctuation"
   ]
  },
  {
   "cell_type": "code",
   "execution_count": 18,
   "metadata": {},
   "outputs": [
    {
     "data": {
      "text/plain": [
       "\"you've got mail works alot better than it deserves to . \\nin order to make the film a success , all they had to do was cast two extremely popular and attractive stars , have them share the screen for about two hours and then collect the profits . \\nno real acting was involved and there is not an original or inventive bone in it's body ( it's basically a complete re-shoot of the shop around the corner , only adding a few modern twists ) . \\nessentially , it goes against and defies all concepts of good contemporary filmmaking . \\nit's overly sentimental and at times terribly mushy , not to mention very manipulative . \\nbut oh , how enjoyable that manipulation is . \\nbut there must be something other than the casting and manipulation that makes the movie work as well as it does , because i absolutely hated the previous ryan/hanks teaming , sleepless in seattle . \\nit couldn't have been the directing , because both films were helmed by the same woman . \\ni haven't quite yet figured out what i liked so much about you've got mail , but then again , is that really important ? \\nif you like something so much , why even question it ? \\nagain , the storyline is as cliched as they come . \\ntom hanks plays joe fox , the insanely likeable owner of a discount book chain and meg ryan plays kathleen kelley , the even more insanely likeable proprietor of a family-run children's book shop called , in a nice homage , the shop around the corner . \\nfox and kelley soon become bitter rivals because the new fox books store is opening up right across the block from the small business . \\nlittle do they know , they are already in love with each other over the internet , only neither party knows the other person's true identity . \\nthe rest of the story isn't important because all it does is serve as a mere backdrop for the two stars to share the screen . \\nsure , there are some mildly interesting subplots , but they all fail in comparison to the utter cuteness of the main relationship . \\nall of this , of course , leads up to the predictable climax . \\nbut as foreseeable as the ending is , it's so damn cute and well-done that i doubt any movie in the entire year contains a scene the evokes as much pure joy as this part does . \\nwhen ryan discovers the true identity of her online love , i was filled with such , for lack of a better word , happiness that for the first time all year , i actually left the theater smiling . \\n\""
      ]
     },
     "execution_count": 18,
     "metadata": {},
     "output_type": "execute_result"
    }
   ],
   "source": [
    "data.review[2]"
   ]
  },
  {
   "cell_type": "code",
   "execution_count": 19,
   "metadata": {},
   "outputs": [
    {
     "name": "stdout",
     "output_type": "stream",
     "text": [
      "['!', '\"', '#', '$', '%', '&', \"'\", '(', ')', '*', '+', ',', '-', '.', '/', ':', ';', '<', '=', '>', '?', '@', '[', '\\\\', ']', '^', '_', '`', '{', '|', '}', '~']\n"
     ]
    }
   ],
   "source": [
    "punctuations = list(string.punctuation)\n",
    "print(punctuations)"
   ]
  },
  {
   "cell_type": "code",
   "execution_count": 20,
   "metadata": {},
   "outputs": [],
   "source": [
    "#data[\"review\"].apply(lambda x: x.replace(punctuations, ''))\n",
    "data['review'] = data['review'].str.replace('[{}]'.format(string.punctuation), '')"
   ]
  },
  {
   "cell_type": "code",
   "execution_count": 21,
   "metadata": {
    "scrolled": true
   },
   "outputs": [
    {
     "data": {
      "text/plain": [
       "'youve got mail works alot better than it deserves to  \\nin order to make the film a success  all they had to do was cast two extremely popular and attractive stars  have them share the screen for about two hours and then collect the profits  \\nno real acting was involved and there is not an original or inventive bone in its body  its basically a complete reshoot of the shop around the corner  only adding a few modern twists   \\nessentially  it goes against and defies all concepts of good contemporary filmmaking  \\nits overly sentimental and at times terribly mushy  not to mention very manipulative  \\nbut oh  how enjoyable that manipulation is  \\nbut there must be something other than the casting and manipulation that makes the movie work as well as it does  because i absolutely hated the previous ryanhanks teaming  sleepless in seattle  \\nit couldnt have been the directing  because both films were helmed by the same woman  \\ni havent quite yet figured out what i liked so much about youve got mail  but then again  is that really important  \\nif you like something so much  why even question it  \\nagain  the storyline is as cliched as they come  \\ntom hanks plays joe fox  the insanely likeable owner of a discount book chain and meg ryan plays kathleen kelley  the even more insanely likeable proprietor of a familyrun childrens book shop called  in a nice homage  the shop around the corner  \\nfox and kelley soon become bitter rivals because the new fox books store is opening up right across the block from the small business  \\nlittle do they know  they are already in love with each other over the internet  only neither party knows the other persons true identity  \\nthe rest of the story isnt important because all it does is serve as a mere backdrop for the two stars to share the screen  \\nsure  there are some mildly interesting subplots  but they all fail in comparison to the utter cuteness of the main relationship  \\nall of this  of course  leads up to the predictable climax  \\nbut as foreseeable as the ending is  its so damn cute and welldone that i doubt any movie in the entire year contains a scene the evokes as much pure joy as this part does  \\nwhen ryan discovers the true identity of her online love  i was filled with such  for lack of a better word  happiness that for the first time all year  i actually left the theater smiling  \\n'"
      ]
     },
     "execution_count": 21,
     "metadata": {},
     "output_type": "execute_result"
    }
   ],
   "source": [
    "#verification\n",
    "data.review[2]"
   ]
  },
  {
   "cell_type": "markdown",
   "metadata": {},
   "source": [
    "### Identifying and Remove Stop Words\n",
    "- A stop word is a commonly used word (such as “the”, “a”, “an”, “in”). \n",
    "- Removal of stopwords is necessary since they add noise without having any informational value in modeling."
   ]
  },
  {
   "cell_type": "markdown",
   "metadata": {},
   "source": [
    "__Download and check stopwords from nltk:__"
   ]
  },
  {
   "cell_type": "code",
   "execution_count": 22,
   "metadata": {},
   "outputs": [
    {
     "name": "stderr",
     "output_type": "stream",
     "text": [
      "[nltk_data] Downloading package stopwords to\n",
      "[nltk_data]     C:\\Users\\tahae\\AppData\\Roaming\\nltk_data...\n",
      "[nltk_data]   Package stopwords is already up-to-date!\n"
     ]
    },
    {
     "data": {
      "text/plain": [
       "True"
      ]
     },
     "execution_count": 22,
     "metadata": {},
     "output_type": "execute_result"
    }
   ],
   "source": [
    "nltk.download('stopwords')"
   ]
  },
  {
   "cell_type": "code",
   "execution_count": 23,
   "metadata": {},
   "outputs": [],
   "source": [
    "stop = stopwords.words('english')"
   ]
  },
  {
   "cell_type": "code",
   "execution_count": 24,
   "metadata": {},
   "outputs": [
    {
     "name": "stdout",
     "output_type": "stream",
     "text": [
      "Total stop words: 179\n"
     ]
    }
   ],
   "source": [
    "print('Total stop words:',len(stop))"
   ]
  },
  {
   "cell_type": "markdown",
   "metadata": {},
   "source": [
    "__Removing stopwords from reviews:__"
   ]
  },
  {
   "cell_type": "code",
   "execution_count": 25,
   "metadata": {},
   "outputs": [],
   "source": [
    "data[\"review\"]\n",
    "\n",
    "def remove_stopwords(text):\n",
    "    return \" \".join([word for word in str(text).split() if word not in stop])\n",
    "\n",
    "data['review'] = data['review'].apply(lambda x: remove_stopwords(x))"
   ]
  },
  {
   "cell_type": "code",
   "execution_count": 26,
   "metadata": {},
   "outputs": [
    {
     "data": {
      "text/plain": [
       "'youve got mail works alot better deserves order make film success cast two extremely popular attractive stars share screen two hours collect profits real acting involved original inventive bone body basically complete reshoot shop around corner adding modern twists essentially goes defies concepts good contemporary filmmaking overly sentimental times terribly mushy mention manipulative oh enjoyable manipulation must something casting manipulation makes movie work well absolutely hated previous ryanhanks teaming sleepless seattle couldnt directing films helmed woman havent quite yet figured liked much youve got mail really important like something much even question storyline cliched come tom hanks plays joe fox insanely likeable owner discount book chain meg ryan plays kathleen kelley even insanely likeable proprietor familyrun childrens book shop called nice homage shop around corner fox kelley soon become bitter rivals new fox books store opening right across block small business little know already love internet neither party knows persons true identity rest story isnt important serve mere backdrop two stars share screen sure mildly interesting subplots fail comparison utter cuteness main relationship course leads predictable climax foreseeable ending damn cute welldone doubt movie entire year contains scene evokes much pure joy part ryan discovers true identity online love filled lack better word happiness first time year actually left theater smiling'"
      ]
     },
     "execution_count": 26,
     "metadata": {},
     "output_type": "execute_result"
    }
   ],
   "source": [
    "#verification\n",
    "data.review[2]"
   ]
  },
  {
   "cell_type": "markdown",
   "metadata": {},
   "source": [
    "### Tokenize Text in Words\n",
    "- Tokenizing text is important since text can’t be processed without tokenization. Tokenization process means splitting bigger parts to small parts.\n",
    "- You can tokenize paragraphs to sentences and tokenize sentences to words according to your needs. \n",
    "- NLTK is shipped with sentence tokenizer and word tokenizer.\n",
    "- Non english text can also be tokenized by specifying the language"
   ]
  },
  {
   "cell_type": "code",
   "execution_count": 30,
   "metadata": {
    "scrolled": true
   },
   "outputs": [
    {
     "name": "stderr",
     "output_type": "stream",
     "text": [
      "[nltk_data] Downloading package punkt to\n",
      "[nltk_data]     C:\\Users\\tahae\\AppData\\Roaming\\nltk_data...\n",
      "[nltk_data]   Unzipping tokenizers\\punkt.zip.\n"
     ]
    },
    {
     "data": {
      "text/plain": [
       "True"
      ]
     },
     "execution_count": 30,
     "metadata": {},
     "output_type": "execute_result"
    }
   ],
   "source": [
    "nltk.download('punkt')"
   ]
  },
  {
   "cell_type": "markdown",
   "metadata": {},
   "source": [
    "__Word Tokenizing:__"
   ]
  },
  {
   "cell_type": "code",
   "execution_count": 31,
   "metadata": {},
   "outputs": [],
   "source": [
    "tokenized_review = nltk.word_tokenize(data.review[2])"
   ]
  },
  {
   "cell_type": "code",
   "execution_count": 32,
   "metadata": {},
   "outputs": [
    {
     "data": {
      "text/plain": [
       "['youve',\n",
       " 'got',\n",
       " 'mail',\n",
       " 'works',\n",
       " 'alot',\n",
       " 'better',\n",
       " 'deserves',\n",
       " 'order',\n",
       " 'make',\n",
       " 'film',\n",
       " 'success',\n",
       " 'cast',\n",
       " 'two',\n",
       " 'extremely',\n",
       " 'popular',\n",
       " 'attractive',\n",
       " 'stars',\n",
       " 'share',\n",
       " 'screen',\n",
       " 'two',\n",
       " 'hours',\n",
       " 'collect',\n",
       " 'profits',\n",
       " 'real',\n",
       " 'acting',\n",
       " 'involved',\n",
       " 'original',\n",
       " 'inventive',\n",
       " 'bone',\n",
       " 'body',\n",
       " 'basically',\n",
       " 'complete',\n",
       " 'reshoot',\n",
       " 'shop',\n",
       " 'around',\n",
       " 'corner',\n",
       " 'adding',\n",
       " 'modern',\n",
       " 'twists',\n",
       " 'essentially',\n",
       " 'goes',\n",
       " 'defies',\n",
       " 'concepts',\n",
       " 'good',\n",
       " 'contemporary',\n",
       " 'filmmaking',\n",
       " 'overly',\n",
       " 'sentimental',\n",
       " 'times',\n",
       " 'terribly',\n",
       " 'mushy',\n",
       " 'mention',\n",
       " 'manipulative',\n",
       " 'oh',\n",
       " 'enjoyable',\n",
       " 'manipulation',\n",
       " 'must',\n",
       " 'something',\n",
       " 'casting',\n",
       " 'manipulation',\n",
       " 'makes',\n",
       " 'movie',\n",
       " 'work',\n",
       " 'well',\n",
       " 'absolutely',\n",
       " 'hated',\n",
       " 'previous',\n",
       " 'ryanhanks',\n",
       " 'teaming',\n",
       " 'sleepless',\n",
       " 'seattle',\n",
       " 'couldnt',\n",
       " 'directing',\n",
       " 'films',\n",
       " 'helmed',\n",
       " 'woman',\n",
       " 'havent',\n",
       " 'quite',\n",
       " 'yet',\n",
       " 'figured',\n",
       " 'liked',\n",
       " 'much',\n",
       " 'youve',\n",
       " 'got',\n",
       " 'mail',\n",
       " 'really',\n",
       " 'important',\n",
       " 'like',\n",
       " 'something',\n",
       " 'much',\n",
       " 'even',\n",
       " 'question',\n",
       " 'storyline',\n",
       " 'cliched',\n",
       " 'come',\n",
       " 'tom',\n",
       " 'hanks',\n",
       " 'plays',\n",
       " 'joe',\n",
       " 'fox',\n",
       " 'insanely',\n",
       " 'likeable',\n",
       " 'owner',\n",
       " 'discount',\n",
       " 'book',\n",
       " 'chain',\n",
       " 'meg',\n",
       " 'ryan',\n",
       " 'plays',\n",
       " 'kathleen',\n",
       " 'kelley',\n",
       " 'even',\n",
       " 'insanely',\n",
       " 'likeable',\n",
       " 'proprietor',\n",
       " 'familyrun',\n",
       " 'childrens',\n",
       " 'book',\n",
       " 'shop',\n",
       " 'called',\n",
       " 'nice',\n",
       " 'homage',\n",
       " 'shop',\n",
       " 'around',\n",
       " 'corner',\n",
       " 'fox',\n",
       " 'kelley',\n",
       " 'soon',\n",
       " 'become',\n",
       " 'bitter',\n",
       " 'rivals',\n",
       " 'new',\n",
       " 'fox',\n",
       " 'books',\n",
       " 'store',\n",
       " 'opening',\n",
       " 'right',\n",
       " 'across',\n",
       " 'block',\n",
       " 'small',\n",
       " 'business',\n",
       " 'little',\n",
       " 'know',\n",
       " 'already',\n",
       " 'love',\n",
       " 'internet',\n",
       " 'neither',\n",
       " 'party',\n",
       " 'knows',\n",
       " 'persons',\n",
       " 'true',\n",
       " 'identity',\n",
       " 'rest',\n",
       " 'story',\n",
       " 'isnt',\n",
       " 'important',\n",
       " 'serve',\n",
       " 'mere',\n",
       " 'backdrop',\n",
       " 'two',\n",
       " 'stars',\n",
       " 'share',\n",
       " 'screen',\n",
       " 'sure',\n",
       " 'mildly',\n",
       " 'interesting',\n",
       " 'subplots',\n",
       " 'fail',\n",
       " 'comparison',\n",
       " 'utter',\n",
       " 'cuteness',\n",
       " 'main',\n",
       " 'relationship',\n",
       " 'course',\n",
       " 'leads',\n",
       " 'predictable',\n",
       " 'climax',\n",
       " 'foreseeable',\n",
       " 'ending',\n",
       " 'damn',\n",
       " 'cute',\n",
       " 'welldone',\n",
       " 'doubt',\n",
       " 'movie',\n",
       " 'entire',\n",
       " 'year',\n",
       " 'contains',\n",
       " 'scene',\n",
       " 'evokes',\n",
       " 'much',\n",
       " 'pure',\n",
       " 'joy',\n",
       " 'part',\n",
       " 'ryan',\n",
       " 'discovers',\n",
       " 'true',\n",
       " 'identity',\n",
       " 'online',\n",
       " 'love',\n",
       " 'filled',\n",
       " 'lack',\n",
       " 'better',\n",
       " 'word',\n",
       " 'happiness',\n",
       " 'first',\n",
       " 'time',\n",
       " 'year',\n",
       " 'actually',\n",
       " 'left',\n",
       " 'theater',\n",
       " 'smiling']"
      ]
     },
     "execution_count": 32,
     "metadata": {},
     "output_type": "execute_result"
    }
   ],
   "source": [
    "tokenized_review"
   ]
  },
  {
   "cell_type": "markdown",
   "metadata": {},
   "source": [
    "### NLTK Word Stemming\n",
    "- Word stemming means removing affixes from words and return the root word. Ex: The stem of the word working => work.\n",
    "- Search engines use this technique when indexing pages, so many people write different versions for the same word and all of them are stemmed to the root word.\n",
    "- There are many algorithms for stemming, but the most used algorithm is Porter stemming algorithm.\n",
    "- NLTK has a class called PorterStemmer which uses Porter stemming algorithm."
   ]
  },
  {
   "cell_type": "code",
   "execution_count": null,
   "metadata": {},
   "outputs": [],
   "source": []
  },
  {
   "cell_type": "markdown",
   "metadata": {},
   "source": [
    "### Lemmatizing Words Using [WordNet](https://wordnet.princeton.edu/)\n",
    "\n",
    "__Wordnet:__\n",
    "- WordNet is a lexical database for the English language.\n",
    "- It groups English words into sets of synonyms called synsets, provides short definitions and usage examples, and records a number of relations among these synonym sets or their members. \n",
    "- WordNet can thus be seen as a combination of dictionary and thesaurus. While it is accessible to human users via a web browser, its primary use is in automatic text analysis and artificial intelligence applications.\n",
    "\n",
    "__Lemmatization:__\n",
    "- Lemmatization is a more effective option than stemming because it converts the word into its root word, rather than just stripping the suffices. \n",
    "- It makes use of the vocabulary and does a morphological analysis to obtain the root word. Therefore, we usually prefer using lemmatization over stemming.\n",
    "- Example: reduce words such as “am”, “are”, and “is” to a common form such as “be”"
   ]
  },
  {
   "cell_type": "code",
   "execution_count": null,
   "metadata": {},
   "outputs": [],
   "source": [
    "nltk.download('wordnet')"
   ]
  },
  {
   "cell_type": "code",
   "execution_count": null,
   "metadata": {},
   "outputs": [],
   "source": []
  },
  {
   "cell_type": "markdown",
   "metadata": {},
   "source": [
    "__Bag of Words using CountVectorizer:__\n"
   ]
  },
  {
   "cell_type": "code",
   "execution_count": null,
   "metadata": {
    "scrolled": true
   },
   "outputs": [],
   "source": []
  },
  {
   "cell_type": "code",
   "execution_count": null,
   "metadata": {},
   "outputs": [],
   "source": []
  },
  {
   "cell_type": "markdown",
   "metadata": {},
   "source": [
    "### Term Frequency and Inverse Document Frequency\n",
    "- Term Frequency measures how frequently a term occurs in a document.\n",
    "- Since every document is different in length, it is possible that a term would appear much more times in long documents than shorter ones. Thus, the term frequency is often divided by the document length (aka. the total number of terms in the document) as a way of normalization: \n",
    "\n",
    "        TF(t) = (Number of times term t appears in a document)\n",
    "\n",
    "- Inverse Document Frequency measures how important a term is. While computing TF, all terms are considered equally important. \n",
    "- However it is known that certain terms, such as \"is\", \"of\", and \"that\", may appear a lot of times but have little importance. Thus we need to weigh down the frequent terms while scale up the rare ones, by computing the following: \n",
    "\n",
    "        IDF(t) = log_e(Total number of documents / Number of documents with term t in it)."
   ]
  },
  {
   "cell_type": "code",
   "execution_count": null,
   "metadata": {},
   "outputs": [],
   "source": []
  },
  {
   "cell_type": "code",
   "execution_count": null,
   "metadata": {},
   "outputs": [],
   "source": []
  }
 ],
 "metadata": {
  "kernelspec": {
   "display_name": "Python 3 (ipykernel)",
   "language": "python",
   "name": "python3"
  },
  "language_info": {
   "codemirror_mode": {
    "name": "ipython",
    "version": 3
   },
   "file_extension": ".py",
   "mimetype": "text/x-python",
   "name": "python",
   "nbconvert_exporter": "python",
   "pygments_lexer": "ipython3",
   "version": "3.9.7"
  },
  "toc": {
   "base_numbering": 1,
   "nav_menu": {
    "height": "532px",
    "width": "198px"
   },
   "number_sections": true,
   "sideBar": false,
   "skip_h1_title": false,
   "title_cell": "Table of Contents",
   "title_sidebar": "Contents",
   "toc_cell": true,
   "toc_position": {},
   "toc_section_display": true,
   "toc_window_display": false
  }
 },
 "nbformat": 4,
 "nbformat_minor": 2
}
