{
 "cells": [
  {
   "cell_type": "markdown",
   "metadata": {},
   "source": [
    "<center><h1 style=\"color:#1a1a1a;\n",
    "                    font-size:3em\">\n",
    "        Projet: 🤖 Méthodologies de l’IA \n",
    "        </h1> \n",
    "        <h2 style=\"color:#1a1a1a;\n",
    "                    font-size:2em\">\n",
    "        Utilisation des réseaux RBF.\n",
    "       </h2>\n",
    "</center>\n",
    "\n"
   ]
  },
  {
   "cell_type": "markdown",
   "metadata": {},
   "source": [
    "<p style=\"font-size:1.5em\">📜 Table des matières:</p><br>\n",
    "<div style=\"font-size:1.3em\">\n",
    "    <ul>\n",
    "       <li>\n",
    "          <a href=\"#Intro-section\">Introduction 📖</a>\n",
    "          <ul><br>\n",
    "             <li><a href=\"#overview\">Aperçu</a></li><br>\n",
    "             <li><a href=\"#dataset\">Jeu de données</a></li><br>\n",
    "          </ul>\n",
    "       </li>\n",
    "       <li>\n",
    "          <a href=\"#Analysis-section\">Analyses et Transformations 🔎</a>\n",
    "          <ul><br>\n",
    "             <li><a href=\"#eda\">Exploration de données</a></li><br>\n",
    "             <li><a href=\"#trans\">Transformation de données</a></li><br>\n",
    "          </ul>\n",
    "       </li>\n",
    "       <li>\n",
    "          <a href=\"#pre-processing\">Pré-traitement ⚙️</a>\n",
    "          <ul><br>\n",
    "             <li><a href=\"#split-data\">Diviser les données</a></li><br>\n",
    "             <li><a href=\"#scale\">échelonner les données</a></li><br>\n",
    "          </ul>\n",
    "       </li>\n",
    "       <li>\n",
    "          <a href=\"#model-building\">Construction des modèles 🛠️</a>\n",
    "          <ul><br>\n",
    "             <li><a href=\"#SVM\">Support vector machines</a></li><br>\n",
    "              <li><a href=\"#KR\">Kernel ridge</a></li><br>\n",
    "             <li><a href=\"#RBF\">Réseaux RBF</a></li><br>\n",
    "             <li><a href=\"#RBF-Keras\">Réseaux RBF avec Keras</a></li><br>\n",
    "          </ul>\n",
    "       </li>\n",
    "       <li><a href=\"#Conclusion\">Conclusion 📌</a></li>\n",
    "    </ul>\n",
    "</div>"
   ]
  },
  {
   "cell_type": "markdown",
   "metadata": {},
   "source": [
    "<center id=\"Intro-section\">\n",
    "        <h1 style=\"color:#1a1a1a;\n",
    "                    font-size:2em\">\n",
    "        Introduction 📖\n",
    "        </h1>\n",
    "</center>"
   ]
  },
  {
   "cell_type": "markdown",
   "metadata": {},
   "source": [
    "<div id=\"overview\">\n",
    "        <h1 style=\"color:#1a1a1a\">\n",
    "         ⮞  Aperçu\n",
    "        </h1>\n",
    "</div>"
   ]
  },
  {
   "cell_type": "markdown",
   "metadata": {},
   "source": [
    "<span style=\"color:grey; font-size:1.2em\">Dans le cadre de notre etude Ce projet qui vise a Utilisation des <b>réseaux RBF</b> on va analyser, transformer notre jeu donnees et modeliser après en utilisant plusieurs modèles.\n",
    "</span>"
   ]
  },
  {
   "cell_type": "markdown",
   "metadata": {},
   "source": [
    "<div id=\"dataset\">\n",
    "        <h1 style=\"color:#1a1a1a\">\n",
    "         ⮞  Jeu de données\n",
    "        </h1>\n",
    "</div>"
   ]
  },
  {
   "cell_type": "markdown",
   "metadata": {},
   "source": [
    "\n",
    "<span style=\"color:grey; font-size:1.2em\"> L'ensemble de données est à 10 min pendant environ 4,5 mois. Les conditions de température et d'humidité de la maison ont été surveillées avec un réseau de capteurs sans fil ZigBee. Chaque nœud sans fil a transmis les conditions de température et d'humidité environ 3,3 min. Ensuite, les données sans fil ont été moyennées sur des périodes de 10 minutes. Les données énergétiques ont été enregistrées toutes les 10 minutes avec des compteurs d'énergie m-bus. La météo de la station météorologique de l'aéroport la plus proche (aéroport de Chievres, Belgique) a été téléchargée à partir d'un ensemble de données publiques de Reliable Prognosis (rp5.ru) et fusionnée avec les ensembles de données expérimentaux à l'aide de la colonne date et heure. Deux variables aléatoires ont été incluses dans l'ensemble de données pour tester les modèles de régression et pour filtrer les attributs non prédictifs (paramètres).\n",
    "</span>"
   ]
  },
  {
   "cell_type": "markdown",
   "metadata": {},
   "source": [
    "<center id=\"Analysis-section\">\n",
    "        <h1 style=\"color:#1a1a1a;\n",
    "                    font-size:2em\">\n",
    "        Analyses et Transformations 🔎\n",
    "        </h1>\n",
    "</center>"
   ]
  },
  {
   "cell_type": "markdown",
   "metadata": {},
   "source": [
    "<div id=\"eda\">\n",
    "        <h1 style=\"color:#1a1a1a\">\n",
    "         ⮞  Exploration de données\n",
    "        </h1>\n",
    "</div>"
   ]
  },
  {
   "cell_type": "markdown",
   "metadata": {},
   "source": [
    "<h4 style=\"color:grey\"> Importation de bibliothèques </h4>"
   ]
  },
  {
   "cell_type": "code",
   "execution_count": 1,
   "metadata": {
    "execution": {
     "iopub.execute_input": "2022-02-03T12:37:31.597624Z",
     "iopub.status.busy": "2022-02-03T12:37:31.597273Z",
     "iopub.status.idle": "2022-02-03T12:37:33.201531Z",
     "shell.execute_reply": "2022-02-03T12:37:33.200708Z",
     "shell.execute_reply.started": "2022-02-03T12:37:31.597538Z"
    }
   },
   "outputs": [],
   "source": [
    "import os\n",
    "from fnmatch import fnmatch\n",
    "\n",
    "import pandas as pd\n",
    "import numpy as np\n",
    "import seaborn as sns\n",
    "import matplotlib.pyplot as plt\n",
    "%matplotlib inline\n",
    "\n",
    "from sklearn.model_selection import train_test_split, KFold, learning_curve\n",
    "from sklearn.metrics import mean_absolute_error, mean_squared_error\n",
    "from sklearn.preprocessing import StandardScaler\n",
    "from sklearn.kernel_ridge import KernelRidge\n",
    "from sklearn.decomposition import PCA\n",
    "from sklearn.svm import SVR\n",
    "\n",
    "\n",
    "import warnings\n",
    "warnings.filterwarnings('ignore')"
   ]
  },
  {
   "cell_type": "markdown",
   "metadata": {},
   "source": [
    "<span style=\"color:grey; font-size:1.2em\">Important nos jeu de données sous les fichier <b>energydata_complete.csv</b></span>"
   ]
  },
  {
   "cell_type": "code",
   "execution_count": 2,
   "metadata": {
    "execution": {
     "iopub.execute_input": "2022-02-03T12:37:33.203295Z",
     "iopub.status.busy": "2022-02-03T12:37:33.203084Z",
     "iopub.status.idle": "2022-02-03T12:37:33.414836Z",
     "shell.execute_reply": "2022-02-03T12:37:33.413881Z",
     "shell.execute_reply.started": "2022-02-03T12:37:33.203270Z"
    }
   },
   "outputs": [],
   "source": [
    "df = pd.read_csv('Data/energydata_complete.csv')"
   ]
  },
  {
   "cell_type": "markdown",
   "metadata": {},
   "source": [
    "<h4 style=\"color:grey\"> Explorant notre jeu de données </h4>"
   ]
  },
  {
   "cell_type": "code",
   "execution_count": 3,
   "metadata": {
    "execution": {
     "iopub.execute_input": "2022-02-03T12:37:33.416702Z",
     "iopub.status.busy": "2022-02-03T12:37:33.416412Z",
     "iopub.status.idle": "2022-02-03T12:37:33.424968Z",
     "shell.execute_reply": "2022-02-03T12:37:33.423940Z",
     "shell.execute_reply.started": "2022-02-03T12:37:33.416663Z"
    }
   },
   "outputs": [
    {
     "data": {
      "text/plain": [
       "(19735, 29)"
      ]
     },
     "execution_count": 3,
     "metadata": {},
     "output_type": "execute_result"
    }
   ],
   "source": [
    "df.shape"
   ]
  },
  {
   "cell_type": "markdown",
   "metadata": {},
   "source": [
    "<span style=\"color:grey; font-size:1.2em\">Un aperçu des données en utilisant les fonctions <b>info()</b> et <b>describe()</b> du pandas pour examiner les données. </span>"
   ]
  },
  {
   "cell_type": "code",
   "execution_count": 4,
   "metadata": {
    "execution": {
     "iopub.execute_input": "2022-02-03T12:37:33.427688Z",
     "iopub.status.busy": "2022-02-03T12:37:33.427415Z",
     "iopub.status.idle": "2022-02-03T12:37:33.488793Z",
     "shell.execute_reply": "2022-02-03T12:37:33.488148Z",
     "shell.execute_reply.started": "2022-02-03T12:37:33.427652Z"
    }
   },
   "outputs": [
    {
     "name": "stdout",
     "output_type": "stream",
     "text": [
      "<class 'pandas.core.frame.DataFrame'>\n",
      "RangeIndex: 19735 entries, 0 to 19734\n",
      "Data columns (total 29 columns):\n",
      " #   Column       Non-Null Count  Dtype  \n",
      "---  ------       --------------  -----  \n",
      " 0   date         19735 non-null  object \n",
      " 1   Appliances   19735 non-null  int64  \n",
      " 2   lights       19735 non-null  int64  \n",
      " 3   T1           19735 non-null  float64\n",
      " 4   RH_1         19735 non-null  float64\n",
      " 5   T2           19735 non-null  float64\n",
      " 6   RH_2         19735 non-null  float64\n",
      " 7   T3           19735 non-null  float64\n",
      " 8   RH_3         19735 non-null  float64\n",
      " 9   T4           19735 non-null  float64\n",
      " 10  RH_4         19735 non-null  float64\n",
      " 11  T5           19735 non-null  float64\n",
      " 12  RH_5         19735 non-null  float64\n",
      " 13  T6           19735 non-null  float64\n",
      " 14  RH_6         19735 non-null  float64\n",
      " 15  T7           19735 non-null  float64\n",
      " 16  RH_7         19735 non-null  float64\n",
      " 17  T8           19735 non-null  float64\n",
      " 18  RH_8         19735 non-null  float64\n",
      " 19  T9           19735 non-null  float64\n",
      " 20  RH_9         19735 non-null  float64\n",
      " 21  T_out        19735 non-null  float64\n",
      " 22  Press_mm_hg  19735 non-null  float64\n",
      " 23  RH_out       19735 non-null  float64\n",
      " 24  Windspeed    19735 non-null  float64\n",
      " 25  Visibility   19735 non-null  float64\n",
      " 26  Tdewpoint    19735 non-null  float64\n",
      " 27  rv1          19735 non-null  float64\n",
      " 28  rv2          19735 non-null  float64\n",
      "dtypes: float64(26), int64(2), object(1)\n",
      "memory usage: 4.4+ MB\n"
     ]
    }
   ],
   "source": [
    "df.info()"
   ]
  },
  {
   "cell_type": "markdown",
   "metadata": {},
   "source": [
    "### Informations sur chaque feature :\n",
    "\n",
    "- date heure année-mois-jour heure:minute:seconde\n",
    "- Appliances, consommation d'énergie en Wh (variable cible pour la prédiction)\n",
    "- lights, consommation d'énergie des appareils d'éclairage dans la maison en Wh\n",
    "- T1, Température dans le coin cuisine, en degrés Celsius\n",
    "- RH_1, Humidité dans le coin cuisine, en %\n",
    "- T2, Température dans le séjour, en Celsius\n",
    "- RH_2, Humidité dans le séjour, en %\n",
    "- T3, Température dans la zone buanderie\n",
    "- RH_3, Humidité dans la buanderie, en %\n",
    "- T4, Température dans le bureau, en degrés Celsius\n",
    "- RH_4, Humidité dans le bureau, en %\n",
    "- T5, Température dans la salle de bain, en degrés Celsius\n",
    "- RH_5, Humidité dans la salle de bain, en %\n",
    "- T6, Température à l'extérieur du bâtiment (côté nord), en degrés Celsius\n",
    "- RH_6, Humidité à l'extérieur du bâtiment (côté nord), en %\n",
    "- T7, Température dans la salle de repassage, en Celsius\n",
    "- RH_7, Humidité dans la salle de repassage, en %\n",
    "- T8, Température chambre ado 2, en Celsius\n",
    "- RH_8, Humidité chambre ado 2, en %\n",
    "- T9, Température dans la chambre des parents, en Celsius\n",
    "- RH_9, Humidité dans la chambre des parents, en %\n",
    "- To, Température extérieure (de la station météo de Chièvres), en degrés Celsius\n",
    "- Pressure (de la station météo de Chièvres), en mm Hg\n",
    "- RH_out, Humidité extérieure (de la station météo de Chièvres), en %\n",
    "- Wind speed (depuis la station météo de Chièvres), en m/s\n",
    "- Visibility (depuis la station météo de Chièvres), en km\n",
    "- Tdewpoint (de la station météo de Chièvres), °C\n",
    "- va1, Variable aléatoire 1, non dimensionnelle\n",
    "- va2, Variable aléatoire 2, non dimensionnelle"
   ]
  },
  {
   "cell_type": "code",
   "execution_count": 6,
   "metadata": {
    "execution": {
     "iopub.execute_input": "2022-02-03T12:37:33.503738Z",
     "iopub.status.busy": "2022-02-03T12:37:33.503141Z",
     "iopub.status.idle": "2022-02-03T12:37:33.615712Z",
     "shell.execute_reply": "2022-02-03T12:37:33.614576Z",
     "shell.execute_reply.started": "2022-02-03T12:37:33.503707Z"
    }
   },
   "outputs": [
    {
     "data": {
      "text/html": [
       "<div>\n",
       "<style scoped>\n",
       "    .dataframe tbody tr th:only-of-type {\n",
       "        vertical-align: middle;\n",
       "    }\n",
       "\n",
       "    .dataframe tbody tr th {\n",
       "        vertical-align: top;\n",
       "    }\n",
       "\n",
       "    .dataframe thead th {\n",
       "        text-align: right;\n",
       "    }\n",
       "</style>\n",
       "<table border=\"1\" class=\"dataframe\">\n",
       "  <thead>\n",
       "    <tr style=\"text-align: right;\">\n",
       "      <th></th>\n",
       "      <th>Appliances</th>\n",
       "      <th>lights</th>\n",
       "      <th>T1</th>\n",
       "      <th>RH_1</th>\n",
       "      <th>T2</th>\n",
       "      <th>RH_2</th>\n",
       "      <th>T3</th>\n",
       "      <th>RH_3</th>\n",
       "      <th>T4</th>\n",
       "      <th>RH_4</th>\n",
       "      <th>...</th>\n",
       "      <th>T9</th>\n",
       "      <th>RH_9</th>\n",
       "      <th>T_out</th>\n",
       "      <th>Press_mm_hg</th>\n",
       "      <th>RH_out</th>\n",
       "      <th>Windspeed</th>\n",
       "      <th>Visibility</th>\n",
       "      <th>Tdewpoint</th>\n",
       "      <th>rv1</th>\n",
       "      <th>rv2</th>\n",
       "    </tr>\n",
       "  </thead>\n",
       "  <tbody>\n",
       "    <tr>\n",
       "      <th>count</th>\n",
       "      <td>19735.000000</td>\n",
       "      <td>19735.000000</td>\n",
       "      <td>19735.000000</td>\n",
       "      <td>19735.000000</td>\n",
       "      <td>19735.000000</td>\n",
       "      <td>19735.000000</td>\n",
       "      <td>19735.000000</td>\n",
       "      <td>19735.000000</td>\n",
       "      <td>19735.000000</td>\n",
       "      <td>19735.000000</td>\n",
       "      <td>...</td>\n",
       "      <td>19735.000000</td>\n",
       "      <td>19735.000000</td>\n",
       "      <td>19735.000000</td>\n",
       "      <td>19735.000000</td>\n",
       "      <td>19735.000000</td>\n",
       "      <td>19735.000000</td>\n",
       "      <td>19735.000000</td>\n",
       "      <td>19735.000000</td>\n",
       "      <td>19735.000000</td>\n",
       "      <td>19735.000000</td>\n",
       "    </tr>\n",
       "    <tr>\n",
       "      <th>mean</th>\n",
       "      <td>97.694958</td>\n",
       "      <td>3.801875</td>\n",
       "      <td>21.686571</td>\n",
       "      <td>40.259739</td>\n",
       "      <td>20.341219</td>\n",
       "      <td>40.420420</td>\n",
       "      <td>22.267611</td>\n",
       "      <td>39.242500</td>\n",
       "      <td>20.855335</td>\n",
       "      <td>39.026904</td>\n",
       "      <td>...</td>\n",
       "      <td>19.485828</td>\n",
       "      <td>41.552401</td>\n",
       "      <td>7.412580</td>\n",
       "      <td>755.522602</td>\n",
       "      <td>79.750418</td>\n",
       "      <td>4.039752</td>\n",
       "      <td>38.330834</td>\n",
       "      <td>3.760995</td>\n",
       "      <td>24.988033</td>\n",
       "      <td>24.988033</td>\n",
       "    </tr>\n",
       "    <tr>\n",
       "      <th>std</th>\n",
       "      <td>102.524891</td>\n",
       "      <td>7.935988</td>\n",
       "      <td>1.606066</td>\n",
       "      <td>3.979299</td>\n",
       "      <td>2.192974</td>\n",
       "      <td>4.069813</td>\n",
       "      <td>2.006111</td>\n",
       "      <td>3.254576</td>\n",
       "      <td>2.042884</td>\n",
       "      <td>4.341321</td>\n",
       "      <td>...</td>\n",
       "      <td>2.014712</td>\n",
       "      <td>4.151497</td>\n",
       "      <td>5.318464</td>\n",
       "      <td>7.399441</td>\n",
       "      <td>14.901088</td>\n",
       "      <td>2.451221</td>\n",
       "      <td>11.794719</td>\n",
       "      <td>4.195248</td>\n",
       "      <td>14.496634</td>\n",
       "      <td>14.496634</td>\n",
       "    </tr>\n",
       "    <tr>\n",
       "      <th>min</th>\n",
       "      <td>10.000000</td>\n",
       "      <td>0.000000</td>\n",
       "      <td>16.790000</td>\n",
       "      <td>27.023333</td>\n",
       "      <td>16.100000</td>\n",
       "      <td>20.463333</td>\n",
       "      <td>17.200000</td>\n",
       "      <td>28.766667</td>\n",
       "      <td>15.100000</td>\n",
       "      <td>27.660000</td>\n",
       "      <td>...</td>\n",
       "      <td>14.890000</td>\n",
       "      <td>29.166667</td>\n",
       "      <td>-5.000000</td>\n",
       "      <td>729.300000</td>\n",
       "      <td>24.000000</td>\n",
       "      <td>0.000000</td>\n",
       "      <td>1.000000</td>\n",
       "      <td>-6.600000</td>\n",
       "      <td>0.005322</td>\n",
       "      <td>0.005322</td>\n",
       "    </tr>\n",
       "    <tr>\n",
       "      <th>25%</th>\n",
       "      <td>50.000000</td>\n",
       "      <td>0.000000</td>\n",
       "      <td>20.760000</td>\n",
       "      <td>37.333333</td>\n",
       "      <td>18.790000</td>\n",
       "      <td>37.900000</td>\n",
       "      <td>20.790000</td>\n",
       "      <td>36.900000</td>\n",
       "      <td>19.530000</td>\n",
       "      <td>35.530000</td>\n",
       "      <td>...</td>\n",
       "      <td>18.000000</td>\n",
       "      <td>38.500000</td>\n",
       "      <td>3.670000</td>\n",
       "      <td>750.933333</td>\n",
       "      <td>70.333333</td>\n",
       "      <td>2.000000</td>\n",
       "      <td>29.000000</td>\n",
       "      <td>0.900000</td>\n",
       "      <td>12.497889</td>\n",
       "      <td>12.497889</td>\n",
       "    </tr>\n",
       "    <tr>\n",
       "      <th>50%</th>\n",
       "      <td>60.000000</td>\n",
       "      <td>0.000000</td>\n",
       "      <td>21.600000</td>\n",
       "      <td>39.656667</td>\n",
       "      <td>20.000000</td>\n",
       "      <td>40.500000</td>\n",
       "      <td>22.100000</td>\n",
       "      <td>38.530000</td>\n",
       "      <td>20.666667</td>\n",
       "      <td>38.400000</td>\n",
       "      <td>...</td>\n",
       "      <td>19.390000</td>\n",
       "      <td>40.900000</td>\n",
       "      <td>6.920000</td>\n",
       "      <td>756.100000</td>\n",
       "      <td>83.666667</td>\n",
       "      <td>3.666667</td>\n",
       "      <td>40.000000</td>\n",
       "      <td>3.430000</td>\n",
       "      <td>24.897653</td>\n",
       "      <td>24.897653</td>\n",
       "    </tr>\n",
       "    <tr>\n",
       "      <th>75%</th>\n",
       "      <td>100.000000</td>\n",
       "      <td>0.000000</td>\n",
       "      <td>22.600000</td>\n",
       "      <td>43.066667</td>\n",
       "      <td>21.500000</td>\n",
       "      <td>43.260000</td>\n",
       "      <td>23.290000</td>\n",
       "      <td>41.760000</td>\n",
       "      <td>22.100000</td>\n",
       "      <td>42.156667</td>\n",
       "      <td>...</td>\n",
       "      <td>20.600000</td>\n",
       "      <td>44.338095</td>\n",
       "      <td>10.400000</td>\n",
       "      <td>760.933333</td>\n",
       "      <td>91.666667</td>\n",
       "      <td>5.500000</td>\n",
       "      <td>40.000000</td>\n",
       "      <td>6.570000</td>\n",
       "      <td>37.583769</td>\n",
       "      <td>37.583769</td>\n",
       "    </tr>\n",
       "    <tr>\n",
       "      <th>max</th>\n",
       "      <td>1080.000000</td>\n",
       "      <td>70.000000</td>\n",
       "      <td>26.260000</td>\n",
       "      <td>63.360000</td>\n",
       "      <td>29.856667</td>\n",
       "      <td>56.026667</td>\n",
       "      <td>29.236000</td>\n",
       "      <td>50.163333</td>\n",
       "      <td>26.200000</td>\n",
       "      <td>51.090000</td>\n",
       "      <td>...</td>\n",
       "      <td>24.500000</td>\n",
       "      <td>53.326667</td>\n",
       "      <td>26.100000</td>\n",
       "      <td>772.300000</td>\n",
       "      <td>100.000000</td>\n",
       "      <td>14.000000</td>\n",
       "      <td>66.000000</td>\n",
       "      <td>15.500000</td>\n",
       "      <td>49.996530</td>\n",
       "      <td>49.996530</td>\n",
       "    </tr>\n",
       "  </tbody>\n",
       "</table>\n",
       "<p>8 rows × 28 columns</p>\n",
       "</div>"
      ],
      "text/plain": [
       "         Appliances        lights            T1          RH_1            T2  \\\n",
       "count  19735.000000  19735.000000  19735.000000  19735.000000  19735.000000   \n",
       "mean      97.694958      3.801875     21.686571     40.259739     20.341219   \n",
       "std      102.524891      7.935988      1.606066      3.979299      2.192974   \n",
       "min       10.000000      0.000000     16.790000     27.023333     16.100000   \n",
       "25%       50.000000      0.000000     20.760000     37.333333     18.790000   \n",
       "50%       60.000000      0.000000     21.600000     39.656667     20.000000   \n",
       "75%      100.000000      0.000000     22.600000     43.066667     21.500000   \n",
       "max     1080.000000     70.000000     26.260000     63.360000     29.856667   \n",
       "\n",
       "               RH_2            T3          RH_3            T4          RH_4  \\\n",
       "count  19735.000000  19735.000000  19735.000000  19735.000000  19735.000000   \n",
       "mean      40.420420     22.267611     39.242500     20.855335     39.026904   \n",
       "std        4.069813      2.006111      3.254576      2.042884      4.341321   \n",
       "min       20.463333     17.200000     28.766667     15.100000     27.660000   \n",
       "25%       37.900000     20.790000     36.900000     19.530000     35.530000   \n",
       "50%       40.500000     22.100000     38.530000     20.666667     38.400000   \n",
       "75%       43.260000     23.290000     41.760000     22.100000     42.156667   \n",
       "max       56.026667     29.236000     50.163333     26.200000     51.090000   \n",
       "\n",
       "       ...            T9          RH_9         T_out   Press_mm_hg  \\\n",
       "count  ...  19735.000000  19735.000000  19735.000000  19735.000000   \n",
       "mean   ...     19.485828     41.552401      7.412580    755.522602   \n",
       "std    ...      2.014712      4.151497      5.318464      7.399441   \n",
       "min    ...     14.890000     29.166667     -5.000000    729.300000   \n",
       "25%    ...     18.000000     38.500000      3.670000    750.933333   \n",
       "50%    ...     19.390000     40.900000      6.920000    756.100000   \n",
       "75%    ...     20.600000     44.338095     10.400000    760.933333   \n",
       "max    ...     24.500000     53.326667     26.100000    772.300000   \n",
       "\n",
       "             RH_out     Windspeed    Visibility     Tdewpoint           rv1  \\\n",
       "count  19735.000000  19735.000000  19735.000000  19735.000000  19735.000000   \n",
       "mean      79.750418      4.039752     38.330834      3.760995     24.988033   \n",
       "std       14.901088      2.451221     11.794719      4.195248     14.496634   \n",
       "min       24.000000      0.000000      1.000000     -6.600000      0.005322   \n",
       "25%       70.333333      2.000000     29.000000      0.900000     12.497889   \n",
       "50%       83.666667      3.666667     40.000000      3.430000     24.897653   \n",
       "75%       91.666667      5.500000     40.000000      6.570000     37.583769   \n",
       "max      100.000000     14.000000     66.000000     15.500000     49.996530   \n",
       "\n",
       "                rv2  \n",
       "count  19735.000000  \n",
       "mean      24.988033  \n",
       "std       14.496634  \n",
       "min        0.005322  \n",
       "25%       12.497889  \n",
       "50%       24.897653  \n",
       "75%       37.583769  \n",
       "max       49.996530  \n",
       "\n",
       "[8 rows x 28 columns]"
      ]
     },
     "execution_count": 6,
     "metadata": {},
     "output_type": "execute_result"
    }
   ],
   "source": [
    "df.describe()"
   ]
  },
  {
   "cell_type": "code",
   "execution_count": 5,
   "metadata": {
    "execution": {
     "iopub.execute_input": "2022-02-03T12:37:33.490382Z",
     "iopub.status.busy": "2022-02-03T12:37:33.490009Z",
     "iopub.status.idle": "2022-02-03T12:37:33.502110Z",
     "shell.execute_reply": "2022-02-03T12:37:33.501390Z",
     "shell.execute_reply.started": "2022-02-03T12:37:33.490352Z"
    }
   },
   "outputs": [
    {
     "data": {
      "text/plain": [
       "date           0\n",
       "Appliances     0\n",
       "lights         0\n",
       "T1             0\n",
       "RH_1           0\n",
       "T2             0\n",
       "RH_2           0\n",
       "T3             0\n",
       "RH_3           0\n",
       "T4             0\n",
       "RH_4           0\n",
       "T5             0\n",
       "RH_5           0\n",
       "T6             0\n",
       "RH_6           0\n",
       "T7             0\n",
       "RH_7           0\n",
       "T8             0\n",
       "RH_8           0\n",
       "T9             0\n",
       "RH_9           0\n",
       "T_out          0\n",
       "Press_mm_hg    0\n",
       "RH_out         0\n",
       "Windspeed      0\n",
       "Visibility     0\n",
       "Tdewpoint      0\n",
       "rv1            0\n",
       "rv2            0\n",
       "dtype: int64"
      ]
     },
     "execution_count": 5,
     "metadata": {},
     "output_type": "execute_result"
    }
   ],
   "source": [
    "df.isnull().sum()"
   ]
  },
  {
   "cell_type": "markdown",
   "metadata": {},
   "source": [
    "<span style=\"color:grey; font-size:1.2em\">Les données n'ont pas de <b>valeurs manquantes</b>, nous n'effectuerons donc pas un <b>nettoyage des données.</b> </span>"
   ]
  },
  {
   "cell_type": "markdown",
   "metadata": {},
   "source": [
    "<div id=\"trans\">\n",
    "        <h1 style=\"color:#1a1a1a\">\n",
    "         ⮞  Transformation de données\n",
    "        </h1>\n",
    "</div>"
   ]
  },
  {
   "cell_type": "markdown",
   "metadata": {},
   "source": [
    "<span style=\"color:grey; font-size:1.2em\">Traçons une Heatmap de corrélation des Features.\n",
    "</span>"
   ]
  },
  {
   "cell_type": "code",
   "execution_count": 24,
   "metadata": {
    "execution": {
     "iopub.execute_input": "2022-02-03T12:42:51.700572Z",
     "iopub.status.busy": "2022-02-03T12:42:51.699807Z",
     "iopub.status.idle": "2022-02-03T12:42:56.041888Z",
     "shell.execute_reply": "2022-02-03T12:42:56.041181Z",
     "shell.execute_reply.started": "2022-02-03T12:42:51.700534Z"
    }
   },
   "outputs": [
    {
     "data": {
      "image/png": "[encoded data removed]",
      "text/plain": [
       "<Figure size 1368x1224 with 2 Axes>"
      ]
     },
     "metadata": {
      "needs_background": "light"
     },
     "output_type": "display_data"
    }
   ],
   "source": [
    "def correlation_heatmap(df):\n",
    "    _ , ax = plt.subplots(figsize =(19, 17))\n",
    "    colormap = sns.diverging_palette(220, 10, as_cmap = True)\n",
    "    \n",
    "    _ = sns.heatmap(\n",
    "        df.corr(), \n",
    "        cmap = colormap,\n",
    "        square=True, \n",
    "        cbar_kws={'shrink':.9 }, \n",
    "        ax=ax,\n",
    "        annot=True, \n",
    "        linewidths=1,vmax=1.0, linecolor='white',\n",
    "        annot_kws={'fontsize':8 }\n",
    "    )\n",
    "    \n",
    "    plt.title('Heatmap de corrélation des Features', y=1.05, size=15)\n",
    "\n",
    "correlation_heatmap(df)"
   ]
  },
  {
   "cell_type": "markdown",
   "metadata": {},
   "source": [
    "<span style=\"color:grey; font-size:1.2em\">Nous supprimerons les colonnes <b>'rv2', 'rv1', 'Visibilité'</b> car elles n'ont clairement aucun impact sur la valeur <b>'Appliances'</b>.\n",
    "</span>"
   ]
  },
  {
   "cell_type": "code",
   "execution_count": 8,
   "metadata": {
    "execution": {
     "iopub.execute_input": "2022-02-03T12:37:37.975735Z",
     "iopub.status.busy": "2022-02-03T12:37:37.975386Z",
     "iopub.status.idle": "2022-02-03T12:37:38.017838Z",
     "shell.execute_reply": "2022-02-03T12:37:38.017154Z",
     "shell.execute_reply.started": "2022-02-03T12:37:37.975705Z"
    }
   },
   "outputs": [
    {
     "data": {
      "text/html": [
       "<div>\n",
       "<style scoped>\n",
       "    .dataframe tbody tr th:only-of-type {\n",
       "        vertical-align: middle;\n",
       "    }\n",
       "\n",
       "    .dataframe tbody tr th {\n",
       "        vertical-align: top;\n",
       "    }\n",
       "\n",
       "    .dataframe thead th {\n",
       "        text-align: right;\n",
       "    }\n",
       "</style>\n",
       "<table border=\"1\" class=\"dataframe\">\n",
       "  <thead>\n",
       "    <tr style=\"text-align: right;\">\n",
       "      <th></th>\n",
       "      <th>date</th>\n",
       "      <th>Appliances</th>\n",
       "      <th>lights</th>\n",
       "      <th>T1</th>\n",
       "      <th>RH_1</th>\n",
       "      <th>T2</th>\n",
       "      <th>RH_2</th>\n",
       "      <th>T3</th>\n",
       "      <th>RH_3</th>\n",
       "      <th>T4</th>\n",
       "      <th>...</th>\n",
       "      <th>RH_7</th>\n",
       "      <th>T8</th>\n",
       "      <th>RH_8</th>\n",
       "      <th>T9</th>\n",
       "      <th>RH_9</th>\n",
       "      <th>T_out</th>\n",
       "      <th>Press_mm_hg</th>\n",
       "      <th>RH_out</th>\n",
       "      <th>Windspeed</th>\n",
       "      <th>Tdewpoint</th>\n",
       "    </tr>\n",
       "  </thead>\n",
       "  <tbody>\n",
       "    <tr>\n",
       "      <th>0</th>\n",
       "      <td>11-01-2016 17:00</td>\n",
       "      <td>60</td>\n",
       "      <td>30</td>\n",
       "      <td>19.890000</td>\n",
       "      <td>47.596667</td>\n",
       "      <td>19.200000</td>\n",
       "      <td>44.790000</td>\n",
       "      <td>19.790000</td>\n",
       "      <td>44.730000</td>\n",
       "      <td>19.000000</td>\n",
       "      <td>...</td>\n",
       "      <td>41.626667</td>\n",
       "      <td>18.2000</td>\n",
       "      <td>48.900000</td>\n",
       "      <td>17.033333</td>\n",
       "      <td>45.5300</td>\n",
       "      <td>6.60</td>\n",
       "      <td>733.5</td>\n",
       "      <td>92.000000</td>\n",
       "      <td>7.000000</td>\n",
       "      <td>5.3</td>\n",
       "    </tr>\n",
       "    <tr>\n",
       "      <th>1</th>\n",
       "      <td>11-01-2016 17:10</td>\n",
       "      <td>60</td>\n",
       "      <td>30</td>\n",
       "      <td>19.890000</td>\n",
       "      <td>46.693333</td>\n",
       "      <td>19.200000</td>\n",
       "      <td>44.722500</td>\n",
       "      <td>19.790000</td>\n",
       "      <td>44.790000</td>\n",
       "      <td>19.000000</td>\n",
       "      <td>...</td>\n",
       "      <td>41.560000</td>\n",
       "      <td>18.2000</td>\n",
       "      <td>48.863333</td>\n",
       "      <td>17.066667</td>\n",
       "      <td>45.5600</td>\n",
       "      <td>6.48</td>\n",
       "      <td>733.6</td>\n",
       "      <td>92.000000</td>\n",
       "      <td>6.666667</td>\n",
       "      <td>5.2</td>\n",
       "    </tr>\n",
       "    <tr>\n",
       "      <th>2</th>\n",
       "      <td>11-01-2016 17:20</td>\n",
       "      <td>50</td>\n",
       "      <td>30</td>\n",
       "      <td>19.890000</td>\n",
       "      <td>46.300000</td>\n",
       "      <td>19.200000</td>\n",
       "      <td>44.626667</td>\n",
       "      <td>19.790000</td>\n",
       "      <td>44.933333</td>\n",
       "      <td>18.926667</td>\n",
       "      <td>...</td>\n",
       "      <td>41.433333</td>\n",
       "      <td>18.2000</td>\n",
       "      <td>48.730000</td>\n",
       "      <td>17.000000</td>\n",
       "      <td>45.5000</td>\n",
       "      <td>6.37</td>\n",
       "      <td>733.7</td>\n",
       "      <td>92.000000</td>\n",
       "      <td>6.333333</td>\n",
       "      <td>5.1</td>\n",
       "    </tr>\n",
       "    <tr>\n",
       "      <th>3</th>\n",
       "      <td>11-01-2016 17:30</td>\n",
       "      <td>50</td>\n",
       "      <td>40</td>\n",
       "      <td>19.890000</td>\n",
       "      <td>46.066667</td>\n",
       "      <td>19.200000</td>\n",
       "      <td>44.590000</td>\n",
       "      <td>19.790000</td>\n",
       "      <td>45.000000</td>\n",
       "      <td>18.890000</td>\n",
       "      <td>...</td>\n",
       "      <td>41.290000</td>\n",
       "      <td>18.1000</td>\n",
       "      <td>48.590000</td>\n",
       "      <td>17.000000</td>\n",
       "      <td>45.4000</td>\n",
       "      <td>6.25</td>\n",
       "      <td>733.8</td>\n",
       "      <td>92.000000</td>\n",
       "      <td>6.000000</td>\n",
       "      <td>5.0</td>\n",
       "    </tr>\n",
       "    <tr>\n",
       "      <th>4</th>\n",
       "      <td>11-01-2016 17:40</td>\n",
       "      <td>60</td>\n",
       "      <td>40</td>\n",
       "      <td>19.890000</td>\n",
       "      <td>46.333333</td>\n",
       "      <td>19.200000</td>\n",
       "      <td>44.530000</td>\n",
       "      <td>19.790000</td>\n",
       "      <td>45.000000</td>\n",
       "      <td>18.890000</td>\n",
       "      <td>...</td>\n",
       "      <td>41.230000</td>\n",
       "      <td>18.1000</td>\n",
       "      <td>48.590000</td>\n",
       "      <td>17.000000</td>\n",
       "      <td>45.4000</td>\n",
       "      <td>6.13</td>\n",
       "      <td>733.9</td>\n",
       "      <td>92.000000</td>\n",
       "      <td>5.666667</td>\n",
       "      <td>4.9</td>\n",
       "    </tr>\n",
       "    <tr>\n",
       "      <th>...</th>\n",
       "      <td>...</td>\n",
       "      <td>...</td>\n",
       "      <td>...</td>\n",
       "      <td>...</td>\n",
       "      <td>...</td>\n",
       "      <td>...</td>\n",
       "      <td>...</td>\n",
       "      <td>...</td>\n",
       "      <td>...</td>\n",
       "      <td>...</td>\n",
       "      <td>...</td>\n",
       "      <td>...</td>\n",
       "      <td>...</td>\n",
       "      <td>...</td>\n",
       "      <td>...</td>\n",
       "      <td>...</td>\n",
       "      <td>...</td>\n",
       "      <td>...</td>\n",
       "      <td>...</td>\n",
       "      <td>...</td>\n",
       "      <td>...</td>\n",
       "    </tr>\n",
       "    <tr>\n",
       "      <th>19730</th>\n",
       "      <td>27-05-2016 17:20</td>\n",
       "      <td>100</td>\n",
       "      <td>0</td>\n",
       "      <td>25.566667</td>\n",
       "      <td>46.560000</td>\n",
       "      <td>25.890000</td>\n",
       "      <td>42.025714</td>\n",
       "      <td>27.200000</td>\n",
       "      <td>41.163333</td>\n",
       "      <td>24.700000</td>\n",
       "      <td>...</td>\n",
       "      <td>44.500000</td>\n",
       "      <td>24.7000</td>\n",
       "      <td>50.074000</td>\n",
       "      <td>23.200000</td>\n",
       "      <td>46.7900</td>\n",
       "      <td>22.70</td>\n",
       "      <td>755.2</td>\n",
       "      <td>55.666667</td>\n",
       "      <td>3.333333</td>\n",
       "      <td>13.3</td>\n",
       "    </tr>\n",
       "    <tr>\n",
       "      <th>19731</th>\n",
       "      <td>27-05-2016 17:30</td>\n",
       "      <td>90</td>\n",
       "      <td>0</td>\n",
       "      <td>25.500000</td>\n",
       "      <td>46.500000</td>\n",
       "      <td>25.754000</td>\n",
       "      <td>42.080000</td>\n",
       "      <td>27.133333</td>\n",
       "      <td>41.223333</td>\n",
       "      <td>24.700000</td>\n",
       "      <td>...</td>\n",
       "      <td>44.414286</td>\n",
       "      <td>24.7000</td>\n",
       "      <td>49.790000</td>\n",
       "      <td>23.200000</td>\n",
       "      <td>46.7900</td>\n",
       "      <td>22.60</td>\n",
       "      <td>755.2</td>\n",
       "      <td>56.000000</td>\n",
       "      <td>3.500000</td>\n",
       "      <td>13.3</td>\n",
       "    </tr>\n",
       "    <tr>\n",
       "      <th>19732</th>\n",
       "      <td>27-05-2016 17:40</td>\n",
       "      <td>270</td>\n",
       "      <td>10</td>\n",
       "      <td>25.500000</td>\n",
       "      <td>46.596667</td>\n",
       "      <td>25.628571</td>\n",
       "      <td>42.768571</td>\n",
       "      <td>27.050000</td>\n",
       "      <td>41.690000</td>\n",
       "      <td>24.700000</td>\n",
       "      <td>...</td>\n",
       "      <td>44.400000</td>\n",
       "      <td>24.7000</td>\n",
       "      <td>49.660000</td>\n",
       "      <td>23.200000</td>\n",
       "      <td>46.7900</td>\n",
       "      <td>22.50</td>\n",
       "      <td>755.2</td>\n",
       "      <td>56.333333</td>\n",
       "      <td>3.666667</td>\n",
       "      <td>13.3</td>\n",
       "    </tr>\n",
       "    <tr>\n",
       "      <th>19733</th>\n",
       "      <td>27-05-2016 17:50</td>\n",
       "      <td>420</td>\n",
       "      <td>10</td>\n",
       "      <td>25.500000</td>\n",
       "      <td>46.990000</td>\n",
       "      <td>25.414000</td>\n",
       "      <td>43.036000</td>\n",
       "      <td>26.890000</td>\n",
       "      <td>41.290000</td>\n",
       "      <td>24.700000</td>\n",
       "      <td>...</td>\n",
       "      <td>44.295714</td>\n",
       "      <td>24.6625</td>\n",
       "      <td>49.518750</td>\n",
       "      <td>23.200000</td>\n",
       "      <td>46.8175</td>\n",
       "      <td>22.30</td>\n",
       "      <td>755.2</td>\n",
       "      <td>56.666667</td>\n",
       "      <td>3.833333</td>\n",
       "      <td>13.2</td>\n",
       "    </tr>\n",
       "    <tr>\n",
       "      <th>19734</th>\n",
       "      <td>27-05-2016 18:00</td>\n",
       "      <td>430</td>\n",
       "      <td>10</td>\n",
       "      <td>25.500000</td>\n",
       "      <td>46.600000</td>\n",
       "      <td>25.264286</td>\n",
       "      <td>42.971429</td>\n",
       "      <td>26.823333</td>\n",
       "      <td>41.156667</td>\n",
       "      <td>24.700000</td>\n",
       "      <td>...</td>\n",
       "      <td>44.054000</td>\n",
       "      <td>24.7360</td>\n",
       "      <td>49.736000</td>\n",
       "      <td>23.200000</td>\n",
       "      <td>46.8450</td>\n",
       "      <td>22.20</td>\n",
       "      <td>755.2</td>\n",
       "      <td>57.000000</td>\n",
       "      <td>4.000000</td>\n",
       "      <td>13.2</td>\n",
       "    </tr>\n",
       "  </tbody>\n",
       "</table>\n",
       "<p>19735 rows × 26 columns</p>\n",
       "</div>"
      ],
      "text/plain": [
       "                   date  Appliances  lights         T1       RH_1         T2  \\\n",
       "0      11-01-2016 17:00          60      30  19.890000  47.596667  19.200000   \n",
       "1      11-01-2016 17:10          60      30  19.890000  46.693333  19.200000   \n",
       "2      11-01-2016 17:20          50      30  19.890000  46.300000  19.200000   \n",
       "3      11-01-2016 17:30          50      40  19.890000  46.066667  19.200000   \n",
       "4      11-01-2016 17:40          60      40  19.890000  46.333333  19.200000   \n",
       "...                 ...         ...     ...        ...        ...        ...   \n",
       "19730  27-05-2016 17:20         100       0  25.566667  46.560000  25.890000   \n",
       "19731  27-05-2016 17:30          90       0  25.500000  46.500000  25.754000   \n",
       "19732  27-05-2016 17:40         270      10  25.500000  46.596667  25.628571   \n",
       "19733  27-05-2016 17:50         420      10  25.500000  46.990000  25.414000   \n",
       "19734  27-05-2016 18:00         430      10  25.500000  46.600000  25.264286   \n",
       "\n",
       "            RH_2         T3       RH_3         T4  ...       RH_7       T8  \\\n",
       "0      44.790000  19.790000  44.730000  19.000000  ...  41.626667  18.2000   \n",
       "1      44.722500  19.790000  44.790000  19.000000  ...  41.560000  18.2000   \n",
       "2      44.626667  19.790000  44.933333  18.926667  ...  41.433333  18.2000   \n",
       "3      44.590000  19.790000  45.000000  18.890000  ...  41.290000  18.1000   \n",
       "4      44.530000  19.790000  45.000000  18.890000  ...  41.230000  18.1000   \n",
       "...          ...        ...        ...        ...  ...        ...      ...   \n",
       "19730  42.025714  27.200000  41.163333  24.700000  ...  44.500000  24.7000   \n",
       "19731  42.080000  27.133333  41.223333  24.700000  ...  44.414286  24.7000   \n",
       "19732  42.768571  27.050000  41.690000  24.700000  ...  44.400000  24.7000   \n",
       "19733  43.036000  26.890000  41.290000  24.700000  ...  44.295714  24.6625   \n",
       "19734  42.971429  26.823333  41.156667  24.700000  ...  44.054000  24.7360   \n",
       "\n",
       "            RH_8         T9     RH_9  T_out  Press_mm_hg     RH_out  \\\n",
       "0      48.900000  17.033333  45.5300   6.60        733.5  92.000000   \n",
       "1      48.863333  17.066667  45.5600   6.48        733.6  92.000000   \n",
       "2      48.730000  17.000000  45.5000   6.37        733.7  92.000000   \n",
       "3      48.590000  17.000000  45.4000   6.25        733.8  92.000000   \n",
       "4      48.590000  17.000000  45.4000   6.13        733.9  92.000000   \n",
       "...          ...        ...      ...    ...          ...        ...   \n",
       "19730  50.074000  23.200000  46.7900  22.70        755.2  55.666667   \n",
       "19731  49.790000  23.200000  46.7900  22.60        755.2  56.000000   \n",
       "19732  49.660000  23.200000  46.7900  22.50        755.2  56.333333   \n",
       "19733  49.518750  23.200000  46.8175  22.30        755.2  56.666667   \n",
       "19734  49.736000  23.200000  46.8450  22.20        755.2  57.000000   \n",
       "\n",
       "       Windspeed  Tdewpoint  \n",
       "0       7.000000        5.3  \n",
       "1       6.666667        5.2  \n",
       "2       6.333333        5.1  \n",
       "3       6.000000        5.0  \n",
       "4       5.666667        4.9  \n",
       "...          ...        ...  \n",
       "19730   3.333333       13.3  \n",
       "19731   3.500000       13.3  \n",
       "19732   3.666667       13.3  \n",
       "19733   3.833333       13.2  \n",
       "19734   4.000000       13.2  \n",
       "\n",
       "[19735 rows x 26 columns]"
      ]
     },
     "execution_count": 8,
     "metadata": {},
     "output_type": "execute_result"
    }
   ],
   "source": [
    "df.drop(['rv2', 'rv1', 'Visibility'], axis = 1)"
   ]
  },
  {
   "cell_type": "code",
   "execution_count": 9,
   "metadata": {
    "execution": {
     "iopub.execute_input": "2022-02-03T12:37:38.019665Z",
     "iopub.status.busy": "2022-02-03T12:37:38.019439Z",
     "iopub.status.idle": "2022-02-03T12:37:38.050519Z",
     "shell.execute_reply": "2022-02-03T12:37:38.049617Z",
     "shell.execute_reply.started": "2022-02-03T12:37:38.019638Z"
    }
   },
   "outputs": [
    {
     "data": {
      "text/html": [
       "<div>\n",
       "<style scoped>\n",
       "    .dataframe tbody tr th:only-of-type {\n",
       "        vertical-align: middle;\n",
       "    }\n",
       "\n",
       "    .dataframe tbody tr th {\n",
       "        vertical-align: top;\n",
       "    }\n",
       "\n",
       "    .dataframe thead th {\n",
       "        text-align: right;\n",
       "    }\n",
       "</style>\n",
       "<table border=\"1\" class=\"dataframe\">\n",
       "  <thead>\n",
       "    <tr style=\"text-align: right;\">\n",
       "      <th></th>\n",
       "      <th>lights</th>\n",
       "      <th>T1</th>\n",
       "      <th>RH_1</th>\n",
       "      <th>T2</th>\n",
       "      <th>RH_2</th>\n",
       "      <th>T3</th>\n",
       "      <th>RH_3</th>\n",
       "      <th>T4</th>\n",
       "      <th>RH_4</th>\n",
       "      <th>T5</th>\n",
       "      <th>...</th>\n",
       "      <th>T9</th>\n",
       "      <th>RH_9</th>\n",
       "      <th>T_out</th>\n",
       "      <th>Press_mm_hg</th>\n",
       "      <th>RH_out</th>\n",
       "      <th>Windspeed</th>\n",
       "      <th>Visibility</th>\n",
       "      <th>Tdewpoint</th>\n",
       "      <th>rv1</th>\n",
       "      <th>rv2</th>\n",
       "    </tr>\n",
       "  </thead>\n",
       "  <tbody>\n",
       "    <tr>\n",
       "      <th>0</th>\n",
       "      <td>30</td>\n",
       "      <td>19.89</td>\n",
       "      <td>47.596667</td>\n",
       "      <td>19.2</td>\n",
       "      <td>44.790000</td>\n",
       "      <td>19.79</td>\n",
       "      <td>44.730000</td>\n",
       "      <td>19.000000</td>\n",
       "      <td>45.566667</td>\n",
       "      <td>17.166667</td>\n",
       "      <td>...</td>\n",
       "      <td>17.033333</td>\n",
       "      <td>45.53</td>\n",
       "      <td>6.60</td>\n",
       "      <td>733.5</td>\n",
       "      <td>92.0</td>\n",
       "      <td>7.000000</td>\n",
       "      <td>63.000000</td>\n",
       "      <td>5.3</td>\n",
       "      <td>13.275433</td>\n",
       "      <td>13.275433</td>\n",
       "    </tr>\n",
       "    <tr>\n",
       "      <th>1</th>\n",
       "      <td>30</td>\n",
       "      <td>19.89</td>\n",
       "      <td>46.693333</td>\n",
       "      <td>19.2</td>\n",
       "      <td>44.722500</td>\n",
       "      <td>19.79</td>\n",
       "      <td>44.790000</td>\n",
       "      <td>19.000000</td>\n",
       "      <td>45.992500</td>\n",
       "      <td>17.166667</td>\n",
       "      <td>...</td>\n",
       "      <td>17.066667</td>\n",
       "      <td>45.56</td>\n",
       "      <td>6.48</td>\n",
       "      <td>733.6</td>\n",
       "      <td>92.0</td>\n",
       "      <td>6.666667</td>\n",
       "      <td>59.166667</td>\n",
       "      <td>5.2</td>\n",
       "      <td>18.606195</td>\n",
       "      <td>18.606195</td>\n",
       "    </tr>\n",
       "    <tr>\n",
       "      <th>2</th>\n",
       "      <td>30</td>\n",
       "      <td>19.89</td>\n",
       "      <td>46.300000</td>\n",
       "      <td>19.2</td>\n",
       "      <td>44.626667</td>\n",
       "      <td>19.79</td>\n",
       "      <td>44.933333</td>\n",
       "      <td>18.926667</td>\n",
       "      <td>45.890000</td>\n",
       "      <td>17.166667</td>\n",
       "      <td>...</td>\n",
       "      <td>17.000000</td>\n",
       "      <td>45.50</td>\n",
       "      <td>6.37</td>\n",
       "      <td>733.7</td>\n",
       "      <td>92.0</td>\n",
       "      <td>6.333333</td>\n",
       "      <td>55.333333</td>\n",
       "      <td>5.1</td>\n",
       "      <td>28.642668</td>\n",
       "      <td>28.642668</td>\n",
       "    </tr>\n",
       "    <tr>\n",
       "      <th>3</th>\n",
       "      <td>40</td>\n",
       "      <td>19.89</td>\n",
       "      <td>46.066667</td>\n",
       "      <td>19.2</td>\n",
       "      <td>44.590000</td>\n",
       "      <td>19.79</td>\n",
       "      <td>45.000000</td>\n",
       "      <td>18.890000</td>\n",
       "      <td>45.723333</td>\n",
       "      <td>17.166667</td>\n",
       "      <td>...</td>\n",
       "      <td>17.000000</td>\n",
       "      <td>45.40</td>\n",
       "      <td>6.25</td>\n",
       "      <td>733.8</td>\n",
       "      <td>92.0</td>\n",
       "      <td>6.000000</td>\n",
       "      <td>51.500000</td>\n",
       "      <td>5.0</td>\n",
       "      <td>45.410390</td>\n",
       "      <td>45.410390</td>\n",
       "    </tr>\n",
       "    <tr>\n",
       "      <th>4</th>\n",
       "      <td>40</td>\n",
       "      <td>19.89</td>\n",
       "      <td>46.333333</td>\n",
       "      <td>19.2</td>\n",
       "      <td>44.530000</td>\n",
       "      <td>19.79</td>\n",
       "      <td>45.000000</td>\n",
       "      <td>18.890000</td>\n",
       "      <td>45.530000</td>\n",
       "      <td>17.200000</td>\n",
       "      <td>...</td>\n",
       "      <td>17.000000</td>\n",
       "      <td>45.40</td>\n",
       "      <td>6.13</td>\n",
       "      <td>733.9</td>\n",
       "      <td>92.0</td>\n",
       "      <td>5.666667</td>\n",
       "      <td>47.666667</td>\n",
       "      <td>4.9</td>\n",
       "      <td>10.084097</td>\n",
       "      <td>10.084097</td>\n",
       "    </tr>\n",
       "  </tbody>\n",
       "</table>\n",
       "<p>5 rows × 27 columns</p>\n",
       "</div>"
      ],
      "text/plain": [
       "   lights     T1       RH_1    T2       RH_2     T3       RH_3         T4  \\\n",
       "0      30  19.89  47.596667  19.2  44.790000  19.79  44.730000  19.000000   \n",
       "1      30  19.89  46.693333  19.2  44.722500  19.79  44.790000  19.000000   \n",
       "2      30  19.89  46.300000  19.2  44.626667  19.79  44.933333  18.926667   \n",
       "3      40  19.89  46.066667  19.2  44.590000  19.79  45.000000  18.890000   \n",
       "4      40  19.89  46.333333  19.2  44.530000  19.79  45.000000  18.890000   \n",
       "\n",
       "        RH_4         T5  ...         T9   RH_9  T_out  Press_mm_hg  RH_out  \\\n",
       "0  45.566667  17.166667  ...  17.033333  45.53   6.60        733.5    92.0   \n",
       "1  45.992500  17.166667  ...  17.066667  45.56   6.48        733.6    92.0   \n",
       "2  45.890000  17.166667  ...  17.000000  45.50   6.37        733.7    92.0   \n",
       "3  45.723333  17.166667  ...  17.000000  45.40   6.25        733.8    92.0   \n",
       "4  45.530000  17.200000  ...  17.000000  45.40   6.13        733.9    92.0   \n",
       "\n",
       "   Windspeed  Visibility  Tdewpoint        rv1        rv2  \n",
       "0   7.000000   63.000000        5.3  13.275433  13.275433  \n",
       "1   6.666667   59.166667        5.2  18.606195  18.606195  \n",
       "2   6.333333   55.333333        5.1  28.642668  28.642668  \n",
       "3   6.000000   51.500000        5.0  45.410390  45.410390  \n",
       "4   5.666667   47.666667        4.9  10.084097  10.084097  \n",
       "\n",
       "[5 rows x 27 columns]"
      ]
     },
     "execution_count": 9,
     "metadata": {},
     "output_type": "execute_result"
    }
   ],
   "source": [
    "y = df['Appliances']\n",
    "X = df.drop(['Appliances', 'date'], axis = 1)\n",
    "X.head()"
   ]
  },
  {
   "cell_type": "markdown",
   "metadata": {},
   "source": [
    "<center id=\"pre-processing\">\n",
    "        <h1 style=\"color:#1a1a1a;\n",
    "                    font-size:2em\">\n",
    "        Pré-traitement ⚙️\n",
    "        </h1>\n",
    "</center>"
   ]
  },
  {
   "cell_type": "markdown",
   "metadata": {},
   "source": [
    "<div id=\"split-data\">\n",
    "        <h1 style=\"color:#1a1a1a\">\n",
    "         ⮞  Diviser les données\n",
    "        </h1>\n",
    "</div>"
   ]
  },
  {
   "cell_type": "markdown",
   "metadata": {},
   "source": [
    "\n",
    "\n",
    "<span style=\"color:grey; font-size:1.2em\">Nous commençons par diviser notre jeu de données <b>80%</b> pour l'entraînement et <b>20%</b> pour la validation.</span>\n"
   ]
  },
  {
   "cell_type": "code",
   "execution_count": 10,
   "metadata": {
    "execution": {
     "iopub.execute_input": "2022-02-03T12:37:38.053508Z",
     "iopub.status.busy": "2022-02-03T12:37:38.053269Z",
     "iopub.status.idle": "2022-02-03T12:37:38.067924Z",
     "shell.execute_reply": "2022-02-03T12:37:38.067251Z",
     "shell.execute_reply.started": "2022-02-03T12:37:38.053479Z"
    }
   },
   "outputs": [],
   "source": [
    "X_train, X_valid, y_train, y_valid = train_test_split(X, y, test_size=0.2)"
   ]
  },
  {
   "cell_type": "code",
   "execution_count": 11,
   "metadata": {
    "execution": {
     "iopub.execute_input": "2022-02-03T12:37:38.069440Z",
     "iopub.status.busy": "2022-02-03T12:37:38.069056Z",
     "iopub.status.idle": "2022-02-03T12:37:38.074851Z",
     "shell.execute_reply": "2022-02-03T12:37:38.073895Z",
     "shell.execute_reply.started": "2022-02-03T12:37:38.069396Z"
    }
   },
   "outputs": [
    {
     "name": "stdout",
     "output_type": "stream",
     "text": [
      "la taille des données d'entraînement est:  15788\n",
      "la taille d'échantillon du test est:  3947\n"
     ]
    }
   ],
   "source": [
    "print(\"la taille des données d'entraînement est: \",y_train.shape[0])\n",
    "print(\"la taille d'échantillon du test est: \",y_valid.shape[0])"
   ]
  },
  {
   "cell_type": "markdown",
   "metadata": {},
   "source": [
    "<div id=\"scale\">\n",
    "        <h1 style=\"color:#1a1a1a\">\n",
    "         ⮞  échelonner les données\n",
    "        </h1>\n",
    "</div>"
   ]
  },
  {
   "cell_type": "markdown",
   "metadata": {},
   "source": [
    "<span style=\"color:grey; font-size:1.2em\">`StandardScaler` standardise une Feature en soustrayant la moyenne, puis en la mettant à l'échelle de la variance unitaire. La variance unitaire consiste à diviser toutes les valeurs par l'écart type.\n",
    "</span>"
   ]
  },
  {
   "cell_type": "code",
   "execution_count": 12,
   "metadata": {
    "execution": {
     "iopub.execute_input": "2022-02-03T12:37:38.077779Z",
     "iopub.status.busy": "2022-02-03T12:37:38.077270Z",
     "iopub.status.idle": "2022-02-03T12:37:38.111710Z",
     "shell.execute_reply": "2022-02-03T12:37:38.110669Z",
     "shell.execute_reply.started": "2022-02-03T12:37:38.077736Z"
    }
   },
   "outputs": [],
   "source": [
    "scaler = StandardScaler()\n",
    "X_train = scaler.fit_transform(X_train) \n",
    "X_valid = scaler.transform(X_valid)"
   ]
  },
  {
   "cell_type": "markdown",
   "metadata": {},
   "source": [
    "<span style=\"color:grey; font-size:1.2em\">Principal Component Analysis, ou `PCA()`, est une méthode de réduction de la dimensionnalité qui est souvent utilisée pour réduire la dimensionnalité de grands ensembles de données, en transformant un grand ensemble de variables en un plus petit qui contient toujours la plupart des informations dans le grand ensemble.</span>"
   ]
  },
  {
   "cell_type": "code",
   "execution_count": 13,
   "metadata": {
    "execution": {
     "iopub.execute_input": "2022-02-03T12:37:38.113663Z",
     "iopub.status.busy": "2022-02-03T12:37:38.113173Z",
     "iopub.status.idle": "2022-02-03T12:37:38.201095Z",
     "shell.execute_reply": "2022-02-03T12:37:38.199889Z",
     "shell.execute_reply.started": "2022-02-03T12:37:38.113611Z"
    }
   },
   "outputs": [],
   "source": [
    "pca = PCA(n_components = 'mle', svd_solver = 'full')\n",
    "X_train = pca.fit_transform(X_train)\n",
    "X_valid = pca.transform(X_valid)"
   ]
  },
  {
   "cell_type": "code",
   "execution_count": 14,
   "metadata": {
    "execution": {
     "iopub.execute_input": "2022-02-03T12:37:38.205004Z",
     "iopub.status.busy": "2022-02-03T12:37:38.203137Z",
     "iopub.status.idle": "2022-02-03T12:37:38.212913Z",
     "shell.execute_reply": "2022-02-03T12:37:38.211985Z",
     "shell.execute_reply.started": "2022-02-03T12:37:38.204948Z"
    }
   },
   "outputs": [
    {
     "name": "stdout",
     "output_type": "stream",
     "text": [
      "le nombre des Principal component analysis est:  26\n"
     ]
    }
   ],
   "source": [
    "print(\"le nombre des Principal component analysis est: \",pca.n_components_)"
   ]
  },
  {
   "cell_type": "markdown",
   "metadata": {},
   "source": [
    "<center id=\"model-building\">\n",
    "        <h1 style=\"color:#1a1a1a;\n",
    "                    font-size:2em\">\n",
    "        Construction des modèles 🛠️\n",
    "        </h1>\n",
    "</center>"
   ]
  },
  {
   "cell_type": "markdown",
   "metadata": {},
   "source": [
    "<div id=\"SVM\">\n",
    "        <h1 style=\"color:#1a1a1a\">\n",
    "         ⮞  SVM\n",
    "        </h1>\n",
    "</div>"
   ]
  },
  {
   "cell_type": "markdown",
   "metadata": {},
   "source": [
    "<span style=\"color:grey; font-size:1.2em\">Tout d'abord, nous allons essayer de prédire la valeur des 'Appliances' en utilisant une <b>SVM</b> (Support Vector Machine) avec un <b>kernel 'rbf'</b>.</span>"
   ]
  },
  {
   "cell_type": "code",
   "execution_count": 16,
   "metadata": {
    "execution": {
     "iopub.execute_input": "2022-02-03T12:37:38.244275Z",
     "iopub.status.busy": "2022-02-03T12:37:38.241989Z",
     "iopub.status.idle": "2022-02-03T12:37:57.980763Z",
     "shell.execute_reply": "2022-02-03T12:37:57.979939Z",
     "shell.execute_reply.started": "2022-02-03T12:37:38.244218Z"
    }
   },
   "outputs": [
    {
     "data": {
      "text/plain": [
       "SVR()"
      ]
     },
     "execution_count": 16,
     "metadata": {},
     "output_type": "execute_result"
    }
   ],
   "source": [
    "svm = SVR(kernel = 'rbf')\n",
    "svm.fit(X_train, y_train)"
   ]
  },
  {
   "cell_type": "markdown",
   "metadata": {},
   "source": [
    "<span style=\"color:grey; font-size:1.2em\">Créons une <b>évaluation</b> de fonction pour tester nos modèles et ploter <b>le score</b> sur les données d'entraînement et de validation.</span>"
   ]
  },
  {
   "cell_type": "code",
   "execution_count": 15,
   "metadata": {
    "execution": {
     "iopub.execute_input": "2022-02-03T12:37:38.217920Z",
     "iopub.status.busy": "2022-02-03T12:37:38.215466Z",
     "iopub.status.idle": "2022-02-03T12:37:38.239593Z",
     "shell.execute_reply": "2022-02-03T12:37:38.238474Z",
     "shell.execute_reply.started": "2022-02-03T12:37:38.217850Z"
    }
   },
   "outputs": [],
   "source": [
    "def evaluation(model):\n",
    "    ypred = model.predict(X_valid)\n",
    "    \n",
    "    rmse = np.sqrt(mean_squared_error(y_valid, ypred))\n",
    "    mae = mean_absolute_error(y_valid, ypred)\n",
    "    \n",
    "    print(\"la valeur du mean_squared_error est: \",rmse)\n",
    "    print(\"la valeur mean_absolute_error est: \",mae)\n",
    "\n",
    "    N, train_score, val_score = learning_curve(model, X_train, y_train,\n",
    "                                              cv=4, scoring='neg_mean_squared_error',\n",
    "                                               train_sizes=np.linspace(0.1, 1, 10))\n",
    "    \n",
    "    plt.figure(figsize=(12, 8))\n",
    "    plt.plot(N, train_score.mean(axis=1), label='train score')\n",
    "    plt.plot(N, val_score.mean(axis=1), label='validation score')\n",
    "    plt.legend()\n",
    "    plt.show()\n",
    "    \n",
    "    return rmse, mae"
   ]
  },
  {
   "cell_type": "markdown",
   "metadata": {},
   "source": [
    "<span style=\"color:grey; font-size:1.2em\">Voici les résultats du <b>SVM</b> avec le noyau <b>RBF</b>.</span>"
   ]
  },
  {
   "cell_type": "code",
   "execution_count": 34,
   "metadata": {
    "execution": {
     "iopub.execute_input": "2022-02-03T12:52:34.530457Z",
     "iopub.status.busy": "2022-02-03T12:52:34.530234Z",
     "iopub.status.idle": "2022-02-03T12:57:42.708275Z",
     "shell.execute_reply": "2022-02-03T12:57:42.707184Z",
     "shell.execute_reply.started": "2022-02-03T12:52:34.530429Z"
    }
   },
   "outputs": [
    {
     "name": "stdout",
     "output_type": "stream",
     "text": [
      "la valeur du mean_squared_error est:  98.4306917208136\n",
      "la valeur mean_absolute_error est:  41.99280714976733\n"
     ]
    },
    {
     "data": {
      "image/png": "[encoded data removed]",
      "text/plain": [
       "<Figure size 864x576 with 1 Axes>"
      ]
     },
     "metadata": {
      "needs_background": "light"
     },
     "output_type": "display_data"
    },
    {
     "data": {
      "text/plain": [
       "(98.4306917208136, 41.99280714976733)"
      ]
     },
     "execution_count": 34,
     "metadata": {},
     "output_type": "execute_result"
    }
   ],
   "source": [
    "evaluation(svm)"
   ]
  },
  {
   "cell_type": "markdown",
   "metadata": {},
   "source": [
    "<div id=\"KR\">\n",
    "        <h1 style=\"color:#1a1a1a\">\n",
    "         ⮞  Kernel Ridge\n",
    "        </h1>\n",
    "</div>"
   ]
  },
  {
   "cell_type": "code",
   "execution_count": 18,
   "metadata": {
    "execution": {
     "iopub.execute_input": "2022-02-03T12:37:57.987797Z",
     "iopub.status.busy": "2022-02-03T12:37:57.987439Z",
     "iopub.status.idle": "2022-02-03T12:37:58.003347Z",
     "shell.execute_reply": "2022-02-03T12:37:58.002420Z",
     "shell.execute_reply.started": "2022-02-03T12:37:57.987768Z"
    }
   },
   "outputs": [],
   "source": [
    "kernel_ridge = KernelRidge(kernel ='rbf', alpha=1.0)"
   ]
  },
  {
   "cell_type": "code",
   "execution_count": 19,
   "metadata": {
    "execution": {
     "iopub.execute_input": "2022-02-03T12:37:58.004758Z",
     "iopub.status.busy": "2022-02-03T12:37:58.004511Z",
     "iopub.status.idle": "2022-02-03T12:38:28.940030Z",
     "shell.execute_reply": "2022-02-03T12:38:28.939150Z",
     "shell.execute_reply.started": "2022-02-03T12:37:58.004730Z"
    }
   },
   "outputs": [
    {
     "data": {
      "text/plain": [
       "KernelRidge(alpha=1.0, kernel='rbf')"
      ]
     },
     "execution_count": 19,
     "metadata": {},
     "output_type": "execute_result"
    }
   ],
   "source": [
    "kernel_ridge.fit(X_train, y_train)"
   ]
  },
  {
   "cell_type": "markdown",
   "metadata": {},
   "source": [
    "<span style=\"color:grey; font-size:1.2em\">Voici les résultats du <b>kernel_ridge</b> avec <b>RBF</b> et une valeur d'<b>alphe = 1</b>.</span>"
   ]
  },
  {
   "cell_type": "code",
   "execution_count": 35,
   "metadata": {
    "execution": {
     "iopub.execute_input": "2022-02-03T12:57:42.710080Z",
     "iopub.status.busy": "2022-02-03T12:57:42.709813Z",
     "iopub.status.idle": "2022-02-03T13:02:17.224928Z",
     "shell.execute_reply": "2022-02-03T13:02:17.224102Z",
     "shell.execute_reply.started": "2022-02-03T12:57:42.710040Z"
    }
   },
   "outputs": [
    {
     "name": "stdout",
     "output_type": "stream",
     "text": [
      "la valeur du mean_squared_error est:  82.56184495832957\n",
      "la valeur mean_absolute_error est:  44.44104719071147\n"
     ]
    },
    {
     "data": {
      "image/png": "[encoded data removed]",
      "text/plain": [
       "<Figure size 864x576 with 1 Axes>"
      ]
     },
     "metadata": {
      "needs_background": "light"
     },
     "output_type": "display_data"
    },
    {
     "data": {
      "text/plain": [
       "(82.56184495832957, 44.44104719071147)"
      ]
     },
     "execution_count": 35,
     "metadata": {},
     "output_type": "execute_result"
    }
   ],
   "source": [
    "evaluation(kernel_ridge)"
   ]
  },
  {
   "cell_type": "markdown",
   "metadata": {},
   "source": [
    "<span style=\"color:grey; font-size:1.2em\">Comme nous pouvons le voir, la <b>tolérance</b> fournie par kernel_ridge donne de meilleurs résultats que SVM. Ceci est dû à la différence de <b>loss functions</b> (<b>ridge</b> vs <b>epsilon-insensitive loss</b>).</span>"
   ]
  },
  {
   "cell_type": "markdown",
   "metadata": {},
   "source": [
    "<div id=\"RBF\">\n",
    "        <h1 style=\"color:#1a1a1a\">\n",
    "         ⮞  Réseaux RBF\n",
    "        </h1>\n",
    "</div>"
   ]
  },
  {
   "cell_type": "markdown",
   "metadata": {},
   "source": [
    "<span style=\"color:grey; font-size:1.2em\">Nous allons maintenant créer notre <b>réseau RBF</b>.<br>\n",
    "Essayons d'abord d'en créer un '<b>from scratch</b>' : pour ce faire, nous devons d'abord créer des <b>fonctions</b> qui nous aidera dans le processus.</span>"
   ]
  },
  {
   "cell_type": "code",
   "execution_count": 21,
   "metadata": {
    "execution": {
     "iopub.execute_input": "2022-02-03T12:38:28.950561Z",
     "iopub.status.busy": "2022-02-03T12:38:28.949754Z",
     "iopub.status.idle": "2022-02-03T12:38:28.966103Z",
     "shell.execute_reply": "2022-02-03T12:38:28.965473Z",
     "shell.execute_reply.started": "2022-02-03T12:38:28.950510Z"
    }
   },
   "outputs": [],
   "source": [
    "nbreClasses = 10\n",
    "def rbf(x, c, s):\n",
    "    distance = np.linalg.norm(np.array(x) - np.array(c))\n",
    "    return 1 / np.exp(-distance/(2*s**2))\n",
    "    \n",
    "def kmeans(X, k, itersmax = 100): \n",
    "    \n",
    "    clusters = X[np.random.choice(range(len(X)), k, replace=False)]\n",
    "    converged = False\n",
    "    \n",
    "    iter = 0\n",
    "    while (not converged) and (iter<itersmax):  \n",
    "        \n",
    "        cluster_list = [[] for i in range(len(clusters))]\n",
    "        for x in X:\n",
    "            distances = []\n",
    "            for c in clusters:\n",
    "                distances.append(np.linalg.norm(np.array(x) - np.array(c)))\n",
    "            cluster_list[int(np.argmin(distances))].append(x)\n",
    "            \n",
    "        cluster_list = list((filter(None, cluster_list)))\n",
    "        \n",
    "        prevClusters = clusters.copy()\n",
    "        clusters = []\n",
    "        \n",
    "        for j in range(len(cluster_list)):\n",
    "            clusters.append(np.mean(cluster_list[j], axis = 0))\n",
    "            \n",
    "        diff = np.abs(np.sum(prevClusters) - np.sum(clusters))\n",
    "        converged = (diff==0)\n",
    "        \n",
    "        iter += 1\n",
    "        \n",
    "    stds = [np.std(x) for x in cluster_list]\n",
    "    return np.array(clusters), stds"
   ]
  },
  {
   "cell_type": "markdown",
   "metadata": {},
   "source": [
    "<span style=\"color:grey; font-size:1.2em\">Maintenant que nous avons créé notre <b>fonction rbf</b> et une autre fonction pour <b>le clustering kmeans</b>, nous créons ensuite <b>une class</b>e dans laquelle nous allons définir le processus <b>d'apprentissage et de prédiction</b>.<span>"
   ]
  },
  {
   "cell_type": "code",
   "execution_count": 22,
   "metadata": {
    "execution": {
     "iopub.execute_input": "2022-02-03T12:38:28.968238Z",
     "iopub.status.busy": "2022-02-03T12:38:28.967633Z",
     "iopub.status.idle": "2022-02-03T12:38:28.988142Z",
     "shell.execute_reply": "2022-02-03T12:38:28.987508Z",
     "shell.execute_reply.started": "2022-02-03T12:38:28.968195Z"
    }
   },
   "outputs": [],
   "source": [
    "class RBFNet(object):\n",
    "    \n",
    "    \"\"\"Implementation of a Radial Basis Function Network\"\"\"\n",
    "    def __init__(self, k = 2, lr = 0.01, epochs = 100, rbf = rbf, inferStds = True):\n",
    "        self.k = k\n",
    "        self.lr = lr\n",
    "        self.epochs = epochs\n",
    "        self.rbf = rbf\n",
    "        self.inferStds = inferStds\n",
    "        self.w = np.random.randn(10, k)\n",
    "        self.b = np.random.randn(10, 1)\n",
    "    \n",
    "    def fit(self, X, y):\n",
    "        if self.inferStds:\n",
    "            # compute stds from data\n",
    "            self.centers, self.stds = kmeans(X, self.k)\n",
    "        else:\n",
    "            # use a fixed std \n",
    "            self.centers, _ = kmeans(X, self.k)\n",
    "            dMax = np.max([np.linalg.norm(np.array(c1) - np.array(c2)) for c1 in self.centers for c2 in self.centers])\n",
    "            self.stds = np.repeat(dMax / np.sqrt(2*self.k), self.k)\n",
    "        # training\n",
    "        for epoch in range(self.epochs):\n",
    "            for i in range(X.shape[0]):\n",
    "                # forward pass\n",
    "                a = np.array([self.rbf(X[i], c, s) for c, s, in zip(self.centers, self.stds)])\n",
    "\n",
    "                F = a.T.dot(self.w) + self.b\n",
    "                loss = (y[i] - F).flatten() ** 2\n",
    "\n",
    "                # backward pass\n",
    "                error = -(y[i] - F).flatten()\n",
    "                # online update\n",
    "                self.w = self.w - self.lr * a * error\n",
    "                self.b = self.b - self.lr * error\n",
    "                \n",
    "    def predict(self, X):\n",
    "        y_pred = []\n",
    "        for i in range(X.shape[0]):\n",
    "            a = np.array([rbf(X[i], c, s) for c, s in zip(self.centers, self.stds)])\n",
    "            F = self.w.dot(a.T) + self.b\n",
    "            y_pred.append(F)\n",
    "        return np.array(y_pred)"
   ]
  },
  {
   "cell_type": "markdown",
   "metadata": {},
   "source": [
    "<span style=\"color:grey; font-size:1.2em\">Nous pouvons donc simplement utiliser le code suivant pour <b>former et prédire</b> avec notre modèle<span>"
   ]
  },
  {
   "cell_type": "code",
   "execution_count": null,
   "metadata": {},
   "outputs": [],
   "source": [
    "rbf_net = RBFNet(lr = 0.01, k = 15, epochs = 100)\n",
    "\n",
    "X_train = np.squeeze(np.asarray(X_train))\n",
    "y_train = np.squeeze(np.asarray(y_train))\n",
    "\n",
    "    \n",
    "rbf_net.fit(X_train, y_train)"
   ]
  },
  {
   "cell_type": "markdown",
   "metadata": {},
   "source": [
    "<span style=\"color:grey; font-size:1.2em\">Nous pouvons également créer <b>une classe</b> qui contiendra toutes <b>les fonctions requises</b> à un seul object comme suit.</span>"
   ]
  },
  {
   "cell_type": "code",
   "execution_count": 36,
   "metadata": {
    "execution": {
     "iopub.execute_input": "2022-02-03T13:02:17.226549Z",
     "iopub.status.busy": "2022-02-03T13:02:17.226334Z",
     "iopub.status.idle": "2022-02-03T13:02:17.250463Z",
     "shell.execute_reply": "2022-02-03T13:02:17.249590Z",
     "shell.execute_reply.started": "2022-02-03T13:02:17.226522Z"
    }
   },
   "outputs": [],
   "source": [
    "class RBF():\n",
    "    def __init__(self, k, epochs, lr=0.01):\n",
    "        self.k = k\n",
    "        self.lr = lr\n",
    "        self.epochs = epochs\n",
    "        self.w = np.random.randn(k)\n",
    "        self.b = np.random.randn(1)\n",
    "\n",
    "    def gaussian(self ,x, center, sig):\n",
    "        return np.exp((-1 / (2 * sig ** 2)) * (x - center) ** 2)\n",
    "\n",
    "    def sig_finder(self,clusters,X,k):\n",
    "        '''\n",
    "            computing spreads of clusters\n",
    "            finding clusters with 1 or 0 points and compute their spreads as mean of others` spreads\n",
    "        '''\n",
    "        sigma = np.zeros(k)\n",
    "        ideal_cluster = np.argmin(np.squeeze(np.abs(X[:, np.newaxis] - clusters[np.newaxis, :])), axis=1)\n",
    "        averg = []\n",
    "        outliers = []\n",
    "        for i in range(k):\n",
    "            pointsForCluster = X[ideal_cluster == i]\n",
    "            if len(pointsForCluster) < 2:\n",
    "                outliers.append(i)\n",
    "            else:\n",
    "                averg.append(X[ideal_cluster == i])\n",
    "                sigma[i] = np.std(X[ideal_cluster == i])\n",
    "        averg = np.concatenate(averg)\n",
    "        sigma[outliers] = np.mean(np.std(averg))\n",
    "        return sigma\n",
    "\n",
    "    def clustering(self ,X, k):\n",
    "        ''' uniform setting of initial centers '''\n",
    "        lx = len(X)\n",
    "        diff = lx / k\n",
    "        o = []\n",
    "        for i in range(0, k):\n",
    "            o.append(X[int(diff * i)])\n",
    "        clusters = np.array(o)\n",
    "        ''' random choice of initial centers '''\n",
    "        # clusters = np.random.choice(np.squeeze(X), size=k)\n",
    "        before = clusters.copy()\n",
    "        flag = True\n",
    "        while flag:\n",
    "            '''find the cluster that's closest to each point'''\n",
    "            ideal_cluster = np.argmin(np.squeeze(np.abs(X[:, np.newaxis] - clusters[np.newaxis, :])), axis=1)\n",
    "            '''updating each cluster by taking the mean of all of the points in it'''\n",
    "            for i in range(k):\n",
    "                Numbers = X[ideal_cluster == i]\n",
    "                if len(Numbers) > 0:\n",
    "                    clusters[i] = np.mean(Numbers, axis=0)\n",
    "            flag = np.average(clusters - before) > 0.000001\n",
    "            before = clusters.copy()\n",
    "        sigma = self.sig_finder(clusters,X,k)\n",
    "        return clusters, sigma\n",
    "\n",
    "    def fit(self, X, y):\n",
    "        self.centers, self.stds = self.clustering(X, self.k)\n",
    "        for epoch in range(self.epochs):\n",
    "            if epoch % 100 ==0:\n",
    "                print(\"epoch \"+str(epoch))\n",
    "            for i in range(len(X)):\n",
    "                # forward pass\n",
    "                sig=np.array(self.gaussian(X[i], self.centers, self.stds))\n",
    "                Y = np.dot(sig,self.w) + self.b\n",
    "                # backward pass\n",
    "                error = -(y[i] - Y)\n",
    "                self.w = self.w - self.lr * sig * error\n",
    "                self.b = self.b - self.lr * error\n",
    "\n",
    "    def predict(self, X):\n",
    "        y_pred = []\n",
    "        for i in range(len(X)):\n",
    "            sig = np.array(self.gaussian(X[i], self.centers, self.stds))\n",
    "            Y = sig.dot(self.w) + self.b\n",
    "            y_pred.append(Y)\n",
    "        return np.array(y_pred)"
   ]
  },
  {
   "cell_type": "markdown",
   "metadata": {},
   "source": [
    "<span style=\"color:grey; font-size:1.2em\">même chose pour <b>le modelling</b>."
   ]
  },
  {
   "cell_type": "code",
   "execution_count": null,
   "metadata": {
    "execution": {
     "iopub.status.busy": "2022-02-03T12:41:54.373649Z",
     "iopub.status.idle": "2022-02-03T12:41:54.374145Z",
     "shell.execute_reply": "2022-02-03T12:41:54.373898Z",
     "shell.execute_reply.started": "2022-02-03T12:41:54.373872Z"
    }
   },
   "outputs": [],
   "source": [
    "rbf_net = RBF(lr = 0.01, k = 15, epochs = 200)\n",
    "\n",
    "X_train = np.squeeze(np.asarray(X_train))\n",
    "y_train = np.squeeze(np.asarray(y_train))\n",
    "\n",
    "    \n",
    "rbf_net.fit(X_train, y_train)"
   ]
  },
  {
   "cell_type": "markdown",
   "metadata": {},
   "source": [
    "<div id=\"RBF-Keras\">\n",
    "        <h3 style=\"color:#1a1a1a;\n",
    "                    font-size:2em\">\n",
    "         ⮞  Réseaux RBF avec Keras\n",
    "        </h3>\n",
    "</div>"
   ]
  },
  {
   "cell_type": "markdown",
   "metadata": {},
   "source": [
    "<span style=\"color:grey; font-size:1.2em\">Et enfin, nous pouvons utiliser une fonction et une méthode <b>prédéfinies dans keras</b> pour rendre notre travail beaucoup plus <b>facile</b>.<span>"
   ]
  },
  {
   "cell_type": "code",
   "execution_count": 25,
   "metadata": {
    "execution": {
     "iopub.execute_input": "2022-02-03T12:46:13.102525Z",
     "iopub.status.busy": "2022-02-03T12:46:13.102178Z",
     "iopub.status.idle": "2022-02-03T12:46:20.895565Z",
     "shell.execute_reply": "2022-02-03T12:46:20.894765Z",
     "shell.execute_reply.started": "2022-02-03T12:46:13.102490Z"
    }
   },
   "outputs": [],
   "source": [
    "from keras.layers import Layer\n",
    "from keras import backend as K\n",
    "\n",
    "class RBFLayer(Layer):\n",
    "    def __init__(self, units, gamma, **kwargs):\n",
    "        super(RBFLayer, self).__init__(**kwargs)\n",
    "        self.units = units\n",
    "        self.gamma = K.cast_to_floatx(gamma)\n",
    "\n",
    "    def build(self, input_shape):\n",
    "        self.mu = self.add_weight(name='mu',\n",
    "                                  shape=(int(input_shape[1]), self.units),\n",
    "                                  initializer='uniform',\n",
    "                                  trainable=True)\n",
    "        super(RBFLayer, self).build(input_shape)\n",
    "\n",
    "    def call(self, inputs):\n",
    "        diff = K.expand_dims(inputs) - self.mu\n",
    "        l2 = K.sum(K.pow(diff, 2), axis=1)\n",
    "        res = K.exp(-1 * self.gamma * l2)\n",
    "        return res\n",
    "\n",
    "    def compute_output_shape(self, input_shape):\n",
    "        return (input_shape[0], self.units)"
   ]
  },
  {
   "cell_type": "code",
   "execution_count": 26,
   "metadata": {
    "execution": {
     "iopub.execute_input": "2022-02-03T12:46:20.897844Z",
     "iopub.status.busy": "2022-02-03T12:46:20.897283Z",
     "iopub.status.idle": "2022-02-03T12:46:20.904840Z",
     "shell.execute_reply": "2022-02-03T12:46:20.904014Z",
     "shell.execute_reply.started": "2022-02-03T12:46:20.897798Z"
    }
   },
   "outputs": [
    {
     "data": {
      "text/plain": [
       "(15788, 26)"
      ]
     },
     "execution_count": 26,
     "metadata": {},
     "output_type": "execute_result"
    }
   ],
   "source": [
    "X_train.shape"
   ]
  },
  {
   "cell_type": "code",
   "execution_count": 27,
   "metadata": {
    "execution": {
     "iopub.execute_input": "2022-02-03T12:46:20.906554Z",
     "iopub.status.busy": "2022-02-03T12:46:20.906275Z",
     "iopub.status.idle": "2022-02-03T12:46:20.923308Z",
     "shell.execute_reply": "2022-02-03T12:46:20.922318Z",
     "shell.execute_reply.started": "2022-02-03T12:46:20.906523Z"
    }
   },
   "outputs": [],
   "source": [
    "from keras.layers import Dense, Flatten\n",
    "from keras.models import Sequential\n",
    "from keras.losses import binary_crossentropy\n"
   ]
  },
  {
   "cell_type": "markdown",
   "metadata": {},
   "source": [
    "<span style=\"color:grey; font-size:1.2em\">Maintenant nous créons un nouveau modèle `Sequential()` puis nous ajoutons<b> 4 couches</b>. <br>\n",
    "    ---La première couche est Flatten qui est utilisée pour rendre l'entrée multidimensionnelle unidimensionnelle,<br>\n",
    "    ---Les deuxième et troisième couches (Hidden layers) sont notre RBFLayer,<br>\n",
    "    ---La dernière couche a un activation='linear' pour donner une valeur prédite d'Appliances.<br>\n",
    "</span>"
   ]
  },
  {
   "cell_type": "code",
   "execution_count": 28,
   "metadata": {
    "execution": {
     "iopub.execute_input": "2022-02-03T12:46:22.274850Z",
     "iopub.status.busy": "2022-02-03T12:46:22.274045Z",
     "iopub.status.idle": "2022-02-03T12:46:22.516061Z",
     "shell.execute_reply": "2022-02-03T12:46:22.514983Z",
     "shell.execute_reply.started": "2022-02-03T12:46:22.274754Z"
    }
   },
   "outputs": [
    {
     "name": "stderr",
     "output_type": "stream",
     "text": [
      "\n",
      "User settings:\n",
      "\n",
      "   KMP_AFFINITY=granularity=fine,noverbose,compact,1,0\n",
      "   KMP_BLOCKTIME=0\n",
      "   KMP_DUPLICATE_LIB_OK=True\n",
      "   KMP_INIT_AT_FORK=FALSE\n",
      "   KMP_SETTINGS=1\n",
      "   KMP_WARNINGS=0\n",
      "\n",
      "Effective settings:\n",
      "\n",
      "   KMP_ABORT_DELAY=0\n",
      "   KMP_ADAPTIVE_LOCK_PROPS='1,1024'\n",
      "   KMP_ALIGN_ALLOC=64\n",
      "   KMP_ALL_THREADPRIVATE=128\n",
      "   KMP_ATOMIC_MODE=2\n",
      "   KMP_BLOCKTIME=0\n",
      "   KMP_CPUINFO_FILE: value is not defined\n",
      "   KMP_DETERMINISTIC_REDUCTION=false\n",
      "   KMP_DEVICE_THREAD_LIMIT=2147483647\n",
      "   KMP_DISP_NUM_BUFFERS=7\n",
      "   KMP_DUPLICATE_LIB_OK=true\n",
      "   KMP_ENABLE_TASK_THROTTLING=true\n",
      "   KMP_FORCE_REDUCTION: value is not defined\n",
      "   KMP_FOREIGN_THREADS_THREADPRIVATE=true\n",
      "   KMP_FORKJOIN_BARRIER='2,2'\n",
      "   KMP_FORKJOIN_BARRIER_PATTERN='hyper,hyper'\n",
      "   KMP_GTID_MODE=3\n",
      "   KMP_HANDLE_SIGNALS=false\n",
      "   KMP_HOT_TEAMS_MAX_LEVEL=1\n",
      "   KMP_HOT_TEAMS_MODE=0\n",
      "   KMP_INIT_AT_FORK=true\n",
      "   KMP_LIBRARY=throughput\n",
      "   KMP_LOCK_KIND=queuing\n",
      "   KMP_MALLOC_POOL_INCR=1M\n",
      "   KMP_NUM_LOCKS_IN_BLOCK=1\n",
      "   KMP_PLAIN_BARRIER='2,2'\n",
      "   KMP_PLAIN_BARRIER_PATTERN='hyper,hyper'\n",
      "   KMP_REDUCTION_BARRIER='1,1'\n",
      "   KMP_REDUCTION_BARRIER_PATTERN='hyper,hyper'\n",
      "   KMP_SCHEDULE='static,balanced;guided,iterative'\n",
      "   KMP_SETTINGS=true\n",
      "   KMP_SPIN_BACKOFF_PARAMS='4096,100'\n",
      "   KMP_STACKOFFSET=64\n",
      "   KMP_STACKPAD=0\n",
      "   KMP_STACKSIZE=8M\n",
      "   KMP_STORAGE_MAP=false\n",
      "   KMP_TASKING=2\n",
      "   KMP_TASKLOOP_MIN_TASKS=0\n",
      "   KMP_TASK_STEALING_CONSTRAINT=1\n",
      "   KMP_TEAMS_THREAD_LIMIT=4\n",
      "   KMP_TOPOLOGY_METHOD=all\n",
      "   KMP_USE_YIELD=1\n",
      "   KMP_VERSION=false\n",
      "   KMP_WARNINGS=false\n",
      "   OMP_AFFINITY_FORMAT='OMP: pid %P tid %i thread %n bound to OS proc set {%A}'\n",
      "   OMP_ALLOCATOR=omp_default_mem_alloc\n",
      "   OMP_CANCELLATION=false\n",
      "   OMP_DEFAULT_DEVICE=0\n",
      "   OMP_DISPLAY_AFFINITY=false\n",
      "   OMP_DISPLAY_ENV=false\n",
      "   OMP_DYNAMIC=false\n",
      "   OMP_MAX_ACTIVE_LEVELS=1\n",
      "   OMP_MAX_TASK_PRIORITY=0\n",
      "   OMP_NESTED: deprecated; max-active-levels-var=1\n",
      "   OMP_NUM_THREADS: value is not defined\n",
      "   OMP_PLACES: value is not defined\n",
      "   OMP_PROC_BIND='intel'\n",
      "   OMP_SCHEDULE='static'\n",
      "   OMP_STACKSIZE=8M\n",
      "   OMP_TARGET_OFFLOAD=DEFAULT\n",
      "   OMP_THREAD_LIMIT=2147483647\n",
      "   OMP_WAIT_POLICY=PASSIVE\n",
      "   KMP_AFFINITY='noverbose,warnings,respect,granularity=fine,compact,1,0'\n",
      "\n",
      "2022-02-03 12:46:22.330446: I tensorflow/core/common_runtime/process_util.cc:146] Creating new thread pool with default inter op setting: 2. Tune using inter_op_parallelism_threads for best performance.\n"
     ]
    }
   ],
   "source": [
    "RBF_Keras = Sequential()\n",
    "RBF_Keras.add(Flatten(input_shape=(26,)))\n",
    "RBF_Keras.add(RBFLayer(100, 0.5))\n",
    "RBF_Keras.add(RBFLayer(60, 0.5))\n",
    "RBF_Keras.add(Dense(1, activation='linear'))"
   ]
  },
  {
   "cell_type": "markdown",
   "metadata": {},
   "source": [
    "<span style=\"color:grey; font-size:1.2em\">On choisit les paramètres de la méthode `.compile()`. <br>pour le paramètre <b>loss</b> est <i>mean_absolute_error</i> . pour <b>optimizer</b> on choisit: <i>rmsprop</i> ( Root Mean Squared Propagation ).</span>"
   ]
  },
  {
   "cell_type": "code",
   "execution_count": 29,
   "metadata": {
    "execution": {
     "iopub.execute_input": "2022-02-03T12:46:23.454283Z",
     "iopub.status.busy": "2022-02-03T12:46:23.453574Z",
     "iopub.status.idle": "2022-02-03T12:46:23.473137Z",
     "shell.execute_reply": "2022-02-03T12:46:23.472206Z",
     "shell.execute_reply.started": "2022-02-03T12:46:23.454227Z"
    }
   },
   "outputs": [],
   "source": [
    "RBF_Keras.compile(optimizer='rmsprop', loss = 'mean_absolute_error')"
   ]
  },
  {
   "cell_type": "markdown",
   "metadata": {},
   "source": [
    "<span style=\"color:grey; font-size:1.2em\">Voyons un <b>summary<b> des paramètres de notre modèle</span>"
   ]
  },
  {
   "cell_type": "code",
   "execution_count": 30,
   "metadata": {
    "execution": {
     "iopub.execute_input": "2022-02-03T12:46:24.382729Z",
     "iopub.status.busy": "2022-02-03T12:46:24.382140Z",
     "iopub.status.idle": "2022-02-03T12:46:24.391628Z",
     "shell.execute_reply": "2022-02-03T12:46:24.390536Z",
     "shell.execute_reply.started": "2022-02-03T12:46:24.382673Z"
    }
   },
   "outputs": [
    {
     "name": "stdout",
     "output_type": "stream",
     "text": [
      "Model: \"sequential\"\n",
      "_________________________________________________________________\n",
      "Layer (type)                 Output Shape              Param #   \n",
      "=================================================================\n",
      "flatten (Flatten)            (None, 26)                0         \n",
      "_________________________________________________________________\n",
      "rbf_layer (RBFLayer)         (None, 100)               2600      \n",
      "_________________________________________________________________\n",
      "rbf_layer_1 (RBFLayer)       (None, 60)                6000      \n",
      "_________________________________________________________________\n",
      "dense (Dense)                (None, 1)                 61        \n",
      "=================================================================\n",
      "Total params: 8,661\n",
      "Trainable params: 8,661\n",
      "Non-trainable params: 0\n",
      "_________________________________________________________________\n"
     ]
    }
   ],
   "source": [
    "RBF_Keras.summary()"
   ]
  },
  {
   "cell_type": "markdown",
   "metadata": {},
   "source": [
    "<span style=\"color:grey; font-size:1.2em\">Créons un objet contenant <b>l'historique</b> de notre formation de modèle:</span>"
   ]
  },
  {
   "cell_type": "code",
   "execution_count": 31,
   "metadata": {
    "execution": {
     "iopub.execute_input": "2022-02-03T12:46:25.578302Z",
     "iopub.status.busy": "2022-02-03T12:46:25.577246Z",
     "iopub.status.idle": "2022-02-03T12:52:33.987361Z",
     "shell.execute_reply": "2022-02-03T12:52:33.986467Z",
     "shell.execute_reply.started": "2022-02-03T12:46:25.578232Z"
    }
   },
   "outputs": [
    {
     "name": "stderr",
     "output_type": "stream",
     "text": [
      "2022-02-03 12:46:25.676254: I tensorflow/compiler/mlir/mlir_graph_optimization_pass.cc:185] None of the MLIR Optimization Passes are enabled (registered 2)\n"
     ]
    },
    {
     "name": "stdout",
     "output_type": "stream",
     "text": [
      "Epoch 1/100\n",
      "1974/1974 [==============================] - 5s 2ms/step - loss: 59.7005 - val_loss: 48.4076\n",
      "Epoch 2/100\n",
      "1974/1974 [==============================] - 4s 2ms/step - loss: 50.2250 - val_loss: 48.3978\n",
      "Epoch 3/100\n",
      "1974/1974 [==============================] - 4s 2ms/step - loss: 50.2225 - val_loss: 48.4037\n",
      "Epoch 4/100\n",
      "1974/1974 [==============================] - 4s 2ms/step - loss: 50.2213 - val_loss: 48.3987\n",
      "Epoch 5/100\n",
      "1974/1974 [==============================] - 4s 2ms/step - loss: 50.2181 - val_loss: 48.3850\n",
      "Epoch 6/100\n",
      "1974/1974 [==============================] - 4s 2ms/step - loss: 50.2119 - val_loss: 48.3675\n",
      "Epoch 7/100\n",
      "1974/1974 [==============================] - 4s 2ms/step - loss: 50.2041 - val_loss: 48.3527\n",
      "Epoch 8/100\n",
      "1974/1974 [==============================] - 4s 2ms/step - loss: 50.1958 - val_loss: 48.3645\n",
      "Epoch 9/100\n",
      "1974/1974 [==============================] - 4s 2ms/step - loss: 50.1833 - val_loss: 48.3995\n",
      "Epoch 10/100\n",
      "1974/1974 [==============================] - 4s 2ms/step - loss: 50.1727 - val_loss: 48.3154\n",
      "Epoch 11/100\n",
      "1974/1974 [==============================] - 4s 2ms/step - loss: 50.1551 - val_loss: 48.2945\n",
      "Epoch 12/100\n",
      "1974/1974 [==============================] - 4s 2ms/step - loss: 50.1332 - val_loss: 48.3182\n",
      "Epoch 13/100\n",
      "1974/1974 [==============================] - 4s 2ms/step - loss: 50.1128 - val_loss: 48.2896\n",
      "Epoch 14/100\n",
      "1974/1974 [==============================] - 4s 2ms/step - loss: 50.0919 - val_loss: 48.2393\n",
      "Epoch 15/100\n",
      "1974/1974 [==============================] - 4s 2ms/step - loss: 50.0740 - val_loss: 48.2322\n",
      "Epoch 16/100\n",
      "1974/1974 [==============================] - 4s 2ms/step - loss: 50.0534 - val_loss: 48.2816\n",
      "Epoch 17/100\n",
      "1974/1974 [==============================] - 3s 2ms/step - loss: 50.0350 - val_loss: 48.2066\n",
      "Epoch 18/100\n",
      "1974/1974 [==============================] - 4s 2ms/step - loss: 50.0202 - val_loss: 48.2078\n",
      "Epoch 19/100\n",
      "1974/1974 [==============================] - 3s 2ms/step - loss: 50.0052 - val_loss: 48.1991\n",
      "Epoch 20/100\n",
      "1974/1974 [==============================] - 3s 2ms/step - loss: 49.9874 - val_loss: 48.1602\n",
      "Epoch 21/100\n",
      "1974/1974 [==============================] - 3s 2ms/step - loss: 49.9659 - val_loss: 48.2235\n",
      "Epoch 22/100\n",
      "1974/1974 [==============================] - 3s 2ms/step - loss: 49.9538 - val_loss: 48.1220\n",
      "Epoch 23/100\n",
      "1974/1974 [==============================] - 3s 2ms/step - loss: 49.9358 - val_loss: 48.0957\n",
      "Epoch 24/100\n",
      "1974/1974 [==============================] - 4s 2ms/step - loss: 49.9134 - val_loss: 48.1315\n",
      "Epoch 25/100\n",
      "1974/1974 [==============================] - 3s 2ms/step - loss: 49.8946 - val_loss: 48.0883\n",
      "Epoch 26/100\n",
      "1974/1974 [==============================] - 4s 2ms/step - loss: 49.8770 - val_loss: 48.0523\n",
      "Epoch 27/100\n",
      "1974/1974 [==============================] - 4s 2ms/step - loss: 49.8542 - val_loss: 48.0498\n",
      "Epoch 28/100\n",
      "1974/1974 [==============================] - 4s 2ms/step - loss: 49.8307 - val_loss: 48.1136\n",
      "Epoch 29/100\n",
      "1974/1974 [==============================] - 4s 2ms/step - loss: 49.8319 - val_loss: 48.0132\n",
      "Epoch 30/100\n",
      "1974/1974 [==============================] - 4s 2ms/step - loss: 49.8134 - val_loss: 48.0230\n",
      "Epoch 31/100\n",
      "1974/1974 [==============================] - 4s 2ms/step - loss: 49.7975 - val_loss: 48.0006\n",
      "Epoch 32/100\n",
      "1974/1974 [==============================] - 4s 2ms/step - loss: 49.7808 - val_loss: 48.0086\n",
      "Epoch 33/100\n",
      "1974/1974 [==============================] - 4s 2ms/step - loss: 49.7671 - val_loss: 47.9711\n",
      "Epoch 34/100\n",
      "1974/1974 [==============================] - 4s 2ms/step - loss: 49.7495 - val_loss: 47.9596\n",
      "Epoch 35/100\n",
      "1974/1974 [==============================] - 4s 2ms/step - loss: 49.7405 - val_loss: 47.9958\n",
      "Epoch 36/100\n",
      "1974/1974 [==============================] - 4s 2ms/step - loss: 49.7293 - val_loss: 48.0010\n",
      "Epoch 37/100\n",
      "1974/1974 [==============================] - 4s 2ms/step - loss: 49.7185 - val_loss: 47.9271\n",
      "Epoch 38/100\n",
      "1974/1974 [==============================] - 4s 2ms/step - loss: 49.7039 - val_loss: 47.9350\n",
      "Epoch 39/100\n",
      "1974/1974 [==============================] - 4s 2ms/step - loss: 49.7034 - val_loss: 47.9112\n",
      "Epoch 40/100\n",
      "1974/1974 [==============================] - 4s 2ms/step - loss: 49.6764 - val_loss: 47.9356\n",
      "Epoch 41/100\n",
      "1974/1974 [==============================] - 4s 2ms/step - loss: 49.6554 - val_loss: 47.9286\n",
      "Epoch 42/100\n",
      "1974/1974 [==============================] - 4s 2ms/step - loss: 49.6639 - val_loss: 47.9359\n",
      "Epoch 43/100\n",
      "1974/1974 [==============================] - 4s 2ms/step - loss: 49.6443 - val_loss: 47.9453\n",
      "Epoch 44/100\n",
      "1974/1974 [==============================] - 4s 2ms/step - loss: 49.6531 - val_loss: 47.8855\n",
      "Epoch 45/100\n",
      "1974/1974 [==============================] - 4s 2ms/step - loss: 49.6454 - val_loss: 47.8863\n",
      "Epoch 46/100\n",
      "1974/1974 [==============================] - 4s 2ms/step - loss: 49.6236 - val_loss: 47.9086\n",
      "Epoch 47/100\n",
      "1974/1974 [==============================] - 4s 2ms/step - loss: 49.6139 - val_loss: 47.8771\n",
      "Epoch 48/100\n",
      "1974/1974 [==============================] - 4s 2ms/step - loss: 49.6132 - val_loss: 47.9014\n",
      "Epoch 49/100\n",
      "1974/1974 [==============================] - 4s 2ms/step - loss: 49.6231 - val_loss: 47.8644\n",
      "Epoch 50/100\n",
      "1974/1974 [==============================] - 4s 2ms/step - loss: 49.6051 - val_loss: 47.8697\n",
      "Epoch 51/100\n",
      "1974/1974 [==============================] - 4s 2ms/step - loss: 49.5939 - val_loss: 47.8649\n",
      "Epoch 52/100\n",
      "1974/1974 [==============================] - 4s 2ms/step - loss: 49.5941 - val_loss: 47.8395\n",
      "Epoch 53/100\n",
      "1974/1974 [==============================] - 4s 2ms/step - loss: 49.5840 - val_loss: 47.8414\n",
      "Epoch 54/100\n",
      "1974/1974 [==============================] - 4s 2ms/step - loss: 49.5807 - val_loss: 47.8613\n",
      "Epoch 55/100\n",
      "1974/1974 [==============================] - 4s 2ms/step - loss: 49.5860 - val_loss: 47.8587\n",
      "Epoch 56/100\n",
      "1974/1974 [==============================] - 4s 2ms/step - loss: 49.5784 - val_loss: 47.8473\n",
      "Epoch 57/100\n",
      "1974/1974 [==============================] - 4s 2ms/step - loss: 49.5627 - val_loss: 48.0984\n",
      "Epoch 58/100\n",
      "1974/1974 [==============================] - 4s 2ms/step - loss: 49.5451 - val_loss: 47.8446\n",
      "Epoch 59/100\n",
      "1974/1974 [==============================] - 4s 2ms/step - loss: 49.5498 - val_loss: 47.9478\n",
      "Epoch 60/100\n",
      "1974/1974 [==============================] - 4s 2ms/step - loss: 49.5518 - val_loss: 47.8433\n",
      "Epoch 61/100\n",
      "1974/1974 [==============================] - 3s 2ms/step - loss: 49.5340 - val_loss: 47.8506\n",
      "Epoch 62/100\n",
      "1974/1974 [==============================] - 3s 2ms/step - loss: 49.5383 - val_loss: 47.8048\n",
      "Epoch 63/100\n",
      "1974/1974 [==============================] - 3s 2ms/step - loss: 49.5095 - val_loss: 47.8008\n",
      "Epoch 64/100\n",
      "1974/1974 [==============================] - 4s 2ms/step - loss: 49.5150 - val_loss: 47.7946\n",
      "Epoch 65/100\n",
      "1974/1974 [==============================] - 3s 2ms/step - loss: 49.4957 - val_loss: 47.7903\n",
      "Epoch 66/100\n",
      "1974/1974 [==============================] - 4s 2ms/step - loss: 49.5232 - val_loss: 47.7834\n",
      "Epoch 67/100\n",
      "1974/1974 [==============================] - 3s 2ms/step - loss: 49.4906 - val_loss: 47.7798\n",
      "Epoch 68/100\n",
      "1974/1974 [==============================] - 3s 2ms/step - loss: 49.4895 - val_loss: 47.7802\n",
      "Epoch 69/100\n",
      "1974/1974 [==============================] - 4s 2ms/step - loss: 49.4754 - val_loss: 47.7656\n",
      "Epoch 70/100\n",
      "1974/1974 [==============================] - 3s 2ms/step - loss: 49.4941 - val_loss: 47.7633\n",
      "Epoch 71/100\n",
      "1974/1974 [==============================] - 3s 2ms/step - loss: 49.5058 - val_loss: 47.7713\n",
      "Epoch 72/100\n",
      "1974/1974 [==============================] - 3s 2ms/step - loss: 49.4836 - val_loss: 47.7621\n",
      "Epoch 73/100\n",
      "1974/1974 [==============================] - 3s 2ms/step - loss: 49.4877 - val_loss: 47.7434\n",
      "Epoch 74/100\n",
      "1974/1974 [==============================] - 3s 2ms/step - loss: 49.4479 - val_loss: 48.0956\n",
      "Epoch 75/100\n",
      "1974/1974 [==============================] - 3s 2ms/step - loss: 49.4734 - val_loss: 47.7705\n",
      "Epoch 76/100\n",
      "1974/1974 [==============================] - 4s 2ms/step - loss: 49.4464 - val_loss: 47.8237\n",
      "Epoch 77/100\n",
      "1974/1974 [==============================] - 3s 2ms/step - loss: 49.4698 - val_loss: 47.8023\n",
      "Epoch 78/100\n",
      "1974/1974 [==============================] - 3s 2ms/step - loss: 49.4656 - val_loss: 47.7802\n",
      "Epoch 79/100\n",
      "1974/1974 [==============================] - 3s 2ms/step - loss: 49.4524 - val_loss: 47.8602\n",
      "Epoch 80/100\n",
      "1974/1974 [==============================] - 3s 2ms/step - loss: 49.4277 - val_loss: 47.7352\n",
      "Epoch 81/100\n",
      "1974/1974 [==============================] - 3s 2ms/step - loss: 49.4466 - val_loss: 47.7142\n",
      "Epoch 82/100\n",
      "1974/1974 [==============================] - 3s 2ms/step - loss: 49.4367 - val_loss: 47.7339\n",
      "Epoch 83/100\n",
      "1974/1974 [==============================] - 3s 2ms/step - loss: 49.4414 - val_loss: 47.7147\n",
      "Epoch 84/100\n",
      "1974/1974 [==============================] - 4s 2ms/step - loss: 49.4469 - val_loss: 47.7187\n",
      "Epoch 85/100\n",
      "1974/1974 [==============================] - 3s 2ms/step - loss: 49.4417 - val_loss: 47.8077\n",
      "Epoch 86/100\n",
      "1974/1974 [==============================] - 3s 2ms/step - loss: 49.4480 - val_loss: 47.7112\n",
      "Epoch 87/100\n",
      "1974/1974 [==============================] - 3s 2ms/step - loss: 49.4174 - val_loss: 47.7150\n",
      "Epoch 88/100\n",
      "1974/1974 [==============================] - 3s 2ms/step - loss: 49.4292 - val_loss: 47.7182\n",
      "Epoch 89/100\n",
      "1974/1974 [==============================] - 3s 2ms/step - loss: 49.4198 - val_loss: 47.7202\n",
      "Epoch 90/100\n",
      "1974/1974 [==============================] - 3s 2ms/step - loss: 49.4285 - val_loss: 47.7132\n",
      "Epoch 91/100\n",
      "1974/1974 [==============================] - 3s 2ms/step - loss: 49.4083 - val_loss: 47.7421\n",
      "Epoch 92/100\n",
      "1974/1974 [==============================] - 4s 2ms/step - loss: 49.4304 - val_loss: 47.7415\n",
      "Epoch 93/100\n",
      "1974/1974 [==============================] - 4s 2ms/step - loss: 49.4006 - val_loss: 47.7163\n",
      "Epoch 94/100\n",
      "1974/1974 [==============================] - 3s 2ms/step - loss: 49.4167 - val_loss: 47.7153\n",
      "Epoch 95/100\n",
      "1974/1974 [==============================] - 4s 2ms/step - loss: 49.3984 - val_loss: 47.7023\n",
      "Epoch 96/100\n",
      "1974/1974 [==============================] - 3s 2ms/step - loss: 49.3944 - val_loss: 47.7170\n",
      "Epoch 97/100\n",
      "1974/1974 [==============================] - 4s 2ms/step - loss: 49.4110 - val_loss: 47.7005\n",
      "Epoch 98/100\n",
      "1974/1974 [==============================] - 3s 2ms/step - loss: 49.4102 - val_loss: 47.7116\n",
      "Epoch 99/100\n",
      "1974/1974 [==============================] - 3s 2ms/step - loss: 49.4073 - val_loss: 47.8260\n",
      "Epoch 100/100\n",
      "1974/1974 [==============================] - 3s 2ms/step - loss: 49.3830 - val_loss: 47.7146\n"
     ]
    }
   ],
   "source": [
    "history = RBF_Keras.fit(X_train, y_train, validation_data=(X_valid, y_valid), epochs = 100, batch_size = 8)"
   ]
  },
  {
   "cell_type": "markdown",
   "metadata": {},
   "source": [
    "<span style=\"color:grey; font-size:1.2em\">Traçons l'historique de nos score de modèle sur les données d'entraînement et de validation pour chaque <b>Epoch</b>.</span>"
   ]
  },
  {
   "cell_type": "code",
   "execution_count": 32,
   "metadata": {
    "execution": {
     "iopub.execute_input": "2022-02-03T12:52:33.989508Z",
     "iopub.status.busy": "2022-02-03T12:52:33.989263Z",
     "iopub.status.idle": "2022-02-03T12:52:34.203131Z",
     "shell.execute_reply": "2022-02-03T12:52:34.202244Z",
     "shell.execute_reply.started": "2022-02-03T12:52:33.989474Z"
    }
   },
   "outputs": [
    {
     "data": {
      "image/png": "[encoded data removed]",
      "text/plain": [
       "<Figure size 432x288 with 1 Axes>"
      ]
     },
     "metadata": {
      "needs_background": "light"
     },
     "output_type": "display_data"
    }
   ],
   "source": [
    "plt.plot(history.history['loss'])\n",
    "plt.plot(history.history['val_loss'])\n",
    "plt.title('model loss')\n",
    "plt.ylabel('loss')\n",
    "plt.xlabel('epoch')\n",
    "plt.legend(['train', 'validation'], loc='upper left')\n",
    "plt.show()"
   ]
  },
  {
   "cell_type": "markdown",
   "metadata": {},
   "source": [
    "<span style=\"color:grey; font-size:1.2em\">C'est temps d' <b>évaluer</b> notre modèle à la fois sur les données d'entraînement et de test et d'obtenir <b>scores</b> de précision.</span>"
   ]
  },
  {
   "cell_type": "code",
   "execution_count": 33,
   "metadata": {
    "execution": {
     "iopub.execute_input": "2022-02-03T12:52:34.204967Z",
     "iopub.status.busy": "2022-02-03T12:52:34.204435Z",
     "iopub.status.idle": "2022-02-03T12:52:34.528692Z",
     "shell.execute_reply": "2022-02-03T12:52:34.527278Z",
     "shell.execute_reply.started": "2022-02-03T12:52:34.204923Z"
    }
   },
   "outputs": [
    {
     "name": "stdout",
     "output_type": "stream",
     "text": [
      "la valeur du mean_squared_error est:  103.85625639805843\n",
      "la valeur mean_absolute_error est:  47.714579733710124\n"
     ]
    }
   ],
   "source": [
    "ypred = RBF_Keras.predict(X_valid)\n",
    "rmse = np.sqrt(mean_squared_error(y_valid, ypred))\n",
    "mae = mean_absolute_error(y_valid, ypred)\n",
    "print(\"la valeur du mean_squared_error est: \",rmse)\n",
    "print(\"la valeur mean_absolute_error est: \",mae)"
   ]
  },
  {
   "cell_type": "markdown",
   "metadata": {},
   "source": [
    "<center id=\"Conclusion\">\n",
    "        <h1 style=\"color:#1a1a1a;\n",
    "                    font-size:2em\">\n",
    "        Conclusion 📌\n",
    "        </h1>\n",
    "</center>"
   ]
  },
  {
   "cell_type": "markdown",
   "metadata": {},
   "source": [
    "<div style=\"color:grey; font-size:1.2em\">Le travail que nous avons réalisé a consisté à exploirer le cycle de vie d'un project de Data Science en general et du Machine Learning et Deep Learning en particulier. On bien appris comment analyser et transformer les données, dans la partie du Pré-traitement on a diviser les données et vectoriser les phrases, et dernièrement la construction des modèles en essayant différentes approches: SVF et RBF NET.\n",
    "<br>\n",
    "<br>\n",
    "<span style=\"color:black; font-size:1.2em; background-color:#FFFFA6\">Ce projet nous a permis d'acquérir les techniques d'utiliser des réseaux RBF pour l’analyse et prédire.</span>\n",
    "</div>"
   ]
  }
 ],
 "metadata": {
  "kernelspec": {
   "display_name": "Python 3 (ipykernel)",
   "language": "python",
   "name": "python3"
  },
  "language_info": {
   "codemirror_mode": {
    "name": "ipython",
    "version": 3
   },
   "file_extension": ".py",
   "mimetype": "text/x-python",
   "name": "python",
   "nbconvert_exporter": "python",
   "pygments_lexer": "ipython3",
   "version": "3.9.7"
  }
 },
 "nbformat": 4,
 "nbformat_minor": 4
}
