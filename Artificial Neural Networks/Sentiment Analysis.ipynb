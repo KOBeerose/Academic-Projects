{
 "cells": [
  {
   "cell_type": "markdown",
   "id": "d3477f47",
   "metadata": {
    "execution": {
     "iopub.execute_input": "2022-01-24T17:11:50.522771Z",
     "iopub.status.busy": "2022-01-24T17:11:50.520615Z",
     "iopub.status.idle": "2022-01-24T17:11:50.625279Z"
    },
    "papermill": {
     "duration": 0.21357,
     "end_time": "2022-01-24T22:25:50.317661",
     "exception": false,
     "start_time": "2022-01-24T22:25:50.104091",
     "status": "completed"
    },
    "tags": []
   },
   "source": [
    "<center><h1 style=\"color:#1a1a1a;\n",
    "                    font-size:3em\">\n",
    "        Projet: 🤖 Méthodologies de l’IA \n",
    "        </h1> \n",
    "        <h2 style=\"color:#1a1a1a;\n",
    "                    font-size:2em\">\n",
    "        Utilisation des réseaux multi-couches pour l’analyse des 😞 sentiments 😄.\n",
    "       </h2>\n",
    "</center>"
   ]
  },
  {
   "cell_type": "markdown",
   "id": "2a7de8cb",
   "metadata": {
    "papermill": {
     "duration": 0.212479,
     "end_time": "2022-01-24T22:25:50.740084",
     "exception": false,
     "start_time": "2022-01-24T22:25:50.527605",
     "status": "completed"
    },
    "tags": []
   },
   "source": [
    "<div style=\"font-size:1.3em\">\n",
    "    <span>\n",
    "    Réalisé par :¶\n",
    "    </span>\n",
    "      <ul>\n",
    "         <li>ELGHABI Taha</li>\n",
    "         <li>XXX xxx</li>\n",
    "         <li>XXX xxx</li>\n",
    "      </ul>\n",
    "    <span>\n",
    "    Encadré par :¶\n",
    "    </span>\n",
    "      <ul>\n",
    "         <li>M. XXX xxx</li>\n",
    "      </ul>\n",
    "</div>"
   ]
  },
  {
   "cell_type": "markdown",
   "id": "2e2897da",
   "metadata": {
    "papermill": {
     "duration": 0.116359,
     "end_time": "2022-01-24T22:25:50.974899",
     "exception": false,
     "start_time": "2022-01-24T22:25:50.858540",
     "status": "completed"
    },
    "tags": []
   },
   "source": [
    "<div style=\"font-size:1.5rem\">\n",
    "    <p>📜 Table des matières:</p>\n",
    "    <ul>\n",
    "       <li><a href=\"#Intro-section\">Introduction 📖</a></li>\n",
    "          <ul>\n",
    "             <li><a href=\"#overview\">Aperçu</a></li>\n",
    "             <li><a href=\"#dataset\">Jeu de données</a></li>\n",
    "          </ul>\n",
    "       <li>\n",
    "          <a href=\"#Analysis-section\">Analyses et Transformations 🔎</a>\n",
    "          <ul>\n",
    "             <li><a href=\"#eda\">Exploration de données</a></li>\n",
    "             <li><a href=\"#trans\">Transformation de données</a></li>\n",
    "          </ul>\n",
    "       </li>\n",
    "       <li>\n",
    "          <a href=\"#pre-processing\">Pré-traitement 🧿</a>\n",
    "          <ul>\n",
    "             <li><a href=\"#AR-model\">Autoregression (AR)</a></li>\n",
    "             <li><a href=\"#MA-model\">Moving Average (MA)</a></li>\n",
    "             <li><a href=\"#ARMA-model\">Autoregressive Moving Average (ARMA)</a></li>\n",
    "             <li><a href=\"#ARIMA-model\">Autoregressive integraded moving average (ARIMA)</a></li>\n",
    "             <li><a href=\"#SARIMA-model\">Seasonal autoregressive integrated moving average (SARIMA)</a></li>\n",
    "          </ul>\n",
    "       <li><a href=\"#Conclusion\">Conclusion 📌</a></li>\n",
    "    </ul>\n",
    "</div>"
   ]
  },
  {
   "cell_type": "markdown",
   "id": "d811d2f6",
   "metadata": {
    "papermill": {
     "duration": 0.117683,
     "end_time": "2022-01-24T22:25:51.210562",
     "exception": false,
     "start_time": "2022-01-24T22:25:51.092879",
     "status": "completed"
    },
    "tags": []
   },
   "source": [
    "<center id=\"Intro-section\">\n",
    "        <h2 style=\"color:#1a1a1a;\n",
    "                    font-size:2em\">\n",
    "        Introduction 📖\n",
    "        </h2>\n",
    "</center>"
   ]
  },
  {
   "cell_type": "markdown",
   "id": "b4ce0eb7",
   "metadata": {
    "papermill": {
     "duration": 0.115857,
     "end_time": "2022-01-24T22:25:51.441546",
     "exception": false,
     "start_time": "2022-01-24T22:25:51.325689",
     "status": "completed"
    },
    "tags": []
   },
   "source": [
    "<div id=\"overview\">\n",
    "        <h3 style=\"color:#1a1a1a;\n",
    "                    font-size:2em\">\n",
    "         ⮞  Aperçu\n",
    "        </h3>\n",
    "</div>"
   ]
  },
  {
   "cell_type": "markdown",
   "id": "f87493cb",
   "metadata": {
    "papermill": {
     "duration": 0.115342,
     "end_time": "2022-01-24T22:25:51.672889",
     "exception": false,
     "start_time": "2022-01-24T22:25:51.557547",
     "status": "completed"
    },
    "tags": []
   },
   "source": [
    "<span style=\"color:grey; font-size:1.2em\">Dans le cadre de notre etude Ce projet qui vise a Utilisation des <b>réseaux multi-couches</b> pour l’analyse des <b>sentiments</b> des phrases issues d’une base d’exemples qui contient des phrases étiquetées avec un sentiment positif ou négatif.\n",
    "</span>"
   ]
  },
  {
   "cell_type": "markdown",
   "id": "94a27d0d",
   "metadata": {
    "papermill": {
     "duration": 0.115593,
     "end_time": "2022-01-24T22:25:51.903673",
     "exception": false,
     "start_time": "2022-01-24T22:25:51.788080",
     "status": "completed"
    },
    "tags": []
   },
   "source": [
    "<div id=\"dataset\">\n",
    "        <h3 style=\"color:#1a1a1a;\n",
    "                    font-size:2em\">\n",
    "         ⮞  Jeu de données\n",
    "        </h3>\n",
    "</div>"
   ]
  },
  {
   "cell_type": "markdown",
   "id": "13104547",
   "metadata": {
    "papermill": {
     "duration": 0.11635,
     "end_time": "2022-01-24T22:25:52.135284",
     "exception": false,
     "start_time": "2022-01-24T22:25:52.018934",
     "status": "completed"
    },
    "tags": []
   },
   "source": [
    "\n",
    "<span style=\"color:grey; font-size:1.2em\">La série qu'on va traiter est <b> la température moyenne de Delhi</b>. Notre jeu de données contient des données de météo de<b> 2013 à 2017 échantillonnées</b>  chaque mois ainsi que des caractéristiques météorologiques supplémentaires telles que la pression, l'humidité, etc.</span>Commentaires client\n"
   ]
  },
  {
   "cell_type": "markdown",
   "id": "3d65fbf5",
   "metadata": {
    "execution": {
     "iopub.execute_input": "2022-01-24T17:58:30.813618Z",
     "iopub.status.busy": "2022-01-24T17:58:30.812022Z",
     "iopub.status.idle": "2022-01-24T17:58:30.824348Z"
    },
    "papermill": {
     "duration": 0.116276,
     "end_time": "2022-01-24T22:25:52.365622",
     "exception": false,
     "start_time": "2022-01-24T22:25:52.249346",
     "status": "completed"
    },
    "tags": []
   },
   "source": [
    "<center id=\"Analysis-section\">\n",
    "        <h2 style=\"color:#1a1a1a;\n",
    "                    font-size:2em\">\n",
    "        Analyses et Transformations 🔎\n",
    "        </h2>\n",
    "</center>"
   ]
  },
  {
   "cell_type": "markdown",
   "id": "19488b1a",
   "metadata": {
    "execution": {
     "iopub.execute_input": "2022-01-24T18:29:39.022907Z",
     "iopub.status.busy": "2022-01-24T18:29:39.021213Z",
     "iopub.status.idle": "2022-01-24T18:29:39.034502Z"
    },
    "papermill": {
     "duration": 0.114006,
     "end_time": "2022-01-24T22:25:52.593667",
     "exception": false,
     "start_time": "2022-01-24T22:25:52.479661",
     "status": "completed"
    },
    "tags": []
   },
   "source": [
    "<div id=\"eda\">\n",
    "        <h3 style=\"color:#1a1a1a;\n",
    "                    font-size:2em\">\n",
    "         ⮞  Exploration de données\n",
    "        </h3>\n",
    "</div>"
   ]
  },
  {
   "cell_type": "markdown",
   "id": "eb97cbe9",
   "metadata": {
    "execution": {
     "iopub.execute_input": "2022-01-24T18:49:49.523647Z",
     "iopub.status.busy": "2022-01-24T18:49:49.518861Z",
     "iopub.status.idle": "2022-01-24T18:49:49.594606Z"
    },
    "papermill": {
     "duration": 0.117693,
     "end_time": "2022-01-24T22:25:52.825553",
     "exception": false,
     "start_time": "2022-01-24T22:25:52.707860",
     "status": "completed"
    },
    "tags": []
   },
   "source": [
    "<h4 style=\"color:grey\"> Importation de bibliothèques </h4>"
   ]
  },
  {
   "cell_type": "code",
   "execution_count": 40,
   "id": "6876158a",
   "metadata": {
    "_execution_state": "idle",
    "_uuid": "051d70d956493feee0c6d64651c6a088724dca2a",
    "execution": {
     "iopub.execute_input": "2022-01-24T22:25:53.700769Z",
     "iopub.status.busy": "2022-01-24T22:25:53.698076Z",
     "iopub.status.idle": "2022-01-24T22:25:54.624800Z",
     "shell.execute_reply": "2022-01-24T22:25:54.623797Z"
    },
    "papermill": {
     "duration": 1.04718,
     "end_time": "2022-01-24T22:25:54.624910",
     "exception": false,
     "start_time": "2022-01-24T22:25:53.577730",
     "status": "completed"
    },
    "scrolled": true,
    "tags": []
   },
   "outputs": [],
   "source": [
    "# importer les bibliothèques nécessaires\n",
    "import pandas as pd\n",
    "import matplotlib.pyplot as plt\n",
    "%matplotlib inline\n",
    "\n",
    "from sklearn.feature_extraction.text import CountVectorizer\n",
    "from sklearn.model_selection import train_test_split\n",
    "from sklearn.linear_model import LogisticRegression\n",
    "from sklearn.naive_bayes import MultinomialNB\n",
    "from sklearn.svm import SVC\n",
    "\n",
    "from sklearn.preprocessing import LabelEncoder\n",
    "from sklearn.preprocessing import OneHotEncoder\n",
    "from sklearn.model_selection import RandomizedSearchCV\n",
    "\n",
    "import tensorflow as tf\n",
    "from tensorflow.keras.models import Sequential\n",
    "from tensorflow.keras import layers\n",
    "from tensorflow.keras.preprocessing.text import Tokenizer\n",
    "from tensorflow.keras.preprocessing.sequence import pad_sequences\n",
    "from tensorflow.keras.wrappers.scikit_learn import KerasClassifier"
   ]
  },
  {
   "cell_type": "code",
   "execution_count": 2,
   "id": "daa9c434",
   "metadata": {},
   "outputs": [],
   "source": [
    "#  ignorer les avertissements\n",
    "import warnings\n",
    "\n",
    "warnings.filterwarnings(\"ignore\")"
   ]
  },
  {
   "cell_type": "markdown",
   "id": "12695d7f",
   "metadata": {
    "papermill": {
     "duration": 0.117787,
     "end_time": "2022-01-24T22:25:54.862444",
     "exception": false,
     "start_time": "2022-01-24T22:25:54.744657",
     "status": "completed"
    },
    "tags": []
   },
   "source": [
    "<span style=\"color:grey; font-size:1.2em\">Important nos jeu de données sous les fichier <b>amazon_cells_labelled.txt</b> content les , <b>imdb_labelled.txt</b> et <b>yelp_labelled.txt</b> content  <b>csv</b>.</span>"
   ]
  },
  {
   "cell_type": "code",
   "execution_count": 3,
   "id": "44f420f5",
   "metadata": {
    "execution": {
     "iopub.execute_input": "2022-01-24T22:25:55.100382Z",
     "iopub.status.busy": "2022-01-24T22:25:55.098458Z",
     "iopub.status.idle": "2022-01-24T22:25:55.134914Z",
     "shell.execute_reply": "2022-01-24T22:25:55.133327Z"
    },
    "papermill": {
     "duration": 0.1566,
     "end_time": "2022-01-24T22:25:55.135072",
     "exception": false,
     "start_time": "2022-01-24T22:25:54.978472",
     "status": "completed"
    },
    "tags": []
   },
   "outputs": [],
   "source": [
    "# Dataset d'amazon\n",
    "amazon_data = pd.read_csv(\"Data/amazon_cells_labelled.txt\",delimiter='\\t',header=None, names=[\"text\",\"sentiment\"])\n",
    "\n",
    "# Dataset d'imdb\n",
    "imdb_data = pd.read_csv(\"Data/imdb_labelled.txt\",delimiter='\\t',header=None, names=[\"text\",\"sentiment\"])\n",
    "\n",
    "# Dataset de yeld\n",
    "yelp_data = pd.read_csv(\"Data/yelp_labelled.txt\",delimiter='\\t',header=None, names=[\"text\",\"sentiment\"])\n",
    "\n",
    "Datasets = {\"amazon\":amazon_data,\"imdb\":imdb_data,\"yelp\":yelp_data}"
   ]
  },
  {
   "cell_type": "markdown",
   "id": "f59a8d55",
   "metadata": {
    "papermill": {
     "duration": 0.121498,
     "end_time": "2022-01-24T22:25:55.387049",
     "exception": false,
     "start_time": "2022-01-24T22:25:55.265551",
     "status": "completed"
    },
    "tags": []
   },
   "source": [
    "<h4 style=\"color:grey\"> Explorant notre jeu de données </h4>"
   ]
  },
  {
   "cell_type": "code",
   "execution_count": 4,
   "id": "5217df97",
   "metadata": {
    "execution": {
     "iopub.execute_input": "2022-01-24T22:25:55.638744Z",
     "iopub.status.busy": "2022-01-24T22:25:55.636403Z",
     "iopub.status.idle": "2022-01-24T22:25:55.674496Z",
     "shell.execute_reply": "2022-01-24T22:25:55.672428Z"
    },
    "papermill": {
     "duration": 0.163141,
     "end_time": "2022-01-24T22:25:55.674611",
     "exception": false,
     "start_time": "2022-01-24T22:25:55.511470",
     "status": "completed"
    },
    "scrolled": false,
    "tags": []
   },
   "outputs": [
    {
     "data": {
      "text/html": [
       "<div>\n",
       "<style scoped>\n",
       "    .dataframe tbody tr th:only-of-type {\n",
       "        vertical-align: middle;\n",
       "    }\n",
       "\n",
       "    .dataframe tbody tr th {\n",
       "        vertical-align: top;\n",
       "    }\n",
       "\n",
       "    .dataframe thead th {\n",
       "        text-align: right;\n",
       "    }\n",
       "</style>\n",
       "<table border=\"1\" class=\"dataframe\">\n",
       "  <thead>\n",
       "    <tr style=\"text-align: right;\">\n",
       "      <th></th>\n",
       "      <th>text</th>\n",
       "      <th>sentiment</th>\n",
       "    </tr>\n",
       "  </thead>\n",
       "  <tbody>\n",
       "    <tr>\n",
       "      <th>0</th>\n",
       "      <td>So there is no way for me to plug it in here i...</td>\n",
       "      <td>0</td>\n",
       "    </tr>\n",
       "    <tr>\n",
       "      <th>1</th>\n",
       "      <td>Good case, Excellent value.</td>\n",
       "      <td>1</td>\n",
       "    </tr>\n",
       "    <tr>\n",
       "      <th>2</th>\n",
       "      <td>Great for the jawbone.</td>\n",
       "      <td>1</td>\n",
       "    </tr>\n",
       "    <tr>\n",
       "      <th>3</th>\n",
       "      <td>Tied to charger for conversations lasting more...</td>\n",
       "      <td>0</td>\n",
       "    </tr>\n",
       "    <tr>\n",
       "      <th>4</th>\n",
       "      <td>The mic is great.</td>\n",
       "      <td>1</td>\n",
       "    </tr>\n",
       "  </tbody>\n",
       "</table>\n",
       "</div>"
      ],
      "text/plain": [
       "                                                text  sentiment\n",
       "0  So there is no way for me to plug it in here i...          0\n",
       "1                        Good case, Excellent value.          1\n",
       "2                             Great for the jawbone.          1\n",
       "3  Tied to charger for conversations lasting more...          0\n",
       "4                                  The mic is great.          1"
      ]
     },
     "execution_count": 4,
     "metadata": {},
     "output_type": "execute_result"
    }
   ],
   "source": [
    "amazon_data.head()"
   ]
  },
  {
   "cell_type": "code",
   "execution_count": 5,
   "id": "21acba2c",
   "metadata": {},
   "outputs": [
    {
     "data": {
      "text/html": [
       "<div>\n",
       "<style scoped>\n",
       "    .dataframe tbody tr th:only-of-type {\n",
       "        vertical-align: middle;\n",
       "    }\n",
       "\n",
       "    .dataframe tbody tr th {\n",
       "        vertical-align: top;\n",
       "    }\n",
       "\n",
       "    .dataframe thead th {\n",
       "        text-align: right;\n",
       "    }\n",
       "</style>\n",
       "<table border=\"1\" class=\"dataframe\">\n",
       "  <thead>\n",
       "    <tr style=\"text-align: right;\">\n",
       "      <th></th>\n",
       "      <th>text</th>\n",
       "      <th>sentiment</th>\n",
       "    </tr>\n",
       "  </thead>\n",
       "  <tbody>\n",
       "    <tr>\n",
       "      <th>0</th>\n",
       "      <td>A very, very, very slow-moving, aimless movie ...</td>\n",
       "      <td>0</td>\n",
       "    </tr>\n",
       "    <tr>\n",
       "      <th>1</th>\n",
       "      <td>Not sure who was more lost - the flat characte...</td>\n",
       "      <td>0</td>\n",
       "    </tr>\n",
       "    <tr>\n",
       "      <th>2</th>\n",
       "      <td>Attempting artiness with black &amp; white and cle...</td>\n",
       "      <td>0</td>\n",
       "    </tr>\n",
       "    <tr>\n",
       "      <th>3</th>\n",
       "      <td>Very little music or anything to speak of.</td>\n",
       "      <td>0</td>\n",
       "    </tr>\n",
       "    <tr>\n",
       "      <th>4</th>\n",
       "      <td>The best scene in the movie was when Gerardo i...</td>\n",
       "      <td>1</td>\n",
       "    </tr>\n",
       "  </tbody>\n",
       "</table>\n",
       "</div>"
      ],
      "text/plain": [
       "                                                text  sentiment\n",
       "0  A very, very, very slow-moving, aimless movie ...          0\n",
       "1  Not sure who was more lost - the flat characte...          0\n",
       "2  Attempting artiness with black & white and cle...          0\n",
       "3       Very little music or anything to speak of.            0\n",
       "4  The best scene in the movie was when Gerardo i...          1"
      ]
     },
     "execution_count": 5,
     "metadata": {},
     "output_type": "execute_result"
    }
   ],
   "source": [
    "imdb_data.head()"
   ]
  },
  {
   "cell_type": "code",
   "execution_count": 6,
   "id": "83803d05",
   "metadata": {},
   "outputs": [
    {
     "data": {
      "text/html": [
       "<div>\n",
       "<style scoped>\n",
       "    .dataframe tbody tr th:only-of-type {\n",
       "        vertical-align: middle;\n",
       "    }\n",
       "\n",
       "    .dataframe tbody tr th {\n",
       "        vertical-align: top;\n",
       "    }\n",
       "\n",
       "    .dataframe thead th {\n",
       "        text-align: right;\n",
       "    }\n",
       "</style>\n",
       "<table border=\"1\" class=\"dataframe\">\n",
       "  <thead>\n",
       "    <tr style=\"text-align: right;\">\n",
       "      <th></th>\n",
       "      <th>text</th>\n",
       "      <th>sentiment</th>\n",
       "    </tr>\n",
       "  </thead>\n",
       "  <tbody>\n",
       "    <tr>\n",
       "      <th>0</th>\n",
       "      <td>Wow... Loved this place.</td>\n",
       "      <td>1</td>\n",
       "    </tr>\n",
       "    <tr>\n",
       "      <th>1</th>\n",
       "      <td>Crust is not good.</td>\n",
       "      <td>0</td>\n",
       "    </tr>\n",
       "    <tr>\n",
       "      <th>2</th>\n",
       "      <td>Not tasty and the texture was just nasty.</td>\n",
       "      <td>0</td>\n",
       "    </tr>\n",
       "    <tr>\n",
       "      <th>3</th>\n",
       "      <td>Stopped by during the late May bank holiday of...</td>\n",
       "      <td>1</td>\n",
       "    </tr>\n",
       "    <tr>\n",
       "      <th>4</th>\n",
       "      <td>The selection on the menu was great and so wer...</td>\n",
       "      <td>1</td>\n",
       "    </tr>\n",
       "  </tbody>\n",
       "</table>\n",
       "</div>"
      ],
      "text/plain": [
       "                                                text  sentiment\n",
       "0                           Wow... Loved this place.          1\n",
       "1                                 Crust is not good.          0\n",
       "2          Not tasty and the texture was just nasty.          0\n",
       "3  Stopped by during the late May bank holiday of...          1\n",
       "4  The selection on the menu was great and so wer...          1"
      ]
     },
     "execution_count": 6,
     "metadata": {},
     "output_type": "execute_result"
    }
   ],
   "source": [
    "yelp_data.head()"
   ]
  },
  {
   "cell_type": "code",
   "execution_count": 7,
   "id": "58ca6fec",
   "metadata": {},
   "outputs": [
    {
     "name": "stdout",
     "output_type": "stream",
     "text": [
      "la taille du dataset amazon est: 1000\n",
      "la taille du dataset imdb est: 748\n",
      "la taille du dataset yelp est: 1000\n"
     ]
    }
   ],
   "source": [
    "for dataset in Datasets:\n",
    "    print(\"la taille du dataset \"+str(dataset)+\" est: \"+str(Datasets[dataset].shape[0]))\n"
   ]
  },
  {
   "cell_type": "markdown",
   "id": "9e60361c",
   "metadata": {
    "papermill": {
     "duration": 0.123174,
     "end_time": "2022-01-24T22:25:56.238575",
     "exception": false,
     "start_time": "2022-01-24T22:25:56.115401",
     "status": "completed"
    },
    "tags": []
   },
   "source": [
    "<span style=\"color:grey; font-size:1.2em\">Un aperçu des données en utilisant les fonctions <b>info()</b> et <b>describe()</b> du pandas pour examiner les données. </span>"
   ]
  },
  {
   "cell_type": "code",
   "execution_count": 8,
   "id": "b1b0aabd",
   "metadata": {
    "execution": {
     "iopub.execute_input": "2022-01-24T22:25:56.490618Z",
     "iopub.status.busy": "2022-01-24T22:25:56.488287Z",
     "iopub.status.idle": "2022-01-24T22:25:56.515704Z",
     "shell.execute_reply": "2022-01-24T22:25:56.513269Z"
    },
    "papermill": {
     "duration": 0.154556,
     "end_time": "2022-01-24T22:25:56.515821",
     "exception": false,
     "start_time": "2022-01-24T22:25:56.361265",
     "status": "completed"
    },
    "tags": []
   },
   "outputs": [
    {
     "name": "stdout",
     "output_type": "stream",
     "text": [
      "\n",
      " Les info sur le dataset amazon: \n",
      "\n",
      "<class 'pandas.core.frame.DataFrame'>\n",
      "RangeIndex: 1000 entries, 0 to 999\n",
      "Data columns (total 2 columns):\n",
      " #   Column     Non-Null Count  Dtype \n",
      "---  ------     --------------  ----- \n",
      " 0   text       1000 non-null   object\n",
      " 1   sentiment  1000 non-null   int64 \n",
      "dtypes: int64(1), object(1)\n",
      "memory usage: 15.8+ KB\n",
      "None\n",
      "\n",
      " Les info sur le dataset imdb: \n",
      "\n",
      "<class 'pandas.core.frame.DataFrame'>\n",
      "RangeIndex: 748 entries, 0 to 747\n",
      "Data columns (total 2 columns):\n",
      " #   Column     Non-Null Count  Dtype \n",
      "---  ------     --------------  ----- \n",
      " 0   text       748 non-null    object\n",
      " 1   sentiment  748 non-null    int64 \n",
      "dtypes: int64(1), object(1)\n",
      "memory usage: 11.8+ KB\n",
      "None\n",
      "\n",
      " Les info sur le dataset yelp: \n",
      "\n",
      "<class 'pandas.core.frame.DataFrame'>\n",
      "RangeIndex: 1000 entries, 0 to 999\n",
      "Data columns (total 2 columns):\n",
      " #   Column     Non-Null Count  Dtype \n",
      "---  ------     --------------  ----- \n",
      " 0   text       1000 non-null   object\n",
      " 1   sentiment  1000 non-null   int64 \n",
      "dtypes: int64(1), object(1)\n",
      "memory usage: 15.8+ KB\n",
      "None\n"
     ]
    }
   ],
   "source": [
    "for dataset in Datasets.keys():\n",
    "    print(\"\\n Les info sur le dataset \"+str(dataset)+\": \\n\")\n",
    "    print(Datasets[dataset].info())"
   ]
  },
  {
   "cell_type": "code",
   "execution_count": 9,
   "id": "4c8cced6",
   "metadata": {
    "execution": {
     "iopub.execute_input": "2022-01-24T22:25:56.769232Z",
     "iopub.status.busy": "2022-01-24T22:25:56.767182Z",
     "iopub.status.idle": "2022-01-24T22:25:56.818591Z",
     "shell.execute_reply": "2022-01-24T22:25:56.816335Z"
    },
    "papermill": {
     "duration": 0.179037,
     "end_time": "2022-01-24T22:25:56.818746",
     "exception": false,
     "start_time": "2022-01-24T22:25:56.639709",
     "status": "completed"
    },
    "scrolled": false,
    "tags": []
   },
   "outputs": [
    {
     "name": "stdout",
     "output_type": "stream",
     "text": [
      "\n",
      " Une description sur du dataset amazon: \n",
      "\n",
      "        sentiment\n",
      "count  1000.00000\n",
      "mean      0.50000\n",
      "std       0.50025\n",
      "min       0.00000\n",
      "25%       0.00000\n",
      "50%       0.50000\n",
      "75%       1.00000\n",
      "max       1.00000\n",
      "\n",
      " Une description sur du dataset imdb: \n",
      "\n",
      "        sentiment\n",
      "count  748.000000\n",
      "mean     0.516043\n",
      "std      0.500077\n",
      "min      0.000000\n",
      "25%      0.000000\n",
      "50%      1.000000\n",
      "75%      1.000000\n",
      "max      1.000000\n",
      "\n",
      " Une description sur du dataset yelp: \n",
      "\n",
      "        sentiment\n",
      "count  1000.00000\n",
      "mean      0.50000\n",
      "std       0.50025\n",
      "min       0.00000\n",
      "25%       0.00000\n",
      "50%       0.50000\n",
      "75%       1.00000\n",
      "max       1.00000\n"
     ]
    }
   ],
   "source": [
    "for dataset in Datasets.keys():\n",
    "    print(\"\\n Une description sur du dataset \"+str(dataset)+\": \\n\")\n",
    "    print(Datasets[dataset].describe())"
   ]
  },
  {
   "cell_type": "code",
   "execution_count": 10,
   "id": "8c1a7ec0",
   "metadata": {
    "scrolled": true
   },
   "outputs": [
    {
     "name": "stdout",
     "output_type": "stream",
     "text": [
      "\n",
      " Les valeurs null du dataset amazon est: \n",
      "text         0\n",
      "sentiment    0\n",
      "dtype: int64\n",
      "\n",
      " Les valeurs null du dataset imdb est: \n",
      "text         0\n",
      "sentiment    0\n",
      "dtype: int64\n",
      "\n",
      " Les valeurs null du dataset yelp est: \n",
      "text         0\n",
      "sentiment    0\n",
      "dtype: int64\n"
     ]
    }
   ],
   "source": [
    "for dataset in Datasets.keys():\n",
    "    print(\"\\n Les valeurs null du dataset \"+str(dataset)+\" est: \")\n",
    "    print(Datasets[dataset].isna().sum())"
   ]
  },
  {
   "cell_type": "markdown",
   "id": "8f7c9130",
   "metadata": {
    "execution": {
     "iopub.execute_input": "2022-01-24T19:00:32.005718Z",
     "iopub.status.busy": "2022-01-24T19:00:32.001761Z",
     "iopub.status.idle": "2022-01-24T19:00:32.031031Z"
    },
    "papermill": {
     "duration": 0.243516,
     "end_time": "2022-01-24T22:25:57.305519",
     "exception": false,
     "start_time": "2022-01-24T22:25:57.062003",
     "status": "completed"
    },
    "tags": []
   },
   "source": [
    "<span style=\"color:grey; font-size:1.2em\">Les données n'ont pas de <b>valeurs manquantes</b>, nous n'effectuerons donc pas un <b>nettoyage des données.</b> </span>"
   ]
  },
  {
   "cell_type": "markdown",
   "id": "60d163d6",
   "metadata": {},
   "source": [
    "<div id=\"trans\">\n",
    "        <h3 style=\"color:#1a1a1a;\n",
    "                    font-size:2em\">\n",
    "         ⮞  Transformation de données\n",
    "        </h3>\n",
    "</div>"
   ]
  },
  {
   "cell_type": "markdown",
   "id": "1c34f732",
   "metadata": {},
   "source": [
    "<span style=\"color:grey; font-size:1.2em\">On va créer un objet de type <b>pandas DataFrame</b> qui contient les données des trois Datasets.</span>"
   ]
  },
  {
   "cell_type": "code",
   "execution_count": 11,
   "id": "b06b05fa",
   "metadata": {},
   "outputs": [],
   "source": [
    "amazon_data['source']='amazon'\n",
    "imdb_data['source']='imdb'\n",
    "yelp_data['source']='yelp'\n",
    "\n",
    "data  = pd.concat(list(Datasets.values()))"
   ]
  },
  {
   "cell_type": "code",
   "execution_count": 12,
   "id": "2f396f74",
   "metadata": {},
   "outputs": [
    {
     "data": {
      "text/html": [
       "<div>\n",
       "<style scoped>\n",
       "    .dataframe tbody tr th:only-of-type {\n",
       "        vertical-align: middle;\n",
       "    }\n",
       "\n",
       "    .dataframe tbody tr th {\n",
       "        vertical-align: top;\n",
       "    }\n",
       "\n",
       "    .dataframe thead th {\n",
       "        text-align: right;\n",
       "    }\n",
       "</style>\n",
       "<table border=\"1\" class=\"dataframe\">\n",
       "  <thead>\n",
       "    <tr style=\"text-align: right;\">\n",
       "      <th></th>\n",
       "      <th>text</th>\n",
       "      <th>sentiment</th>\n",
       "      <th>source</th>\n",
       "    </tr>\n",
       "  </thead>\n",
       "  <tbody>\n",
       "    <tr>\n",
       "      <th>0</th>\n",
       "      <td>So there is no way for me to plug it in here i...</td>\n",
       "      <td>0</td>\n",
       "      <td>amazon</td>\n",
       "    </tr>\n",
       "    <tr>\n",
       "      <th>1</th>\n",
       "      <td>Good case, Excellent value.</td>\n",
       "      <td>1</td>\n",
       "      <td>amazon</td>\n",
       "    </tr>\n",
       "    <tr>\n",
       "      <th>2</th>\n",
       "      <td>Great for the jawbone.</td>\n",
       "      <td>1</td>\n",
       "      <td>amazon</td>\n",
       "    </tr>\n",
       "    <tr>\n",
       "      <th>3</th>\n",
       "      <td>Tied to charger for conversations lasting more...</td>\n",
       "      <td>0</td>\n",
       "      <td>amazon</td>\n",
       "    </tr>\n",
       "    <tr>\n",
       "      <th>4</th>\n",
       "      <td>The mic is great.</td>\n",
       "      <td>1</td>\n",
       "      <td>amazon</td>\n",
       "    </tr>\n",
       "  </tbody>\n",
       "</table>\n",
       "</div>"
      ],
      "text/plain": [
       "                                                text  sentiment  source\n",
       "0  So there is no way for me to plug it in here i...          0  amazon\n",
       "1                        Good case, Excellent value.          1  amazon\n",
       "2                             Great for the jawbone.          1  amazon\n",
       "3  Tied to charger for conversations lasting more...          0  amazon\n",
       "4                                  The mic is great.          1  amazon"
      ]
     },
     "execution_count": 12,
     "metadata": {},
     "output_type": "execute_result"
    }
   ],
   "source": [
    "data.head()"
   ]
  },
  {
   "cell_type": "markdown",
   "id": "b6cb4116",
   "metadata": {},
   "source": [
    "<span style=\"color:grey; font-size:1.2em\">Analyons donc le nouveau jeu de données.</span>"
   ]
  },
  {
   "cell_type": "code",
   "execution_count": 13,
   "id": "daf7a8cf",
   "metadata": {},
   "outputs": [
    {
     "name": "stdout",
     "output_type": "stream",
     "text": [
      "la taille du nouveau dataset est: 2748\n"
     ]
    }
   ],
   "source": [
    "print(\"la taille du nouveau dataset est: \"+str(data.shape[0]))"
   ]
  },
  {
   "cell_type": "code",
   "execution_count": 14,
   "id": "426d5f29",
   "metadata": {},
   "outputs": [
    {
     "name": "stdout",
     "output_type": "stream",
     "text": [
      "Une description sur du nouveau dataset:\n"
     ]
    },
    {
     "data": {
      "text/html": [
       "<div>\n",
       "<style scoped>\n",
       "    .dataframe tbody tr th:only-of-type {\n",
       "        vertical-align: middle;\n",
       "    }\n",
       "\n",
       "    .dataframe tbody tr th {\n",
       "        vertical-align: top;\n",
       "    }\n",
       "\n",
       "    .dataframe thead th {\n",
       "        text-align: right;\n",
       "    }\n",
       "</style>\n",
       "<table border=\"1\" class=\"dataframe\">\n",
       "  <thead>\n",
       "    <tr style=\"text-align: right;\">\n",
       "      <th></th>\n",
       "      <th>sentiment</th>\n",
       "    </tr>\n",
       "  </thead>\n",
       "  <tbody>\n",
       "    <tr>\n",
       "      <th>count</th>\n",
       "      <td>2748.000000</td>\n",
       "    </tr>\n",
       "    <tr>\n",
       "      <th>mean</th>\n",
       "      <td>0.504367</td>\n",
       "    </tr>\n",
       "    <tr>\n",
       "      <th>std</th>\n",
       "      <td>0.500072</td>\n",
       "    </tr>\n",
       "    <tr>\n",
       "      <th>min</th>\n",
       "      <td>0.000000</td>\n",
       "    </tr>\n",
       "    <tr>\n",
       "      <th>25%</th>\n",
       "      <td>0.000000</td>\n",
       "    </tr>\n",
       "    <tr>\n",
       "      <th>50%</th>\n",
       "      <td>1.000000</td>\n",
       "    </tr>\n",
       "    <tr>\n",
       "      <th>75%</th>\n",
       "      <td>1.000000</td>\n",
       "    </tr>\n",
       "    <tr>\n",
       "      <th>max</th>\n",
       "      <td>1.000000</td>\n",
       "    </tr>\n",
       "  </tbody>\n",
       "</table>\n",
       "</div>"
      ],
      "text/plain": [
       "         sentiment\n",
       "count  2748.000000\n",
       "mean      0.504367\n",
       "std       0.500072\n",
       "min       0.000000\n",
       "25%       0.000000\n",
       "50%       1.000000\n",
       "75%       1.000000\n",
       "max       1.000000"
      ]
     },
     "execution_count": 14,
     "metadata": {},
     "output_type": "execute_result"
    }
   ],
   "source": [
    "print(\"Une description sur du nouveau dataset:\")\n",
    "data.describe()"
   ]
  },
  {
   "cell_type": "code",
   "execution_count": 15,
   "id": "7b7e80ed",
   "metadata": {},
   "outputs": [
    {
     "name": "stdout",
     "output_type": "stream",
     "text": [
      "le pourcentage de chaque source:\n"
     ]
    },
    {
     "data": {
      "text/plain": [
       "<AxesSubplot:ylabel='source'>"
      ]
     },
     "execution_count": 15,
     "metadata": {},
     "output_type": "execute_result"
    },
    {
     "data": {
      "image/png": "[encoded data removed]",
      "text/plain": [
       "<Figure size 360x360 with 1 Axes>"
      ]
     },
     "metadata": {},
     "output_type": "display_data"
    }
   ],
   "source": [
    "print(\"le pourcentage de chaque source:\")\n",
    "data['source'].value_counts().plot(kind='pie', \n",
    "                                   autopct='%1.0f%%',\n",
    "                                   shadow=True, \n",
    "                                   startangle=90, \n",
    "                                   pctdistance=0.85,\n",
    "                                   explode = (0.1,0.1,0.1),\n",
    "                                   colors = ['#f19100','#f21919','#e2b616'],\n",
    "                                   figsize=(5, 5))"
   ]
  },
  {
   "cell_type": "code",
   "execution_count": 16,
   "id": "c08ccfa4",
   "metadata": {},
   "outputs": [
    {
     "name": "stdout",
     "output_type": "stream",
     "text": [
      "le pourcentage des types de sentiments:\n"
     ]
    },
    {
     "data": {
      "text/plain": [
       "<AxesSubplot:ylabel='sentiment'>"
      ]
     },
     "execution_count": 16,
     "metadata": {},
     "output_type": "execute_result"
    },
    {
     "data": {
      "image/png": "[encoded data removed]",
      "text/plain": [
       "<Figure size 360x360 with 1 Axes>"
      ]
     },
     "metadata": {},
     "output_type": "display_data"
    }
   ],
   "source": [
    "print(\"le pourcentage des types de sentiments:\")\n",
    "data.sentiment.value_counts().plot(kind='pie', \n",
    "                                   autopct='%1.0f%%',\n",
    "                                   shadow=True, \n",
    "                                   startangle=180, \n",
    "                                   pctdistance=0.85,\n",
    "                                   explode = (0.05,0.05),\n",
    "                                   colors = ['#5cb696','#e4565c'],\n",
    "                                   figsize=(5, 5))"
   ]
  },
  {
   "cell_type": "markdown",
   "id": "02722177",
   "metadata": {},
   "source": [
    "<span style=\"color:grey; font-size:1.2em\">Cet ensemble de données a <b>50/50</b> sentiments positifs et négatifs représentés par <b>1 et 0 </b>respectivement.</span>"
   ]
  },
  {
   "cell_type": "markdown",
   "id": "6e8cc8ea",
   "metadata": {
    "papermill": {
     "duration": 0.235557,
     "end_time": "2022-01-24T22:26:08.812424",
     "exception": false,
     "start_time": "2022-01-24T22:26:08.576867",
     "status": "completed"
    },
    "tags": []
   },
   "source": [
    "<center id=\"pre-processing\">\n",
    "        <h2 style=\"color:#1a1a1a;\n",
    "                    font-size:2em\">\n",
    "        Pré-traitement 🧿\n",
    "        </h2>\n",
    "</center>"
   ]
  },
  {
   "cell_type": "markdown",
   "id": "885c4869",
   "metadata": {},
   "source": [
    "<span style=\"color:grey; font-size:1.2em\">D'aboard on doit créer un vocabulaire de tous les mots uniques dans les phrases. Pour cela on va utiliser `CountVectorizer` fourni par la bibliothèque `scikit-learn` pour vectoriser les phrases. Ce vocabulaire peut ensuite être utilisé pour créer un vecteur de caractéristiques du nombre de mots.<br> pour mieux comprendre prenant un example issue de notre jeu de données:</span>"
   ]
  },
  {
   "cell_type": "code",
   "execution_count": 17,
   "id": "a209a1c0",
   "metadata": {},
   "outputs": [
    {
     "name": "stdout",
     "output_type": "stream",
     "text": [
      "So there is no way for me to plug it in here in the US unless I go by a converter.\n",
      "Good case, Excellent value.\n",
      "Great for the jawbone.\n"
     ]
    }
   ],
   "source": [
    "sample_text = data['text'][:3]\n",
    "for text in sample_text: print(text)"
   ]
  },
  {
   "cell_type": "code",
   "execution_count": 18,
   "id": "4f0d7c8d",
   "metadata": {},
   "outputs": [
    {
     "data": {
      "text/plain": [
       "{'So': 3,\n",
       " 'there': 19,\n",
       " 'is': 12,\n",
       " 'no': 16,\n",
       " 'way': 23,\n",
       " 'for': 8,\n",
       " 'me': 15,\n",
       " 'to': 20,\n",
       " 'plug': 17,\n",
       " 'it': 13,\n",
       " 'in': 11,\n",
       " 'here': 10,\n",
       " 'the': 18,\n",
       " 'US': 4,\n",
       " 'unless': 21,\n",
       " 'go': 9,\n",
       " 'by': 5,\n",
       " 'converter': 7,\n",
       " 'Good': 1,\n",
       " 'case': 6,\n",
       " 'Excellent': 0,\n",
       " 'value': 22,\n",
       " 'Great': 2,\n",
       " 'jawbone': 14}"
      ]
     },
     "execution_count": 18,
     "metadata": {},
     "output_type": "execute_result"
    }
   ],
   "source": [
    "vectorizer = CountVectorizer(min_df=0, lowercase=False)\n",
    "vectorizer.fit(sample_text)\n",
    "vectorizer.vocabulary_"
   ]
  },
  {
   "cell_type": "code",
   "execution_count": 19,
   "id": "af318ec4",
   "metadata": {},
   "outputs": [
    {
     "data": {
      "text/plain": [
       "array([[0, 0, 0, 1, 1, 1, 0, 1, 1, 1, 1, 2, 1, 1, 0, 1, 1, 1, 1, 1, 1, 1,\n",
       "        0, 1],\n",
       "       [1, 1, 0, 0, 0, 0, 1, 0, 0, 0, 0, 0, 0, 0, 0, 0, 0, 0, 0, 0, 0, 0,\n",
       "        1, 0],\n",
       "       [0, 0, 1, 0, 0, 0, 0, 0, 1, 0, 0, 0, 0, 0, 1, 0, 0, 0, 1, 0, 0, 0,\n",
       "        0, 0]], dtype=int64)"
      ]
     },
     "execution_count": 19,
     "metadata": {},
     "output_type": "execute_result"
    }
   ],
   "source": [
    "vectorizer.transform(sample_text).toarray()"
   ]
  },
  {
   "cell_type": "markdown",
   "id": "bba36df5",
   "metadata": {},
   "source": [
    "\n",
    "\n",
    "<span style=\"color:grey; font-size:1.2em\">Nous commençons par diviser notre jeu de données <b>80%</b> pour l'entrainment et <b>20%</b> pour le test.</span>\n"
   ]
  },
  {
   "cell_type": "code",
   "execution_count": 20,
   "id": "006e2795",
   "metadata": {},
   "outputs": [],
   "source": [
    "sentences = data['text'].values\n",
    "y = data['sentiment'].values\n",
    "\n",
    "# diviser les données\n",
    "sentences_train, sentences_test, y_train, y_test = train_test_split(sentences, y, test_size=0.2, random_state=1000)"
   ]
  },
  {
   "cell_type": "markdown",
   "id": "5f3e8053",
   "metadata": {},
   "source": [
    "Créez les vecteurs de caractéristiques pour chaque phrase de l'ensemble d'entraînement et de test :"
   ]
  },
  {
   "cell_type": "code",
   "execution_count": 21,
   "id": "daa2defd",
   "metadata": {},
   "outputs": [],
   "source": [
    "vectorizer = CountVectorizer(stop_words='english')\n",
    "vectorizer.fit(sentences_train)\n",
    "\n",
    "X_train = vectorizer.transform(sentences_train)\n",
    "X_test  = vectorizer.transform(sentences_test)"
   ]
  },
  {
   "cell_type": "code",
   "execution_count": 22,
   "id": "ccba9d70",
   "metadata": {},
   "outputs": [
    {
     "data": {
      "text/plain": [
       "<2198x4325 sparse matrix of type '<class 'numpy.int64'>'\n",
       "\twith 12941 stored elements in Compressed Sparse Row format>"
      ]
     },
     "execution_count": 22,
     "metadata": {},
     "output_type": "execute_result"
    }
   ],
   "source": [
    "X_train"
   ]
  },
  {
   "cell_type": "code",
   "execution_count": 23,
   "id": "8d09fc67",
   "metadata": {},
   "outputs": [
    {
     "name": "stdout",
     "output_type": "stream",
     "text": [
      "Accuracy: 0.7854545454545454\n"
     ]
    }
   ],
   "source": [
    "classifier = LogisticRegression()\n",
    "classifier.fit(X_train, y_train)\n",
    "score = classifier.score(X_test, y_test)\n",
    "\n",
    "print(\"Accuracy:\", score)"
   ]
  },
  {
   "cell_type": "markdown",
   "id": "f1fba90a",
   "metadata": {},
   "source": [
    "Vous pouvez voir que la régression logistique a atteint un impressionnant 79,6 %, mais regardons comment ce modèle fonctionne sur les autres ensembles de données dont nous disposons. Dans ce script, nous effectuons et évaluons l'ensemble du processus pour chaque ensemble de données dont nous disposons :"
   ]
  },
  {
   "cell_type": "markdown",
   "id": "592dca95",
   "metadata": {},
   "source": [
    "ARN"
   ]
  },
  {
   "cell_type": "code",
   "execution_count": 93,
   "id": "1a92c100",
   "metadata": {
    "execution": {
     "iopub.execute_input": "2022-01-24T22:26:09.365140Z",
     "iopub.status.busy": "2022-01-24T22:26:09.364277Z",
     "iopub.status.idle": "2022-01-24T22:26:09.377364Z",
     "shell.execute_reply": "2022-01-24T22:26:09.376383Z"
    },
    "papermill": {
     "duration": 0.293917,
     "end_time": "2022-01-24T22:26:09.377477",
     "exception": false,
     "start_time": "2022-01-24T22:26:09.083560",
     "status": "completed"
    },
    "tags": []
   },
   "outputs": [],
   "source": [
    "def prediction(model_name):\n",
    "    for dataframe in Datasets.values():\n",
    "        sentences = dataframe['text'].values\n",
    "        y = dataframe['sentiment'].values\n",
    "\n",
    "        sentences_train, sentences_test, y_train, y_test = train_test_split(\n",
    "            sentences, y, test_size=0.25, random_state=1000)\n",
    "\n",
    "        vectorizer = CountVectorizer()\n",
    "        vectorizer.fit(sentences_train)\n",
    "        X_train = vectorizer.transform(sentences_train)\n",
    "        X_test  = vectorizer.transform(sentences_test)\n",
    "\n",
    "        model = models[model_name]\n",
    "        model.fit(X_train, y_train)\n",
    "        score = model.score(X_test, y_test)\n",
    "        print('Accuracy for {} data with {} model is: {:.4f} %'.format(dataframe['source'][0],model_name, (score*100)))\n",
    "    print('\\n'+('-'*70)+'\\n')"
   ]
  },
  {
   "cell_type": "code",
   "execution_count": 94,
   "id": "bf3790af",
   "metadata": {},
   "outputs": [
    {
     "name": "stdout",
     "output_type": "stream",
     "text": [
      "Accuracy for amazon data with Logistic Regression model is: 79.6000 %\n",
      "Accuracy for imdb data with Logistic Regression model is: 74.8663 %\n",
      "Accuracy for yelp data with Logistic Regression model is: 79.6000 %\n",
      "\n",
      "----------------------------------------------------------------------\n",
      "\n",
      "Accuracy for amazon data with Naive Bayes Model model is: 80.0000 %\n",
      "Accuracy for imdb data with Naive Bayes Model model is: 73.7968 %\n",
      "Accuracy for yelp data with Naive Bayes Model model is: 76.4000 %\n",
      "\n",
      "----------------------------------------------------------------------\n",
      "\n",
      "Accuracy for amazon data with Support Vector Machine model is: 77.6000 %\n",
      "Accuracy for imdb data with Support Vector Machine model is: 65.2406 %\n",
      "Accuracy for yelp data with Support Vector Machine model is: 73.2000 %\n",
      "\n",
      "----------------------------------------------------------------------\n",
      "\n"
     ]
    }
   ],
   "source": [
    "models = {\"Logistic Regression\": LogisticRegression(),\n",
    "          \"Naive Bayes Model\": MultinomialNB(),\n",
    "          \"Support Vector Machine\": SVC()}\n",
    "\n",
    "for model in models: prediction(model)"
   ]
  },
  {
   "cell_type": "code",
   "execution_count": 25,
   "id": "915b3c69",
   "metadata": {
    "papermill": {
     "duration": 0.158849,
     "end_time": "2022-01-24T22:26:09.696155",
     "exception": false,
     "start_time": "2022-01-24T22:26:09.537306",
     "status": "completed"
    },
    "tags": []
   },
   "outputs": [],
   "source": [
    "input_dim = X_train.shape[1]  # Number of features\n",
    "\n",
    "model = Sequential()\n",
    "model.add(layers.Dense(10, input_dim=input_dim, activation='relu'))\n",
    "model.add(layers.Dense(1, activation='sigmoid'))"
   ]
  },
  {
   "cell_type": "code",
   "execution_count": 26,
   "id": "e52e8470",
   "metadata": {},
   "outputs": [
    {
     "name": "stdout",
     "output_type": "stream",
     "text": [
      "Model: \"sequential\"\n",
      "_________________________________________________________________\n",
      " Layer (type)                Output Shape              Param #   \n",
      "=================================================================\n",
      " dense (Dense)               (None, 10)                17150     \n",
      "                                                                 \n",
      " dense_1 (Dense)             (None, 1)                 11        \n",
      "                                                                 \n",
      "=================================================================\n",
      "Total params: 17,161\n",
      "Trainable params: 17,161\n",
      "Non-trainable params: 0\n",
      "_________________________________________________________________\n"
     ]
    }
   ],
   "source": [
    "model.compile(loss='binary_crossentropy', \n",
    "              optimizer='adam', \n",
    "              metrics=['accuracy'])\n",
    "model.summary()"
   ]
  },
  {
   "cell_type": "code",
   "execution_count": 37,
   "id": "5b905774",
   "metadata": {},
   "outputs": [
    {
     "name": "stdout",
     "output_type": "stream",
     "text": [
      "Epoch 1/10\n",
      "75/75 [==============================] - 0s 2ms/step - loss: 2.9143e-04 - accuracy: 1.0000 - val_loss: 0.8298 - val_accuracy: 0.7840\n",
      "Epoch 2/10\n",
      "75/75 [==============================] - 0s 2ms/step - loss: 2.7973e-04 - accuracy: 1.0000 - val_loss: 0.8356 - val_accuracy: 0.7880\n",
      "Epoch 3/10\n",
      "75/75 [==============================] - 0s 2ms/step - loss: 2.6887e-04 - accuracy: 1.0000 - val_loss: 0.8391 - val_accuracy: 0.7840\n",
      "Epoch 4/10\n",
      "75/75 [==============================] - 0s 2ms/step - loss: 2.5567e-04 - accuracy: 1.0000 - val_loss: 0.8467 - val_accuracy: 0.7840\n",
      "Epoch 5/10\n",
      "75/75 [==============================] - 0s 2ms/step - loss: 2.4660e-04 - accuracy: 1.0000 - val_loss: 0.8518 - val_accuracy: 0.7840\n",
      "Epoch 6/10\n",
      "75/75 [==============================] - 0s 2ms/step - loss: 2.3411e-04 - accuracy: 1.0000 - val_loss: 0.8593 - val_accuracy: 0.7840\n",
      "Epoch 7/10\n",
      "75/75 [==============================] - 0s 2ms/step - loss: 2.2463e-04 - accuracy: 1.0000 - val_loss: 0.8642 - val_accuracy: 0.7840\n",
      "Epoch 8/10\n",
      "75/75 [==============================] - 0s 2ms/step - loss: 2.1371e-04 - accuracy: 1.0000 - val_loss: 0.8707 - val_accuracy: 0.7840\n",
      "Epoch 9/10\n",
      "75/75 [==============================] - 0s 2ms/step - loss: 2.0589e-04 - accuracy: 1.0000 - val_loss: 0.8749 - val_accuracy: 0.7840\n",
      "Epoch 10/10\n",
      "75/75 [==============================] - 0s 2ms/step - loss: 1.9586e-04 - accuracy: 1.0000 - val_loss: 0.8801 - val_accuracy: 0.7840\n"
     ]
    }
   ],
   "source": [
    "history = model.fit(X_train, y_train,\n",
    "                    epochs=10,\n",
    "                    verbose=True,\n",
    "                    validation_data=(X_test, y_test),\n",
    "                    batch_size=10)"
   ]
  },
  {
   "cell_type": "code",
   "execution_count": 38,
   "id": "3aff4a97",
   "metadata": {},
   "outputs": [
    {
     "name": "stdout",
     "output_type": "stream",
     "text": [
      "Training Accuracy: 1.0000\n",
      "Testing Accuracy:  0.7840\n"
     ]
    }
   ],
   "source": [
    "loss, accuracy = model.evaluate(X_train, y_train, verbose=False)\n",
    "print(\"Training Accuracy: {:.4f}\".format(accuracy))\n",
    "loss, accuracy = model.evaluate(X_test, y_test, verbose=False)\n",
    "print(\"Testing Accuracy:  {:.4f}\".format(accuracy))"
   ]
  },
  {
   "cell_type": "code",
   "execution_count": 29,
   "id": "c369334c",
   "metadata": {},
   "outputs": [],
   "source": [
    "def plot_history(history):\n",
    "    acc = history.history['accuracy']\n",
    "    val_acc = history.history['val_accuracy']\n",
    "    loss = history.history['loss']\n",
    "    val_loss = history.history['val_loss']\n",
    "    x = range(1, len(acc) + 1)\n",
    "\n",
    "    plt.figure(figsize=(12, 5))\n",
    "    plt.subplot(1, 2, 1)\n",
    "    plt.plot(x, acc, 'b', label='Training accuracy')\n",
    "    plt.plot(x, val_acc, 'r', label='Validation accuracy')\n",
    "    plt.title('Training and validation accuracy')\n",
    "    plt.legend()\n",
    "    plt.subplot(1, 2, 2)\n",
    "    plt.plot(x, loss, 'b', label='Training loss')\n",
    "    plt.plot(x, val_loss, 'r', label='Validation loss')\n",
    "    plt.title('Training and validation loss')\n",
    "    plt.legend()"
   ]
  },
  {
   "cell_type": "code",
   "execution_count": 30,
   "id": "98582e97",
   "metadata": {},
   "outputs": [
    {
     "data": {
      "image/png": "[encoded data removed]",
      "text/plain": [
       "<Figure size 864x360 with 2 Axes>"
      ]
     },
     "metadata": {
      "needs_background": "light"
     },
     "output_type": "display_data"
    }
   ],
   "source": [
    "plot_history(history)"
   ]
  },
  {
   "cell_type": "markdown",
   "id": "0be0e2f3",
   "metadata": {
    "execution": {
     "iopub.execute_input": "2022-01-24T18:37:18.318465Z",
     "iopub.status.busy": "2022-01-24T18:37:18.314293Z",
     "iopub.status.idle": "2022-01-24T18:37:18.346058Z"
    },
    "papermill": {
     "duration": 0.161525,
     "end_time": "2022-01-24T22:26:10.378261",
     "exception": false,
     "start_time": "2022-01-24T22:26:10.216736",
     "status": "completed"
    },
    "tags": []
   },
   "source": []
  },
  {
   "cell_type": "markdown",
   "id": "76fc8462",
   "metadata": {
    "papermill": {
     "duration": 0.160622,
     "end_time": "2022-01-24T22:26:10.697324",
     "exception": false,
     "start_time": "2022-01-24T22:26:10.536702",
     "status": "completed"
    },
    "tags": []
   },
   "source": [
    "<div id=\"AR-model\">\n",
    "        <h3 style=\"color:#1a1a1a;\n",
    "                    font-size:2em\">\n",
    "        ⮞ Autoregression (AR)\n",
    "        </h3>\n",
    "</div>"
   ]
  },
  {
   "cell_type": "markdown",
   "id": "c34d3759",
   "metadata": {
    "execution": {
     "iopub.execute_input": "2022-01-24T21:09:51.388409Z",
     "iopub.status.busy": "2022-01-24T21:09:51.386049Z",
     "iopub.status.idle": "2022-01-24T21:09:51.407137Z"
    },
    "papermill": {
     "duration": 0.165272,
     "end_time": "2022-01-24T22:26:11.024387",
     "exception": false,
     "start_time": "2022-01-24T22:26:10.859115",
     "status": "completed"
    },
    "tags": []
   },
   "source": [
    "\n",
    "\n",
    "<span style=\"color:grey; font-size:1.2em\">Les méthodes autorégressives (AR) modélisent l'étape suivante d'une séquence comme une fonction linéaire des observations à des étapes de temps antérieures.</span>"
   ]
  },
  {
   "cell_type": "code",
   "execution_count": 31,
   "id": "38dc3e8b",
   "metadata": {
    "execution": {
     "iopub.execute_input": "2022-01-24T22:26:11.349727Z",
     "iopub.status.busy": "2022-01-24T22:26:11.348021Z",
     "iopub.status.idle": "2022-01-24T22:26:11.424590Z",
     "shell.execute_reply": "2022-01-24T22:26:11.423330Z"
    },
    "papermill": {
     "duration": 0.240404,
     "end_time": "2022-01-24T22:26:11.424733",
     "exception": false,
     "start_time": "2022-01-24T22:26:11.184329",
     "status": "completed"
    },
    "tags": []
   },
   "outputs": [
    {
     "ename": "SyntaxError",
     "evalue": "expression cannot contain assignment, perhaps you meant \"==\"? (Temp/ipykernel_25376/2174448490.py, line 2)",
     "output_type": "error",
     "traceback": [
      "\u001b[1;36m  File \u001b[1;32m\"C:\\Users\\taha_\\AppData\\Local\\Temp/ipykernel_25376/2174448490.py\"\u001b[1;36m, line \u001b[1;32m2\u001b[0m\n\u001b[1;33m    ar <- arima(ts.train, order=c(7,0,0), transform.pars = TRUE)\u001b[0m\n\u001b[1;37m                                          ^\u001b[0m\n\u001b[1;31mSyntaxError\u001b[0m\u001b[1;31m:\u001b[0m expression cannot contain assignment, perhaps you meant \"==\"?\n"
     ]
    }
   ],
   "source": [
    "# méthode AR\n",
    "ar <- arima(ts.train, order=c(7,0,0), transform.pars = TRUE)\n",
    "summary(ar)"
   ]
  },
  {
   "cell_type": "code",
   "execution_count": null,
   "id": "f241f4c0",
   "metadata": {
    "execution": {
     "iopub.execute_input": "2022-01-24T22:26:11.773337Z",
     "iopub.status.busy": "2022-01-24T22:26:11.772310Z",
     "iopub.status.idle": "2022-01-24T22:26:12.272596Z",
     "shell.execute_reply": "2022-01-24T22:26:12.273104Z"
    },
    "papermill": {
     "duration": 0.663572,
     "end_time": "2022-01-24T22:26:12.273264",
     "exception": false,
     "start_time": "2022-01-24T22:26:11.609692",
     "status": "completed"
    },
    "tags": []
   },
   "outputs": [],
   "source": [
    "# changer la taille du plot\n",
    "options(repr.plot.width=20, repr.plot.height =10 )\n",
    "\n",
    "# résultats prévisionnels\n",
    "ar_forecast <- forecast(ar, h=length(ts.test))\n",
    "autoplot(ar_forecast)"
   ]
  },
  {
   "cell_type": "markdown",
   "id": "f2c99c95",
   "metadata": {
    "papermill": {
     "duration": 0.282042,
     "end_time": "2022-01-24T22:26:12.835801",
     "exception": false,
     "start_time": "2022-01-24T22:26:12.553759",
     "status": "completed"
    },
    "tags": []
   },
   "source": [
    "<div id=\"MA-model\">\n",
    "        <h3 style=\"color:#1a1a1a;\n",
    "                    font-size:2em\">\n",
    "        ⮞ Moving Average (MA)\n",
    "        </h3>\n",
    "</div>"
   ]
  },
  {
   "cell_type": "markdown",
   "id": "bc82a6d2",
   "metadata": {
    "papermill": {
     "duration": 0.280547,
     "end_time": "2022-01-24T22:26:13.395685",
     "exception": false,
     "start_time": "2022-01-24T22:26:13.115138",
     "status": "completed"
    },
    "tags": []
   },
   "source": [
    "\n",
    "<span style=\"color:grey; font-size:1.2em\">La méthode de la moyenne mobile (MA) modélise l'étape suivante de la séquence comme la moyenne des fenêtres d'observation des étapes de temps précédentes.</span>"
   ]
  },
  {
   "cell_type": "code",
   "execution_count": null,
   "id": "844a6e95",
   "metadata": {
    "execution": {
     "iopub.execute_input": "2022-01-24T22:26:13.973892Z",
     "iopub.status.busy": "2022-01-24T22:26:13.972800Z",
     "iopub.status.idle": "2022-01-24T22:26:14.002332Z",
     "shell.execute_reply": "2022-01-24T22:26:14.000479Z"
    },
    "papermill": {
     "duration": 0.320389,
     "end_time": "2022-01-24T22:26:14.002490",
     "exception": false,
     "start_time": "2022-01-24T22:26:13.682101",
     "status": "completed"
    },
    "tags": []
   },
   "outputs": [],
   "source": [
    "# méthode MA\n",
    "ma <- arima(ts.train, order=c(0,0,3), transform.pars = TRUE)\n",
    "summary(ma)"
   ]
  },
  {
   "cell_type": "code",
   "execution_count": null,
   "id": "3e00e53d",
   "metadata": {
    "execution": {
     "iopub.execute_input": "2022-01-24T22:26:14.369433Z",
     "iopub.status.busy": "2022-01-24T22:26:14.368783Z",
     "iopub.status.idle": "2022-01-24T22:26:14.702867Z",
     "shell.execute_reply": "2022-01-24T22:26:14.703253Z"
    },
    "papermill": {
     "duration": 0.508756,
     "end_time": "2022-01-24T22:26:14.703374",
     "exception": false,
     "start_time": "2022-01-24T22:26:14.194618",
     "status": "completed"
    },
    "tags": []
   },
   "outputs": [],
   "source": [
    "# résultats prévisionnels\n",
    "ma_forecast <- forecast(ma, h=length(ts.test))\n",
    "autoplot(ma_forecast)"
   ]
  },
  {
   "cell_type": "markdown",
   "id": "5d4eb70d",
   "metadata": {
    "papermill": {
     "duration": 0.171658,
     "end_time": "2022-01-24T22:26:15.046589",
     "exception": false,
     "start_time": "2022-01-24T22:26:14.874931",
     "status": "completed"
    },
    "tags": []
   },
   "source": [
    "<div id=\"ARMA-model\">\n",
    "        <h3 style=\"color:#1a1a1a;\n",
    "                    font-size:2em\">\n",
    "        ⮞ Autoregressive Moving Average (ARMA)\n",
    "        </h3>\n",
    "</div>"
   ]
  },
  {
   "cell_type": "markdown",
   "id": "fd8a55fe",
   "metadata": {
    "execution": {
     "iopub.execute_input": "2022-01-24T21:19:34.388721Z",
     "iopub.status.busy": "2022-01-24T21:19:34.386752Z",
     "iopub.status.idle": "2022-01-24T21:19:34.430725Z"
    },
    "papermill": {
     "duration": 0.172024,
     "end_time": "2022-01-24T22:26:15.389678",
     "exception": false,
     "start_time": "2022-01-24T22:26:15.217654",
     "status": "completed"
    },
    "tags": []
   },
   "source": [
    "<span style=\"color:grey; font-size:1.2em\">Cette approche rejoint essentiellement les deux précédents AR et MA. Les paramètres du modèle seront la somme des deux.</span>\n"
   ]
  },
  {
   "cell_type": "code",
   "execution_count": null,
   "id": "6bce93f3",
   "metadata": {
    "execution": {
     "iopub.execute_input": "2022-01-24T22:26:15.739452Z",
     "iopub.status.busy": "2022-01-24T22:26:15.737938Z",
     "iopub.status.idle": "2022-01-24T22:26:15.782565Z",
     "shell.execute_reply": "2022-01-24T22:26:15.779654Z"
    },
    "papermill": {
     "duration": 0.219095,
     "end_time": "2022-01-24T22:26:15.782696",
     "exception": false,
     "start_time": "2022-01-24T22:26:15.563601",
     "status": "completed"
    },
    "tags": []
   },
   "outputs": [],
   "source": [
    "# méthode ARMA\n",
    "arma <- arima(ts.train, order=c(3,0,1))\n",
    "summary(arma)"
   ]
  },
  {
   "cell_type": "code",
   "execution_count": null,
   "id": "02f70900",
   "metadata": {
    "execution": {
     "iopub.execute_input": "2022-01-24T22:26:16.241892Z",
     "iopub.status.busy": "2022-01-24T22:26:16.241273Z",
     "iopub.status.idle": "2022-01-24T22:26:16.586255Z",
     "shell.execute_reply": "2022-01-24T22:26:16.586758Z"
    },
    "papermill": {
     "duration": 0.60574,
     "end_time": "2022-01-24T22:26:16.586933",
     "exception": false,
     "start_time": "2022-01-24T22:26:15.981193",
     "status": "completed"
    },
    "tags": []
   },
   "outputs": [],
   "source": [
    "# résultats prévisionnels\n",
    "arma_forecast <- forecast(arma, h=length(ts.test))\n",
    "autoplot(arma_forecast)"
   ]
  },
  {
   "cell_type": "markdown",
   "id": "1c78756a",
   "metadata": {
    "papermill": {
     "duration": 0.299329,
     "end_time": "2022-01-24T22:26:17.183292",
     "exception": false,
     "start_time": "2022-01-24T22:26:16.883963",
     "status": "completed"
    },
    "tags": []
   },
   "source": [
    "<div id=\"ARIMA-model\">\n",
    "        <h3 style=\"color:#1a1a1a;\n",
    "                    font-size:2em\">\n",
    "        ⮞ Autoregressive integraded moving average (ARIMA)\n",
    "        </h3>\n",
    "</div>"
   ]
  },
  {
   "cell_type": "markdown",
   "id": "77a2b43c",
   "metadata": {
    "papermill": {
     "duration": 0.296785,
     "end_time": "2022-01-24T22:26:17.778664",
     "exception": false,
     "start_time": "2022-01-24T22:26:17.481879",
     "status": "completed"
    },
    "tags": []
   },
   "source": [
    "<span style=\"color:grey; font-size:1.2em\">Dans un modèle ARIMA, 3 paramètres sont utilisés pour aider à modéliser les principaux aspects d'une série temporelle : la saisonnalité, la tendance et le bruit. Ces paramètres sont étiquetés p, d et q.</span>"
   ]
  },
  {
   "cell_type": "code",
   "execution_count": null,
   "id": "a4e20a7f",
   "metadata": {
    "execution": {
     "iopub.execute_input": "2022-01-24T22:26:18.375475Z",
     "iopub.status.busy": "2022-01-24T22:26:18.374038Z",
     "iopub.status.idle": "2022-01-24T22:26:18.600769Z",
     "shell.execute_reply": "2022-01-24T22:26:18.599306Z"
    },
    "papermill": {
     "duration": 0.527152,
     "end_time": "2022-01-24T22:26:18.600921",
     "exception": false,
     "start_time": "2022-01-24T22:26:18.073769",
     "status": "completed"
    },
    "tags": []
   },
   "outputs": [],
   "source": [
    "# méthode ARIMA\n",
    "arima <- arima(ts.train, order=c(7,1,2))\n",
    "summary(arima)"
   ]
  },
  {
   "cell_type": "code",
   "execution_count": null,
   "id": "ca85a584",
   "metadata": {
    "execution": {
     "iopub.execute_input": "2022-01-24T22:26:19.221770Z",
     "iopub.status.busy": "2022-01-24T22:26:19.221089Z",
     "iopub.status.idle": "2022-01-24T22:26:19.649863Z",
     "shell.execute_reply": "2022-01-24T22:26:19.649264Z"
    },
    "papermill": {
     "duration": 0.731774,
     "end_time": "2022-01-24T22:26:19.649965",
     "exception": false,
     "start_time": "2022-01-24T22:26:18.918191",
     "status": "completed"
    },
    "tags": []
   },
   "outputs": [],
   "source": [
    "# résultats prévisionnels\n",
    "arima_forecast <- forecast(arima, h=length(ts.test))\n",
    "autoplot(arima_forecast)"
   ]
  },
  {
   "cell_type": "markdown",
   "id": "49b1f010",
   "metadata": {
    "papermill": {
     "duration": 0.183323,
     "end_time": "2022-01-24T22:26:20.017082",
     "exception": false,
     "start_time": "2022-01-24T22:26:19.833759",
     "status": "completed"
    },
    "tags": []
   },
   "source": [
    "<div id=\"SARIMA-model\">\n",
    "        <h3 style=\"color:#1a1a1a;\n",
    "                    font-size:2em\">\n",
    "        ⮞ Seasonal autoregressive integrated moving average (SARIMA)\n",
    "        </h3>\n",
    "</div>"
   ]
  },
  {
   "cell_type": "markdown",
   "id": "1ec30b83",
   "metadata": {
    "papermill": {
     "duration": 0.185965,
     "end_time": "2022-01-24T22:26:20.385092",
     "exception": false,
     "start_time": "2022-01-24T22:26:20.199127",
     "status": "completed"
    },
    "tags": []
   },
   "source": [
    "<span style=\"color:grey; font-size:1.2em\">\n",
    "La moyenne mobile composite autorégressive saisonnière, SARIMA ou ARIMA saisonnière, est une extension d'ARIMA qui prend explicitement en charge les données de séries chronologiques univariées avec des composantes saisonnières.\n",
    "\n",
    "Il ajoute trois nouveaux hyperparamètres pour spécifier l'autorégressif (AR), le différentiel (I) et la moyenne mobile (MA) de la composante saisonnière de la série, ainsi que des paramètres supplémentaires pour la période de saisonnalité.\n",
    "</span>"
   ]
  },
  {
   "cell_type": "code",
   "execution_count": null,
   "id": "395b24e5",
   "metadata": {
    "execution": {
     "iopub.execute_input": "2022-01-24T22:26:20.756626Z",
     "iopub.status.busy": "2022-01-24T22:26:20.755290Z",
     "iopub.status.idle": "2022-01-24T22:26:27.142856Z",
     "shell.execute_reply": "2022-01-24T22:26:27.140784Z"
    },
    "papermill": {
     "duration": 6.575312,
     "end_time": "2022-01-24T22:26:27.143011",
     "exception": false,
     "start_time": "2022-01-24T22:26:20.567699",
     "status": "completed"
    },
    "tags": []
   },
   "outputs": [],
   "source": [
    "# méthode SARIMA\n",
    "sarima <- arima(ts.train, order=c(2,0,2), seasonal = list(order = c(1,0,0), period = 52))\n",
    "summary(sarima)"
   ]
  },
  {
   "cell_type": "code",
   "execution_count": null,
   "id": "509bb97e",
   "metadata": {
    "execution": {
     "iopub.execute_input": "2022-01-24T22:26:27.668826Z",
     "iopub.status.busy": "2022-01-24T22:26:27.668158Z",
     "iopub.status.idle": "2022-01-24T22:26:28.025812Z",
     "shell.execute_reply": "2022-01-24T22:26:28.026209Z"
    },
    "papermill": {
     "duration": 0.674034,
     "end_time": "2022-01-24T22:26:28.026330",
     "exception": false,
     "start_time": "2022-01-24T22:26:27.352296",
     "status": "completed"
    },
    "tags": []
   },
   "outputs": [],
   "source": [
    "# résultats prévisionnels\n",
    "sarima_forecast <- forecast(sarima, h = length(ts.test))\n",
    "autoplot(sarima_forecast)"
   ]
  },
  {
   "cell_type": "markdown",
   "id": "53e43608",
   "metadata": {
    "papermill": {
     "duration": 0.218439,
     "end_time": "2022-01-24T22:26:28.433396",
     "exception": false,
     "start_time": "2022-01-24T22:26:28.214957",
     "status": "completed"
    },
    "tags": []
   },
   "source": [
    "<center id=\"Conclusion\">\n",
    "        <h2 style=\"color:#1a1a1a;\n",
    "                    font-size:2em\">\n",
    "        Conclusion 📌\n",
    "        </h2>\n",
    "</center>"
   ]
  },
  {
   "cell_type": "code",
   "execution_count": null,
   "id": "d51a2609",
   "metadata": {
    "execution": {
     "iopub.execute_input": "2022-01-24T22:26:28.820806Z",
     "iopub.status.busy": "2022-01-24T22:26:28.819180Z",
     "iopub.status.idle": "2022-01-24T22:26:28.844869Z",
     "shell.execute_reply": "2022-01-24T22:26:28.843608Z"
    },
    "papermill": {
     "duration": 0.217872,
     "end_time": "2022-01-24T22:26:28.844989",
     "exception": false,
     "start_time": "2022-01-24T22:26:28.627117",
     "status": "completed"
    },
    "tags": []
   },
   "outputs": [],
   "source": [
    "# résultats des différents modèles\n",
    "methods <- c(\"ar\", \"ma\", \"arma\", \"arima\", \"sarima\")\n",
    "aic <- c(ar$aic, ma$aic, arma$aic, arima$aic, sarima$aic) # AIC\n",
    "log <- c(ar$loglik, ma$loglik, arma$loglik, arima$loglik, sarima$loglik) # Log Liklihood\n",
    "sigsq <- c(ar$sigma2, ma$sigma2, arma$sigma2, arima$sigma2, sarima$sigma2) # Sigma squared\n",
    "data.frame(methods, aic, log, sigsq)[order(aic),]"
   ]
  },
  {
   "cell_type": "markdown",
   "id": "15f0444c",
   "metadata": {
    "papermill": {
     "duration": 0.191685,
     "end_time": "2022-01-24T22:26:29.231276",
     "exception": false,
     "start_time": "2022-01-24T22:26:29.039591",
     "status": "completed"
    },
    "tags": []
   },
   "source": [
    "<div style=\"color:grey; font-size:1.2em\">Le travail que nous avons réalisé a consisté à exploirer comment la plupart des modèles utilisant des données supplémentaires surperforment les statistiques traditionnelles sur des séries temporelles univariées. On bien appris qu'une analyse approfondie de nos séries est necessaice pour détecter la stationnarité ou la saisonnalité particulière qui peut nous obliger à appliquer des transformations à la série et peut déterminer notre choix de modèle. \n",
    "<br>\n",
    "<br>\n",
    "<span style=\"color:black; font-size:1.3em; background-color:#FFFFA6\">Ce projet nous a permis d'acquérir les techniques d'analyse, de transformation et les methodes de prévision sur les séries chronologiques.</span>\n",
    "</div>"
   ]
  }
 ],
 "metadata": {
  "kernelspec": {
   "display_name": "Python 3 (ipykernel)",
   "language": "python",
   "name": "python3"
  },
  "language_info": {
   "codemirror_mode": {
    "name": "ipython",
    "version": 3
   },
   "file_extension": ".py",
   "mimetype": "text/x-python",
   "name": "python",
   "nbconvert_exporter": "python",
   "pygments_lexer": "ipython3",
   "version": "3.9.7"
  },
  "papermill": {
   "default_parameters": {},
   "duration": 42.236077,
   "end_time": "2022-01-24T22:26:29.530962",
   "environment_variables": {},
   "exception": null,
   "input_path": "__notebook__.ipynb",
   "output_path": "__notebook__.ipynb",
   "parameters": {},
   "start_time": "2022-01-24T22:25:47.294885",
   "version": "2.3.3"
  }
 },
 "nbformat": 4,
 "nbformat_minor": 5
}
