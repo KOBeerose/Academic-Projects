{
 "cells": [
  {
   "cell_type": "markdown",
   "id": "23940563",
   "metadata": {
    "execution": {
     "iopub.execute_input": "2022-01-24T17:11:50.522771Z",
     "iopub.status.busy": "2022-01-24T17:11:50.520615Z",
     "iopub.status.idle": "2022-01-24T17:11:50.625279Z"
    },
    "papermill": {
     "duration": 0.062702,
     "end_time": "2022-02-04T15:22:08.371733",
     "exception": false,
     "start_time": "2022-02-04T15:22:08.309031",
     "status": "completed"
    },
    "tags": []
   },
   "source": [
    "<center><h1 style=\"color:#1a1a1a;\n",
    "                    font-size:3em\">\n",
    "        Projet: 🤖 Méthodologies de l’IA \n",
    "        </h1> \n",
    "        <h2 style=\"color:#1a1a1a;\n",
    "                    font-size:2em\">\n",
    "        Utilisation des réseaux multi-couches pour l’analyse des 😞 sentiments 😄.\n",
    "       </h2>\n",
    "</center>"
   ]
  },
  {
   "cell_type": "markdown",
   "id": "060a4e34",
   "metadata": {
    "papermill": {
     "duration": 0.060209,
     "end_time": "2022-02-04T15:22:08.494719",
     "exception": false,
     "start_time": "2022-02-04T15:22:08.434510",
     "status": "completed"
    },
    "tags": []
   },
   "source": [
    "<p style=\"font-size:2em\">📜 Table des matières:</p>\n",
    "<div style=\"font-size:1.5em\">\n",
    "    <ul>\n",
    "       <li>\n",
    "          <a href=\"#Intro-section\">Introduction 📖</a>\n",
    "          <ul>\n",
    "             <li><a href=\"#overview\">Aperçu</a></li>\n",
    "             <li><a href=\"#dataset\">Jeu de données</a></li>\n",
    "          </ul>\n",
    "       </li>\n",
    "       <li>\n",
    "          <a href=\"#Analysis-section\">Analyses et Transformations 🔎</a>\n",
    "          <ul>\n",
    "             <li><a href=\"#eda\">Exploration de données</a></li>\n",
    "             <li><a href=\"#trans\">Transformation de données</a></li>\n",
    "          </ul>\n",
    "       </li>\n",
    "       <li>\n",
    "          <a href=\"#pre-processing\">Pré-traitement ⚙️</a>\n",
    "          <ul>\n",
    "             <li><a href=\"#split-data\">Diviser les données</a></li>\n",
    "             <li><a href=\"#Vectorising\">Vectoriser les phrases</a></li>\n",
    "          </ul>\n",
    "       </li>\n",
    "       <li>\n",
    "          <a href=\"#model-building\">Construction des modèles 🛠️</a>\n",
    "          <ul>\n",
    "             <li><a href=\"#ml-basic\">Modèles de base du ML </a></li>\n",
    "             <li><a href=\"#ANN\">Réseaux de neurones artificiels (ANN)</a></li>\n",
    "             <li><a href=\"#word-embd\">Word Embedding</a></li>\n",
    "             <li><a href=\"#cnn\">Réseau de Neurones convolutifs (CNN) avec Embedding</a></li>\n",
    "          </ul>\n",
    "       </li>\n",
    "       <li><a href=\"#demo\">Une démo live 🧮</a></li>\n",
    "       <li><a href=\"#Conclusion\">Conclusion 📌</a></li>\n",
    "    </ul>\n",
    "</div>"
   ]
  },
  {
   "cell_type": "markdown",
   "id": "3955b57b",
   "metadata": {
    "papermill": {
     "duration": 0.059391,
     "end_time": "2022-02-04T15:22:08.703677",
     "exception": false,
     "start_time": "2022-02-04T15:22:08.644286",
     "status": "completed"
    },
    "tags": []
   },
   "source": [
    "<center id=\"Intro-section\">\n",
    "        <h1 style=\"color:#1a1a1a;\n",
    "                    font-size:2em\">\n",
    "        Introduction 📖\n",
    "        </h1>\n",
    "</center>"
   ]
  },
  {
   "cell_type": "markdown",
   "id": "c8e947e0",
   "metadata": {
    "papermill": {
     "duration": 0.062953,
     "end_time": "2022-02-04T15:22:08.826517",
     "exception": false,
     "start_time": "2022-02-04T15:22:08.763564",
     "status": "completed"
    },
    "tags": []
   },
   "source": [
    "<div id=\"overview\">\n",
    "        <h1 style=\"color:#1a1a1a\">\n",
    "         ⮞  Aperçu\n",
    "        </h1>\n",
    "</div>"
   ]
  },
  {
   "cell_type": "markdown",
   "id": "9098cac6",
   "metadata": {
    "papermill": {
     "duration": 0.059079,
     "end_time": "2022-02-04T15:22:08.946624",
     "exception": false,
     "start_time": "2022-02-04T15:22:08.887545",
     "status": "completed"
    },
    "tags": []
   },
   "source": [
    "<span style=\"color:grey; font-size:1.2em\">Dans le cadre de notre etude Ce projet qui vise a Utilisation des <b>réseaux multi-couches</b> pour l’analyse des <b>sentiments</b> des phrases issues d’une base d’exemples qui contient des phrases étiquetées avec un sentiment positif ou négatif.\n",
    "</span>"
   ]
  },
  {
   "cell_type": "markdown",
   "id": "e7a230a3",
   "metadata": {
    "papermill": {
     "duration": 0.060394,
     "end_time": "2022-02-04T15:22:09.066882",
     "exception": false,
     "start_time": "2022-02-04T15:22:09.006488",
     "status": "completed"
    },
    "tags": []
   },
   "source": [
    "<div id=\"dataset\">\n",
    "        <h1 style=\"color:#1a1a1a\">\n",
    "         ⮞  Jeu de données\n",
    "        </h1>\n",
    "</div>"
   ]
  },
  {
   "cell_type": "markdown",
   "id": "beb43c93",
   "metadata": {
    "papermill": {
     "duration": 0.060015,
     "end_time": "2022-02-04T15:22:09.186642",
     "exception": false,
     "start_time": "2022-02-04T15:22:09.126627",
     "status": "completed"
    },
    "tags": []
   },
   "source": [
    "\n",
    "<span style=\"color:grey; font-size:1.2em\"> Notre jeu de données a été créé pour l'article <b><a href=\"https://dl.acm.org/doi/10.1145/2783258.2783380\">From Group to Individual Labels using Deep Features</a></b>.. Il contient des phrases étiquetées avec un sentiment positif ou négatif.<br><br>\n",
    "<b>Format : score de la phrase / Détails</b>\n",
    "<br>\n",
    "Le score est soit 1 (pour positif) soit 0 (pour négatif)\n",
    "Les phrases proviennent de trois sites Web/domaines différents :<br>\n",
    "* [imdb](http://imdb.com)<br>\n",
    "* [amazon](http://amazon.com)<br>\n",
    "* [yelp](http://yelp.com)\n",
    "</span>"
   ]
  },
  {
   "cell_type": "markdown",
   "id": "a91ffc3c",
   "metadata": {
    "execution": {
     "iopub.execute_input": "2022-01-24T17:58:30.813618Z",
     "iopub.status.busy": "2022-01-24T17:58:30.812022Z",
     "iopub.status.idle": "2022-01-24T17:58:30.824348Z"
    },
    "papermill": {
     "duration": 0.059309,
     "end_time": "2022-02-04T15:22:09.305214",
     "exception": false,
     "start_time": "2022-02-04T15:22:09.245905",
     "status": "completed"
    },
    "tags": []
   },
   "source": [
    "<center id=\"Analysis-section\">\n",
    "        <h1 style=\"color:#1a1a1a;\n",
    "                    font-size:2em\">\n",
    "        Analyses et Transformations 🔎\n",
    "        </h1>\n",
    "</center>"
   ]
  },
  {
   "cell_type": "markdown",
   "id": "5f374373",
   "metadata": {
    "execution": {
     "iopub.execute_input": "2022-01-24T18:29:39.022907Z",
     "iopub.status.busy": "2022-01-24T18:29:39.021213Z",
     "iopub.status.idle": "2022-01-24T18:29:39.034502Z"
    },
    "papermill": {
     "duration": 0.062857,
     "end_time": "2022-02-04T15:22:09.427344",
     "exception": false,
     "start_time": "2022-02-04T15:22:09.364487",
     "status": "completed"
    },
    "tags": []
   },
   "source": [
    "<div id=\"eda\">\n",
    "        <h1 style=\"color:#1a1a1a\">\n",
    "         ⮞  Exploration de données\n",
    "        </h1>\n",
    "</div>"
   ]
  },
  {
   "cell_type": "markdown",
   "id": "a21b2d84",
   "metadata": {
    "execution": {
     "iopub.execute_input": "2022-01-24T18:49:49.523647Z",
     "iopub.status.busy": "2022-01-24T18:49:49.518861Z",
     "iopub.status.idle": "2022-01-24T18:49:49.594606Z"
    },
    "papermill": {
     "duration": 0.059339,
     "end_time": "2022-02-04T15:22:09.546369",
     "exception": false,
     "start_time": "2022-02-04T15:22:09.487030",
     "status": "completed"
    },
    "tags": []
   },
   "source": [
    "<h4 style=\"color:grey\"> Importation de bibliothèques </h4>"
   ]
  },
  {
   "cell_type": "code",
   "execution_count": 1,
   "id": "a2daeda7",
   "metadata": {
    "_execution_state": "idle",
    "_uuid": "051d70d956493feee0c6d64651c6a088724dca2a",
    "execution": {
     "iopub.execute_input": "2022-02-04T15:22:09.670659Z",
     "iopub.status.busy": "2022-02-04T15:22:09.669395Z",
     "iopub.status.idle": "2022-02-04T15:22:17.093796Z",
     "shell.execute_reply": "2022-02-04T15:22:17.092962Z",
     "shell.execute_reply.started": "2022-02-04T13:16:52.824811Z"
    },
    "papermill": {
     "duration": 7.488096,
     "end_time": "2022-02-04T15:22:17.094002",
     "exception": false,
     "start_time": "2022-02-04T15:22:09.605906",
     "status": "completed"
    },
    "scrolled": true,
    "tags": []
   },
   "outputs": [],
   "source": [
    "# importer les bibliothèques nécessaires\n",
    "import pandas as pd\n",
    "import numpy as np\n",
    "import matplotlib.pyplot as plt\n",
    "%matplotlib inline\n",
    "\n",
    "\n",
    "from sklearn.feature_extraction.text import CountVectorizer\n",
    "from sklearn.model_selection import train_test_split\n",
    "\n",
    "# Modèles de apprentissage automatique par sklearn\n",
    "from sklearn.linear_model import LogisticRegression\n",
    "from sklearn.svm import SVC\n",
    "from sklearn.tree import DecisionTreeClassifier\n",
    "from sklearn.ensemble import RandomForestClassifier, GradientBoostingClassifier\n",
    "\n",
    "\n",
    "import tensorflow as tf\n",
    "\n",
    "from tensorflow.keras.preprocessing.text import Tokenizer\n",
    "from tensorflow.keras.preprocessing.sequence import pad_sequences\n",
    "\n",
    "from tensorflow.keras.models import Sequential\n",
    "from tensorflow.keras import layers"
   ]
  },
  {
   "cell_type": "code",
   "execution_count": 2,
   "id": "b9562442",
   "metadata": {
    "execution": {
     "iopub.execute_input": "2022-02-04T15:22:17.219646Z",
     "iopub.status.busy": "2022-02-04T15:22:17.218872Z",
     "iopub.status.idle": "2022-02-04T15:22:17.220330Z",
     "shell.execute_reply": "2022-02-04T15:22:17.220828Z",
     "shell.execute_reply.started": "2022-02-04T13:16:52.841657Z"
    },
    "papermill": {
     "duration": 0.067106,
     "end_time": "2022-02-04T15:22:17.221052",
     "exception": false,
     "start_time": "2022-02-04T15:22:17.153946",
     "status": "completed"
    },
    "tags": []
   },
   "outputs": [],
   "source": [
    "#  ignorer les avertissements\n",
    "import warnings\n",
    "\n",
    "warnings.filterwarnings(\"ignore\")"
   ]
  },
  {
   "cell_type": "markdown",
   "id": "428c611c",
   "metadata": {
    "papermill": {
     "duration": 0.060003,
     "end_time": "2022-02-04T15:22:17.341302",
     "exception": false,
     "start_time": "2022-02-04T15:22:17.281299",
     "status": "completed"
    },
    "tags": []
   },
   "source": [
    "<span style=\"color:grey; font-size:1.2em\">Important nos jeu de données sous les fichier <b>amazon_cells_labelled.txt</b> content les , <b>imdb_labelled.txt</b> et <b>yelp_labelled.txt</b> content  <b>csv</b>.</span>"
   ]
  },
  {
   "cell_type": "code",
   "execution_count": 3,
   "id": "9e0571d9",
   "metadata": {
    "execution": {
     "iopub.execute_input": "2022-02-04T15:22:17.468522Z",
     "iopub.status.busy": "2022-02-04T15:22:17.467823Z",
     "iopub.status.idle": "2022-02-04T15:22:17.536108Z",
     "shell.execute_reply": "2022-02-04T15:22:17.536695Z",
     "shell.execute_reply.started": "2022-02-04T13:16:52.859994Z"
    },
    "papermill": {
     "duration": 0.13559,
     "end_time": "2022-02-04T15:22:17.536908",
     "exception": false,
     "start_time": "2022-02-04T15:22:17.401318",
     "status": "completed"
    },
    "tags": []
   },
   "outputs": [],
   "source": [
    "# Dataset d'amazon\n",
    "amazon_data = pd.read_csv(\"../input/sentiment-labelled-sentences-data-set/sentiment labelled sentences/amazon_cells_labelled.txt\",delimiter='\\t',header=None, names=[\"text\",\"sentiment\"])\n",
    "\n",
    "# Dataset d'imdb\n",
    "imdb_data = pd.read_csv(\"../input/sentiment-labelled-sentences-data-set/sentiment labelled sentences/imdb_labelled.txt\",delimiter='\\t',header=None, names=[\"text\",\"sentiment\"])\n",
    "\n",
    "# Dataset de yeld\n",
    "yelp_data = pd.read_csv(\"../input/sentiment-labelled-sentences-data-set/sentiment labelled sentences/yelp_labelled.txt\",delimiter='\\t',header=None, names=[\"text\",\"sentiment\"])\n",
    "\n",
    "Datasets = {\"amazon\":amazon_data,\"imdb\":imdb_data,\"yelp\":yelp_data}"
   ]
  },
  {
   "cell_type": "markdown",
   "id": "aa66c2a8",
   "metadata": {
    "papermill": {
     "duration": 0.060898,
     "end_time": "2022-02-04T15:22:17.659975",
     "exception": false,
     "start_time": "2022-02-04T15:22:17.599077",
     "status": "completed"
    },
    "tags": []
   },
   "source": [
    "<h4 style=\"color:grey\"> Explorant notre jeu de données </h4>"
   ]
  },
  {
   "cell_type": "code",
   "execution_count": 4,
   "id": "1de1debc",
   "metadata": {
    "execution": {
     "iopub.execute_input": "2022-02-04T15:22:17.789539Z",
     "iopub.status.busy": "2022-02-04T15:22:17.788506Z",
     "iopub.status.idle": "2022-02-04T15:22:17.808592Z",
     "shell.execute_reply": "2022-02-04T15:22:17.809148Z",
     "shell.execute_reply.started": "2022-02-04T13:16:52.897382Z"
    },
    "papermill": {
     "duration": 0.087197,
     "end_time": "2022-02-04T15:22:17.809357",
     "exception": false,
     "start_time": "2022-02-04T15:22:17.722160",
     "status": "completed"
    },
    "tags": []
   },
   "outputs": [
    {
     "data": {
      "text/html": [
       "<div>\n",
       "<style scoped>\n",
       "    .dataframe tbody tr th:only-of-type {\n",
       "        vertical-align: middle;\n",
       "    }\n",
       "\n",
       "    .dataframe tbody tr th {\n",
       "        vertical-align: top;\n",
       "    }\n",
       "\n",
       "    .dataframe thead th {\n",
       "        text-align: right;\n",
       "    }\n",
       "</style>\n",
       "<table border=\"1\" class=\"dataframe\">\n",
       "  <thead>\n",
       "    <tr style=\"text-align: right;\">\n",
       "      <th></th>\n",
       "      <th>text</th>\n",
       "      <th>sentiment</th>\n",
       "    </tr>\n",
       "  </thead>\n",
       "  <tbody>\n",
       "    <tr>\n",
       "      <th>0</th>\n",
       "      <td>So there is no way for me to plug it in here i...</td>\n",
       "      <td>0</td>\n",
       "    </tr>\n",
       "    <tr>\n",
       "      <th>1</th>\n",
       "      <td>Good case, Excellent value.</td>\n",
       "      <td>1</td>\n",
       "    </tr>\n",
       "    <tr>\n",
       "      <th>2</th>\n",
       "      <td>Great for the jawbone.</td>\n",
       "      <td>1</td>\n",
       "    </tr>\n",
       "    <tr>\n",
       "      <th>3</th>\n",
       "      <td>Tied to charger for conversations lasting more...</td>\n",
       "      <td>0</td>\n",
       "    </tr>\n",
       "    <tr>\n",
       "      <th>4</th>\n",
       "      <td>The mic is great.</td>\n",
       "      <td>1</td>\n",
       "    </tr>\n",
       "  </tbody>\n",
       "</table>\n",
       "</div>"
      ],
      "text/plain": [
       "                                                text  sentiment\n",
       "0  So there is no way for me to plug it in here i...          0\n",
       "1                        Good case, Excellent value.          1\n",
       "2                             Great for the jawbone.          1\n",
       "3  Tied to charger for conversations lasting more...          0\n",
       "4                                  The mic is great.          1"
      ]
     },
     "execution_count": 4,
     "metadata": {},
     "output_type": "execute_result"
    }
   ],
   "source": [
    "amazon_data.head()"
   ]
  },
  {
   "cell_type": "code",
   "execution_count": 5,
   "id": "bb305d47",
   "metadata": {
    "execution": {
     "iopub.execute_input": "2022-02-04T15:22:17.936559Z",
     "iopub.status.busy": "2022-02-04T15:22:17.935848Z",
     "iopub.status.idle": "2022-02-04T15:22:17.945700Z",
     "shell.execute_reply": "2022-02-04T15:22:17.946352Z",
     "shell.execute_reply.started": "2022-02-04T13:16:52.911662Z"
    },
    "papermill": {
     "duration": 0.074251,
     "end_time": "2022-02-04T15:22:17.946566",
     "exception": false,
     "start_time": "2022-02-04T15:22:17.872315",
     "status": "completed"
    },
    "tags": []
   },
   "outputs": [
    {
     "data": {
      "text/html": [
       "<div>\n",
       "<style scoped>\n",
       "    .dataframe tbody tr th:only-of-type {\n",
       "        vertical-align: middle;\n",
       "    }\n",
       "\n",
       "    .dataframe tbody tr th {\n",
       "        vertical-align: top;\n",
       "    }\n",
       "\n",
       "    .dataframe thead th {\n",
       "        text-align: right;\n",
       "    }\n",
       "</style>\n",
       "<table border=\"1\" class=\"dataframe\">\n",
       "  <thead>\n",
       "    <tr style=\"text-align: right;\">\n",
       "      <th></th>\n",
       "      <th>text</th>\n",
       "      <th>sentiment</th>\n",
       "    </tr>\n",
       "  </thead>\n",
       "  <tbody>\n",
       "    <tr>\n",
       "      <th>0</th>\n",
       "      <td>A very, very, very slow-moving, aimless movie ...</td>\n",
       "      <td>0</td>\n",
       "    </tr>\n",
       "    <tr>\n",
       "      <th>1</th>\n",
       "      <td>Not sure who was more lost - the flat characte...</td>\n",
       "      <td>0</td>\n",
       "    </tr>\n",
       "    <tr>\n",
       "      <th>2</th>\n",
       "      <td>Attempting artiness with black &amp; white and cle...</td>\n",
       "      <td>0</td>\n",
       "    </tr>\n",
       "    <tr>\n",
       "      <th>3</th>\n",
       "      <td>Very little music or anything to speak of.</td>\n",
       "      <td>0</td>\n",
       "    </tr>\n",
       "    <tr>\n",
       "      <th>4</th>\n",
       "      <td>The best scene in the movie was when Gerardo i...</td>\n",
       "      <td>1</td>\n",
       "    </tr>\n",
       "  </tbody>\n",
       "</table>\n",
       "</div>"
      ],
      "text/plain": [
       "                                                text  sentiment\n",
       "0  A very, very, very slow-moving, aimless movie ...          0\n",
       "1  Not sure who was more lost - the flat characte...          0\n",
       "2  Attempting artiness with black & white and cle...          0\n",
       "3       Very little music or anything to speak of.            0\n",
       "4  The best scene in the movie was when Gerardo i...          1"
      ]
     },
     "execution_count": 5,
     "metadata": {},
     "output_type": "execute_result"
    }
   ],
   "source": [
    "imdb_data.head()"
   ]
  },
  {
   "cell_type": "code",
   "execution_count": 6,
   "id": "1f5bdd9d",
   "metadata": {
    "execution": {
     "iopub.execute_input": "2022-02-04T15:22:18.087183Z",
     "iopub.status.busy": "2022-02-04T15:22:18.086103Z",
     "iopub.status.idle": "2022-02-04T15:22:18.090165Z",
     "shell.execute_reply": "2022-02-04T15:22:18.090660Z",
     "shell.execute_reply.started": "2022-02-04T13:16:52.931304Z"
    },
    "papermill": {
     "duration": 0.078397,
     "end_time": "2022-02-04T15:22:18.090858",
     "exception": false,
     "start_time": "2022-02-04T15:22:18.012461",
     "status": "completed"
    },
    "tags": []
   },
   "outputs": [
    {
     "data": {
      "text/html": [
       "<div>\n",
       "<style scoped>\n",
       "    .dataframe tbody tr th:only-of-type {\n",
       "        vertical-align: middle;\n",
       "    }\n",
       "\n",
       "    .dataframe tbody tr th {\n",
       "        vertical-align: top;\n",
       "    }\n",
       "\n",
       "    .dataframe thead th {\n",
       "        text-align: right;\n",
       "    }\n",
       "</style>\n",
       "<table border=\"1\" class=\"dataframe\">\n",
       "  <thead>\n",
       "    <tr style=\"text-align: right;\">\n",
       "      <th></th>\n",
       "      <th>text</th>\n",
       "      <th>sentiment</th>\n",
       "    </tr>\n",
       "  </thead>\n",
       "  <tbody>\n",
       "    <tr>\n",
       "      <th>0</th>\n",
       "      <td>Wow... Loved this place.</td>\n",
       "      <td>1</td>\n",
       "    </tr>\n",
       "    <tr>\n",
       "      <th>1</th>\n",
       "      <td>Crust is not good.</td>\n",
       "      <td>0</td>\n",
       "    </tr>\n",
       "    <tr>\n",
       "      <th>2</th>\n",
       "      <td>Not tasty and the texture was just nasty.</td>\n",
       "      <td>0</td>\n",
       "    </tr>\n",
       "    <tr>\n",
       "      <th>3</th>\n",
       "      <td>Stopped by during the late May bank holiday of...</td>\n",
       "      <td>1</td>\n",
       "    </tr>\n",
       "    <tr>\n",
       "      <th>4</th>\n",
       "      <td>The selection on the menu was great and so wer...</td>\n",
       "      <td>1</td>\n",
       "    </tr>\n",
       "  </tbody>\n",
       "</table>\n",
       "</div>"
      ],
      "text/plain": [
       "                                                text  sentiment\n",
       "0                           Wow... Loved this place.          1\n",
       "1                                 Crust is not good.          0\n",
       "2          Not tasty and the texture was just nasty.          0\n",
       "3  Stopped by during the late May bank holiday of...          1\n",
       "4  The selection on the menu was great and so wer...          1"
      ]
     },
     "execution_count": 6,
     "metadata": {},
     "output_type": "execute_result"
    }
   ],
   "source": [
    "yelp_data.head()"
   ]
  },
  {
   "cell_type": "code",
   "execution_count": 7,
   "id": "97cec525",
   "metadata": {
    "execution": {
     "iopub.execute_input": "2022-02-04T15:22:18.219326Z",
     "iopub.status.busy": "2022-02-04T15:22:18.218349Z",
     "iopub.status.idle": "2022-02-04T15:22:18.225545Z",
     "shell.execute_reply": "2022-02-04T15:22:18.226223Z",
     "shell.execute_reply.started": "2022-02-04T13:16:52.950826Z"
    },
    "papermill": {
     "duration": 0.072958,
     "end_time": "2022-02-04T15:22:18.226406",
     "exception": false,
     "start_time": "2022-02-04T15:22:18.153448",
     "status": "completed"
    },
    "tags": []
   },
   "outputs": [
    {
     "name": "stdout",
     "output_type": "stream",
     "text": [
      "la taille du dataset amazon est: 1000\n",
      "la taille du dataset imdb est: 748\n",
      "la taille du dataset yelp est: 1000\n"
     ]
    }
   ],
   "source": [
    "for dataset in Datasets:\n",
    "    print(\"la taille du dataset \"+str(dataset)+\" est: \"+str(Datasets[dataset].shape[0]))\n"
   ]
  },
  {
   "cell_type": "markdown",
   "id": "691f4677",
   "metadata": {
    "papermill": {
     "duration": 0.062425,
     "end_time": "2022-02-04T15:22:18.351353",
     "exception": false,
     "start_time": "2022-02-04T15:22:18.288928",
     "status": "completed"
    },
    "tags": []
   },
   "source": [
    "<span style=\"color:grey; font-size:1.2em\">Un aperçu des données en utilisant les fonctions <b>info()</b> et <b>describe()</b> du pandas pour examiner les données. </span>"
   ]
  },
  {
   "cell_type": "code",
   "execution_count": 8,
   "id": "a6c59adf",
   "metadata": {
    "execution": {
     "iopub.execute_input": "2022-02-04T15:22:18.496977Z",
     "iopub.status.busy": "2022-02-04T15:22:18.495942Z",
     "iopub.status.idle": "2022-02-04T15:22:18.545861Z",
     "shell.execute_reply": "2022-02-04T15:22:18.544946Z",
     "shell.execute_reply.started": "2022-02-04T13:16:52.964941Z"
    },
    "papermill": {
     "duration": 0.132151,
     "end_time": "2022-02-04T15:22:18.546099",
     "exception": false,
     "start_time": "2022-02-04T15:22:18.413948",
     "status": "completed"
    },
    "tags": []
   },
   "outputs": [
    {
     "name": "stdout",
     "output_type": "stream",
     "text": [
      "\n",
      " Les info sur le dataset amazon: \n",
      "\n",
      "<class 'pandas.core.frame.DataFrame'>\n",
      "RangeIndex: 1000 entries, 0 to 999\n",
      "Data columns (total 2 columns):\n",
      " #   Column     Non-Null Count  Dtype \n",
      "---  ------     --------------  ----- \n",
      " 0   text       1000 non-null   object\n",
      " 1   sentiment  1000 non-null   int64 \n",
      "dtypes: int64(1), object(1)\n",
      "memory usage: 15.8+ KB\n",
      "None\n",
      "\n",
      " Les info sur le dataset imdb: \n",
      "\n",
      "<class 'pandas.core.frame.DataFrame'>\n",
      "RangeIndex: 748 entries, 0 to 747\n",
      "Data columns (total 2 columns):\n",
      " #   Column     Non-Null Count  Dtype \n",
      "---  ------     --------------  ----- \n",
      " 0   text       748 non-null    object\n",
      " 1   sentiment  748 non-null    int64 \n",
      "dtypes: int64(1), object(1)\n",
      "memory usage: 11.8+ KB\n",
      "None\n",
      "\n",
      " Les info sur le dataset yelp: \n",
      "\n",
      "<class 'pandas.core.frame.DataFrame'>\n",
      "RangeIndex: 1000 entries, 0 to 999\n",
      "Data columns (total 2 columns):\n",
      " #   Column     Non-Null Count  Dtype \n",
      "---  ------     --------------  ----- \n",
      " 0   text       1000 non-null   object\n",
      " 1   sentiment  1000 non-null   int64 \n",
      "dtypes: int64(1), object(1)\n",
      "memory usage: 15.8+ KB\n",
      "None\n"
     ]
    }
   ],
   "source": [
    "for dataset in Datasets.keys():\n",
    "    print(\"\\n Les info sur le dataset \"+str(dataset)+\": \\n\")\n",
    "    print(Datasets[dataset].info())"
   ]
  },
  {
   "cell_type": "code",
   "execution_count": 9,
   "id": "4eeeb524",
   "metadata": {
    "execution": {
     "iopub.execute_input": "2022-02-04T15:22:18.721086Z",
     "iopub.status.busy": "2022-02-04T15:22:18.720184Z",
     "iopub.status.idle": "2022-02-04T15:22:18.744899Z",
     "shell.execute_reply": "2022-02-04T15:22:18.745515Z",
     "shell.execute_reply.started": "2022-02-04T13:16:53.001870Z"
    },
    "papermill": {
     "duration": 0.121839,
     "end_time": "2022-02-04T15:22:18.745705",
     "exception": false,
     "start_time": "2022-02-04T15:22:18.623866",
     "status": "completed"
    },
    "tags": []
   },
   "outputs": [
    {
     "name": "stdout",
     "output_type": "stream",
     "text": [
      "\n",
      " Une description sur du dataset amazon: \n",
      "\n",
      "        sentiment\n",
      "count  1000.00000\n",
      "mean      0.50000\n",
      "std       0.50025\n",
      "min       0.00000\n",
      "25%       0.00000\n",
      "50%       0.50000\n",
      "75%       1.00000\n",
      "max       1.00000\n",
      "\n",
      " Une description sur du dataset imdb: \n",
      "\n",
      "        sentiment\n",
      "count  748.000000\n",
      "mean     0.516043\n",
      "std      0.500077\n",
      "min      0.000000\n",
      "25%      0.000000\n",
      "50%      1.000000\n",
      "75%      1.000000\n",
      "max      1.000000\n",
      "\n",
      " Une description sur du dataset yelp: \n",
      "\n",
      "        sentiment\n",
      "count  1000.00000\n",
      "mean      0.50000\n",
      "std       0.50025\n",
      "min       0.00000\n",
      "25%       0.00000\n",
      "50%       0.50000\n",
      "75%       1.00000\n",
      "max       1.00000\n"
     ]
    }
   ],
   "source": [
    "for dataset in Datasets.keys():\n",
    "    print(\"\\n Une description sur du dataset \"+str(dataset)+\": \\n\")\n",
    "    print(Datasets[dataset].describe())"
   ]
  },
  {
   "cell_type": "code",
   "execution_count": 10,
   "id": "848bec11",
   "metadata": {
    "execution": {
     "iopub.execute_input": "2022-02-04T15:22:18.887781Z",
     "iopub.status.busy": "2022-02-04T15:22:18.887113Z",
     "iopub.status.idle": "2022-02-04T15:22:18.902535Z",
     "shell.execute_reply": "2022-02-04T15:22:18.903406Z",
     "shell.execute_reply.started": "2022-02-04T13:16:53.028264Z"
    },
    "papermill": {
     "duration": 0.090376,
     "end_time": "2022-02-04T15:22:18.903644",
     "exception": false,
     "start_time": "2022-02-04T15:22:18.813268",
     "status": "completed"
    },
    "scrolled": true,
    "tags": []
   },
   "outputs": [
    {
     "name": "stdout",
     "output_type": "stream",
     "text": [
      "\n",
      " Les valeurs null du dataset amazon est: \n",
      "text         0\n",
      "sentiment    0\n",
      "dtype: int64\n",
      "\n",
      " Les valeurs null du dataset imdb est: \n",
      "text         0\n",
      "sentiment    0\n",
      "dtype: int64\n",
      "\n",
      " Les valeurs null du dataset yelp est: \n",
      "text         0\n",
      "sentiment    0\n",
      "dtype: int64\n"
     ]
    }
   ],
   "source": [
    "for dataset in Datasets.keys():\n",
    "    print(\"\\n Les valeurs null du dataset \"+str(dataset)+\" est: \")\n",
    "    print(Datasets[dataset].isna().sum())"
   ]
  },
  {
   "cell_type": "markdown",
   "id": "f2caf0e3",
   "metadata": {
    "execution": {
     "iopub.execute_input": "2022-01-24T19:00:32.005718Z",
     "iopub.status.busy": "2022-01-24T19:00:32.001761Z",
     "iopub.status.idle": "2022-01-24T19:00:32.031031Z"
    },
    "papermill": {
     "duration": 0.064822,
     "end_time": "2022-02-04T15:22:19.054854",
     "exception": false,
     "start_time": "2022-02-04T15:22:18.990032",
     "status": "completed"
    },
    "tags": []
   },
   "source": [
    "<span style=\"color:grey; font-size:1.2em\">Les données n'ont pas de <b>valeurs manquantes</b>, nous n'effectuerons donc pas un <b>nettoyage des données.</b> </span>"
   ]
  },
  {
   "cell_type": "markdown",
   "id": "f8bdc443",
   "metadata": {
    "papermill": {
     "duration": 0.063394,
     "end_time": "2022-02-04T15:22:19.182062",
     "exception": false,
     "start_time": "2022-02-04T15:22:19.118668",
     "status": "completed"
    },
    "tags": []
   },
   "source": [
    "<div id=\"trans\">\n",
    "        <h1 style=\"color:#1a1a1a\">\n",
    "         ⮞  Transformation de données\n",
    "        </h1>\n",
    "</div>"
   ]
  },
  {
   "cell_type": "markdown",
   "id": "e56d2bd1",
   "metadata": {
    "papermill": {
     "duration": 0.062786,
     "end_time": "2022-02-04T15:22:19.308955",
     "exception": false,
     "start_time": "2022-02-04T15:22:19.246169",
     "status": "completed"
    },
    "tags": []
   },
   "source": [
    "<span style=\"color:grey; font-size:1.2em\">On va créer un objet de type <b>pandas DataFrame</b> qui contient les données des trois Datasets.</span>"
   ]
  },
  {
   "cell_type": "code",
   "execution_count": 11,
   "id": "9cbc32f8",
   "metadata": {
    "execution": {
     "iopub.execute_input": "2022-02-04T15:22:19.451146Z",
     "iopub.status.busy": "2022-02-04T15:22:19.450147Z",
     "iopub.status.idle": "2022-02-04T15:22:19.452341Z",
     "shell.execute_reply": "2022-02-04T15:22:19.452840Z",
     "shell.execute_reply.started": "2022-02-04T13:16:53.043972Z"
    },
    "papermill": {
     "duration": 0.080467,
     "end_time": "2022-02-04T15:22:19.453071",
     "exception": false,
     "start_time": "2022-02-04T15:22:19.372604",
     "status": "completed"
    },
    "tags": []
   },
   "outputs": [],
   "source": [
    "amazon_data['source']='amazon'\n",
    "imdb_data['source']='imdb'\n",
    "yelp_data['source']='yelp'\n",
    "\n",
    "data  = pd.concat(list(Datasets.values()))"
   ]
  },
  {
   "cell_type": "code",
   "execution_count": 12,
   "id": "609bcbbc",
   "metadata": {
    "execution": {
     "iopub.execute_input": "2022-02-04T15:22:19.587288Z",
     "iopub.status.busy": "2022-02-04T15:22:19.586568Z",
     "iopub.status.idle": "2022-02-04T15:22:19.593538Z",
     "shell.execute_reply": "2022-02-04T15:22:19.594022Z",
     "shell.execute_reply.started": "2022-02-04T13:16:53.060724Z"
    },
    "papermill": {
     "duration": 0.076968,
     "end_time": "2022-02-04T15:22:19.594245",
     "exception": false,
     "start_time": "2022-02-04T15:22:19.517277",
     "status": "completed"
    },
    "tags": []
   },
   "outputs": [
    {
     "data": {
      "text/html": [
       "<div>\n",
       "<style scoped>\n",
       "    .dataframe tbody tr th:only-of-type {\n",
       "        vertical-align: middle;\n",
       "    }\n",
       "\n",
       "    .dataframe tbody tr th {\n",
       "        vertical-align: top;\n",
       "    }\n",
       "\n",
       "    .dataframe thead th {\n",
       "        text-align: right;\n",
       "    }\n",
       "</style>\n",
       "<table border=\"1\" class=\"dataframe\">\n",
       "  <thead>\n",
       "    <tr style=\"text-align: right;\">\n",
       "      <th></th>\n",
       "      <th>text</th>\n",
       "      <th>sentiment</th>\n",
       "      <th>source</th>\n",
       "    </tr>\n",
       "  </thead>\n",
       "  <tbody>\n",
       "    <tr>\n",
       "      <th>0</th>\n",
       "      <td>So there is no way for me to plug it in here i...</td>\n",
       "      <td>0</td>\n",
       "      <td>amazon</td>\n",
       "    </tr>\n",
       "    <tr>\n",
       "      <th>1</th>\n",
       "      <td>Good case, Excellent value.</td>\n",
       "      <td>1</td>\n",
       "      <td>amazon</td>\n",
       "    </tr>\n",
       "    <tr>\n",
       "      <th>2</th>\n",
       "      <td>Great for the jawbone.</td>\n",
       "      <td>1</td>\n",
       "      <td>amazon</td>\n",
       "    </tr>\n",
       "    <tr>\n",
       "      <th>3</th>\n",
       "      <td>Tied to charger for conversations lasting more...</td>\n",
       "      <td>0</td>\n",
       "      <td>amazon</td>\n",
       "    </tr>\n",
       "    <tr>\n",
       "      <th>4</th>\n",
       "      <td>The mic is great.</td>\n",
       "      <td>1</td>\n",
       "      <td>amazon</td>\n",
       "    </tr>\n",
       "  </tbody>\n",
       "</table>\n",
       "</div>"
      ],
      "text/plain": [
       "                                                text  sentiment  source\n",
       "0  So there is no way for me to plug it in here i...          0  amazon\n",
       "1                        Good case, Excellent value.          1  amazon\n",
       "2                             Great for the jawbone.          1  amazon\n",
       "3  Tied to charger for conversations lasting more...          0  amazon\n",
       "4                                  The mic is great.          1  amazon"
      ]
     },
     "execution_count": 12,
     "metadata": {},
     "output_type": "execute_result"
    }
   ],
   "source": [
    "data.head()"
   ]
  },
  {
   "cell_type": "markdown",
   "id": "9c3b338d",
   "metadata": {
    "papermill": {
     "duration": 0.063462,
     "end_time": "2022-02-04T15:22:19.721787",
     "exception": false,
     "start_time": "2022-02-04T15:22:19.658325",
     "status": "completed"
    },
    "tags": []
   },
   "source": [
    "<span style=\"color:grey; font-size:1.2em\">Analyons donc le nouveau jeu de données.</span>"
   ]
  },
  {
   "cell_type": "code",
   "execution_count": 13,
   "id": "59d81458",
   "metadata": {
    "execution": {
     "iopub.execute_input": "2022-02-04T15:22:19.854201Z",
     "iopub.status.busy": "2022-02-04T15:22:19.853476Z",
     "iopub.status.idle": "2022-02-04T15:22:19.858170Z",
     "shell.execute_reply": "2022-02-04T15:22:19.858703Z",
     "shell.execute_reply.started": "2022-02-04T13:16:53.079398Z"
    },
    "papermill": {
     "duration": 0.073324,
     "end_time": "2022-02-04T15:22:19.858915",
     "exception": false,
     "start_time": "2022-02-04T15:22:19.785591",
     "status": "completed"
    },
    "tags": []
   },
   "outputs": [
    {
     "name": "stdout",
     "output_type": "stream",
     "text": [
      "la taille du nouveau dataset est: 2748\n"
     ]
    }
   ],
   "source": [
    "print(\"la taille du nouveau dataset est: \"+str(data.shape[0]))"
   ]
  },
  {
   "cell_type": "code",
   "execution_count": 14,
   "id": "7a69d7f8",
   "metadata": {
    "execution": {
     "iopub.execute_input": "2022-02-04T15:22:19.990561Z",
     "iopub.status.busy": "2022-02-04T15:22:19.989913Z",
     "iopub.status.idle": "2022-02-04T15:22:20.004683Z",
     "shell.execute_reply": "2022-02-04T15:22:20.005249Z",
     "shell.execute_reply.started": "2022-02-04T13:16:53.086546Z"
    },
    "papermill": {
     "duration": 0.082943,
     "end_time": "2022-02-04T15:22:20.005424",
     "exception": false,
     "start_time": "2022-02-04T15:22:19.922481",
     "status": "completed"
    },
    "tags": []
   },
   "outputs": [
    {
     "name": "stdout",
     "output_type": "stream",
     "text": [
      "Une description sur du nouveau dataset:\n"
     ]
    },
    {
     "data": {
      "text/html": [
       "<div>\n",
       "<style scoped>\n",
       "    .dataframe tbody tr th:only-of-type {\n",
       "        vertical-align: middle;\n",
       "    }\n",
       "\n",
       "    .dataframe tbody tr th {\n",
       "        vertical-align: top;\n",
       "    }\n",
       "\n",
       "    .dataframe thead th {\n",
       "        text-align: right;\n",
       "    }\n",
       "</style>\n",
       "<table border=\"1\" class=\"dataframe\">\n",
       "  <thead>\n",
       "    <tr style=\"text-align: right;\">\n",
       "      <th></th>\n",
       "      <th>sentiment</th>\n",
       "    </tr>\n",
       "  </thead>\n",
       "  <tbody>\n",
       "    <tr>\n",
       "      <th>count</th>\n",
       "      <td>2748.000000</td>\n",
       "    </tr>\n",
       "    <tr>\n",
       "      <th>mean</th>\n",
       "      <td>0.504367</td>\n",
       "    </tr>\n",
       "    <tr>\n",
       "      <th>std</th>\n",
       "      <td>0.500072</td>\n",
       "    </tr>\n",
       "    <tr>\n",
       "      <th>min</th>\n",
       "      <td>0.000000</td>\n",
       "    </tr>\n",
       "    <tr>\n",
       "      <th>25%</th>\n",
       "      <td>0.000000</td>\n",
       "    </tr>\n",
       "    <tr>\n",
       "      <th>50%</th>\n",
       "      <td>1.000000</td>\n",
       "    </tr>\n",
       "    <tr>\n",
       "      <th>75%</th>\n",
       "      <td>1.000000</td>\n",
       "    </tr>\n",
       "    <tr>\n",
       "      <th>max</th>\n",
       "      <td>1.000000</td>\n",
       "    </tr>\n",
       "  </tbody>\n",
       "</table>\n",
       "</div>"
      ],
      "text/plain": [
       "         sentiment\n",
       "count  2748.000000\n",
       "mean      0.504367\n",
       "std       0.500072\n",
       "min       0.000000\n",
       "25%       0.000000\n",
       "50%       1.000000\n",
       "75%       1.000000\n",
       "max       1.000000"
      ]
     },
     "execution_count": 14,
     "metadata": {},
     "output_type": "execute_result"
    }
   ],
   "source": [
    "print(\"Une description sur du nouveau dataset:\")\n",
    "data.describe()"
   ]
  },
  {
   "cell_type": "code",
   "execution_count": 15,
   "id": "f5fba948",
   "metadata": {
    "execution": {
     "iopub.execute_input": "2022-02-04T15:22:20.140538Z",
     "iopub.status.busy": "2022-02-04T15:22:20.139883Z",
     "iopub.status.idle": "2022-02-04T15:22:20.347658Z",
     "shell.execute_reply": "2022-02-04T15:22:20.347121Z",
     "shell.execute_reply.started": "2022-02-04T13:16:53.108390Z"
    },
    "papermill": {
     "duration": 0.27636,
     "end_time": "2022-02-04T15:22:20.347853",
     "exception": false,
     "start_time": "2022-02-04T15:22:20.071493",
     "status": "completed"
    },
    "tags": []
   },
   "outputs": [
    {
     "name": "stdout",
     "output_type": "stream",
     "text": [
      "le pourcentage de chaque source:\n"
     ]
    },
    {
     "data": {
      "text/plain": [
       "<AxesSubplot:ylabel='source'>"
      ]
     },
     "execution_count": 15,
     "metadata": {},
     "output_type": "execute_result"
    },
    {
     "data": {
      "image/png": "[encoded data removed]",
      "text/plain": [
       "<Figure size 360x360 with 1 Axes>"
      ]
     },
     "metadata": {},
     "output_type": "display_data"
    }
   ],
   "source": [
    "print(\"le pourcentage de chaque source:\")\n",
    "data['source'].value_counts().plot(kind='pie', \n",
    "                                   autopct='%1.0f%%',\n",
    "                                   shadow=True, \n",
    "                                   startangle=90, \n",
    "                                   pctdistance=0.85,\n",
    "                                   explode = (0.1,0.1,0.1),\n",
    "                                   colors = ['#f19100','#f21919','#e2b616'],\n",
    "                                   figsize=(5, 5))"
   ]
  },
  {
   "cell_type": "code",
   "execution_count": 16,
   "id": "6a465da2",
   "metadata": {
    "execution": {
     "iopub.execute_input": "2022-02-04T15:22:20.484202Z",
     "iopub.status.busy": "2022-02-04T15:22:20.483523Z",
     "iopub.status.idle": "2022-02-04T15:22:20.616949Z",
     "shell.execute_reply": "2022-02-04T15:22:20.616182Z",
     "shell.execute_reply.started": "2022-02-04T13:16:53.235857Z"
    },
    "papermill": {
     "duration": 0.202898,
     "end_time": "2022-02-04T15:22:20.617119",
     "exception": false,
     "start_time": "2022-02-04T15:22:20.414221",
     "status": "completed"
    },
    "tags": []
   },
   "outputs": [
    {
     "name": "stdout",
     "output_type": "stream",
     "text": [
      "le pourcentage des types de sentiments:\n"
     ]
    },
    {
     "data": {
      "text/plain": [
       "<AxesSubplot:ylabel='sentiment'>"
      ]
     },
     "execution_count": 16,
     "metadata": {},
     "output_type": "execute_result"
    },
    {
     "data": {
      "image/png": "[encoded data removed]",
      "text/plain": [
       "<Figure size 360x360 with 1 Axes>"
      ]
     },
     "metadata": {},
     "output_type": "display_data"
    }
   ],
   "source": [
    "print(\"le pourcentage des types de sentiments:\")\n",
    "data.sentiment.value_counts().plot(kind='pie', \n",
    "                                   autopct='%1.0f%%',\n",
    "                                   shadow=True, \n",
    "                                   startangle=180, \n",
    "                                   pctdistance=0.85,\n",
    "                                   explode = (0.05,0.05),\n",
    "                                   colors = ['#5cb696','#e4565c'],\n",
    "                                   figsize=(5, 5))"
   ]
  },
  {
   "cell_type": "markdown",
   "id": "94478561",
   "metadata": {
    "papermill": {
     "duration": 0.066999,
     "end_time": "2022-02-04T15:22:20.753031",
     "exception": false,
     "start_time": "2022-02-04T15:22:20.686032",
     "status": "completed"
    },
    "tags": []
   },
   "source": [
    "<span style=\"color:grey; font-size:1.2em\">Cet ensemble de données a <b>50/50</b> sentiments positifs et négatifs représentés par <b>1 et 0 </b>respectivement.</span>"
   ]
  },
  {
   "cell_type": "markdown",
   "id": "7c4c37f2",
   "metadata": {
    "papermill": {
     "duration": 0.067668,
     "end_time": "2022-02-04T15:22:20.888770",
     "exception": false,
     "start_time": "2022-02-04T15:22:20.821102",
     "status": "completed"
    },
    "tags": []
   },
   "source": [
    "<center id=\"pre-processing\">\n",
    "        <h1 style=\"color:#1a1a1a;\n",
    "                    font-size:2em\">\n",
    "        Pré-traitement ⚙️\n",
    "        </h1>\n",
    "</center>"
   ]
  },
  {
   "cell_type": "markdown",
   "id": "8ba4a5d7",
   "metadata": {
    "papermill": {
     "duration": 0.066928,
     "end_time": "2022-02-04T15:22:21.024027",
     "exception": false,
     "start_time": "2022-02-04T15:22:20.957099",
     "status": "completed"
    },
    "tags": []
   },
   "source": [
    "<div id=\"split-data\">\n",
    "        <h1 style=\"color:#1a1a1a\">\n",
    "         ⮞  Diviser les données\n",
    "        </h1>\n",
    "</div>"
   ]
  },
  {
   "cell_type": "markdown",
   "id": "2aa127fd",
   "metadata": {
    "papermill": {
     "duration": 0.066786,
     "end_time": "2022-02-04T15:22:21.158868",
     "exception": false,
     "start_time": "2022-02-04T15:22:21.092082",
     "status": "completed"
    },
    "tags": []
   },
   "source": [
    "\n",
    "\n",
    "<span style=\"color:grey; font-size:1.2em\">Nous commençons par diviser notre jeu de données <b>75%</b> pour l'entraînement et <b>25%</b> pour le test.</span>\n"
   ]
  },
  {
   "cell_type": "code",
   "execution_count": 17,
   "id": "f8be4415",
   "metadata": {
    "execution": {
     "iopub.execute_input": "2022-02-04T15:22:21.302412Z",
     "iopub.status.busy": "2022-02-04T15:22:21.301717Z",
     "iopub.status.idle": "2022-02-04T15:22:21.304156Z",
     "shell.execute_reply": "2022-02-04T15:22:21.303505Z",
     "shell.execute_reply.started": "2022-02-04T13:16:53.344341Z"
    },
    "papermill": {
     "duration": 0.078523,
     "end_time": "2022-02-04T15:22:21.304299",
     "exception": false,
     "start_time": "2022-02-04T15:22:21.225776",
     "status": "completed"
    },
    "tags": []
   },
   "outputs": [],
   "source": [
    "sentences = data['text'].values\n",
    "y = data['sentiment'].values\n",
    "\n",
    "# diviser les données\n",
    "sentences_train, sentences_test, y_train, y_test = train_test_split(sentences, y, \n",
    "                                                                    test_size=0.25, \n",
    "                                                                    random_state=1000, \n",
    "                                                                    shuffle=True)"
   ]
  },
  {
   "cell_type": "code",
   "execution_count": 18,
   "id": "5811e6a7",
   "metadata": {
    "execution": {
     "iopub.execute_input": "2022-02-04T15:22:21.455225Z",
     "iopub.status.busy": "2022-02-04T15:22:21.454521Z",
     "iopub.status.idle": "2022-02-04T15:22:21.569551Z",
     "shell.execute_reply": "2022-02-04T15:22:21.568922Z",
     "shell.execute_reply.started": "2022-02-04T13:16:53.353531Z"
    },
    "papermill": {
     "duration": 0.197568,
     "end_time": "2022-02-04T15:22:21.569721",
     "exception": false,
     "start_time": "2022-02-04T15:22:21.372153",
     "status": "completed"
    },
    "tags": []
   },
   "outputs": [
    {
     "name": "stdout",
     "output_type": "stream",
     "text": [
      "le pourcentage des types de sentiments pour les donnees d'entraînement:\n"
     ]
    },
    {
     "data": {
      "text/plain": [
       "<AxesSubplot:ylabel='sentiment'>"
      ]
     },
     "execution_count": 18,
     "metadata": {},
     "output_type": "execute_result"
    },
    {
     "data": {
      "image/png": "[encoded data removed]",
      "text/plain": [
       "<Figure size 360x360 with 1 Axes>"
      ]
     },
     "metadata": {},
     "output_type": "display_data"
    }
   ],
   "source": [
    "train_sentences = np.array(sentences_train)\n",
    "train_labels = np.array(y_train)\n",
    "train = pd.DataFrame({'sentiment': train_labels, 'text': list(train_sentences)}, columns=['sentiment', 'text'])\n",
    "\n",
    "print(\"le pourcentage des types de sentiments pour les donnees d'entraînement:\")\n",
    "train.sentiment.value_counts().plot(kind='pie', \n",
    "                                   autopct='%1.0f%%',\n",
    "                                   shadow=True, \n",
    "                                   startangle=180, \n",
    "                                   pctdistance=0.85,\n",
    "                                   explode = (0.05,0.05),\n",
    "                                   colors = ['#5cb696','#e4565c'],\n",
    "                                   figsize=(5, 5))"
   ]
  },
  {
   "cell_type": "markdown",
   "id": "d83bc723",
   "metadata": {
    "papermill": {
     "duration": 0.06834,
     "end_time": "2022-02-04T15:22:21.707772",
     "exception": false,
     "start_time": "2022-02-04T15:22:21.639432",
     "status": "completed"
    },
    "tags": []
   },
   "source": [
    "<span style=\"color:grey; font-size:1.2em\">L'échantillon de données d'apprentissage représente très bien l'ensemble de données</span>"
   ]
  },
  {
   "cell_type": "markdown",
   "id": "d34b6288",
   "metadata": {
    "papermill": {
     "duration": 0.068179,
     "end_time": "2022-02-04T15:22:21.844794",
     "exception": false,
     "start_time": "2022-02-04T15:22:21.776615",
     "status": "completed"
    },
    "tags": []
   },
   "source": [
    "<div id=\"Vectorising\">\n",
    "        <h1 style=\"color:#1a1a1a\">\n",
    "         ⮞  Vectoriser les phrases\n",
    "        </h1>\n",
    "</div>"
   ]
  },
  {
   "cell_type": "markdown",
   "id": "efe6caca",
   "metadata": {
    "papermill": {
     "duration": 0.069,
     "end_time": "2022-02-04T15:22:21.982470",
     "exception": false,
     "start_time": "2022-02-04T15:22:21.913470",
     "status": "completed"
    },
    "tags": []
   },
   "source": [
    "<span style=\"color:grey; font-size:1.2em\">D'aboard on doit créer un vocabulaire de tous les mots uniques dans les phrases. Pour cela on va utiliser `CountVectorizer` fourni par la bibliothèque `scikit-learn` pour vectoriser les phrases. Ce vocabulaire peut ensuite être utilisé pour créer un vecteur de caractéristiques du nombre de mots.<br> pour mieux comprendre prenant un example issue de notre jeu de données:</span>"
   ]
  },
  {
   "cell_type": "code",
   "execution_count": 19,
   "id": "2eb050fb",
   "metadata": {
    "execution": {
     "iopub.execute_input": "2022-02-04T15:22:22.128324Z",
     "iopub.status.busy": "2022-02-04T15:22:22.127353Z",
     "iopub.status.idle": "2022-02-04T15:22:22.133226Z",
     "shell.execute_reply": "2022-02-04T15:22:22.132413Z",
     "shell.execute_reply.started": "2022-02-04T13:16:53.476250Z"
    },
    "papermill": {
     "duration": 0.082205,
     "end_time": "2022-02-04T15:22:22.133455",
     "exception": false,
     "start_time": "2022-02-04T15:22:22.051250",
     "status": "completed"
    },
    "tags": []
   },
   "outputs": [
    {
     "name": "stdout",
     "output_type": "stream",
     "text": [
      "So there is no way for me to plug it in here in the US unless I go by a converter.\n",
      "Good case, Excellent value.\n",
      "Great for the jawbone.\n"
     ]
    }
   ],
   "source": [
    "sample_text = data['text'][:3]\n",
    "for text in sample_text: print(text)"
   ]
  },
  {
   "cell_type": "code",
   "execution_count": 20,
   "id": "e62c774f",
   "metadata": {
    "execution": {
     "iopub.execute_input": "2022-02-04T15:22:22.285724Z",
     "iopub.status.busy": "2022-02-04T15:22:22.284796Z",
     "iopub.status.idle": "2022-02-04T15:22:22.288891Z",
     "shell.execute_reply": "2022-02-04T15:22:22.288255Z",
     "shell.execute_reply.started": "2022-02-04T13:16:53.487055Z"
    },
    "papermill": {
     "duration": 0.085225,
     "end_time": "2022-02-04T15:22:22.289030",
     "exception": false,
     "start_time": "2022-02-04T15:22:22.203805",
     "status": "completed"
    },
    "tags": []
   },
   "outputs": [
    {
     "data": {
      "text/plain": [
       "{'So': 3,\n",
       " 'there': 19,\n",
       " 'is': 12,\n",
       " 'no': 16,\n",
       " 'way': 23,\n",
       " 'for': 8,\n",
       " 'me': 15,\n",
       " 'to': 20,\n",
       " 'plug': 17,\n",
       " 'it': 13,\n",
       " 'in': 11,\n",
       " 'here': 10,\n",
       " 'the': 18,\n",
       " 'US': 4,\n",
       " 'unless': 21,\n",
       " 'go': 9,\n",
       " 'by': 5,\n",
       " 'converter': 7,\n",
       " 'Good': 1,\n",
       " 'case': 6,\n",
       " 'Excellent': 0,\n",
       " 'value': 22,\n",
       " 'Great': 2,\n",
       " 'jawbone': 14}"
      ]
     },
     "execution_count": 20,
     "metadata": {},
     "output_type": "execute_result"
    }
   ],
   "source": [
    "vectorizer = CountVectorizer(min_df=0, lowercase=False)\n",
    "vectorizer.fit(sample_text)\n",
    "vectorizer.vocabulary_"
   ]
  },
  {
   "cell_type": "code",
   "execution_count": 21,
   "id": "b6902501",
   "metadata": {
    "execution": {
     "iopub.execute_input": "2022-02-04T15:22:22.436529Z",
     "iopub.status.busy": "2022-02-04T15:22:22.435559Z",
     "iopub.status.idle": "2022-02-04T15:22:22.439675Z",
     "shell.execute_reply": "2022-02-04T15:22:22.439105Z",
     "shell.execute_reply.started": "2022-02-04T13:16:53.506276Z"
    },
    "papermill": {
     "duration": 0.080191,
     "end_time": "2022-02-04T15:22:22.439826",
     "exception": false,
     "start_time": "2022-02-04T15:22:22.359635",
     "status": "completed"
    },
    "tags": []
   },
   "outputs": [
    {
     "data": {
      "text/plain": [
       "array([[0, 0, 0, 1, 1, 1, 0, 1, 1, 1, 1, 2, 1, 1, 0, 1, 1, 1, 1, 1, 1, 1,\n",
       "        0, 1],\n",
       "       [1, 1, 0, 0, 0, 0, 1, 0, 0, 0, 0, 0, 0, 0, 0, 0, 0, 0, 0, 0, 0, 0,\n",
       "        1, 0],\n",
       "       [0, 0, 1, 0, 0, 0, 0, 0, 1, 0, 0, 0, 0, 0, 1, 0, 0, 0, 1, 0, 0, 0,\n",
       "        0, 0]])"
      ]
     },
     "execution_count": 21,
     "metadata": {},
     "output_type": "execute_result"
    }
   ],
   "source": [
    "vectorizer.transform(sample_text).toarray()"
   ]
  },
  {
   "cell_type": "markdown",
   "id": "81b7a628",
   "metadata": {
    "papermill": {
     "duration": 0.070356,
     "end_time": "2022-02-04T15:22:22.581460",
     "exception": false,
     "start_time": "2022-02-04T15:22:22.511104",
     "status": "completed"
    },
    "tags": []
   },
   "source": [
    "<span style=\"color:grey; font-size:1.2em\">Créez les vecteurs de caractéristiques pour chaque phrase de l'ensemble d'entraînement et de test :</span>\n"
   ]
  },
  {
   "cell_type": "code",
   "execution_count": 22,
   "id": "b079ecc9",
   "metadata": {
    "execution": {
     "iopub.execute_input": "2022-02-04T15:22:22.734802Z",
     "iopub.status.busy": "2022-02-04T15:22:22.734117Z",
     "iopub.status.idle": "2022-02-04T15:22:22.836623Z",
     "shell.execute_reply": "2022-02-04T15:22:22.837142Z",
     "shell.execute_reply.started": "2022-02-04T13:16:53.518982Z"
    },
    "papermill": {
     "duration": 0.184266,
     "end_time": "2022-02-04T15:22:22.837357",
     "exception": false,
     "start_time": "2022-02-04T15:22:22.653091",
     "status": "completed"
    },
    "tags": []
   },
   "outputs": [],
   "source": [
    "vectorizer = CountVectorizer()\n",
    "vectorizer.fit(sentences_train)\n",
    "\n",
    "X_train = vectorizer.transform(sentences_train)\n",
    "X_test  = vectorizer.transform(sentences_test)"
   ]
  },
  {
   "cell_type": "code",
   "execution_count": 23,
   "id": "876f8703",
   "metadata": {
    "execution": {
     "iopub.execute_input": "2022-02-04T15:22:22.980396Z",
     "iopub.status.busy": "2022-02-04T15:22:22.979736Z",
     "iopub.status.idle": "2022-02-04T15:22:22.987825Z",
     "shell.execute_reply": "2022-02-04T15:22:22.987167Z",
     "shell.execute_reply.started": "2022-02-04T13:16:53.602291Z"
    },
    "papermill": {
     "duration": 0.080677,
     "end_time": "2022-02-04T15:22:22.987967",
     "exception": false,
     "start_time": "2022-02-04T15:22:22.907290",
     "status": "completed"
    },
    "tags": []
   },
   "outputs": [
    {
     "name": "stdout",
     "output_type": "stream",
     "text": [
      "le format final de nos données d'entraînement est:\n",
      "\n",
      "   (0, 185)\t1\n",
      "  (0, 340)\t1\n",
      "  (0, 358)\t1\n",
      "  (0, 1359)\t1\n",
      "  (0, 2050)\t1\n",
      "  (0, 3780)\t1\n",
      "  (1, 131)\t1\n",
      "  (1, 187)\t1\n",
      "  (1, 550)\t1\n",
      "  (1, 1427)\t1\n",
      "  (1, 1543)\t1\n",
      "  (1, 1656)\t1\n",
      "  (1, 2050)\t1\n",
      "  (1, 2489)\t1\n",
      "  (1, 2530)\t1\n",
      "  (1, 2763)\t1\n",
      "  (1, 4163)\t1\n",
      "  (1, 4189)\t1\n",
      "  (2, 101)\t1\n",
      "  (2, 187)\t1\n",
      "  (2, 258)\t1\n",
      "  (2, 373)\t1\n",
      "  (2, 504)\t1\n",
      "  (2, 951)\t1\n",
      "  (2, 1324)\t1\n",
      "  :\t:\n",
      "  (2060, 1401)\t1\n",
      "  (2060, 1474)\t1\n",
      "  (2060, 1546)\t1\n",
      "  (2060, 1638)\t1\n",
      "  (2060, 1793)\t1\n",
      "  (2060, 1845)\t1\n",
      "  (2060, 1900)\t1\n",
      "  (2060, 2024)\t1\n",
      "  (2060, 2055)\t1\n",
      "  (2060, 2069)\t1\n",
      "  (2060, 2293)\t1\n",
      "  (2060, 2314)\t1\n",
      "  (2060, 2355)\t1\n",
      "  (2060, 2444)\t1\n",
      "  (2060, 2449)\t1\n",
      "  (2060, 2450)\t1\n",
      "  (2060, 2467)\t1\n",
      "  (2060, 2586)\t1\n",
      "  (2060, 2640)\t2\n",
      "  (2060, 3511)\t1\n",
      "  (2060, 3730)\t1\n",
      "  (2060, 3759)\t2\n",
      "  (2060, 3825)\t1\n",
      "  (2060, 4169)\t1\n",
      "  (2060, 4207)\t1\n"
     ]
    }
   ],
   "source": [
    "print(\"le format final de nos données d'entraînement est:\\n\\n\",X_train)"
   ]
  },
  {
   "cell_type": "markdown",
   "id": "d9b92325",
   "metadata": {
    "papermill": {
     "duration": 0.070552,
     "end_time": "2022-02-04T15:22:23.130227",
     "exception": false,
     "start_time": "2022-02-04T15:22:23.059675",
     "status": "completed"
    },
    "tags": []
   },
   "source": [
    "<center id=\"model-building\">\n",
    "        <h1 style=\"color:#1a1a1a;\n",
    "                    font-size:2em\">\n",
    "        Construction des modèles 🛠️\n",
    "        </h1>\n",
    "</center>"
   ]
  },
  {
   "cell_type": "markdown",
   "id": "148208f1",
   "metadata": {
    "papermill": {
     "duration": 0.069426,
     "end_time": "2022-02-04T15:22:23.269655",
     "exception": false,
     "start_time": "2022-02-04T15:22:23.200229",
     "status": "completed"
    },
    "tags": []
   },
   "source": [
    "<div id=\"ml-basic\">\n",
    "        <h1 style=\"color:#1a1a1a\">\n",
    "         ⮞  Modèles de base du ML  \n",
    "        </h1>\n",
    "</div>\n"
   ]
  },
  {
   "cell_type": "code",
   "execution_count": 24,
   "id": "7c18d9f6",
   "metadata": {
    "execution": {
     "iopub.execute_input": "2022-02-04T15:22:23.414319Z",
     "iopub.status.busy": "2022-02-04T15:22:23.413567Z",
     "iopub.status.idle": "2022-02-04T15:22:23.556515Z",
     "shell.execute_reply": "2022-02-04T15:22:23.555831Z",
     "shell.execute_reply.started": "2022-02-04T13:16:53.613368Z"
    },
    "papermill": {
     "duration": 0.216532,
     "end_time": "2022-02-04T15:22:23.556656",
     "exception": false,
     "start_time": "2022-02-04T15:22:23.340124",
     "status": "completed"
    },
    "tags": []
   },
   "outputs": [
    {
     "name": "stdout",
     "output_type": "stream",
     "text": [
      "Accuracy: 75.98 %\n"
     ]
    }
   ],
   "source": [
    "classifier = DecisionTreeClassifier()\n",
    "classifier.fit(X_train, y_train)\n",
    "score = classifier.score(X_test, y_test)\n",
    "\n",
    "print(\"Accuracy: {:.2f} %\".format(score*100))"
   ]
  },
  {
   "cell_type": "markdown",
   "id": "2baff5d9",
   "metadata": {
    "papermill": {
     "duration": 0.070212,
     "end_time": "2022-02-04T15:22:23.697366",
     "exception": false,
     "start_time": "2022-02-04T15:22:23.627154",
     "status": "completed"
    },
    "tags": []
   },
   "source": [
    "<span style=\"color:grey; font-size:1.2em\">On remarque que le DecisionTreeClassifier a atteint un impressionnant 74.36 %, mais regardons comment ce modèle fonctionne sur les autres ensembles de données dont nous disposons. Dans ce script, nous effectuons et évaluons un ensemble des modèles pour chaque ensemble de données:</span>"
   ]
  },
  {
   "cell_type": "code",
   "execution_count": 25,
   "id": "b57ce9c5",
   "metadata": {
    "execution": {
     "iopub.execute_input": "2022-02-04T15:22:23.843442Z",
     "iopub.status.busy": "2022-02-04T15:22:23.842459Z",
     "iopub.status.idle": "2022-02-04T15:22:23.850385Z",
     "shell.execute_reply": "2022-02-04T15:22:23.850895Z",
     "shell.execute_reply.started": "2022-02-04T13:16:53.764833Z"
    },
    "papermill": {
     "duration": 0.083123,
     "end_time": "2022-02-04T15:22:23.851101",
     "exception": false,
     "start_time": "2022-02-04T15:22:23.767978",
     "status": "completed"
    },
    "tags": []
   },
   "outputs": [],
   "source": [
    "def prediction(model_name):\n",
    "    for dataframe in Datasets.values():\n",
    "        Sentences = dataframe['text'].values\n",
    "        Y = dataframe['sentiment'].values\n",
    "\n",
    "        Sentences_train, Sentences_test, Y_train, Y_test = train_test_split(\n",
    "            Sentences, Y, test_size=0.25, random_state=1000)\n",
    "\n",
    "        vectorizer = CountVectorizer(stop_words='english')\n",
    "        vectorizer.fit(sentences_train)\n",
    "        x_train = vectorizer.transform(Sentences_train)\n",
    "        x_test  = vectorizer.transform(Sentences_test)\n",
    "\n",
    "        model = models[model_name]\n",
    "        model.fit(x_train, Y_train)\n",
    "        score = model.score(x_test, Y_test)\n",
    "        print('Accuracy for {} data with {} model is: {:.2f} %'.format(dataframe['source'][0],model_name, (score*100)))\n",
    "    print('\\n'+('-'*70)+'\\n')"
   ]
  },
  {
   "cell_type": "code",
   "execution_count": 26,
   "id": "5a8042e2",
   "metadata": {
    "execution": {
     "iopub.execute_input": "2022-02-04T15:22:24.044442Z",
     "iopub.status.busy": "2022-02-04T15:22:24.004372Z",
     "iopub.status.idle": "2022-02-04T15:22:44.208684Z",
     "shell.execute_reply": "2022-02-04T15:22:44.207703Z",
     "shell.execute_reply.started": "2022-02-04T13:16:53.772751Z"
    },
    "papermill": {
     "duration": 20.28599,
     "end_time": "2022-02-04T15:22:44.208852",
     "exception": false,
     "start_time": "2022-02-04T15:22:23.922862",
     "status": "completed"
    },
    "tags": []
   },
   "outputs": [
    {
     "name": "stdout",
     "output_type": "stream",
     "text": [
      "Accuracy for amazon data with Logistic Regression model is: 77.20 %\n",
      "Accuracy for imdb data with Logistic Regression model is: 75.94 %\n",
      "Accuracy for yelp data with Logistic Regression model is: 75.60 %\n",
      "\n",
      "----------------------------------------------------------------------\n",
      "\n",
      "Accuracy for amazon data with Support Vector Machine model is: 74.40 %\n",
      "Accuracy for imdb data with Support Vector Machine model is: 72.19 %\n",
      "Accuracy for yelp data with Support Vector Machine model is: 75.60 %\n",
      "\n",
      "----------------------------------------------------------------------\n",
      "\n",
      "Accuracy for amazon data with Decision Tree model is: 67.20 %\n",
      "Accuracy for imdb data with Decision Tree model is: 68.45 %\n",
      "Accuracy for yelp data with Decision Tree model is: 72.40 %\n",
      "\n",
      "----------------------------------------------------------------------\n",
      "\n",
      "Accuracy for amazon data with Gradient Boosting model is: 69.60 %\n",
      "Accuracy for imdb data with Gradient Boosting model is: 70.05 %\n",
      "Accuracy for yelp data with Gradient Boosting model is: 73.20 %\n",
      "\n",
      "----------------------------------------------------------------------\n",
      "\n",
      "Accuracy for amazon data with Random Forest model is: 70.80 %\n",
      "Accuracy for imdb data with Random Forest model is: 76.47 %\n",
      "Accuracy for yelp data with Random Forest model is: 76.00 %\n",
      "\n",
      "----------------------------------------------------------------------\n",
      "\n"
     ]
    }
   ],
   "source": [
    "models = {\"Logistic Regression\": LogisticRegression(),\n",
    "          \"Support Vector Machine\": SVC(),\n",
    "          \"Decision Tree\": DecisionTreeClassifier(),\n",
    "          \"Gradient Boosting\": GradientBoostingClassifier(n_estimators=100, max_depth=100, random_state=5000),\n",
    "          \"Random Forest\": RandomForestClassifier(max_depth=200, random_state=1000)\n",
    "         }\n",
    "\n",
    "for model in models: prediction(model)"
   ]
  },
  {
   "cell_type": "markdown",
   "id": "d2dbbae9",
   "metadata": {
    "papermill": {
     "duration": 0.074589,
     "end_time": "2022-02-04T15:22:44.357769",
     "exception": false,
     "start_time": "2022-02-04T15:22:44.283180",
     "status": "completed"
    },
    "tags": []
   },
   "source": [
    "<span style=\"color:grey; font-size:1.2em\">Comme on peut le voir, les approches ml de base obtiennent des résultats respectables, mais nous n'avons obtenu aucun modèle qui fonctionne très bien sur toutes les données</span>"
   ]
  },
  {
   "cell_type": "markdown",
   "id": "ab4be2d3",
   "metadata": {
    "papermill": {
     "duration": 0.075051,
     "end_time": "2022-02-04T15:22:44.507696",
     "exception": false,
     "start_time": "2022-02-04T15:22:44.432645",
     "status": "completed"
    },
    "tags": []
   },
   "source": [
    "<div id=\"ANN\">\n",
    "        <h1 style=\"color:#1a1a1a\">\n",
    "         ⮞  Réseaux de neurones artificiels (ANN)\n",
    "        </h1>\n",
    "</div>\n"
   ]
  },
  {
   "cell_type": "markdown",
   "id": "d8d742b4",
   "metadata": {
    "papermill": {
     "duration": 0.074115,
     "end_time": "2022-02-04T15:22:44.656868",
     "exception": false,
     "start_time": "2022-02-04T15:22:44.582753",
     "status": "completed"
    },
    "tags": []
   },
   "source": [
    "<span style=\"color:grey; font-size:1.2em\"> Pour notre Réseaux de neurones artificiels on va diviser notre jeu de données <b>75%</b> pour l'entraînement et <b>25%</b> pour le test, et pour la validation on prend <b>30%</b> des données d'entraînement</span>"
   ]
  },
  {
   "cell_type": "code",
   "execution_count": 27,
   "id": "dae54649",
   "metadata": {
    "execution": {
     "iopub.execute_input": "2022-02-04T15:22:44.810227Z",
     "iopub.status.busy": "2022-02-04T15:22:44.809544Z",
     "iopub.status.idle": "2022-02-04T15:22:44.872363Z",
     "shell.execute_reply": "2022-02-04T15:22:44.871642Z",
     "shell.execute_reply.started": "2022-02-04T13:17:20.477319Z"
    },
    "papermill": {
     "duration": 0.140367,
     "end_time": "2022-02-04T15:22:44.872521",
     "exception": false,
     "start_time": "2022-02-04T15:22:44.732154",
     "status": "completed"
    },
    "tags": []
   },
   "outputs": [],
   "source": [
    "X_train, X_val, y_train, y_val = train_test_split(sentences, y, test_size=0.25)\n",
    "\n",
    "X_train, X_test, y_train, y_test = train_test_split(X_train, y_train, test_size=0.3)\n",
    "\n",
    "X_train = vectorizer.transform(X_train)\n",
    "X_test  = vectorizer.transform(X_test)\n",
    "X_val  = vectorizer.transform(X_val)"
   ]
  },
  {
   "cell_type": "markdown",
   "id": "e217b250",
   "metadata": {
    "papermill": {
     "duration": 0.074151,
     "end_time": "2022-02-04T15:22:45.020632",
     "exception": false,
     "start_time": "2022-02-04T15:22:44.946481",
     "status": "completed"
    },
    "tags": []
   },
   "source": [
    "<span style=\"color:grey; font-size:1.2em\">Maintenant nous créons un nouveau modèle `Sequential()` puis nous ajoutons<b> 2 couches:</b> <br> une couche avec l'activation <b>relu</b> avec 10 unités et la deuxieme avec <b>softmax</b> un avec 2 unités afin d'obtenir la <b>certitude</b> pour chaque label.</span>"
   ]
  },
  {
   "cell_type": "code",
   "execution_count": 28,
   "id": "0606ea76",
   "metadata": {
    "execution": {
     "iopub.execute_input": "2022-02-04T15:22:45.173758Z",
     "iopub.status.busy": "2022-02-04T15:22:45.172963Z",
     "iopub.status.idle": "2022-02-04T15:22:45.300658Z",
     "shell.execute_reply": "2022-02-04T15:22:45.300020Z",
     "shell.execute_reply.started": "2022-02-04T13:17:20.534782Z"
    },
    "papermill": {
     "duration": 0.204843,
     "end_time": "2022-02-04T15:22:45.300819",
     "exception": false,
     "start_time": "2022-02-04T15:22:45.095976",
     "status": "completed"
    },
    "tags": []
   },
   "outputs": [
    {
     "name": "stderr",
     "output_type": "stream",
     "text": [
      "\n",
      "User settings:\n",
      "\n",
      "   KMP_AFFINITY=granularity=fine,verbose,compact,1,0\n",
      "   KMP_BLOCKTIME=0\n",
      "   KMP_DUPLICATE_LIB_OK=True\n",
      "   KMP_INIT_AT_FORK=FALSE\n",
      "   KMP_SETTINGS=1\n",
      "   KMP_WARNINGS=0\n",
      "\n",
      "Effective settings:\n",
      "\n",
      "   KMP_ABORT_DELAY=0\n",
      "   KMP_ADAPTIVE_LOCK_PROPS='1,1024'\n",
      "   KMP_ALIGN_ALLOC=64\n",
      "   KMP_ALL_THREADPRIVATE=128\n",
      "   KMP_ATOMIC_MODE=2\n",
      "   KMP_BLOCKTIME=0\n",
      "   KMP_CPUINFO_FILE: value is not defined\n",
      "   KMP_DETERMINISTIC_REDUCTION=false\n",
      "   KMP_DEVICE_THREAD_LIMIT=2147483647\n",
      "   KMP_DISP_NUM_BUFFERS=7\n",
      "   KMP_DUPLICATE_LIB_OK=true\n",
      "   KMP_ENABLE_TASK_THROTTLING=true\n",
      "   KMP_FORCE_REDUCTION: value is not defined\n",
      "   KMP_FOREIGN_THREADS_THREADPRIVATE=true\n",
      "   KMP_FORKJOIN_BARRIER='2,2'\n",
      "   KMP_FORKJOIN_BARRIER_PATTERN='hyper,hyper'\n",
      "   KMP_GTID_MODE=3\n",
      "   KMP_HANDLE_SIGNALS=false\n",
      "   KMP_HOT_TEAMS_MAX_LEVEL=1\n",
      "   KMP_HOT_TEAMS_MODE=0\n",
      "   KMP_INIT_AT_FORK=true\n",
      "   KMP_LIBRARY=throughput\n",
      "   KMP_LOCK_KIND=queuing\n",
      "   KMP_MALLOC_POOL_INCR=1M\n",
      "   KMP_NUM_LOCKS_IN_BLOCK=1\n",
      "   KMP_PLAIN_BARRIER='2,2'\n",
      "   KMP_PLAIN_BARRIER_PATTERN='hyper,hyper'\n",
      "   KMP_REDUCTION_BARRIER='1,1'\n",
      "   KMP_REDUCTION_BARRIER_PATTERN='hyper,hyper'\n",
      "   KMP_SCHEDULE='static,balanced;guided,iterative'\n",
      "   KMP_SETTINGS=true\n",
      "   KMP_SPIN_BACKOFF_PARAMS='4096,100'\n",
      "   KMP_STACKOFFSET=64\n",
      "   KMP_STACKPAD=0\n",
      "   KMP_STACKSIZE=8M\n",
      "   KMP_STORAGE_MAP=false\n",
      "   KMP_TASKING=2\n",
      "   KMP_TASKLOOP_MIN_TASKS=0\n",
      "   KMP_TASK_STEALING_CONSTRAINT=1\n",
      "   KMP_TEAMS_THREAD_LIMIT=4\n",
      "   KMP_TOPOLOGY_METHOD=all\n",
      "   KMP_USE_YIELD=1\n",
      "   KMP_VERSION=false\n",
      "   KMP_WARNINGS=false\n",
      "   OMP_AFFINITY_FORMAT='OMP: pid %P tid %i thread %n bound to OS proc set {%A}'\n",
      "   OMP_ALLOCATOR=omp_default_mem_alloc\n",
      "   OMP_CANCELLATION=false\n",
      "   OMP_DEFAULT_DEVICE=0\n",
      "   OMP_DISPLAY_AFFINITY=false\n",
      "   OMP_DISPLAY_ENV=false\n",
      "   OMP_DYNAMIC=false\n",
      "   OMP_MAX_ACTIVE_LEVELS=1\n",
      "   OMP_MAX_TASK_PRIORITY=0\n",
      "   OMP_NESTED: deprecated; max-active-levels-var=1\n",
      "   OMP_NUM_THREADS: value is not defined\n",
      "   OMP_PLACES: value is not defined\n",
      "   OMP_PROC_BIND='intel'\n",
      "   OMP_SCHEDULE='static'\n",
      "   OMP_STACKSIZE=8M\n",
      "   OMP_TARGET_OFFLOAD=DEFAULT\n",
      "   OMP_THREAD_LIMIT=2147483647\n",
      "   OMP_WAIT_POLICY=PASSIVE\n",
      "   KMP_AFFINITY='verbose,warnings,respect,granularity=fine,compact,1,0'\n",
      "\n",
      "2022-02-04 15:22:45.217188: I tensorflow/core/common_runtime/process_util.cc:146] Creating new thread pool with default inter op setting: 2. Tune using inter_op_parallelism_threads for best performance.\n"
     ]
    }
   ],
   "source": [
    "input_dim = X_train.shape[1]  # Number of features\n",
    "\n",
    "ANN_model = Sequential()\n",
    "ANN_model.add(layers.Dense(10, input_dim=input_dim, activation='relu'))\n",
    "ANN_model.add(layers.Dense(2, activation='softmax'))   "
   ]
  },
  {
   "cell_type": "markdown",
   "id": "a99621b9",
   "metadata": {
    "papermill": {
     "duration": 0.076325,
     "end_time": "2022-02-04T15:22:45.453263",
     "exception": false,
     "start_time": "2022-02-04T15:22:45.376938",
     "status": "completed"
    },
    "tags": []
   },
   "source": [
    "<span style=\"color:grey; font-size:1.2em\">On choisit les paramètres de la méthode `.compile()`. <br>pour le paramètre <b>loss</b> est <i>sparse_categorical_crossentropy</i> afin de calculer la perte d'entropie croisée entre les deux \"Labels\" et les prédictions. pour <b>optimizer</b> on choisit: <i>adam</i> et bien sûr <i>accuracy</i> comme <b>metrics</b> </span>"
   ]
  },
  {
   "cell_type": "code",
   "execution_count": 29,
   "id": "dcbffa7a",
   "metadata": {
    "execution": {
     "iopub.execute_input": "2022-02-04T15:22:45.606762Z",
     "iopub.status.busy": "2022-02-04T15:22:45.606125Z",
     "iopub.status.idle": "2022-02-04T15:22:45.619973Z",
     "shell.execute_reply": "2022-02-04T15:22:45.620514Z",
     "shell.execute_reply.started": "2022-02-04T13:17:20.565298Z"
    },
    "papermill": {
     "duration": 0.091298,
     "end_time": "2022-02-04T15:22:45.620724",
     "exception": false,
     "start_time": "2022-02-04T15:22:45.529426",
     "status": "completed"
    },
    "tags": []
   },
   "outputs": [],
   "source": [
    "ANN_model.compile(loss='sparse_categorical_crossentropy',\n",
    "                  optimizer = \"adam\", \n",
    "                  metrics = [\"accuracy\"])"
   ]
  },
  {
   "cell_type": "markdown",
   "id": "4cd119b3",
   "metadata": {
    "papermill": {
     "duration": 0.0735,
     "end_time": "2022-02-04T15:22:45.767918",
     "exception": false,
     "start_time": "2022-02-04T15:22:45.694418",
     "status": "completed"
    },
    "tags": []
   },
   "source": [
    "<span style=\"color:grey; font-size:1.2em\">Voyons un <b>summary<b> des paramètres de notre modèle</span>"
   ]
  },
  {
   "cell_type": "code",
   "execution_count": 30,
   "id": "6cbeff21",
   "metadata": {
    "execution": {
     "iopub.execute_input": "2022-02-04T15:22:45.919656Z",
     "iopub.status.busy": "2022-02-04T15:22:45.918965Z",
     "iopub.status.idle": "2022-02-04T15:22:45.927507Z",
     "shell.execute_reply": "2022-02-04T15:22:45.926922Z",
     "shell.execute_reply.started": "2022-02-04T13:17:20.582539Z"
    },
    "papermill": {
     "duration": 0.085541,
     "end_time": "2022-02-04T15:22:45.927683",
     "exception": false,
     "start_time": "2022-02-04T15:22:45.842142",
     "status": "completed"
    },
    "scrolled": true,
    "tags": []
   },
   "outputs": [
    {
     "name": "stdout",
     "output_type": "stream",
     "text": [
      "Model: \"sequential\"\n",
      "_________________________________________________________________\n",
      "Layer (type)                 Output Shape              Param #   \n",
      "=================================================================\n",
      "dense (Dense)                (None, 10)                42820     \n",
      "_________________________________________________________________\n",
      "dense_1 (Dense)              (None, 2)                 22        \n",
      "=================================================================\n",
      "Total params: 42,842\n",
      "Trainable params: 42,842\n",
      "Non-trainable params: 0\n",
      "_________________________________________________________________\n"
     ]
    }
   ],
   "source": [
    "ANN_model.summary()"
   ]
  },
  {
   "cell_type": "markdown",
   "id": "8957e322",
   "metadata": {
    "papermill": {
     "duration": 0.076198,
     "end_time": "2022-02-04T15:22:46.080226",
     "exception": false,
     "start_time": "2022-02-04T15:22:46.004028",
     "status": "completed"
    },
    "tags": []
   },
   "source": [
    "<span style=\"color:grey; font-size:1.2em\">Créons un objet contenant l'historique de notre formation de modèle:</span>"
   ]
  },
  {
   "cell_type": "code",
   "execution_count": 31,
   "id": "ebffe0f1",
   "metadata": {
    "execution": {
     "iopub.execute_input": "2022-02-04T15:22:46.241368Z",
     "iopub.status.busy": "2022-02-04T15:22:46.240372Z",
     "iopub.status.idle": "2022-02-04T15:22:55.605076Z",
     "shell.execute_reply": "2022-02-04T15:22:55.605703Z",
     "shell.execute_reply.started": "2022-02-04T13:17:20.601744Z"
    },
    "papermill": {
     "duration": 9.449265,
     "end_time": "2022-02-04T15:22:55.605922",
     "exception": false,
     "start_time": "2022-02-04T15:22:46.156657",
     "status": "completed"
    },
    "tags": []
   },
   "outputs": [
    {
     "name": "stdout",
     "output_type": "stream",
     "text": [
      "Epoch 1/20\n"
     ]
    },
    {
     "name": "stderr",
     "output_type": "stream",
     "text": [
      "2022-02-04 15:22:46.752966: I tensorflow/compiler/mlir/mlir_graph_optimization_pass.cc:185] None of the MLIR Optimization Passes are enabled (registered 2)\n"
     ]
    },
    {
     "name": "stdout",
     "output_type": "stream",
     "text": [
      "145/145 [==============================] - 1s 4ms/step - loss: 0.6734 - accuracy: 0.6311 - val_loss: 0.6500 - val_accuracy: 0.7060\n",
      "Epoch 2/20\n",
      "145/145 [==============================] - 0s 2ms/step - loss: 0.5368 - accuracy: 0.8467 - val_loss: 0.5330 - val_accuracy: 0.7846\n",
      "Epoch 3/20\n",
      "145/145 [==============================] - 0s 2ms/step - loss: 0.3667 - accuracy: 0.9223 - val_loss: 0.4692 - val_accuracy: 0.7933\n",
      "Epoch 4/20\n",
      "145/145 [==============================] - 0s 2ms/step - loss: 0.2494 - accuracy: 0.9480 - val_loss: 0.4383 - val_accuracy: 0.8093\n",
      "Epoch 5/20\n",
      "145/145 [==============================] - 0s 2ms/step - loss: 0.1779 - accuracy: 0.9619 - val_loss: 0.4284 - val_accuracy: 0.8137\n",
      "Epoch 6/20\n",
      "145/145 [==============================] - 0s 3ms/step - loss: 0.1333 - accuracy: 0.9743 - val_loss: 0.4306 - val_accuracy: 0.8122\n",
      "Epoch 7/20\n",
      "145/145 [==============================] - 0s 2ms/step - loss: 0.1024 - accuracy: 0.9840 - val_loss: 0.4397 - val_accuracy: 0.8064\n",
      "Epoch 8/20\n",
      "145/145 [==============================] - 0s 2ms/step - loss: 0.0816 - accuracy: 0.9882 - val_loss: 0.4505 - val_accuracy: 0.8151\n",
      "Epoch 9/20\n",
      "145/145 [==============================] - 0s 3ms/step - loss: 0.0659 - accuracy: 0.9917 - val_loss: 0.4622 - val_accuracy: 0.8166\n",
      "Epoch 10/20\n",
      "145/145 [==============================] - 0s 3ms/step - loss: 0.0538 - accuracy: 0.9938 - val_loss: 0.4786 - val_accuracy: 0.8049\n",
      "Epoch 11/20\n",
      "145/145 [==============================] - 0s 3ms/step - loss: 0.0445 - accuracy: 0.9951 - val_loss: 0.4979 - val_accuracy: 0.7962\n",
      "Epoch 12/20\n",
      "145/145 [==============================] - 0s 3ms/step - loss: 0.0373 - accuracy: 0.9958 - val_loss: 0.5146 - val_accuracy: 0.8020\n",
      "Epoch 13/20\n",
      "145/145 [==============================] - 0s 3ms/step - loss: 0.0313 - accuracy: 0.9972 - val_loss: 0.5307 - val_accuracy: 0.8035\n",
      "Epoch 14/20\n",
      "145/145 [==============================] - 0s 2ms/step - loss: 0.0268 - accuracy: 0.9972 - val_loss: 0.5506 - val_accuracy: 0.8049\n",
      "Epoch 15/20\n",
      "145/145 [==============================] - 0s 3ms/step - loss: 0.0227 - accuracy: 0.9986 - val_loss: 0.5667 - val_accuracy: 0.8049\n",
      "Epoch 16/20\n",
      "145/145 [==============================] - 0s 2ms/step - loss: 0.0195 - accuracy: 0.9993 - val_loss: 0.5855 - val_accuracy: 0.8049\n",
      "Epoch 17/20\n",
      "145/145 [==============================] - 0s 2ms/step - loss: 0.0170 - accuracy: 0.9993 - val_loss: 0.6010 - val_accuracy: 0.8079\n",
      "Epoch 18/20\n",
      "145/145 [==============================] - 0s 3ms/step - loss: 0.0147 - accuracy: 0.9993 - val_loss: 0.6189 - val_accuracy: 0.8035\n",
      "Epoch 19/20\n",
      "145/145 [==============================] - 0s 2ms/step - loss: 0.0130 - accuracy: 0.9993 - val_loss: 0.6386 - val_accuracy: 0.8020\n",
      "Epoch 20/20\n",
      "145/145 [==============================] - 0s 2ms/step - loss: 0.0113 - accuracy: 0.9993 - val_loss: 0.6559 - val_accuracy: 0.8020\n"
     ]
    }
   ],
   "source": [
    "history = ANN_model.fit(X_train, y_train,\n",
    "                    epochs=20,\n",
    "                    verbose=True,\n",
    "                    validation_data=(X_val, y_val),\n",
    "                    batch_size=10)"
   ]
  },
  {
   "cell_type": "markdown",
   "id": "cd3b3b1c",
   "metadata": {
    "papermill": {
     "duration": 0.115184,
     "end_time": "2022-02-04T15:22:55.837868",
     "exception": false,
     "start_time": "2022-02-04T15:22:55.722684",
     "status": "completed"
    },
    "tags": []
   },
   "source": [
    "<span style=\"color:grey; font-size:1.2em\">C'est temps d' <b>évaluer</b> notre modèle à la fois sur les données d'entraînement et de test et d'obtenir <b>scores</b> de précision.</span>"
   ]
  },
  {
   "cell_type": "code",
   "execution_count": 32,
   "id": "fec69090",
   "metadata": {
    "execution": {
     "iopub.execute_input": "2022-02-04T15:22:56.075894Z",
     "iopub.status.busy": "2022-02-04T15:22:56.075201Z",
     "iopub.status.idle": "2022-02-04T15:22:56.195846Z",
     "shell.execute_reply": "2022-02-04T15:22:56.195202Z",
     "shell.execute_reply.started": "2022-02-04T13:17:29.466398Z"
    },
    "papermill": {
     "duration": 0.241078,
     "end_time": "2022-02-04T15:22:56.196017",
     "exception": false,
     "start_time": "2022-02-04T15:22:55.954939",
     "status": "completed"
    },
    "tags": []
   },
   "outputs": [
    {
     "name": "stdout",
     "output_type": "stream",
     "text": [
      "Accuracy sur les données d'entraînement est: 99.93 %\n",
      "Accuracy sur les données du test est: 80.61 %\n"
     ]
    }
   ],
   "source": [
    "loss, accuracy = ANN_model.evaluate(X_train, y_train, verbose=False)\n",
    "print(\"Accuracy sur les données d'entraînement est: {:.2f} %\".format(accuracy*100))\n",
    "loss, accuracy = ANN_model.evaluate(X_test, y_test, verbose=False)\n",
    "print(\"Accuracy sur les données du test est: {:.2f} %\".format(accuracy*100))"
   ]
  },
  {
   "cell_type": "markdown",
   "id": "20ebfd33",
   "metadata": {
    "papermill": {
     "duration": 0.117981,
     "end_time": "2022-02-04T15:22:56.431231",
     "exception": false,
     "start_time": "2022-02-04T15:22:56.313250",
     "status": "completed"
    },
    "tags": []
   },
   "source": [
    "<span style=\"color:grey; font-size:1.2em\">Comme nous pouvons le voir, nous avons atteint un meilleur score avec un réseau de neurones artificiels pour nos données du test qui provient de différentes sources</span>"
   ]
  },
  {
   "cell_type": "markdown",
   "id": "92bfacfa",
   "metadata": {
    "papermill": {
     "duration": 0.115459,
     "end_time": "2022-02-04T15:22:56.665947",
     "exception": false,
     "start_time": "2022-02-04T15:22:56.550488",
     "status": "completed"
    },
    "tags": []
   },
   "source": [
    "<span style=\"color:grey; font-size:1.2em\">Traçons l'historique de nos score de modèle sur les données d'entraînement et de validation pour chaque <b>Epoch</b>.</span>"
   ]
  },
  {
   "cell_type": "code",
   "execution_count": 33,
   "id": "b5fd6a0e",
   "metadata": {
    "execution": {
     "iopub.execute_input": "2022-02-04T15:22:56.901999Z",
     "iopub.status.busy": "2022-02-04T15:22:56.900949Z",
     "iopub.status.idle": "2022-02-04T15:22:56.909201Z",
     "shell.execute_reply": "2022-02-04T15:22:56.909671Z",
     "shell.execute_reply.started": "2022-02-04T13:17:29.668612Z"
    },
    "papermill": {
     "duration": 0.128386,
     "end_time": "2022-02-04T15:22:56.909891",
     "exception": false,
     "start_time": "2022-02-04T15:22:56.781505",
     "status": "completed"
    },
    "tags": []
   },
   "outputs": [],
   "source": [
    "def plot_history(history):\n",
    "    acc = history.history['accuracy']\n",
    "    val_acc = history.history['val_accuracy']\n",
    "    loss = history.history['loss']\n",
    "    val_loss = history.history['val_loss']\n",
    "    x = range(1, len(acc) + 1)\n",
    "\n",
    "    plt.figure(figsize=(12, 5))\n",
    "    plt.subplot(1, 2, 1)\n",
    "    plt.plot(x, acc, 'b', label='Training accuracy')\n",
    "    plt.plot(x, val_acc, 'r', label='Validation accuracy')\n",
    "    plt.title('Training and validation accuracy')\n",
    "    plt.legend()\n",
    "    plt.subplot(1, 2, 2)\n",
    "    plt.plot(x, loss, 'b', label='Training loss')\n",
    "    plt.plot(x, val_loss, 'r', label='Validation loss')\n",
    "    plt.title('Training and validation loss')\n",
    "    plt.legend()"
   ]
  },
  {
   "cell_type": "code",
   "execution_count": 34,
   "id": "d5c52384",
   "metadata": {
    "execution": {
     "iopub.execute_input": "2022-02-04T15:22:57.144584Z",
     "iopub.status.busy": "2022-02-04T15:22:57.143654Z",
     "iopub.status.idle": "2022-02-04T15:22:57.568728Z",
     "shell.execute_reply": "2022-02-04T15:22:57.569288Z",
     "shell.execute_reply.started": "2022-02-04T13:17:29.676894Z"
    },
    "papermill": {
     "duration": 0.543855,
     "end_time": "2022-02-04T15:22:57.569466",
     "exception": false,
     "start_time": "2022-02-04T15:22:57.025611",
     "status": "completed"
    },
    "tags": []
   },
   "outputs": [
    {
     "data": {
      "image/png": "[encoded data removed]",
      "text/plain": [
       "<Figure size 864x360 with 2 Axes>"
      ]
     },
     "metadata": {
      "needs_background": "light"
     },
     "output_type": "display_data"
    }
   ],
   "source": [
    "plot_history(history)"
   ]
  },
  {
   "cell_type": "markdown",
   "id": "1e55c2bb",
   "metadata": {
    "papermill": {
     "duration": 0.114155,
     "end_time": "2022-02-04T15:22:57.799664",
     "exception": false,
     "start_time": "2022-02-04T15:22:57.685509",
     "status": "completed"
    },
    "tags": []
   },
   "source": [
    "<span style=\"color:grey; font-size:1.2em\">testons maintenant notre modèle avec une simple phrase 😃 <b>positive</b> </span>"
   ]
  },
  {
   "cell_type": "code",
   "execution_count": 35,
   "id": "bdde40e1",
   "metadata": {
    "execution": {
     "iopub.execute_input": "2022-02-04T15:22:58.037847Z",
     "iopub.status.busy": "2022-02-04T15:22:58.036852Z",
     "iopub.status.idle": "2022-02-04T15:22:58.168945Z",
     "shell.execute_reply": "2022-02-04T15:22:58.168346Z",
     "shell.execute_reply.started": "2022-02-04T13:17:30.460710Z"
    },
    "papermill": {
     "duration": 0.253846,
     "end_time": "2022-02-04T15:22:58.169132",
     "exception": false,
     "start_time": "2022-02-04T15:22:57.915286",
     "status": "completed"
    },
    "tags": []
   },
   "outputs": [
    {
     "name": "stdout",
     "output_type": "stream",
     "text": [
      "Le Label prédite pour la phrase est:  1\n"
     ]
    }
   ],
   "source": [
    "# string pour le test\n",
    "phrase = \"boukhalef is a beautiful, calm and lovely place\"\n",
    "\n",
    "prediction_test = ANN_model.predict(vectorizer.transform([phrase]))\n",
    "class_test = np.argmax(prediction_test)\n",
    "\n",
    "print(\"Le Label prédite pour la phrase est: \",class_test)"
   ]
  },
  {
   "cell_type": "markdown",
   "id": "657f2116",
   "metadata": {
    "papermill": {
     "duration": 0.115187,
     "end_time": "2022-02-04T15:22:58.399382",
     "exception": false,
     "start_time": "2022-02-04T15:22:58.284195",
     "status": "completed"
    },
    "tags": []
   },
   "source": [
    "<div id=\"word-embd\">\n",
    "        <h1 style=\"color:#1a1a1a\">\n",
    "         ⮞  Word Embedding\n",
    "        </h1>\n",
    "</div>\n"
   ]
  },
  {
   "cell_type": "markdown",
   "id": "d1cec67a",
   "metadata": {
    "papermill": {
     "duration": 0.116596,
     "end_time": "2022-02-04T15:22:58.630827",
     "exception": false,
     "start_time": "2022-02-04T15:22:58.514231",
     "status": "completed"
    },
    "tags": []
   },
   "source": [
    "<span style=\"color:grey; font-size:1.2em\">Le <b>Word Embedding</b> est une technique permet de représenter chaque mot d'un dictionnaire par un <b>vecteur de nombres réels</b>. Cette nouvelle représentation a ceci de particulier que les mots apparaissant dans des <b>contextes similaires</b> possèdent des vecteurs correspondants qui sont relativement <b>prochespositive</b>. </span>"
   ]
  },
  {
   "cell_type": "markdown",
   "id": "bf14fd2b",
   "metadata": {
    "papermill": {
     "duration": 0.114132,
     "end_time": "2022-02-04T15:22:58.859970",
     "exception": false,
     "start_time": "2022-02-04T15:22:58.745838",
     "status": "completed"
    },
    "tags": []
   },
   "source": [
    "<span style=\"color:grey; font-size:1.2em\">Pour presenter des mots sous forme de vecteurs (ce qui est la manière courante d'utiliser le texte dans les réseaux de neurones) il y a deux façons possibles de représenter un mot sous forme de vecteur sont <b>One-hot encoding</b> et <b>Word embeddings</b>. </span>"
   ]
  },
  {
   "cell_type": "markdown",
   "id": "4e109402",
   "metadata": {
    "papermill": {
     "duration": 0.115922,
     "end_time": "2022-02-04T15:22:59.090484",
     "exception": false,
     "start_time": "2022-02-04T15:22:58.974562",
     "status": "completed"
    },
    "tags": []
   },
   "source": [
    "<h4 style=\"font-size:1.2em\">One-Hot Encoding</h4>\n",
    "\n",
    "<span style=\"color:grey; font-size:1.2em\">La première façon de représenter un mot sous forme de vecteur consiste à créer un One-Hot Encoding, qui se fait simplement en prenant un vecteur de la longueur du vocabulaire avec une entrée pour chaque mot du corpus.</span>"
   ]
  },
  {
   "cell_type": "markdown",
   "id": "92a18f8e",
   "metadata": {
    "papermill": {
     "duration": 0.115021,
     "end_time": "2022-02-04T15:22:59.320214",
     "exception": false,
     "start_time": "2022-02-04T15:22:59.205193",
     "status": "completed"
    },
    "tags": []
   },
   "source": [
    "<h4 style=\"font-size:1.2em\">Word embeddings</h4>\n",
    "\n",
    "<span style=\"color:grey; font-size:1.2em\">Cette méthode représente les mots sous forme de \"dense word vectors\" qui sont entraînés contrairement au dense One-Hot Encoding qui est codé en dur. Cela signifie que les intégrations de mots collectent plus d'informations dans moins de dimensions.</span>"
   ]
  },
  {
   "cell_type": "markdown",
   "id": "a8bae2b7",
   "metadata": {
    "papermill": {
     "duration": 0.115273,
     "end_time": "2022-02-04T15:22:59.551469",
     "exception": false,
     "start_time": "2022-02-04T15:22:59.436196",
     "status": "completed"
    },
    "tags": []
   },
   "source": [
    "<span style=\"color:grey; font-size:1.2em\">Voice un example de Word Embedding sur l'un des reviews:</span>"
   ]
  },
  {
   "cell_type": "markdown",
   "id": "2a834b92",
   "metadata": {
    "papermill": {
     "duration": 0.113971,
     "end_time": "2022-02-04T15:22:59.779623",
     "exception": false,
     "start_time": "2022-02-04T15:22:59.665652",
     "status": "completed"
    },
    "tags": []
   },
   "source": [
    "<div id=\"cnn\">\n",
    "        <h1 style=\"color:#1a1a1a\">\n",
    "         ⮞  Réseau de Neurones convolutifs (CNN) avec Embedding\n",
    "        </h1>\n",
    "</div>"
   ]
  },
  {
   "cell_type": "markdown",
   "id": "50383462",
   "metadata": {
    "papermill": {
     "duration": 0.114333,
     "end_time": "2022-02-04T15:23:00.008130",
     "exception": false,
     "start_time": "2022-02-04T15:22:59.893797",
     "status": "completed"
    },
    "tags": []
   },
   "source": [
    "<span style=\"color:grey; font-size:1.2em\"> Pour notre Réseaux de neurones convolutifs on va diviser notre jeu de données <b>80%</b> pour l'entraînement et <b>20%</b> pour le test, et pour la validation on prend <b>20%</b> des données d'entraînement</span>"
   ]
  },
  {
   "cell_type": "code",
   "execution_count": 36,
   "id": "7098b62e",
   "metadata": {
    "execution": {
     "iopub.execute_input": "2022-02-04T15:23:00.248292Z",
     "iopub.status.busy": "2022-02-04T15:23:00.247599Z",
     "iopub.status.idle": "2022-02-04T15:23:00.374507Z",
     "shell.execute_reply": "2022-02-04T15:23:00.375113Z",
     "shell.execute_reply.started": "2022-02-04T13:17:30.545869Z"
    },
    "papermill": {
     "duration": 0.250484,
     "end_time": "2022-02-04T15:23:00.375302",
     "exception": false,
     "start_time": "2022-02-04T15:23:00.124818",
     "status": "completed"
    },
    "tags": []
   },
   "outputs": [],
   "source": [
    "sentences_train, sentences_val, y_train, y_val = train_test_split(sentences, y, test_size=0.2, random_state=1000)\n",
    "sentences_train, sentences_test, y_train, y_test = train_test_split(sentences_train, y_train, test_size=0.2, random_state=1000)\n",
    "\n",
    "# definir notre tokenizer\n",
    "tokenizer = Tokenizer(num_words=5000)\n",
    "tokenizer.fit_on_texts(sentences_train)\n",
    "\n",
    "# tokenizer nos données\n",
    "X_train = tokenizer.texts_to_sequences(sentences_train)\n",
    "X_test = tokenizer.texts_to_sequences(sentences_test)\n",
    "X_val = tokenizer.texts_to_sequences(sentences_val)\n",
    "\n",
    "# la taille du vocabulaire\n",
    "vocab_size = len(tokenizer.word_index) + 1\n",
    "maxlen = 100\n",
    "\n",
    "# transformer la forme des données\n",
    "X_train = pad_sequences(X_train, padding='post', maxlen=maxlen)\n",
    "X_test = pad_sequences(X_test, padding='post', maxlen=maxlen)\n",
    "X_val = pad_sequences(X_val, padding='post', maxlen=maxlen)\n"
   ]
  },
  {
   "cell_type": "code",
   "execution_count": 37,
   "id": "a9113889",
   "metadata": {
    "execution": {
     "iopub.execute_input": "2022-02-04T15:23:00.609280Z",
     "iopub.status.busy": "2022-02-04T15:23:00.608550Z",
     "iopub.status.idle": "2022-02-04T15:23:00.614834Z",
     "shell.execute_reply": "2022-02-04T15:23:00.615411Z",
     "shell.execute_reply.started": "2022-02-04T13:17:30.714479Z"
    },
    "papermill": {
     "duration": 0.125824,
     "end_time": "2022-02-04T15:23:00.615646",
     "exception": false,
     "start_time": "2022-02-04T15:23:00.489822",
     "status": "completed"
    },
    "tags": []
   },
   "outputs": [],
   "source": [
    "#  créer un nouveau modèle\n",
    "embedding_dim = 100\n",
    "EMB_CNN = Sequential()"
   ]
  },
  {
   "cell_type": "code",
   "execution_count": 38,
   "id": "647f09a5",
   "metadata": {
    "execution": {
     "iopub.execute_input": "2022-02-04T15:23:00.852449Z",
     "iopub.status.busy": "2022-02-04T15:23:00.851763Z",
     "iopub.status.idle": "2022-02-04T15:23:00.916356Z",
     "shell.execute_reply": "2022-02-04T15:23:00.916849Z",
     "shell.execute_reply.started": "2022-02-04T13:17:30.724918Z"
    },
    "papermill": {
     "duration": 0.185386,
     "end_time": "2022-02-04T15:23:00.917056",
     "exception": false,
     "start_time": "2022-02-04T15:23:00.731670",
     "status": "completed"
    },
    "tags": []
   },
   "outputs": [],
   "source": [
    " # ajout des couches\n",
    "EMB_CNN.add(layers.Embedding(vocab_size, embedding_dim, input_length=maxlen))\n",
    "EMB_CNN.add(layers.Conv1D(128, 5, activation='relu'))\n",
    "EMB_CNN.add(layers.GlobalMaxPooling1D())\n",
    "EMB_CNN.add(layers.Dense(10, activation='relu'))\n",
    "EMB_CNN.add(layers.Dense(2, activation='softmax'))"
   ]
  },
  {
   "cell_type": "code",
   "execution_count": 39,
   "id": "8e56dd0d",
   "metadata": {
    "execution": {
     "iopub.execute_input": "2022-02-04T15:23:01.153349Z",
     "iopub.status.busy": "2022-02-04T15:23:01.152663Z",
     "iopub.status.idle": "2022-02-04T15:23:01.162851Z",
     "shell.execute_reply": "2022-02-04T15:23:01.163358Z",
     "shell.execute_reply.started": "2022-02-04T13:17:30.782923Z"
    },
    "papermill": {
     "duration": 0.130962,
     "end_time": "2022-02-04T15:23:01.163539",
     "exception": false,
     "start_time": "2022-02-04T15:23:01.032577",
     "status": "completed"
    },
    "tags": []
   },
   "outputs": [],
   "source": [
    "# On choisit les paramètres du modèle\n",
    "EMB_CNN.compile(loss='sparse_categorical_crossentropy',\n",
    "                  optimizer = tf.keras.optimizers.Adam(learning_rate=0.001, beta_1=0.9, beta_2=0.999, epsilon=1e-07), \n",
    "                  metrics = [\"accuracy\"])"
   ]
  },
  {
   "cell_type": "code",
   "execution_count": 40,
   "id": "d887e8dd",
   "metadata": {
    "execution": {
     "iopub.execute_input": "2022-02-04T15:23:01.398715Z",
     "iopub.status.busy": "2022-02-04T15:23:01.397939Z",
     "iopub.status.idle": "2022-02-04T15:23:01.405693Z",
     "shell.execute_reply": "2022-02-04T15:23:01.406762Z",
     "shell.execute_reply.started": "2022-02-04T13:17:30.794941Z"
    },
    "papermill": {
     "duration": 0.127976,
     "end_time": "2022-02-04T15:23:01.407082",
     "exception": false,
     "start_time": "2022-02-04T15:23:01.279106",
     "status": "completed"
    },
    "tags": []
   },
   "outputs": [
    {
     "name": "stdout",
     "output_type": "stream",
     "text": [
      "Model: \"sequential_1\"\n",
      "_________________________________________________________________\n",
      "Layer (type)                 Output Shape              Param #   \n",
      "=================================================================\n",
      "embedding (Embedding)        (None, 100, 100)          414900    \n",
      "_________________________________________________________________\n",
      "conv1d (Conv1D)              (None, 96, 128)           64128     \n",
      "_________________________________________________________________\n",
      "global_max_pooling1d (Global (None, 128)               0         \n",
      "_________________________________________________________________\n",
      "dense_2 (Dense)              (None, 10)                1290      \n",
      "_________________________________________________________________\n",
      "dense_3 (Dense)              (None, 2)                 22        \n",
      "=================================================================\n",
      "Total params: 480,340\n",
      "Trainable params: 480,340\n",
      "Non-trainable params: 0\n",
      "_________________________________________________________________\n"
     ]
    }
   ],
   "source": [
    "EMB_CNN.summary()"
   ]
  },
  {
   "cell_type": "code",
   "execution_count": 41,
   "id": "4933bfa2",
   "metadata": {
    "execution": {
     "iopub.execute_input": "2022-02-04T15:23:01.646390Z",
     "iopub.status.busy": "2022-02-04T15:23:01.645716Z",
     "iopub.status.idle": "2022-02-04T15:23:52.223337Z",
     "shell.execute_reply": "2022-02-04T15:23:52.222157Z",
     "shell.execute_reply.started": "2022-02-04T13:17:30.819650Z"
    },
    "papermill": {
     "duration": 50.698023,
     "end_time": "2022-02-04T15:23:52.223525",
     "exception": false,
     "start_time": "2022-02-04T15:23:01.525502",
     "status": "completed"
    },
    "tags": []
   },
   "outputs": [
    {
     "name": "stdout",
     "output_type": "stream",
     "text": [
      "Epoch 1/20\n",
      "176/176 [==============================] - 3s 15ms/step - loss: 0.6477 - accuracy: 0.6086 - val_loss: 0.5726 - val_accuracy: 0.6764\n",
      "Epoch 2/20\n",
      "176/176 [==============================] - 2s 14ms/step - loss: 0.3629 - accuracy: 0.8663 - val_loss: 0.4127 - val_accuracy: 0.8309\n",
      "Epoch 3/20\n",
      "176/176 [==============================] - 2s 14ms/step - loss: 0.1187 - accuracy: 0.9687 - val_loss: 0.4266 - val_accuracy: 0.8509\n",
      "Epoch 4/20\n",
      "176/176 [==============================] - 2s 14ms/step - loss: 0.0368 - accuracy: 0.9903 - val_loss: 0.5310 - val_accuracy: 0.8345\n",
      "Epoch 5/20\n",
      "176/176 [==============================] - 2s 14ms/step - loss: 0.0129 - accuracy: 0.9977 - val_loss: 0.5756 - val_accuracy: 0.8491\n",
      "Epoch 6/20\n",
      "176/176 [==============================] - 2s 14ms/step - loss: 0.0070 - accuracy: 0.9989 - val_loss: 0.6375 - val_accuracy: 0.8291\n",
      "Epoch 7/20\n",
      "176/176 [==============================] - 2s 14ms/step - loss: 0.0021 - accuracy: 0.9994 - val_loss: 0.6947 - val_accuracy: 0.8255\n",
      "Epoch 8/20\n",
      "176/176 [==============================] - 2s 14ms/step - loss: 8.4417e-04 - accuracy: 1.0000 - val_loss: 0.7234 - val_accuracy: 0.8309\n",
      "Epoch 9/20\n",
      "176/176 [==============================] - 3s 18ms/step - loss: 4.3663e-04 - accuracy: 1.0000 - val_loss: 0.7512 - val_accuracy: 0.8273\n",
      "Epoch 10/20\n",
      "176/176 [==============================] - 2s 14ms/step - loss: 3.0559e-04 - accuracy: 1.0000 - val_loss: 0.7733 - val_accuracy: 0.8291\n",
      "Epoch 11/20\n",
      "176/176 [==============================] - 2s 14ms/step - loss: 2.2807e-04 - accuracy: 1.0000 - val_loss: 0.7922 - val_accuracy: 0.8291\n",
      "Epoch 12/20\n",
      "176/176 [==============================] - 3s 14ms/step - loss: 1.7769e-04 - accuracy: 1.0000 - val_loss: 0.8103 - val_accuracy: 0.8291\n",
      "Epoch 13/20\n",
      "176/176 [==============================] - 2s 14ms/step - loss: 1.4221e-04 - accuracy: 1.0000 - val_loss: 0.8270 - val_accuracy: 0.8291\n",
      "Epoch 14/20\n",
      "176/176 [==============================] - 2s 14ms/step - loss: 1.1575e-04 - accuracy: 1.0000 - val_loss: 0.8423 - val_accuracy: 0.8291\n",
      "Epoch 15/20\n",
      "176/176 [==============================] - 2s 14ms/step - loss: 9.5866e-05 - accuracy: 1.0000 - val_loss: 0.8569 - val_accuracy: 0.8309\n",
      "Epoch 16/20\n",
      "176/176 [==============================] - 2s 14ms/step - loss: 8.0185e-05 - accuracy: 1.0000 - val_loss: 0.8697 - val_accuracy: 0.8327\n",
      "Epoch 17/20\n",
      "176/176 [==============================] - 2s 14ms/step - loss: 6.7839e-05 - accuracy: 1.0000 - val_loss: 0.8835 - val_accuracy: 0.8327\n",
      "Epoch 18/20\n",
      "176/176 [==============================] - 3s 14ms/step - loss: 5.7843e-05 - accuracy: 1.0000 - val_loss: 0.8967 - val_accuracy: 0.8291\n",
      "Epoch 19/20\n",
      "176/176 [==============================] - 2s 14ms/step - loss: 4.9671e-05 - accuracy: 1.0000 - val_loss: 0.9090 - val_accuracy: 0.8291\n",
      "Epoch 20/20\n",
      "176/176 [==============================] - 2s 14ms/step - loss: 4.2956e-05 - accuracy: 1.0000 - val_loss: 0.9200 - val_accuracy: 0.8327\n"
     ]
    }
   ],
   "source": [
    "history = EMB_CNN.fit(X_train, y_train,\n",
    "                    epochs=20,\n",
    "                    verbose=True,\n",
    "                    validation_data=(X_val, y_val),\n",
    "                    batch_size=10)"
   ]
  },
  {
   "cell_type": "code",
   "execution_count": 42,
   "id": "13b47675",
   "metadata": {
    "execution": {
     "iopub.execute_input": "2022-02-04T15:23:53.000949Z",
     "iopub.status.busy": "2022-02-04T15:23:52.999916Z",
     "iopub.status.idle": "2022-02-04T15:23:53.670535Z",
     "shell.execute_reply": "2022-02-04T15:23:53.671210Z",
     "shell.execute_reply.started": "2022-02-04T13:18:53.287544Z"
    },
    "papermill": {
     "duration": 1.058875,
     "end_time": "2022-02-04T15:23:53.671418",
     "exception": false,
     "start_time": "2022-02-04T15:23:52.612543",
     "status": "completed"
    },
    "tags": []
   },
   "outputs": [
    {
     "name": "stdout",
     "output_type": "stream",
     "text": [
      "Accuracy sur les données d'entraînement est: 100.00 %\n",
      "Accuracy sur les données du test est: 86.14 %\n"
     ]
    }
   ],
   "source": [
    "loss, accuracy = EMB_CNN.evaluate(X_train, y_train, verbose=False)\n",
    "print(\"Accuracy sur les données d'entraînement est: {:.2f} %\".format(accuracy*100))\n",
    "loss, accuracy = EMB_CNN.evaluate(X_test, y_test, verbose=False)\n",
    "print(\"Accuracy sur les données du test est: {:.2f} %\".format(accuracy*100))"
   ]
  },
  {
   "cell_type": "code",
   "execution_count": 43,
   "id": "6079007e",
   "metadata": {
    "execution": {
     "iopub.execute_input": "2022-02-04T15:23:54.454874Z",
     "iopub.status.busy": "2022-02-04T15:23:54.453895Z",
     "iopub.status.idle": "2022-02-04T15:23:54.865613Z",
     "shell.execute_reply": "2022-02-04T15:23:54.866523Z",
     "shell.execute_reply.started": "2022-02-04T13:18:53.988243Z"
    },
    "papermill": {
     "duration": 0.801884,
     "end_time": "2022-02-04T15:23:54.866798",
     "exception": false,
     "start_time": "2022-02-04T15:23:54.064914",
     "status": "completed"
    },
    "scrolled": true,
    "tags": []
   },
   "outputs": [
    {
     "data": {
      "image/png": "[encoded data removed]",
      "text/plain": [
       "<Figure size 864x360 with 2 Axes>"
      ]
     },
     "metadata": {
      "needs_background": "light"
     },
     "output_type": "display_data"
    }
   ],
   "source": [
    "plot_history(history)"
   ]
  },
  {
   "cell_type": "markdown",
   "id": "b01d945d",
   "metadata": {
    "papermill": {
     "duration": 0.396347,
     "end_time": "2022-02-04T15:23:55.709784",
     "exception": false,
     "start_time": "2022-02-04T15:23:55.313437",
     "status": "completed"
    },
    "tags": []
   },
   "source": [
    "<span style=\"color:grey; font-size:1.2em\">Encore une fois, nous avons atteint un meilleur score avec plus de couches pour notre <b>CNN</b></span>"
   ]
  },
  {
   "cell_type": "markdown",
   "id": "46495e99",
   "metadata": {
    "papermill": {
     "duration": 0.38785,
     "end_time": "2022-02-04T15:23:56.484861",
     "exception": false,
     "start_time": "2022-02-04T15:23:56.097011",
     "status": "completed"
    },
    "tags": []
   },
   "source": [
    "<center id=\"demo\">\n",
    "        <h1 style=\"color:#1a1a1a;\n",
    "                    font-size:2em\">\n",
    "        Une démo live 🧮\n",
    "        </h1>\n",
    "</center>"
   ]
  },
  {
   "cell_type": "markdown",
   "id": "0be11f87",
   "metadata": {
    "papermill": {
     "duration": 0.386306,
     "end_time": "2022-02-04T15:23:57.260365",
     "exception": false,
     "start_time": "2022-02-04T15:23:56.874059",
     "status": "completed"
    },
    "tags": []
   },
   "source": [
    "<span style=\"color:grey; font-size:1.2em\">Enfin voici un champ de saisie en utilisant <b>ipywidgets, IPython.display</b> pour définir un widget et le contenu d'affichage aisnsi que l'input field. On utilise ce champ de saisie pour tester des phrases aléatoires de nos choix et obtenir une prediction et la certitude pour le Label.</span>"
   ]
  },
  {
   "cell_type": "code",
   "execution_count": 44,
   "id": "bb297fad",
   "metadata": {
    "execution": {
     "iopub.execute_input": "2022-02-04T15:23:58.077439Z",
     "iopub.status.busy": "2022-02-04T15:23:58.076703Z",
     "iopub.status.idle": "2022-02-04T15:23:58.165805Z",
     "shell.execute_reply": "2022-02-04T15:23:58.166356Z",
     "shell.execute_reply.started": "2022-02-04T13:18:54.342929Z"
    },
    "papermill": {
     "duration": 0.483737,
     "end_time": "2022-02-04T15:23:58.166571",
     "exception": false,
     "start_time": "2022-02-04T15:23:57.682834",
     "status": "completed"
    },
    "tags": []
   },
   "outputs": [
    {
     "data": {
      "application/vnd.jupyter.widget-view+json": {
       "model_id": "91da5ea92280424d8c1937ed35b2f1b9",
       "version_major": 2,
       "version_minor": 0
      },
      "text/plain": [
       "Text(value='', description='Description:', placeholder='type your description here')"
      ]
     },
     "metadata": {},
     "output_type": "display_data"
    }
   ],
   "source": [
    "from ipywidgets import interact, widgets\n",
    "from IPython.display import display, Markdown, Latex, clear_output\n",
    "\n",
    "# définir les paramètres du widget\n",
    "text = widgets.Text(\n",
    "    value='',\n",
    "    placeholder='type your description here',\n",
    "    description='Description:',\n",
    "    disabled=False\n",
    ")\n",
    "# affichage du text\n",
    "display(text)\n",
    "\n",
    "# appeler le widget\n",
    "def callback(wdgt):\n",
    "    clear_output()## Creating model\n",
    "    display(text)\n",
    "    # prendre la valeur d'input\n",
    "    description = wdgt.value\n",
    "\n",
    "    desc = tokenizer.texts_to_sequences([description])\n",
    "    desc = pad_sequences(desc, padding='post', maxlen=maxlen)\n",
    "\n",
    "    # faire une prediction sur la description\n",
    "    prediction_test = EMB_CNN.predict(desc)\n",
    "    \n",
    "    # obtenir la classe du text\n",
    "    class_test = np.argmax(prediction_test)\n",
    "\n",
    "    # obtenir la certitude du prediction\n",
    "    certainty = prediction_test[0][class_test]\n",
    "    \n",
    "    # mapper chaque class a une phrase correspondante\n",
    "    result = 'positive 😃' if class_test == 1 else 'negative 😞'\n",
    "    \n",
    "    # afficher le resultat\n",
    "    display(Markdown('La description: \"{}\" est  {:.2f} %   {}'.format(description,certainty*100,result)))\n",
    "\n",
    "text.on_submit(callback)"
   ]
  },
  {
   "cell_type": "markdown",
   "id": "57f69462",
   "metadata": {
    "papermill": {
     "duration": 0.38559,
     "end_time": "2022-02-04T15:23:58.939117",
     "exception": false,
     "start_time": "2022-02-04T15:23:58.553527",
     "status": "completed"
    },
    "tags": []
   },
   "source": [
    "<center id=\"Conclusion\">\n",
    "        <h1 style=\"color:#1a1a1a;\n",
    "                    font-size:2em\">\n",
    "        Conclusion 📌\n",
    "        </h1>\n",
    "</center>"
   ]
  },
  {
   "cell_type": "markdown",
   "id": "b5ffac60",
   "metadata": {
    "execution": {
     "iopub.execute_input": "2022-01-24T22:26:28.820806Z",
     "iopub.status.busy": "2022-01-24T22:26:28.81918Z",
     "iopub.status.idle": "2022-01-24T22:26:28.844869Z",
     "shell.execute_reply": "2022-01-24T22:26:28.843608Z"
    },
    "papermill": {
     "duration": 0.386065,
     "end_time": "2022-02-04T15:23:59.715032",
     "exception": false,
     "start_time": "2022-02-04T15:23:59.328967",
     "status": "completed"
    },
    "tags": []
   },
   "source": [
    "<div style=\"color:grey; font-size:1.2em\">Le travail que nous avons réalisé a consisté à exploirer le cycle de vie d'un project de Data Science en general et du Machine Learning et Deep Learning en particulier. On bien appris comment analyser et transformer les données, dans la partie du Pré-traitement on a diviser les données et vectoriser les phrases, et dernièrement la construction des modèles en essayant différentes approches: Modèles de base, les Réseaux de neurones artificiels et finalement les Réseau de Neurones convolutifs.\n",
    "<br>\n",
    "<br>\n",
    "<span style=\"color:black; font-size:1.2em; background-color:#FFFFA6\">Ce projet nous a permis d'acquérir les techniques d'utiliser des réseaux multi-couches pour l’analyse et prédire les sentiments</span>\n",
    "</div>"
   ]
  }
 ],
 "metadata": {
  "kernelspec": {
   "display_name": "Python 3",
   "language": "python",
   "name": "python3"
  },
  "language_info": {
   "codemirror_mode": {
    "name": "ipython",
    "version": 3
   },
   "file_extension": ".py",
   "mimetype": "text/x-python",
   "name": "python",
   "nbconvert_exporter": "python",
   "pygments_lexer": "ipython3",
   "version": "3.7.10"
  },
  "papermill": {
   "default_parameters": {},
   "duration": 125.04346,
   "end_time": "2022-02-04T15:24:03.693553",
   "environment_variables": {},
   "exception": null,
   "input_path": "__notebook__.ipynb",
   "output_path": "__notebook__.ipynb",
   "parameters": {},
   "start_time": "2022-02-04T15:21:58.650093",
   "version": "2.3.3"
  },
  "widgets": {
   "application/vnd.jupyter.widget-state+json": {
    "state": {
     "8199c71e7d594d01bf7d88499c38c0c1": {
      "model_module": "@jupyter-widgets/base",
      "model_module_version": "1.2.0",
      "model_name": "LayoutModel",
      "state": {
       "_model_module": "@jupyter-widgets/base",
       "_model_module_version": "1.2.0",
       "_model_name": "LayoutModel",
       "_view_count": null,
       "_view_module": "@jupyter-widgets/base",
       "_view_module_version": "1.2.0",
       "_view_name": "LayoutView",
       "align_content": null,
       "align_items": null,
       "align_self": null,
       "border": null,
       "bottom": null,
       "display": null,
       "flex": null,
       "flex_flow": null,
       "grid_area": null,
       "grid_auto_columns": null,
       "grid_auto_flow": null,
       "grid_auto_rows": null,
       "grid_column": null,
       "grid_gap": null,
       "grid_row": null,
       "grid_template_areas": null,
       "grid_template_columns": null,
       "grid_template_rows": null,
       "height": null,
       "justify_content": null,
       "justify_items": null,
       "left": null,
       "margin": null,
       "max_height": null,
       "max_width": null,
       "min_height": null,
       "min_width": null,
       "object_fit": null,
       "object_position": null,
       "order": null,
       "overflow": null,
       "overflow_x": null,
       "overflow_y": null,
       "padding": null,
       "right": null,
       "top": null,
       "visibility": null,
       "width": null
      }
     },
     "91da5ea92280424d8c1937ed35b2f1b9": {
      "model_module": "@jupyter-widgets/controls",
      "model_module_version": "1.5.0",
      "model_name": "TextModel",
      "state": {
       "_dom_classes": [],
       "_model_module": "@jupyter-widgets/controls",
       "_model_module_version": "1.5.0",
       "_model_name": "TextModel",
       "_view_count": null,
       "_view_module": "@jupyter-widgets/controls",
       "_view_module_version": "1.5.0",
       "_view_name": "TextView",
       "continuous_update": true,
       "description": "Description:",
       "description_tooltip": null,
       "disabled": false,
       "layout": "IPY_MODEL_8199c71e7d594d01bf7d88499c38c0c1",
       "placeholder": "type your description here",
       "style": "IPY_MODEL_f842e2bf6db241ad932c6c9712e73e22",
       "value": ""
      }
     },
     "f842e2bf6db241ad932c6c9712e73e22": {
      "model_module": "@jupyter-widgets/controls",
      "model_module_version": "1.5.0",
      "model_name": "DescriptionStyleModel",
      "state": {
       "_model_module": "@jupyter-widgets/controls",
       "_model_module_version": "1.5.0",
       "_model_name": "DescriptionStyleModel",
       "_view_count": null,
       "_view_module": "@jupyter-widgets/base",
       "_view_module_version": "1.2.0",
       "_view_name": "StyleView",
       "description_width": ""
      }
     }
    },
    "version_major": 2,
    "version_minor": 0
   }
  }
 },
 "nbformat": 4,
 "nbformat_minor": 5
}
