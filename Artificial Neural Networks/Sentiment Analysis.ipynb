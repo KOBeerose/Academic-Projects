{
 "cells": [
  {
   "cell_type": "markdown",
   "id": "d3477f47",
   "metadata": {
    "execution": {
     "iopub.execute_input": "2022-01-24T17:11:50.522771Z",
     "iopub.status.busy": "2022-01-24T17:11:50.520615Z",
     "iopub.status.idle": "2022-01-24T17:11:50.625279Z"
    },
    "papermill": {
     "duration": 0.21357,
     "end_time": "2022-01-24T22:25:50.317661",
     "exception": false,
     "start_time": "2022-01-24T22:25:50.104091",
     "status": "completed"
    },
    "tags": []
   },
   "source": [
    "<center><h1 style=\"color:#1a1a1a;\n",
    "                    font-size:3em\">\n",
    "        Projet: 🤖 Méthodologies de l’IA \n",
    "        </h1> \n",
    "        <h2 style=\"color:#1a1a1a;\n",
    "                    font-size:2em\">\n",
    "        Utilisation des réseaux multi-couches pour l’analyse des 😞 sentiments 😄.\n",
    "       </h2>\n",
    "</center>"
   ]
  },
  {
   "cell_type": "markdown",
   "id": "2a7de8cb",
   "metadata": {
    "papermill": {
     "duration": 0.212479,
     "end_time": "2022-01-24T22:25:50.740084",
     "exception": false,
     "start_time": "2022-01-24T22:25:50.527605",
     "status": "completed"
    },
    "tags": []
   },
   "source": [
    "<div style=\"font-size:1.3em\">\n",
    "    <span>\n",
    "    Réalisé par :¶\n",
    "    </span>\n",
    "      <ul>\n",
    "         <li>ELGHABI Taha</li>\n",
    "         <li>XXX xxx</li>\n",
    "         <li>XXX xxx</li>\n",
    "      </ul>\n",
    "    <span>\n",
    "    Encadré par :¶\n",
    "    </span>\n",
    "      <ul>\n",
    "         <li>M. XXX xxx</li>\n",
    "      </ul>\n",
    "</div>"
   ]
  },
  {
   "cell_type": "markdown",
   "id": "2e2897da",
   "metadata": {
    "papermill": {
     "duration": 0.116359,
     "end_time": "2022-01-24T22:25:50.974899",
     "exception": false,
     "start_time": "2022-01-24T22:25:50.858540",
     "status": "completed"
    },
    "tags": []
   },
   "source": [
    "<div style=\"font-size:1.5rem\">\n",
    "    <p>📜 Table des matières:</p>\n",
    "    <ul>\n",
    "       <li>\n",
    "          <a href=\"#Intro-section\">Introduction 📖</a>\n",
    "          <ul>\n",
    "             <li><a href=\"#overview\">Aperçu</a></li>\n",
    "             <li><a href=\"#dataset\">Jeu de données</a></li>\n",
    "          </ul>\n",
    "       </li>\n",
    "       <li>\n",
    "          <a href=\"#Analysis-section\">Analyses et Transformations 🔎</a>\n",
    "          <ul>\n",
    "             <li><a href=\"#eda\">Exploration de données</a></li>\n",
    "             <li><a href=\"#trans\">Transformation de données</a></li>\n",
    "          </ul>\n",
    "       </li>\n",
    "       <li>\n",
    "          <a href=\"#pre-processing\">Pré-traitement ⚙️</a>\n",
    "          <ul>\n",
    "             <li><a href=\"#split-data\">Diviser les données</a></li>\n",
    "             <li><a href=\"#Vectorising\">Vectoriser les phrases</a></li>\n",
    "          </ul>\n",
    "       </li>\n",
    "       <li>\n",
    "          <a href=\"#model-building\">Construction des modèles 🛠️</a>\n",
    "          <ul>\n",
    "             <li><a href=\"#ml-basic\">Modèles de base du ML </a></li>\n",
    "             <li><a href=\"#ANN\">Réseaux de neurones artificiels (ANN)</a></li>\n",
    "             <li><a href=\"#word-embd\">Word Embedding</a></li>\n",
    "             <li><a href=\"#emb-lstm\">Réseau de Neurones avec Embedding + LSTM</a></li>\n",
    "          </ul>\n",
    "       </li>\n",
    "       <li><a href=\"#demo\">Une démo live 🧮</a></li>\n",
    "       <li><a href=\"#Conclusion\">Conclusion 📌</a></li>\n",
    "    </ul>\n",
    "</div>"
   ]
  },
  {
   "cell_type": "markdown",
   "id": "d811d2f6",
   "metadata": {
    "papermill": {
     "duration": 0.117683,
     "end_time": "2022-01-24T22:25:51.210562",
     "exception": false,
     "start_time": "2022-01-24T22:25:51.092879",
     "status": "completed"
    },
    "tags": []
   },
   "source": [
    "<center id=\"Intro-section\">\n",
    "        <h2 style=\"color:#1a1a1a;\n",
    "                    font-size:2em\">\n",
    "        Introduction 📖\n",
    "        </h2>\n",
    "</center>"
   ]
  },
  {
   "cell_type": "markdown",
   "id": "b4ce0eb7",
   "metadata": {
    "papermill": {
     "duration": 0.115857,
     "end_time": "2022-01-24T22:25:51.441546",
     "exception": false,
     "start_time": "2022-01-24T22:25:51.325689",
     "status": "completed"
    },
    "tags": []
   },
   "source": [
    "<div id=\"overview\">\n",
    "        <h3 style=\"color:#1a1a1a;\n",
    "                    font-size:2em\">\n",
    "         ⮞  Aperçu\n",
    "        </h3>\n",
    "</div>"
   ]
  },
  {
   "cell_type": "markdown",
   "id": "f87493cb",
   "metadata": {
    "papermill": {
     "duration": 0.115342,
     "end_time": "2022-01-24T22:25:51.672889",
     "exception": false,
     "start_time": "2022-01-24T22:25:51.557547",
     "status": "completed"
    },
    "tags": []
   },
   "source": [
    "<span style=\"color:grey; font-size:1.2em\">Dans le cadre de notre etude Ce projet qui vise a Utilisation des <b>réseaux multi-couches</b> pour l’analyse des <b>sentiments</b> des phrases issues d’une base d’exemples qui contient des phrases étiquetées avec un sentiment positif ou négatif.\n",
    "</span>"
   ]
  },
  {
   "cell_type": "markdown",
   "id": "94a27d0d",
   "metadata": {
    "papermill": {
     "duration": 0.115593,
     "end_time": "2022-01-24T22:25:51.903673",
     "exception": false,
     "start_time": "2022-01-24T22:25:51.788080",
     "status": "completed"
    },
    "tags": []
   },
   "source": [
    "<div id=\"dataset\">\n",
    "        <h3 style=\"color:#1a1a1a;\n",
    "                    font-size:2em\">\n",
    "         ⮞  Jeu de données\n",
    "        </h3>\n",
    "</div>"
   ]
  },
  {
   "cell_type": "markdown",
   "id": "13104547",
   "metadata": {
    "papermill": {
     "duration": 0.11635,
     "end_time": "2022-01-24T22:25:52.135284",
     "exception": false,
     "start_time": "2022-01-24T22:25:52.018934",
     "status": "completed"
    },
    "tags": []
   },
   "source": [
    "\n",
    "<span style=\"color:grey; font-size:1.2em\">La série qu'on va traiter est <b> la température moyenne de Delhi</b>. Notre jeu de données contient des données de météo de<b> 2013 à 2017 échantillonnées</b>  chaque mois ainsi que des caractéristiques météorologiques supplémentaires telles que la pression, l'humidité, etc.</span>Commentaires client\n"
   ]
  },
  {
   "cell_type": "markdown",
   "id": "3d65fbf5",
   "metadata": {
    "execution": {
     "iopub.execute_input": "2022-01-24T17:58:30.813618Z",
     "iopub.status.busy": "2022-01-24T17:58:30.812022Z",
     "iopub.status.idle": "2022-01-24T17:58:30.824348Z"
    },
    "papermill": {
     "duration": 0.116276,
     "end_time": "2022-01-24T22:25:52.365622",
     "exception": false,
     "start_time": "2022-01-24T22:25:52.249346",
     "status": "completed"
    },
    "tags": []
   },
   "source": [
    "<center id=\"Analysis-section\">\n",
    "        <h2 style=\"color:#1a1a1a;\n",
    "                    font-size:2em\">\n",
    "        Analyses et Transformations 🔎\n",
    "        </h2>\n",
    "</center>"
   ]
  },
  {
   "cell_type": "markdown",
   "id": "19488b1a",
   "metadata": {
    "execution": {
     "iopub.execute_input": "2022-01-24T18:29:39.022907Z",
     "iopub.status.busy": "2022-01-24T18:29:39.021213Z",
     "iopub.status.idle": "2022-01-24T18:29:39.034502Z"
    },
    "papermill": {
     "duration": 0.114006,
     "end_time": "2022-01-24T22:25:52.593667",
     "exception": false,
     "start_time": "2022-01-24T22:25:52.479661",
     "status": "completed"
    },
    "tags": []
   },
   "source": [
    "<div id=\"eda\">\n",
    "        <h3 style=\"color:#1a1a1a;\n",
    "                    font-size:2em\">\n",
    "         ⮞  Exploration de données\n",
    "        </h3>\n",
    "</div>"
   ]
  },
  {
   "cell_type": "markdown",
   "id": "eb97cbe9",
   "metadata": {
    "execution": {
     "iopub.execute_input": "2022-01-24T18:49:49.523647Z",
     "iopub.status.busy": "2022-01-24T18:49:49.518861Z",
     "iopub.status.idle": "2022-01-24T18:49:49.594606Z"
    },
    "papermill": {
     "duration": 0.117693,
     "end_time": "2022-01-24T22:25:52.825553",
     "exception": false,
     "start_time": "2022-01-24T22:25:52.707860",
     "status": "completed"
    },
    "tags": []
   },
   "source": [
    "<h4 style=\"color:grey\"> Importation de bibliothèques </h4>"
   ]
  },
  {
   "cell_type": "code",
   "execution_count": 1,
   "id": "6876158a",
   "metadata": {
    "_execution_state": "idle",
    "_uuid": "051d70d956493feee0c6d64651c6a088724dca2a",
    "execution": {
     "iopub.execute_input": "2022-01-24T22:25:53.700769Z",
     "iopub.status.busy": "2022-01-24T22:25:53.698076Z",
     "iopub.status.idle": "2022-01-24T22:25:54.624800Z",
     "shell.execute_reply": "2022-01-24T22:25:54.623797Z"
    },
    "papermill": {
     "duration": 1.04718,
     "end_time": "2022-01-24T22:25:54.624910",
     "exception": false,
     "start_time": "2022-01-24T22:25:53.577730",
     "status": "completed"
    },
    "scrolled": true,
    "tags": []
   },
   "outputs": [],
   "source": [
    "# importer les bibliothèques nécessaires\n",
    "import pandas as pd\n",
    "import numpy as np\n",
    "import matplotlib.pyplot as plt\n",
    "%matplotlib inline\n",
    "\n",
    "from sklearn.feature_extraction.text import CountVectorizer\n",
    "from sklearn.model_selection import train_test_split\n",
    "from sklearn.linear_model import LogisticRegression\n",
    "from sklearn.naive_bayes import MultinomialNB\n",
    "from sklearn.svm import SVC\n",
    "from sklearn.tree import DecisionTreeClassifier\n",
    "from sklearn.ensemble import RandomForestClassifier, GradientBoostingClassifier\n",
    "\n",
    "from sklearn.preprocessing import LabelEncoder\n",
    "from sklearn.preprocessing import OneHotEncoder\n",
    "from sklearn.model_selection import RandomizedSearchCV\n",
    "\n",
    "import tensorflow as tf\n",
    "\n",
    "from tensorflow.keras.preprocessing.text import Tokenizer\n",
    "from tensorflow.keras.preprocessing.sequence import pad_sequences\n",
    "from tensorflow.keras.preprocessing.text import one_hot\n",
    "\n",
    "from tensorflow.keras.models import Sequential\n",
    "from tensorflow.keras import layers\n",
    "from tensorflow.keras.wrappers.scikit_learn import KerasClassifier\n",
    "\n",
    "from tensorflow.keras.layers import Embedding\n",
    "from tensorflow.keras.preprocessing.sequence import pad_sequences\n",
    "from tensorflow.keras.models import Sequential\n",
    "from tensorflow.keras.preprocessing.text import one_hot\n",
    "from tensorflow.keras.layers import LSTM\n",
    "from tensorflow.keras.layers import Dense"
   ]
  },
  {
   "cell_type": "code",
   "execution_count": 2,
   "id": "daa9c434",
   "metadata": {},
   "outputs": [],
   "source": [
    "#  ignorer les avertissements\n",
    "import warnings\n",
    "\n",
    "warnings.filterwarnings(\"ignore\")"
   ]
  },
  {
   "cell_type": "markdown",
   "id": "12695d7f",
   "metadata": {
    "papermill": {
     "duration": 0.117787,
     "end_time": "2022-01-24T22:25:54.862444",
     "exception": false,
     "start_time": "2022-01-24T22:25:54.744657",
     "status": "completed"
    },
    "tags": []
   },
   "source": [
    "<span style=\"color:grey; font-size:1.2em\">Important nos jeu de données sous les fichier <b>amazon_cells_labelled.txt</b> content les , <b>imdb_labelled.txt</b> et <b>yelp_labelled.txt</b> content  <b>csv</b>.</span>"
   ]
  },
  {
   "cell_type": "code",
   "execution_count": 3,
   "id": "44f420f5",
   "metadata": {
    "execution": {
     "iopub.execute_input": "2022-01-24T22:25:55.100382Z",
     "iopub.status.busy": "2022-01-24T22:25:55.098458Z",
     "iopub.status.idle": "2022-01-24T22:25:55.134914Z",
     "shell.execute_reply": "2022-01-24T22:25:55.133327Z"
    },
    "papermill": {
     "duration": 0.1566,
     "end_time": "2022-01-24T22:25:55.135072",
     "exception": false,
     "start_time": "2022-01-24T22:25:54.978472",
     "status": "completed"
    },
    "tags": []
   },
   "outputs": [],
   "source": [
    "# Dataset d'amazon\n",
    "amazon_data = pd.read_csv(\"Data/amazon_cells_labelled.txt\",delimiter='\\t',header=None, names=[\"text\",\"sentiment\"])\n",
    "\n",
    "# Dataset d'imdb\n",
    "imdb_data = pd.read_csv(\"Data/imdb_labelled.txt\",delimiter='\\t',header=None, names=[\"text\",\"sentiment\"])\n",
    "\n",
    "# Dataset de yeld\n",
    "yelp_data = pd.read_csv(\"Data/yelp_labelled.txt\",delimiter='\\t',header=None, names=[\"text\",\"sentiment\"])\n",
    "\n",
    "Datasets = {\"amazon\":amazon_data,\"imdb\":imdb_data,\"yelp\":yelp_data}"
   ]
  },
  {
   "cell_type": "markdown",
   "id": "f59a8d55",
   "metadata": {
    "papermill": {
     "duration": 0.121498,
     "end_time": "2022-01-24T22:25:55.387049",
     "exception": false,
     "start_time": "2022-01-24T22:25:55.265551",
     "status": "completed"
    },
    "tags": []
   },
   "source": [
    "<h4 style=\"color:grey\"> Explorant notre jeu de données </h4>"
   ]
  },
  {
   "cell_type": "code",
   "execution_count": 4,
   "id": "5217df97",
   "metadata": {
    "execution": {
     "iopub.execute_input": "2022-01-24T22:25:55.638744Z",
     "iopub.status.busy": "2022-01-24T22:25:55.636403Z",
     "iopub.status.idle": "2022-01-24T22:25:55.674496Z",
     "shell.execute_reply": "2022-01-24T22:25:55.672428Z"
    },
    "papermill": {
     "duration": 0.163141,
     "end_time": "2022-01-24T22:25:55.674611",
     "exception": false,
     "start_time": "2022-01-24T22:25:55.511470",
     "status": "completed"
    },
    "scrolled": false,
    "tags": []
   },
   "outputs": [
    {
     "data": {
      "text/html": [
       "<div>\n",
       "<style scoped>\n",
       "    .dataframe tbody tr th:only-of-type {\n",
       "        vertical-align: middle;\n",
       "    }\n",
       "\n",
       "    .dataframe tbody tr th {\n",
       "        vertical-align: top;\n",
       "    }\n",
       "\n",
       "    .dataframe thead th {\n",
       "        text-align: right;\n",
       "    }\n",
       "</style>\n",
       "<table border=\"1\" class=\"dataframe\">\n",
       "  <thead>\n",
       "    <tr style=\"text-align: right;\">\n",
       "      <th></th>\n",
       "      <th>text</th>\n",
       "      <th>sentiment</th>\n",
       "    </tr>\n",
       "  </thead>\n",
       "  <tbody>\n",
       "    <tr>\n",
       "      <th>0</th>\n",
       "      <td>So there is no way for me to plug it in here i...</td>\n",
       "      <td>0</td>\n",
       "    </tr>\n",
       "    <tr>\n",
       "      <th>1</th>\n",
       "      <td>Good case, Excellent value.</td>\n",
       "      <td>1</td>\n",
       "    </tr>\n",
       "    <tr>\n",
       "      <th>2</th>\n",
       "      <td>Great for the jawbone.</td>\n",
       "      <td>1</td>\n",
       "    </tr>\n",
       "    <tr>\n",
       "      <th>3</th>\n",
       "      <td>Tied to charger for conversations lasting more...</td>\n",
       "      <td>0</td>\n",
       "    </tr>\n",
       "    <tr>\n",
       "      <th>4</th>\n",
       "      <td>The mic is great.</td>\n",
       "      <td>1</td>\n",
       "    </tr>\n",
       "  </tbody>\n",
       "</table>\n",
       "</div>"
      ],
      "text/plain": [
       "                                                text  sentiment\n",
       "0  So there is no way for me to plug it in here i...          0\n",
       "1                        Good case, Excellent value.          1\n",
       "2                             Great for the jawbone.          1\n",
       "3  Tied to charger for conversations lasting more...          0\n",
       "4                                  The mic is great.          1"
      ]
     },
     "execution_count": 4,
     "metadata": {},
     "output_type": "execute_result"
    }
   ],
   "source": [
    "amazon_data.head()"
   ]
  },
  {
   "cell_type": "code",
   "execution_count": 5,
   "id": "21acba2c",
   "metadata": {},
   "outputs": [
    {
     "data": {
      "text/html": [
       "<div>\n",
       "<style scoped>\n",
       "    .dataframe tbody tr th:only-of-type {\n",
       "        vertical-align: middle;\n",
       "    }\n",
       "\n",
       "    .dataframe tbody tr th {\n",
       "        vertical-align: top;\n",
       "    }\n",
       "\n",
       "    .dataframe thead th {\n",
       "        text-align: right;\n",
       "    }\n",
       "</style>\n",
       "<table border=\"1\" class=\"dataframe\">\n",
       "  <thead>\n",
       "    <tr style=\"text-align: right;\">\n",
       "      <th></th>\n",
       "      <th>text</th>\n",
       "      <th>sentiment</th>\n",
       "    </tr>\n",
       "  </thead>\n",
       "  <tbody>\n",
       "    <tr>\n",
       "      <th>0</th>\n",
       "      <td>A very, very, very slow-moving, aimless movie ...</td>\n",
       "      <td>0</td>\n",
       "    </tr>\n",
       "    <tr>\n",
       "      <th>1</th>\n",
       "      <td>Not sure who was more lost - the flat characte...</td>\n",
       "      <td>0</td>\n",
       "    </tr>\n",
       "    <tr>\n",
       "      <th>2</th>\n",
       "      <td>Attempting artiness with black &amp; white and cle...</td>\n",
       "      <td>0</td>\n",
       "    </tr>\n",
       "    <tr>\n",
       "      <th>3</th>\n",
       "      <td>Very little music or anything to speak of.</td>\n",
       "      <td>0</td>\n",
       "    </tr>\n",
       "    <tr>\n",
       "      <th>4</th>\n",
       "      <td>The best scene in the movie was when Gerardo i...</td>\n",
       "      <td>1</td>\n",
       "    </tr>\n",
       "  </tbody>\n",
       "</table>\n",
       "</div>"
      ],
      "text/plain": [
       "                                                text  sentiment\n",
       "0  A very, very, very slow-moving, aimless movie ...          0\n",
       "1  Not sure who was more lost - the flat characte...          0\n",
       "2  Attempting artiness with black & white and cle...          0\n",
       "3       Very little music or anything to speak of.            0\n",
       "4  The best scene in the movie was when Gerardo i...          1"
      ]
     },
     "execution_count": 5,
     "metadata": {},
     "output_type": "execute_result"
    }
   ],
   "source": [
    "imdb_data.head()"
   ]
  },
  {
   "cell_type": "code",
   "execution_count": 6,
   "id": "83803d05",
   "metadata": {},
   "outputs": [
    {
     "data": {
      "text/html": [
       "<div>\n",
       "<style scoped>\n",
       "    .dataframe tbody tr th:only-of-type {\n",
       "        vertical-align: middle;\n",
       "    }\n",
       "\n",
       "    .dataframe tbody tr th {\n",
       "        vertical-align: top;\n",
       "    }\n",
       "\n",
       "    .dataframe thead th {\n",
       "        text-align: right;\n",
       "    }\n",
       "</style>\n",
       "<table border=\"1\" class=\"dataframe\">\n",
       "  <thead>\n",
       "    <tr style=\"text-align: right;\">\n",
       "      <th></th>\n",
       "      <th>text</th>\n",
       "      <th>sentiment</th>\n",
       "    </tr>\n",
       "  </thead>\n",
       "  <tbody>\n",
       "    <tr>\n",
       "      <th>0</th>\n",
       "      <td>Wow... Loved this place.</td>\n",
       "      <td>1</td>\n",
       "    </tr>\n",
       "    <tr>\n",
       "      <th>1</th>\n",
       "      <td>Crust is not good.</td>\n",
       "      <td>0</td>\n",
       "    </tr>\n",
       "    <tr>\n",
       "      <th>2</th>\n",
       "      <td>Not tasty and the texture was just nasty.</td>\n",
       "      <td>0</td>\n",
       "    </tr>\n",
       "    <tr>\n",
       "      <th>3</th>\n",
       "      <td>Stopped by during the late May bank holiday of...</td>\n",
       "      <td>1</td>\n",
       "    </tr>\n",
       "    <tr>\n",
       "      <th>4</th>\n",
       "      <td>The selection on the menu was great and so wer...</td>\n",
       "      <td>1</td>\n",
       "    </tr>\n",
       "  </tbody>\n",
       "</table>\n",
       "</div>"
      ],
      "text/plain": [
       "                                                text  sentiment\n",
       "0                           Wow... Loved this place.          1\n",
       "1                                 Crust is not good.          0\n",
       "2          Not tasty and the texture was just nasty.          0\n",
       "3  Stopped by during the late May bank holiday of...          1\n",
       "4  The selection on the menu was great and so wer...          1"
      ]
     },
     "execution_count": 6,
     "metadata": {},
     "output_type": "execute_result"
    }
   ],
   "source": [
    "yelp_data.head()"
   ]
  },
  {
   "cell_type": "code",
   "execution_count": 7,
   "id": "58ca6fec",
   "metadata": {},
   "outputs": [
    {
     "name": "stdout",
     "output_type": "stream",
     "text": [
      "la taille du dataset amazon est: 1000\n",
      "la taille du dataset imdb est: 748\n",
      "la taille du dataset yelp est: 1000\n"
     ]
    }
   ],
   "source": [
    "for dataset in Datasets:\n",
    "    print(\"la taille du dataset \"+str(dataset)+\" est: \"+str(Datasets[dataset].shape[0]))\n"
   ]
  },
  {
   "cell_type": "markdown",
   "id": "9e60361c",
   "metadata": {
    "papermill": {
     "duration": 0.123174,
     "end_time": "2022-01-24T22:25:56.238575",
     "exception": false,
     "start_time": "2022-01-24T22:25:56.115401",
     "status": "completed"
    },
    "tags": []
   },
   "source": [
    "<span style=\"color:grey; font-size:1.2em\">Un aperçu des données en utilisant les fonctions <b>info()</b> et <b>describe()</b> du pandas pour examiner les données. </span>"
   ]
  },
  {
   "cell_type": "code",
   "execution_count": 8,
   "id": "b1b0aabd",
   "metadata": {
    "execution": {
     "iopub.execute_input": "2022-01-24T22:25:56.490618Z",
     "iopub.status.busy": "2022-01-24T22:25:56.488287Z",
     "iopub.status.idle": "2022-01-24T22:25:56.515704Z",
     "shell.execute_reply": "2022-01-24T22:25:56.513269Z"
    },
    "papermill": {
     "duration": 0.154556,
     "end_time": "2022-01-24T22:25:56.515821",
     "exception": false,
     "start_time": "2022-01-24T22:25:56.361265",
     "status": "completed"
    },
    "tags": []
   },
   "outputs": [
    {
     "name": "stdout",
     "output_type": "stream",
     "text": [
      "\n",
      " Les info sur le dataset amazon: \n",
      "\n",
      "<class 'pandas.core.frame.DataFrame'>\n",
      "RangeIndex: 1000 entries, 0 to 999\n",
      "Data columns (total 2 columns):\n",
      " #   Column     Non-Null Count  Dtype \n",
      "---  ------     --------------  ----- \n",
      " 0   text       1000 non-null   object\n",
      " 1   sentiment  1000 non-null   int64 \n",
      "dtypes: int64(1), object(1)\n",
      "memory usage: 15.8+ KB\n",
      "None\n",
      "\n",
      " Les info sur le dataset imdb: \n",
      "\n",
      "<class 'pandas.core.frame.DataFrame'>\n",
      "RangeIndex: 748 entries, 0 to 747\n",
      "Data columns (total 2 columns):\n",
      " #   Column     Non-Null Count  Dtype \n",
      "---  ------     --------------  ----- \n",
      " 0   text       748 non-null    object\n",
      " 1   sentiment  748 non-null    int64 \n",
      "dtypes: int64(1), object(1)\n",
      "memory usage: 11.8+ KB\n",
      "None\n",
      "\n",
      " Les info sur le dataset yelp: \n",
      "\n",
      "<class 'pandas.core.frame.DataFrame'>\n",
      "RangeIndex: 1000 entries, 0 to 999\n",
      "Data columns (total 2 columns):\n",
      " #   Column     Non-Null Count  Dtype \n",
      "---  ------     --------------  ----- \n",
      " 0   text       1000 non-null   object\n",
      " 1   sentiment  1000 non-null   int64 \n",
      "dtypes: int64(1), object(1)\n",
      "memory usage: 15.8+ KB\n",
      "None\n"
     ]
    }
   ],
   "source": [
    "for dataset in Datasets.keys():\n",
    "    print(\"\\n Les info sur le dataset \"+str(dataset)+\": \\n\")\n",
    "    print(Datasets[dataset].info())"
   ]
  },
  {
   "cell_type": "code",
   "execution_count": 9,
   "id": "4c8cced6",
   "metadata": {
    "execution": {
     "iopub.execute_input": "2022-01-24T22:25:56.769232Z",
     "iopub.status.busy": "2022-01-24T22:25:56.767182Z",
     "iopub.status.idle": "2022-01-24T22:25:56.818591Z",
     "shell.execute_reply": "2022-01-24T22:25:56.816335Z"
    },
    "papermill": {
     "duration": 0.179037,
     "end_time": "2022-01-24T22:25:56.818746",
     "exception": false,
     "start_time": "2022-01-24T22:25:56.639709",
     "status": "completed"
    },
    "scrolled": false,
    "tags": []
   },
   "outputs": [
    {
     "name": "stdout",
     "output_type": "stream",
     "text": [
      "\n",
      " Une description sur du dataset amazon: \n",
      "\n",
      "        sentiment\n",
      "count  1000.00000\n",
      "mean      0.50000\n",
      "std       0.50025\n",
      "min       0.00000\n",
      "25%       0.00000\n",
      "50%       0.50000\n",
      "75%       1.00000\n",
      "max       1.00000\n",
      "\n",
      " Une description sur du dataset imdb: \n",
      "\n",
      "        sentiment\n",
      "count  748.000000\n",
      "mean     0.516043\n",
      "std      0.500077\n",
      "min      0.000000\n",
      "25%      0.000000\n",
      "50%      1.000000\n",
      "75%      1.000000\n",
      "max      1.000000\n",
      "\n",
      " Une description sur du dataset yelp: \n",
      "\n",
      "        sentiment\n",
      "count  1000.00000\n",
      "mean      0.50000\n",
      "std       0.50025\n",
      "min       0.00000\n",
      "25%       0.00000\n",
      "50%       0.50000\n",
      "75%       1.00000\n",
      "max       1.00000\n"
     ]
    }
   ],
   "source": [
    "for dataset in Datasets.keys():\n",
    "    print(\"\\n Une description sur du dataset \"+str(dataset)+\": \\n\")\n",
    "    print(Datasets[dataset].describe())"
   ]
  },
  {
   "cell_type": "code",
   "execution_count": 10,
   "id": "8c1a7ec0",
   "metadata": {
    "scrolled": true
   },
   "outputs": [
    {
     "name": "stdout",
     "output_type": "stream",
     "text": [
      "\n",
      " Les valeurs null du dataset amazon est: \n",
      "text         0\n",
      "sentiment    0\n",
      "dtype: int64\n",
      "\n",
      " Les valeurs null du dataset imdb est: \n",
      "text         0\n",
      "sentiment    0\n",
      "dtype: int64\n",
      "\n",
      " Les valeurs null du dataset yelp est: \n",
      "text         0\n",
      "sentiment    0\n",
      "dtype: int64\n"
     ]
    }
   ],
   "source": [
    "for dataset in Datasets.keys():\n",
    "    print(\"\\n Les valeurs null du dataset \"+str(dataset)+\" est: \")\n",
    "    print(Datasets[dataset].isna().sum())"
   ]
  },
  {
   "cell_type": "markdown",
   "id": "8f7c9130",
   "metadata": {
    "execution": {
     "iopub.execute_input": "2022-01-24T19:00:32.005718Z",
     "iopub.status.busy": "2022-01-24T19:00:32.001761Z",
     "iopub.status.idle": "2022-01-24T19:00:32.031031Z"
    },
    "papermill": {
     "duration": 0.243516,
     "end_time": "2022-01-24T22:25:57.305519",
     "exception": false,
     "start_time": "2022-01-24T22:25:57.062003",
     "status": "completed"
    },
    "tags": []
   },
   "source": [
    "<span style=\"color:grey; font-size:1.2em\">Les données n'ont pas de <b>valeurs manquantes</b>, nous n'effectuerons donc pas un <b>nettoyage des données.</b> </span>"
   ]
  },
  {
   "cell_type": "markdown",
   "id": "60d163d6",
   "metadata": {},
   "source": [
    "<div id=\"trans\">\n",
    "        <h3 style=\"color:#1a1a1a;\n",
    "                    font-size:2em\">\n",
    "         ⮞  Transformation de données\n",
    "        </h3>\n",
    "</div>"
   ]
  },
  {
   "cell_type": "markdown",
   "id": "1c34f732",
   "metadata": {},
   "source": [
    "<span style=\"color:grey; font-size:1.2em\">On va créer un objet de type <b>pandas DataFrame</b> qui contient les données des trois Datasets.</span>"
   ]
  },
  {
   "cell_type": "code",
   "execution_count": 11,
   "id": "b06b05fa",
   "metadata": {},
   "outputs": [],
   "source": [
    "amazon_data['source']='amazon'\n",
    "imdb_data['source']='imdb'\n",
    "yelp_data['source']='yelp'\n",
    "\n",
    "data  = pd.concat(list(Datasets.values()))"
   ]
  },
  {
   "cell_type": "code",
   "execution_count": 12,
   "id": "2f396f74",
   "metadata": {},
   "outputs": [
    {
     "data": {
      "text/html": [
       "<div>\n",
       "<style scoped>\n",
       "    .dataframe tbody tr th:only-of-type {\n",
       "        vertical-align: middle;\n",
       "    }\n",
       "\n",
       "    .dataframe tbody tr th {\n",
       "        vertical-align: top;\n",
       "    }\n",
       "\n",
       "    .dataframe thead th {\n",
       "        text-align: right;\n",
       "    }\n",
       "</style>\n",
       "<table border=\"1\" class=\"dataframe\">\n",
       "  <thead>\n",
       "    <tr style=\"text-align: right;\">\n",
       "      <th></th>\n",
       "      <th>text</th>\n",
       "      <th>sentiment</th>\n",
       "      <th>source</th>\n",
       "    </tr>\n",
       "  </thead>\n",
       "  <tbody>\n",
       "    <tr>\n",
       "      <th>0</th>\n",
       "      <td>So there is no way for me to plug it in here i...</td>\n",
       "      <td>0</td>\n",
       "      <td>amazon</td>\n",
       "    </tr>\n",
       "    <tr>\n",
       "      <th>1</th>\n",
       "      <td>Good case, Excellent value.</td>\n",
       "      <td>1</td>\n",
       "      <td>amazon</td>\n",
       "    </tr>\n",
       "    <tr>\n",
       "      <th>2</th>\n",
       "      <td>Great for the jawbone.</td>\n",
       "      <td>1</td>\n",
       "      <td>amazon</td>\n",
       "    </tr>\n",
       "    <tr>\n",
       "      <th>3</th>\n",
       "      <td>Tied to charger for conversations lasting more...</td>\n",
       "      <td>0</td>\n",
       "      <td>amazon</td>\n",
       "    </tr>\n",
       "    <tr>\n",
       "      <th>4</th>\n",
       "      <td>The mic is great.</td>\n",
       "      <td>1</td>\n",
       "      <td>amazon</td>\n",
       "    </tr>\n",
       "  </tbody>\n",
       "</table>\n",
       "</div>"
      ],
      "text/plain": [
       "                                                text  sentiment  source\n",
       "0  So there is no way for me to plug it in here i...          0  amazon\n",
       "1                        Good case, Excellent value.          1  amazon\n",
       "2                             Great for the jawbone.          1  amazon\n",
       "3  Tied to charger for conversations lasting more...          0  amazon\n",
       "4                                  The mic is great.          1  amazon"
      ]
     },
     "execution_count": 12,
     "metadata": {},
     "output_type": "execute_result"
    }
   ],
   "source": [
    "data.head()"
   ]
  },
  {
   "cell_type": "markdown",
   "id": "b6cb4116",
   "metadata": {},
   "source": [
    "<span style=\"color:grey; font-size:1.2em\">Analyons donc le nouveau jeu de données.</span>"
   ]
  },
  {
   "cell_type": "code",
   "execution_count": 13,
   "id": "daf7a8cf",
   "metadata": {},
   "outputs": [
    {
     "name": "stdout",
     "output_type": "stream",
     "text": [
      "la taille du nouveau dataset est: 2748\n"
     ]
    }
   ],
   "source": [
    "print(\"la taille du nouveau dataset est: \"+str(data.shape[0]))"
   ]
  },
  {
   "cell_type": "code",
   "execution_count": 14,
   "id": "426d5f29",
   "metadata": {},
   "outputs": [
    {
     "name": "stdout",
     "output_type": "stream",
     "text": [
      "Une description sur du nouveau dataset:\n"
     ]
    },
    {
     "data": {
      "text/html": [
       "<div>\n",
       "<style scoped>\n",
       "    .dataframe tbody tr th:only-of-type {\n",
       "        vertical-align: middle;\n",
       "    }\n",
       "\n",
       "    .dataframe tbody tr th {\n",
       "        vertical-align: top;\n",
       "    }\n",
       "\n",
       "    .dataframe thead th {\n",
       "        text-align: right;\n",
       "    }\n",
       "</style>\n",
       "<table border=\"1\" class=\"dataframe\">\n",
       "  <thead>\n",
       "    <tr style=\"text-align: right;\">\n",
       "      <th></th>\n",
       "      <th>sentiment</th>\n",
       "    </tr>\n",
       "  </thead>\n",
       "  <tbody>\n",
       "    <tr>\n",
       "      <th>count</th>\n",
       "      <td>2748.000000</td>\n",
       "    </tr>\n",
       "    <tr>\n",
       "      <th>mean</th>\n",
       "      <td>0.504367</td>\n",
       "    </tr>\n",
       "    <tr>\n",
       "      <th>std</th>\n",
       "      <td>0.500072</td>\n",
       "    </tr>\n",
       "    <tr>\n",
       "      <th>min</th>\n",
       "      <td>0.000000</td>\n",
       "    </tr>\n",
       "    <tr>\n",
       "      <th>25%</th>\n",
       "      <td>0.000000</td>\n",
       "    </tr>\n",
       "    <tr>\n",
       "      <th>50%</th>\n",
       "      <td>1.000000</td>\n",
       "    </tr>\n",
       "    <tr>\n",
       "      <th>75%</th>\n",
       "      <td>1.000000</td>\n",
       "    </tr>\n",
       "    <tr>\n",
       "      <th>max</th>\n",
       "      <td>1.000000</td>\n",
       "    </tr>\n",
       "  </tbody>\n",
       "</table>\n",
       "</div>"
      ],
      "text/plain": [
       "         sentiment\n",
       "count  2748.000000\n",
       "mean      0.504367\n",
       "std       0.500072\n",
       "min       0.000000\n",
       "25%       0.000000\n",
       "50%       1.000000\n",
       "75%       1.000000\n",
       "max       1.000000"
      ]
     },
     "execution_count": 14,
     "metadata": {},
     "output_type": "execute_result"
    }
   ],
   "source": [
    "print(\"Une description sur du nouveau dataset:\")\n",
    "data.describe()"
   ]
  },
  {
   "cell_type": "code",
   "execution_count": 15,
   "id": "7b7e80ed",
   "metadata": {},
   "outputs": [
    {
     "name": "stdout",
     "output_type": "stream",
     "text": [
      "le pourcentage de chaque source:\n"
     ]
    },
    {
     "data": {
      "text/plain": [
       "<AxesSubplot:ylabel='source'>"
      ]
     },
     "execution_count": 15,
     "metadata": {},
     "output_type": "execute_result"
    },
    {
     "data": {
      "image/png": "[encoded data removed]",
      "text/plain": [
       "<Figure size 360x360 with 1 Axes>"
      ]
     },
     "metadata": {},
     "output_type": "display_data"
    }
   ],
   "source": [
    "print(\"le pourcentage de chaque source:\")\n",
    "data['source'].value_counts().plot(kind='pie', \n",
    "                                   autopct='%1.0f%%',\n",
    "                                   shadow=True, \n",
    "                                   startangle=90, \n",
    "                                   pctdistance=0.85,\n",
    "                                   explode = (0.1,0.1,0.1),\n",
    "                                   colors = ['#f19100','#f21919','#e2b616'],\n",
    "                                   figsize=(5, 5))"
   ]
  },
  {
   "cell_type": "code",
   "execution_count": 16,
   "id": "c08ccfa4",
   "metadata": {},
   "outputs": [
    {
     "name": "stdout",
     "output_type": "stream",
     "text": [
      "le pourcentage des types de sentiments:\n"
     ]
    },
    {
     "data": {
      "text/plain": [
       "<AxesSubplot:ylabel='sentiment'>"
      ]
     },
     "execution_count": 16,
     "metadata": {},
     "output_type": "execute_result"
    },
    {
     "data": {
      "image/png": "[encoded data removed]",
      "text/plain": [
       "<Figure size 360x360 with 1 Axes>"
      ]
     },
     "metadata": {},
     "output_type": "display_data"
    }
   ],
   "source": [
    "print(\"le pourcentage des types de sentiments:\")\n",
    "data.sentiment.value_counts().plot(kind='pie', \n",
    "                                   autopct='%1.0f%%',\n",
    "                                   shadow=True, \n",
    "                                   startangle=180, \n",
    "                                   pctdistance=0.85,\n",
    "                                   explode = (0.05,0.05),\n",
    "                                   colors = ['#5cb696','#e4565c'],\n",
    "                                   figsize=(5, 5))"
   ]
  },
  {
   "cell_type": "markdown",
   "id": "bd9368fd",
   "metadata": {},
   "source": [
    "<span style=\"color:grey; font-size:1.2em\">Cet ensemble de données a <b>50/50</b> sentiments positifs et négatifs représentés par <b>1 et 0 </b>respectivement.</span>"
   ]
  },
  {
   "cell_type": "markdown",
   "id": "6e8cc8ea",
   "metadata": {
    "papermill": {
     "duration": 0.235557,
     "end_time": "2022-01-24T22:26:08.812424",
     "exception": false,
     "start_time": "2022-01-24T22:26:08.576867",
     "status": "completed"
    },
    "tags": []
   },
   "source": [
    "<center id=\"pre-processing\">\n",
    "        <h2 style=\"color:#1a1a1a;\n",
    "                    font-size:2em\">\n",
    "        Pré-traitement ⚙️\n",
    "        </h2>\n",
    "</center>"
   ]
  },
  {
   "cell_type": "markdown",
   "id": "939cb9c9",
   "metadata": {},
   "source": [
    "<div id=\"split-data\">\n",
    "        <h3 style=\"color:#1a1a1a;\n",
    "                    font-size:2em\">\n",
    "         ⮞  Diviser les données\n",
    "        </h3>\n",
    "</div>"
   ]
  },
  {
   "cell_type": "markdown",
   "id": "8d7f739c",
   "metadata": {},
   "source": [
    "\n",
    "\n",
    "<span style=\"color:grey; font-size:1.2em\">Nous commençons par diviser notre jeu de données <b>75%</b> pour l'entraînement et <b>25%</b> pour le test.</span>\n"
   ]
  },
  {
   "cell_type": "code",
   "execution_count": 17,
   "id": "af603b88",
   "metadata": {},
   "outputs": [],
   "source": [
    "sentences = data['text'].values\n",
    "y = data['sentiment'].values\n",
    "\n",
    "# diviser les données\n",
    "sentences_train, sentences_test, y_train, y_test = train_test_split(sentences, y, \n",
    "                                                                    test_size=0.25, \n",
    "                                                                    random_state=1000, \n",
    "                                                                    shuffle=True)"
   ]
  },
  {
   "cell_type": "code",
   "execution_count": 18,
   "id": "3dc8ee58",
   "metadata": {},
   "outputs": [
    {
     "name": "stdout",
     "output_type": "stream",
     "text": [
      "le pourcentage des types de sentiments pour les donnees d'entraînement:\n"
     ]
    },
    {
     "data": {
      "text/plain": [
       "<AxesSubplot:ylabel='sentiment'>"
      ]
     },
     "execution_count": 18,
     "metadata": {},
     "output_type": "execute_result"
    },
    {
     "data": {
      "image/png": "[encoded data removed]",
      "text/plain": [
       "<Figure size 360x360 with 1 Axes>"
      ]
     },
     "metadata": {},
     "output_type": "display_data"
    }
   ],
   "source": [
    "train_sentences = np.array(sentences_train)\n",
    "train_labels = np.array(y_train)\n",
    "train = pd.DataFrame({'sentiment': train_labels, 'text': list(train_sentences)}, columns=['sentiment', 'text'])\n",
    "\n",
    "print(\"le pourcentage des types de sentiments pour les donnees d'entraînement:\")\n",
    "train.sentiment.value_counts().plot(kind='pie', \n",
    "                                   autopct='%1.0f%%',\n",
    "                                   shadow=True, \n",
    "                                   startangle=180, \n",
    "                                   pctdistance=0.85,\n",
    "                                   explode = (0.05,0.05),\n",
    "                                   colors = ['#5cb696','#e4565c'],\n",
    "                                   figsize=(5, 5))"
   ]
  },
  {
   "cell_type": "markdown",
   "id": "3cb967fc",
   "metadata": {},
   "source": [
    "<span style=\"color:grey; font-size:1.2em\">L'échantillon de données d'apprentissage représente très bien l'ensemble de données</span>"
   ]
  },
  {
   "cell_type": "markdown",
   "id": "43c2df7c",
   "metadata": {},
   "source": [
    "<div id=\"Vectorising\">\n",
    "        <h3 style=\"color:#1a1a1a;\n",
    "                    font-size:2em\">\n",
    "         ⮞  Vectoriser les phrases\n",
    "        </h3>\n",
    "</div>"
   ]
  },
  {
   "cell_type": "markdown",
   "id": "abf84edb",
   "metadata": {},
   "source": [
    "<span style=\"color:grey; font-size:1.2em\">D'aboard on doit créer un vocabulaire de tous les mots uniques dans les phrases. Pour cela on va utiliser `CountVectorizer` fourni par la bibliothèque `scikit-learn` pour vectoriser les phrases. Ce vocabulaire peut ensuite être utilisé pour créer un vecteur de caractéristiques du nombre de mots.<br> pour mieux comprendre prenant un example issue de notre jeu de données:</span>"
   ]
  },
  {
   "cell_type": "code",
   "execution_count": 19,
   "id": "46513913",
   "metadata": {},
   "outputs": [
    {
     "name": "stdout",
     "output_type": "stream",
     "text": [
      "So there is no way for me to plug it in here in the US unless I go by a converter.\n",
      "Good case, Excellent value.\n",
      "Great for the jawbone.\n"
     ]
    }
   ],
   "source": [
    "sample_text = data['text'][:3]\n",
    "for text in sample_text: print(text)"
   ]
  },
  {
   "cell_type": "code",
   "execution_count": 20,
   "id": "19edf8cd",
   "metadata": {},
   "outputs": [
    {
     "data": {
      "text/plain": [
       "{'So': 3,\n",
       " 'there': 19,\n",
       " 'is': 12,\n",
       " 'no': 16,\n",
       " 'way': 23,\n",
       " 'for': 8,\n",
       " 'me': 15,\n",
       " 'to': 20,\n",
       " 'plug': 17,\n",
       " 'it': 13,\n",
       " 'in': 11,\n",
       " 'here': 10,\n",
       " 'the': 18,\n",
       " 'US': 4,\n",
       " 'unless': 21,\n",
       " 'go': 9,\n",
       " 'by': 5,\n",
       " 'converter': 7,\n",
       " 'Good': 1,\n",
       " 'case': 6,\n",
       " 'Excellent': 0,\n",
       " 'value': 22,\n",
       " 'Great': 2,\n",
       " 'jawbone': 14}"
      ]
     },
     "execution_count": 20,
     "metadata": {},
     "output_type": "execute_result"
    }
   ],
   "source": [
    "vectorizer = CountVectorizer(min_df=0, lowercase=False)\n",
    "vectorizer.fit(sample_text)\n",
    "vectorizer.vocabulary_"
   ]
  },
  {
   "cell_type": "code",
   "execution_count": 21,
   "id": "c013b665",
   "metadata": {},
   "outputs": [
    {
     "data": {
      "text/plain": [
       "array([[0, 0, 0, 1, 1, 1, 0, 1, 1, 1, 1, 2, 1, 1, 0, 1, 1, 1, 1, 1, 1, 1,\n",
       "        0, 1],\n",
       "       [1, 1, 0, 0, 0, 0, 1, 0, 0, 0, 0, 0, 0, 0, 0, 0, 0, 0, 0, 0, 0, 0,\n",
       "        1, 0],\n",
       "       [0, 0, 1, 0, 0, 0, 0, 0, 1, 0, 0, 0, 0, 0, 1, 0, 0, 0, 1, 0, 0, 0,\n",
       "        0, 0]], dtype=int64)"
      ]
     },
     "execution_count": 21,
     "metadata": {},
     "output_type": "execute_result"
    }
   ],
   "source": [
    "vectorizer.transform(sample_text).toarray()"
   ]
  },
  {
   "cell_type": "markdown",
   "id": "e607ae18",
   "metadata": {},
   "source": [
    "<span style=\"color:grey; font-size:1.2em\">Créez les vecteurs de caractéristiques pour chaque phrase de l'ensemble d'entraînement et de test :</span>\n"
   ]
  },
  {
   "cell_type": "code",
   "execution_count": 22,
   "id": "eea40b49",
   "metadata": {},
   "outputs": [],
   "source": [
    "vectorizer = CountVectorizer()\n",
    "vectorizer.fit(sentences_train)\n",
    "\n",
    "X_train = vectorizer.transform(sentences_train)\n",
    "X_test  = vectorizer.transform(sentences_test)"
   ]
  },
  {
   "cell_type": "code",
   "execution_count": 23,
   "id": "2938bca4",
   "metadata": {},
   "outputs": [
    {
     "name": "stdout",
     "output_type": "stream",
     "text": [
      "le format final de nos données d'entraînement est:\n",
      "\n",
      "   (0, 185)\t1\n",
      "  (0, 340)\t1\n",
      "  (0, 358)\t1\n",
      "  (0, 1359)\t1\n",
      "  (0, 2050)\t1\n",
      "  (0, 3780)\t1\n",
      "  (1, 131)\t1\n",
      "  (1, 187)\t1\n",
      "  (1, 550)\t1\n",
      "  (1, 1427)\t1\n",
      "  (1, 1543)\t1\n",
      "  (1, 1656)\t1\n",
      "  (1, 2050)\t1\n",
      "  (1, 2489)\t1\n",
      "  (1, 2530)\t1\n",
      "  (1, 2763)\t1\n",
      "  (1, 4163)\t1\n",
      "  (1, 4189)\t1\n",
      "  (2, 101)\t1\n",
      "  (2, 187)\t1\n",
      "  (2, 258)\t1\n",
      "  (2, 373)\t1\n",
      "  (2, 504)\t1\n",
      "  (2, 951)\t1\n",
      "  (2, 1324)\t1\n",
      "  :\t:\n",
      "  (2060, 1401)\t1\n",
      "  (2060, 1474)\t1\n",
      "  (2060, 1546)\t1\n",
      "  (2060, 1638)\t1\n",
      "  (2060, 1793)\t1\n",
      "  (2060, 1845)\t1\n",
      "  (2060, 1900)\t1\n",
      "  (2060, 2024)\t1\n",
      "  (2060, 2055)\t1\n",
      "  (2060, 2069)\t1\n",
      "  (2060, 2293)\t1\n",
      "  (2060, 2314)\t1\n",
      "  (2060, 2355)\t1\n",
      "  (2060, 2444)\t1\n",
      "  (2060, 2449)\t1\n",
      "  (2060, 2450)\t1\n",
      "  (2060, 2467)\t1\n",
      "  (2060, 2586)\t1\n",
      "  (2060, 2640)\t2\n",
      "  (2060, 3511)\t1\n",
      "  (2060, 3730)\t1\n",
      "  (2060, 3759)\t2\n",
      "  (2060, 3825)\t1\n",
      "  (2060, 4169)\t1\n",
      "  (2060, 4207)\t1\n"
     ]
    }
   ],
   "source": [
    "print(\"le format final de nos données d'entraînement est:\\n\\n\",X_train)"
   ]
  },
  {
   "cell_type": "markdown",
   "id": "a38ef8dd",
   "metadata": {},
   "source": [
    "<center id=\"model-building\">\n",
    "        <h2 style=\"color:#1a1a1a;\n",
    "                    font-size:2em\">\n",
    "        Construction des modèles 🛠️\n",
    "        </h2>\n",
    "</center>"
   ]
  },
  {
   "cell_type": "markdown",
   "id": "145d8988",
   "metadata": {},
   "source": [
    "<div id=\"ml-basic\">\n",
    "        <h3 style=\"color:#1a1a1a;\n",
    "                    font-size:2em\">\n",
    "         ⮞  Modèles de base du ML  \n",
    "        </h3>\n",
    "</div>\n"
   ]
  },
  {
   "cell_type": "code",
   "execution_count": 24,
   "id": "cff29e20",
   "metadata": {},
   "outputs": [
    {
     "name": "stdout",
     "output_type": "stream",
     "text": [
      "Accuracy: 75.98 %\n"
     ]
    }
   ],
   "source": [
    "classifier = DecisionTreeClassifier()\n",
    "classifier.fit(X_train, y_train)\n",
    "score = classifier.score(X_test, y_test)\n",
    "\n",
    "print(\"Accuracy: {:.2f} %\".format(score*100))"
   ]
  },
  {
   "cell_type": "markdown",
   "id": "450a25d5",
   "metadata": {},
   "source": [
    "<span style=\"color:grey; font-size:1.2em\">On remarque que le DecisionTreeClassifier a atteint un impressionnant 74.36 %, mais regardons comment ce modèle fonctionne sur les autres ensembles de données dont nous disposons. Dans ce script, nous effectuons et évaluons un ensemble des modèles pour chaque ensemble de données:</span>"
   ]
  },
  {
   "cell_type": "code",
   "execution_count": 25,
   "id": "1a92c100",
   "metadata": {
    "execution": {
     "iopub.execute_input": "2022-01-24T22:26:09.365140Z",
     "iopub.status.busy": "2022-01-24T22:26:09.364277Z",
     "iopub.status.idle": "2022-01-24T22:26:09.377364Z",
     "shell.execute_reply": "2022-01-24T22:26:09.376383Z"
    },
    "papermill": {
     "duration": 0.293917,
     "end_time": "2022-01-24T22:26:09.377477",
     "exception": false,
     "start_time": "2022-01-24T22:26:09.083560",
     "status": "completed"
    },
    "tags": []
   },
   "outputs": [],
   "source": [
    "def prediction(model_name):\n",
    "    for dataframe in Datasets.values():\n",
    "        Sentences = dataframe['text'].values\n",
    "        Y = dataframe['sentiment'].values\n",
    "\n",
    "        Sentences_train, Sentences_test, Y_train, Y_test = train_test_split(\n",
    "            Sentences, Y, test_size=0.25, random_state=1000)\n",
    "\n",
    "        vectorizer = CountVectorizer(stop_words='english')\n",
    "        vectorizer.fit(sentences_train)\n",
    "        x_train = vectorizer.transform(Sentences_train)\n",
    "        x_test  = vectorizer.transform(Sentences_test)\n",
    "\n",
    "        model = models[model_name]\n",
    "        model.fit(x_train, Y_train)\n",
    "        score = model.score(x_test, Y_test)\n",
    "        print('Accuracy for {} data with {} model is: {:.2f} %'.format(dataframe['source'][0],model_name, (score*100)))\n",
    "    print('\\n'+('-'*70)+'\\n')"
   ]
  },
  {
   "cell_type": "code",
   "execution_count": 26,
   "id": "4645f8dc",
   "metadata": {
    "scrolled": false
   },
   "outputs": [
    {
     "name": "stdout",
     "output_type": "stream",
     "text": [
      "Accuracy for amazon data with Logistic Regression model is: 77.20 %\n",
      "Accuracy for imdb data with Logistic Regression model is: 75.94 %\n",
      "Accuracy for yelp data with Logistic Regression model is: 75.60 %\n",
      "\n",
      "----------------------------------------------------------------------\n",
      "\n",
      "Accuracy for amazon data with Support Vector Machine model is: 74.40 %\n",
      "Accuracy for imdb data with Support Vector Machine model is: 72.19 %\n",
      "Accuracy for yelp data with Support Vector Machine model is: 75.60 %\n",
      "\n",
      "----------------------------------------------------------------------\n",
      "\n",
      "Accuracy for amazon data with Decision Tree model is: 67.20 %\n",
      "Accuracy for imdb data with Decision Tree model is: 67.38 %\n",
      "Accuracy for yelp data with Decision Tree model is: 70.80 %\n",
      "\n",
      "----------------------------------------------------------------------\n",
      "\n",
      "Accuracy for amazon data with Gradient Boosting model is: 69.60 %\n",
      "Accuracy for imdb data with Gradient Boosting model is: 70.05 %\n",
      "Accuracy for yelp data with Gradient Boosting model is: 73.20 %\n",
      "\n",
      "----------------------------------------------------------------------\n",
      "\n",
      "Accuracy for amazon data with Random Forest model is: 70.80 %\n",
      "Accuracy for imdb data with Random Forest model is: 76.47 %\n",
      "Accuracy for yelp data with Random Forest model is: 76.00 %\n",
      "\n",
      "----------------------------------------------------------------------\n",
      "\n"
     ]
    }
   ],
   "source": [
    "models = {\"Logistic Regression\": LogisticRegression(),\n",
    "          \"Support Vector Machine\": SVC(),\n",
    "          \"Decision Tree\": DecisionTreeClassifier(),\n",
    "          \"Gradient Boosting\": GradientBoostingClassifier(n_estimators=100, max_depth=100, random_state=5000),\n",
    "          \"Random Forest\": RandomForestClassifier(max_depth=200, random_state=1000)\n",
    "         }\n",
    "\n",
    "for model in models: prediction(model)"
   ]
  },
  {
   "cell_type": "markdown",
   "id": "a5785890",
   "metadata": {},
   "source": [
    "<span style=\"color:grey; font-size:1.2em\">Comme on peut le voir, les approches ml de base obtiennent des résultats respectables, mais nous n'avons obtenu aucun modèle qui fonctionne très bien sur toutes les données</span>"
   ]
  },
  {
   "cell_type": "markdown",
   "id": "7b92e497",
   "metadata": {},
   "source": [
    "<div id=\"ANN\">\n",
    "        <h3 style=\"color:#1a1a1a;\n",
    "                    font-size:2em\">\n",
    "         ⮞  Réseaux de neurones artificiels (ANN)\n",
    "        </h3>\n",
    "</div>\n"
   ]
  },
  {
   "cell_type": "markdown",
   "id": "ad9c3011",
   "metadata": {},
   "source": [
    "\n",
    "\n",
    "<span style=\"color:grey; font-size:1.2em\"> Pour notre Réseaux de neurones artificiels on va diviser notre jeu de données <b>80%</b> pour l'entraînement et <b>20%</b> pour le test, et pour la validation on prend <b>20%</b> des données d'entraînement</span>"
   ]
  },
  {
   "cell_type": "code",
   "execution_count": 27,
   "id": "34807079",
   "metadata": {},
   "outputs": [],
   "source": [
    "X_train, X_val, y_train, y_val = train_test_split(sentences, y, test_size=0.2)\n",
    "\n",
    "X_train, X_test, y_train, y_test = train_test_split(X_train, y_train, test_size=0.2)\n",
    "\n",
    "X_train = vectorizer.transform(X_train)\n",
    "X_test  = vectorizer.transform(X_test)\n",
    "X_val  = vectorizer.transform(X_val)"
   ]
  },
  {
   "cell_type": "markdown",
   "id": "4e623d3c",
   "metadata": {},
   "source": [
    "<span style=\"color:grey; font-size:1.2em\">Maintenant nous créons un nouveau modèle `Sequential()` puis nous ajoutons<b> 2 couches:</b> <br> une couche avec l'activation <b>relu</b> avec 10 unités et la deuxieme avec <b>softmax</b> un avec 2 unités afin d'obtenir la <b>certitude</b> pour chaque label.</span>"
   ]
  },
  {
   "cell_type": "code",
   "execution_count": 28,
   "id": "2ab69837",
   "metadata": {
    "papermill": {
     "duration": 0.158849,
     "end_time": "2022-01-24T22:26:09.696155",
     "exception": false,
     "start_time": "2022-01-24T22:26:09.537306",
     "status": "completed"
    },
    "tags": []
   },
   "outputs": [],
   "source": [
    "input_dim = X_train.shape[1]  # Number of features\n",
    "\n",
    "ANN_model = Sequential()\n",
    "ANN_model.add(layers.Dense(10, input_dim=input_dim, activation='relu'))\n",
    "ANN_model.add(layers.Dense(2, activation='softmax'))   \n",
    "# ANN_model.add(layers.Dense(1, activation='sigmoid'))"
   ]
  },
  {
   "cell_type": "markdown",
   "id": "f70e07a5",
   "metadata": {},
   "source": [
    "<span style=\"color:grey; font-size:1.2em\">On choisit les paramètres de la méthode `.compile()`. <br>pour le paramètre <b>loss</b> est <i>sparse_categorical_crossentropy</i> afin de calculer la perte d'entropie croisée entre les deux \"Labels\" et les prédictions. pour <b>optimizer</b> on choisit: <i>adam</i> et bien sûr <i>accuracy</i> comme <b>metrics</b> </span>"
   ]
  },
  {
   "cell_type": "code",
   "execution_count": 29,
   "id": "935da2d9",
   "metadata": {},
   "outputs": [],
   "source": [
    "# ANN_model.compile(loss='binary_crossentropy', optimizer='adam',  metrics=['accuracy'])\n",
    "ANN_model.compile(loss='sparse_categorical_crossentropy',\n",
    "                  optimizer = \"adam\", \n",
    "                  metrics = [\"accuracy\"])"
   ]
  },
  {
   "cell_type": "markdown",
   "id": "b1da5a73",
   "metadata": {},
   "source": [
    "<span style=\"color:grey; font-size:1.2em\">Voyons un <b>summary<b> des paramètres de notre modèle</span>"
   ]
  },
  {
   "cell_type": "code",
   "execution_count": 30,
   "id": "b40a47c5",
   "metadata": {
    "scrolled": true
   },
   "outputs": [
    {
     "name": "stdout",
     "output_type": "stream",
     "text": [
      "Model: \"sequential\"\n",
      "_________________________________________________________________\n",
      " Layer (type)                Output Shape              Param #   \n",
      "=================================================================\n",
      " dense (Dense)               (None, 10)                42820     \n",
      "                                                                 \n",
      " dense_1 (Dense)             (None, 2)                 22        \n",
      "                                                                 \n",
      "=================================================================\n",
      "Total params: 42,842\n",
      "Trainable params: 42,842\n",
      "Non-trainable params: 0\n",
      "_________________________________________________________________\n"
     ]
    }
   ],
   "source": [
    "ANN_model.summary()"
   ]
  },
  {
   "cell_type": "markdown",
   "id": "5b546037",
   "metadata": {},
   "source": [
    "<span style=\"color:grey; font-size:1.2em\">Créons un objet contenant l'historique de notre formation de modèle:</span>"
   ]
  },
  {
   "cell_type": "code",
   "execution_count": 31,
   "id": "d7c0dc30",
   "metadata": {
    "scrolled": false
   },
   "outputs": [
    {
     "name": "stdout",
     "output_type": "stream",
     "text": [
      "Epoch 1/20\n",
      "176/176 [==============================] - 1s 3ms/step - loss: 0.6771 - accuracy: 0.6172 - val_loss: 0.6378 - val_accuracy: 0.7491\n",
      "Epoch 2/20\n",
      "176/176 [==============================] - 0s 2ms/step - loss: 0.5211 - accuracy: 0.8407 - val_loss: 0.5207 - val_accuracy: 0.7982\n",
      "Epoch 3/20\n",
      "176/176 [==============================] - 0s 2ms/step - loss: 0.3346 - accuracy: 0.9340 - val_loss: 0.4677 - val_accuracy: 0.8091\n",
      "Epoch 4/20\n",
      "176/176 [==============================] - 0s 2ms/step - loss: 0.2267 - accuracy: 0.9568 - val_loss: 0.4516 - val_accuracy: 0.8018\n",
      "Epoch 5/20\n",
      "176/176 [==============================] - 0s 2ms/step - loss: 0.1622 - accuracy: 0.9664 - val_loss: 0.4517 - val_accuracy: 0.8073\n",
      "Epoch 6/20\n",
      "176/176 [==============================] - 0s 2ms/step - loss: 0.1214 - accuracy: 0.9778 - val_loss: 0.4636 - val_accuracy: 0.7982\n",
      "Epoch 7/20\n",
      "176/176 [==============================] - 0s 2ms/step - loss: 0.0932 - accuracy: 0.9858 - val_loss: 0.4835 - val_accuracy: 0.7964\n",
      "Epoch 8/20\n",
      "176/176 [==============================] - 0s 2ms/step - loss: 0.0735 - accuracy: 0.9903 - val_loss: 0.5104 - val_accuracy: 0.7927\n",
      "Epoch 9/20\n",
      "176/176 [==============================] - 0s 2ms/step - loss: 0.0587 - accuracy: 0.9932 - val_loss: 0.5350 - val_accuracy: 0.7964\n",
      "Epoch 10/20\n",
      "176/176 [==============================] - 0s 2ms/step - loss: 0.0481 - accuracy: 0.9943 - val_loss: 0.5639 - val_accuracy: 0.7982\n",
      "Epoch 11/20\n",
      "176/176 [==============================] - 0s 2ms/step - loss: 0.0395 - accuracy: 0.9954 - val_loss: 0.5973 - val_accuracy: 0.7945\n",
      "Epoch 12/20\n",
      "176/176 [==============================] - 0s 2ms/step - loss: 0.0320 - accuracy: 0.9966 - val_loss: 0.6283 - val_accuracy: 0.8000\n",
      "Epoch 13/20\n",
      "176/176 [==============================] - 0s 2ms/step - loss: 0.0270 - accuracy: 0.9977 - val_loss: 0.6548 - val_accuracy: 0.8000\n",
      "Epoch 14/20\n",
      "176/176 [==============================] - 0s 2ms/step - loss: 0.0224 - accuracy: 0.9989 - val_loss: 0.6817 - val_accuracy: 0.7982\n",
      "Epoch 15/20\n",
      "176/176 [==============================] - 0s 2ms/step - loss: 0.0188 - accuracy: 0.9994 - val_loss: 0.7162 - val_accuracy: 0.8000\n",
      "Epoch 16/20\n",
      "176/176 [==============================] - 0s 2ms/step - loss: 0.0160 - accuracy: 0.9994 - val_loss: 0.7435 - val_accuracy: 0.8000\n",
      "Epoch 17/20\n",
      "176/176 [==============================] - 0s 2ms/step - loss: 0.0136 - accuracy: 1.0000 - val_loss: 0.7719 - val_accuracy: 0.8000\n",
      "Epoch 18/20\n",
      "176/176 [==============================] - 0s 2ms/step - loss: 0.0117 - accuracy: 1.0000 - val_loss: 0.8025 - val_accuracy: 0.7964\n",
      "Epoch 19/20\n",
      "176/176 [==============================] - 0s 2ms/step - loss: 0.0101 - accuracy: 1.0000 - val_loss: 0.8334 - val_accuracy: 0.7945\n",
      "Epoch 20/20\n",
      "176/176 [==============================] - 0s 2ms/step - loss: 0.0087 - accuracy: 1.0000 - val_loss: 0.8536 - val_accuracy: 0.8000\n"
     ]
    }
   ],
   "source": [
    "history = ANN_model.fit(X_train, y_train,\n",
    "                    epochs=20,\n",
    "                    verbose=True,\n",
    "                    validation_data=(X_val, y_val),\n",
    "                    batch_size=10)"
   ]
  },
  {
   "cell_type": "markdown",
   "id": "98e60ac9",
   "metadata": {},
   "source": [
    "<span style=\"color:grey; font-size:1.2em\">C'est temps d' <b>évaluer</b> notre modèle à la fois sur les données d'entraînement et de test et d'obtenir <b>scores</b> de précision.</span>"
   ]
  },
  {
   "cell_type": "code",
   "execution_count": 32,
   "id": "7ed9aac4",
   "metadata": {},
   "outputs": [
    {
     "name": "stdout",
     "output_type": "stream",
     "text": [
      "Accuracy sur les données d'entraînement est: 100.00 %\n",
      "Accuracy sur les données du test est: 83.41 %\n"
     ]
    }
   ],
   "source": [
    "loss, accuracy = ANN_model.evaluate(X_train, y_train, verbose=False)\n",
    "print(\"Accuracy sur les données d'entraînement est: {:.2f} %\".format(accuracy*100))\n",
    "loss, accuracy = ANN_model.evaluate(X_test, y_test, verbose=False)\n",
    "print(\"Accuracy sur les données du test est: {:.2f} %\".format(accuracy*100))"
   ]
  },
  {
   "cell_type": "markdown",
   "id": "34ac3f3a",
   "metadata": {},
   "source": [
    "<span style=\"color:grey; font-size:1.2em\">Traçons l'historique de nos score de modèle sur les données d'entraînement et de validation pour chaque <b>Epoch</b>.</span>"
   ]
  },
  {
   "cell_type": "code",
   "execution_count": 33,
   "id": "6eba6f83",
   "metadata": {},
   "outputs": [],
   "source": [
    "def plot_history(history):\n",
    "    acc = history.history['accuracy']\n",
    "    val_acc = history.history['val_accuracy']\n",
    "    loss = history.history['loss']\n",
    "    val_loss = history.history['val_loss']\n",
    "    x = range(1, len(acc) + 1)\n",
    "\n",
    "    plt.figure(figsize=(12, 5))\n",
    "    plt.subplot(1, 2, 1)\n",
    "    plt.plot(x, acc, 'b', label='Training accuracy')\n",
    "    plt.plot(x, val_acc, 'r', label='Validation accuracy')\n",
    "    plt.title('Training and validation accuracy')\n",
    "    plt.legend()\n",
    "    plt.subplot(1, 2, 2)\n",
    "    plt.plot(x, loss, 'b', label='Training loss')\n",
    "    plt.plot(x, val_loss, 'r', label='Validation loss')\n",
    "    plt.title('Training and validation loss')\n",
    "    plt.legend()"
   ]
  },
  {
   "cell_type": "code",
   "execution_count": 34,
   "id": "e6d5376e",
   "metadata": {},
   "outputs": [
    {
     "data": {
      "image/png": "[encoded data removed]",
      "text/plain": [
       "<Figure size 864x360 with 2 Axes>"
      ]
     },
     "metadata": {
      "needs_background": "light"
     },
     "output_type": "display_data"
    }
   ],
   "source": [
    "plot_history(history)"
   ]
  },
  {
   "cell_type": "markdown",
   "id": "915d078c",
   "metadata": {},
   "source": [
    "<span style=\"color:grey; font-size:1.2em\">testons maintenant notre modèle avec une simple phrase 😃 <b>positive</b> </span>"
   ]
  },
  {
   "cell_type": "code",
   "execution_count": 35,
   "id": "1518d3b3",
   "metadata": {},
   "outputs": [
    {
     "name": "stdout",
     "output_type": "stream",
     "text": [
      "Le Label prédite pour la phrase est:  1\n"
     ]
    }
   ],
   "source": [
    "# string pour le test\n",
    "phrase = \"boukhalef is a beautiful, calm and lovely place\"\n",
    "\n",
    "prediction_test = ANN_model.predict(vectorizer.transform([phrase]))\n",
    "class_test = np.argmax(prediction_test)\n",
    "\n",
    "print(\"Le Label prédite pour la phrase est: \",class_test)"
   ]
  },
  {
   "cell_type": "markdown",
   "id": "72a2428c",
   "metadata": {},
   "source": [
    "<div id=\"word-embd\">\n",
    "        <h3 style=\"color:#1a1a1a;\n",
    "                    font-size:2em\">\n",
    "         ⮞  Word Embedding\n",
    "        </h3>\n",
    "</div>\n"
   ]
  },
  {
   "cell_type": "markdown",
   "id": "4d048d68",
   "metadata": {},
   "source": [
    "<span style=\"color:grey; font-size:1.2em\">Le <b>Word Embedding</b> est une technique permet de représenter chaque mot d'un dictionnaire par un <b>vecteur de nombres réels</b>. Cette nouvelle représentation a ceci de particulier que les mots apparaissant dans des <b>contextes similaires</b> possèdent des vecteurs correspondants qui sont relativement <b>prochespositive</b>. </span>"
   ]
  },
  {
   "cell_type": "markdown",
   "id": "4724e217",
   "metadata": {},
   "source": [
    "<span style=\"color:grey; font-size:1.2em\">Pour presenter des mots sous forme de vecteurs (ce qui est la manière courante d'utiliser le texte dans les réseaux de neurones) il y a deux façons possibles de représenter un mot sous forme de vecteur sont <b>One-hot encoding</b> et <b>Word embeddings</b>. </span>"
   ]
  },
  {
   "cell_type": "markdown",
   "id": "9ecc91e9",
   "metadata": {},
   "source": [
    "<h4 style=\"font-size:1.2em\">One-Hot Encoding</h4>\n",
    "\n",
    "<span style=\"color:grey; font-size:1.2em\">La première façon de représenter un mot sous forme de vecteur consiste à créer un One-Hot Encoding, qui se fait simplement en prenant un vecteur de la longueur du vocabulaire avec une entrée pour chaque mot du corpus.</span>"
   ]
  },
  {
   "cell_type": "markdown",
   "id": "45a8efad",
   "metadata": {},
   "source": [
    "<h4 style=\"font-size:1.2em\">Word embeddings</h4>\n",
    "\n",
    "<span style=\"color:grey; font-size:1.2em\">Cette méthode représente les mots sous forme de \"dense word vectors\" qui sont entraînés contrairement au dense One-Hot Encoding qui est codé en dur. Cela signifie que les intégrations de mots collectent plus d'informations dans moins de dimensions.</span>"
   ]
  },
  {
   "cell_type": "markdown",
   "id": "211731d5",
   "metadata": {},
   "source": [
    "<span style=\"color:grey; font-size:1.2em\">Voice un example de Word Embedding sur l'un des reviews:</span>"
   ]
  },
  {
   "cell_type": "markdown",
   "id": "7f5bc377",
   "metadata": {},
   "source": [
    "<div id=\"emb-lstm\">\n",
    "        <h3 style=\"color:#1a1a1a;\n",
    "                    font-size:2em\">\n",
    "         ⮞  Réseau de Neurones avec Embedding + LSTM\n",
    "        </h3>\n",
    "</div>"
   ]
  },
  {
   "cell_type": "code",
   "execution_count": 36,
   "id": "a60eb7d1",
   "metadata": {},
   "outputs": [
    {
     "name": "stdout",
     "output_type": "stream",
     "text": [
      "4013\n"
     ]
    }
   ],
   "source": [
    "sentences_train, sentences_val, y_train, y_val = train_test_split(sentences, y, test_size=0.2, random_state=1000)\n",
    "sentences_train, sentences_test, y_train, y_test = train_test_split(sentences_train, y_train, test_size=0.25, random_state=1000)\n",
    "#sentences_train, sentences_test, y_train, y_test = train_test_split(sentences, y, test_size=0.25, random_state=1000)\n",
    "\n",
    "tokenizer = Tokenizer(num_words=5000)\n",
    "tokenizer.fit_on_texts(sentences_train)\n",
    "\n",
    "X_train = tokenizer.texts_to_sequences(sentences_train)\n",
    "X_test = tokenizer.texts_to_sequences(sentences_test)\n",
    "X_val = tokenizer.texts_to_sequences(sentences_val)\n",
    "vocab_size = len(tokenizer.word_index) + 1\n",
    "\n",
    "maxlen = 100\n",
    "X_train = pad_sequences(X_train, padding='post', maxlen=maxlen)\n",
    "X_test = pad_sequences(X_test, padding='post', maxlen=maxlen)\n",
    "X_val = pad_sequences(X_val, padding='post', maxlen=maxlen)\n",
    "\n",
    "print(vocab_size)\n"
   ]
  },
  {
   "cell_type": "code",
   "execution_count": 37,
   "id": "0eec4891",
   "metadata": {},
   "outputs": [],
   "source": [
    "# \n",
    "embedding_dim = 150\n",
    "input_dim = X_train.shape[1] \n",
    "EMB_CNN = Sequential()"
   ]
  },
  {
   "cell_type": "code",
   "execution_count": 38,
   "id": "15de750f",
   "metadata": {},
   "outputs": [],
   "source": [
    " #\n",
    "EMB_CNN.add(layers.Embedding(vocab_size, embedding_dim, input_length=maxlen))\n",
    "EMB_CNN.add(layers.Conv1D(128, 5, activation='relu'))\n",
    "EMB_CNN.add(layers.GlobalMaxPooling1D())\n",
    "EMB_CNN.add(layers.Dense(10, activation='relu'))\n",
    "EMB_CNN.add(layers.Dense(2, activation='softmax'))"
   ]
  },
  {
   "cell_type": "code",
   "execution_count": 39,
   "id": "39d84a25",
   "metadata": {},
   "outputs": [],
   "source": [
    "# \n",
    "EMB_CNN.compile(loss='sparse_categorical_crossentropy',\n",
    "                  optimizer = \"adam\", \n",
    "                  metrics = [\"accuracy\"])"
   ]
  },
  {
   "cell_type": "code",
   "execution_count": 40,
   "id": "9da20656",
   "metadata": {},
   "outputs": [
    {
     "name": "stdout",
     "output_type": "stream",
     "text": [
      "Model: \"sequential_1\"\n",
      "_________________________________________________________________\n",
      " Layer (type)                Output Shape              Param #   \n",
      "=================================================================\n",
      " embedding (Embedding)       (None, 100, 150)          601950    \n",
      "                                                                 \n",
      " conv1d (Conv1D)             (None, 96, 128)           96128     \n",
      "                                                                 \n",
      " global_max_pooling1d (Globa  (None, 128)              0         \n",
      " lMaxPooling1D)                                                  \n",
      "                                                                 \n",
      " dense_2 (Dense)             (None, 10)                1290      \n",
      "                                                                 \n",
      " dense_3 (Dense)             (None, 2)                 22        \n",
      "                                                                 \n",
      "=================================================================\n",
      "Total params: 699,390\n",
      "Trainable params: 699,390\n",
      "Non-trainable params: 0\n",
      "_________________________________________________________________\n"
     ]
    }
   ],
   "source": [
    "# \n",
    "EMB_CNN.summary()"
   ]
  },
  {
   "cell_type": "code",
   "execution_count": 41,
   "id": "8705ceb0",
   "metadata": {},
   "outputs": [
    {
     "name": "stdout",
     "output_type": "stream",
     "text": [
      "Epoch 1/10\n",
      "52/52 [==============================] - 2s 28ms/step - loss: 0.6851 - accuracy: 0.5558 - val_loss: 0.6572 - val_accuracy: 0.6945\n",
      "Epoch 2/10\n",
      "52/52 [==============================] - 1s 25ms/step - loss: 0.4821 - accuracy: 0.8604 - val_loss: 0.4587 - val_accuracy: 0.7927\n",
      "Epoch 3/10\n",
      "52/52 [==============================] - 1s 25ms/step - loss: 0.1657 - accuracy: 0.9466 - val_loss: 0.4455 - val_accuracy: 0.8255\n",
      "Epoch 4/10\n",
      "52/52 [==============================] - 1s 25ms/step - loss: 0.0416 - accuracy: 0.9933 - val_loss: 0.5244 - val_accuracy: 0.8218\n",
      "Epoch 5/10\n",
      "52/52 [==============================] - 1s 24ms/step - loss: 0.0119 - accuracy: 0.9994 - val_loss: 0.5876 - val_accuracy: 0.8236\n",
      "Epoch 6/10\n",
      "52/52 [==============================] - 1s 25ms/step - loss: 0.0037 - accuracy: 1.0000 - val_loss: 0.6306 - val_accuracy: 0.8236\n",
      "Epoch 7/10\n",
      "52/52 [==============================] - 1s 27ms/step - loss: 0.0023 - accuracy: 1.0000 - val_loss: 0.6800 - val_accuracy: 0.8218\n",
      "Epoch 8/10\n",
      "52/52 [==============================] - 1s 28ms/step - loss: 0.0013 - accuracy: 1.0000 - val_loss: 0.7064 - val_accuracy: 0.8200\n",
      "Epoch 9/10\n",
      "52/52 [==============================] - 1s 25ms/step - loss: 9.4456e-04 - accuracy: 1.0000 - val_loss: 0.7288 - val_accuracy: 0.8182\n",
      "Epoch 10/10\n",
      "52/52 [==============================] - 1s 25ms/step - loss: 7.1642e-04 - accuracy: 1.0000 - val_loss: 0.7498 - val_accuracy: 0.8182\n"
     ]
    }
   ],
   "source": [
    "history = EMB_CNN.fit(X_train, y_train,\n",
    "                    epochs=20,\n",
    "                    verbose=True,\n",
    "                    validation_data=(X_val, y_val),\n",
    "                    batch_size=32)"
   ]
  },
  {
   "cell_type": "code",
   "execution_count": 42,
   "id": "c5c8291f",
   "metadata": {},
   "outputs": [
    {
     "name": "stdout",
     "output_type": "stream",
     "text": [
      "Accuracy sur les données d'entraînement est: 100.00 %\n",
      "Accuracy sur les données du test est: 83.27 %\n"
     ]
    }
   ],
   "source": [
    "loss, accuracy = EMB_CNN.evaluate(X_train, y_train, verbose=False)\n",
    "print(\"Accuracy sur les données d'entraînement est: {:.2f} %\".format(accuracy*100))\n",
    "loss, accuracy = EMB_CNN.evaluate(X_test, y_test, verbose=False)\n",
    "print(\"Accuracy sur les données du test est: {:.2f} %\".format(accuracy*100))"
   ]
  },
  {
   "cell_type": "code",
   "execution_count": 43,
   "id": "5ae00515",
   "metadata": {
    "scrolled": true
   },
   "outputs": [
    {
     "data": {
      "image/png": "[encoded data removed]",
      "text/plain": [
       "<Figure size 864x360 with 2 Axes>"
      ]
     },
     "metadata": {
      "needs_background": "light"
     },
     "output_type": "display_data"
    }
   ],
   "source": [
    "plot_history(history)"
   ]
  },
  {
   "cell_type": "markdown",
   "id": "8da41ea5",
   "metadata": {},
   "source": [
    "<center id=\"demo\">\n",
    "        <h2 style=\"color:#1a1a1a;\n",
    "                    font-size:2em\">\n",
    "        Une démo live 🧮\n",
    "        </h2>\n",
    "</center>"
   ]
  },
  {
   "cell_type": "markdown",
   "id": "aaaaa446",
   "metadata": {},
   "source": [
    "<span style=\"color:grey; font-size:1.2em\">Enfin voici un champ de saisie en utilisant <b>ipywidgets, IPython.display</b> pour définir un widget et le contenu d'affichage aisnsi que l'input field. On utilise ce champ de saisie pour tester des phrases aléatoires de nos choix et obtenir une prediction et la certitude pour le Label.</span>"
   ]
  },
  {
   "cell_type": "code",
   "execution_count": 44,
   "id": "40e83fbb",
   "metadata": {},
   "outputs": [
    {
     "data": {
      "application/vnd.jupyter.widget-view+json": {
       "model_id": "b40bc41ad2f14cbf992aba34ec32b3a6",
       "version_major": 2,
       "version_minor": 0
      },
      "text/plain": [
       "Text(value='', description='Description:', placeholder='type your description here')"
      ]
     },
     "metadata": {},
     "output_type": "display_data"
    }
   ],
   "source": [
    "from ipywidgets import interact, widgets\n",
    "from IPython.display import display, Markdown, Latex, clear_output\n",
    "\n",
    "# définir les paramètres du widget\n",
    "text = widgets.Text(\n",
    "    value='',\n",
    "    placeholder='type your description here',\n",
    "    description='Description:',\n",
    "    disabled=False\n",
    ")\n",
    "# affichage du text\n",
    "display(text)\n",
    "\n",
    "# appeler le widget\n",
    "def callback(wdgt):\n",
    "    clear_output()## Creating model\n",
    "    display(text)\n",
    "    # prendre la valeur d'input\n",
    "    desc = wdgt.value\n",
    "    \n",
    "    # faire une prediction sur la description\n",
    "    prediction_test = ANN_model.predict(vectorizer.transform([desc]))\n",
    "    \n",
    "    # obtenir la classe du text\n",
    "    class_test = np.argmax(prediction_test)\n",
    "    \n",
    "    # obtenir la certitude du prediction\n",
    "    certainty = prediction_test[0][class_test]\n",
    "    \n",
    "    # mapper chaque class a une phrase correspondante\n",
    "    result = 'positive 😃' if class_test == 1 else 'negative 😞'\n",
    "    \n",
    "    # afficher le resultat\n",
    "    display(Markdown('La description: \"{}\" est  {:.2f} %   {}'.format(desc,certainty*100,result)))\n",
    "\n",
    "text.on_submit(callback)"
   ]
  },
  {
   "cell_type": "markdown",
   "id": "53e43608",
   "metadata": {
    "papermill": {
     "duration": 0.218439,
     "end_time": "2022-01-24T22:26:28.433396",
     "exception": false,
     "start_time": "2022-01-24T22:26:28.214957",
     "status": "completed"
    },
    "tags": []
   },
   "source": [
    "<center id=\"Conclusion\">\n",
    "        <h2 style=\"color:#1a1a1a;\n",
    "                    font-size:2em\">\n",
    "        Conclusion 📌\n",
    "        </h2>\n",
    "</center>"
   ]
  },
  {
   "cell_type": "code",
   "execution_count": 45,
   "id": "d51a2609",
   "metadata": {
    "execution": {
     "iopub.execute_input": "2022-01-24T22:26:28.820806Z",
     "iopub.status.busy": "2022-01-24T22:26:28.819180Z",
     "iopub.status.idle": "2022-01-24T22:26:28.844869Z",
     "shell.execute_reply": "2022-01-24T22:26:28.843608Z"
    },
    "papermill": {
     "duration": 0.217872,
     "end_time": "2022-01-24T22:26:28.844989",
     "exception": false,
     "start_time": "2022-01-24T22:26:28.627117",
     "status": "completed"
    },
    "tags": []
   },
   "outputs": [],
   "source": [
    "# résultats des différents modèles\n"
   ]
  }
 ],
 "metadata": {
  "kernelspec": {
   "display_name": "Python 3 (ipykernel)",
   "language": "python",
   "name": "python3"
  },
  "language_info": {
   "codemirror_mode": {
    "name": "ipython",
    "version": 3
   },
   "file_extension": ".py",
   "mimetype": "text/x-python",
   "name": "python",
   "nbconvert_exporter": "python",
   "pygments_lexer": "ipython3",
   "version": "3.9.7"
  },
  "papermill": {
   "default_parameters": {},
   "duration": 42.236077,
   "end_time": "2022-01-24T22:26:29.530962",
   "environment_variables": {},
   "exception": null,
   "input_path": "__notebook__.ipynb",
   "output_path": "__notebook__.ipynb",
   "parameters": {},
   "start_time": "2022-01-24T22:25:47.294885",
   "version": "2.3.3"
  }
 },
 "nbformat": 4,
 "nbformat_minor": 5
}
