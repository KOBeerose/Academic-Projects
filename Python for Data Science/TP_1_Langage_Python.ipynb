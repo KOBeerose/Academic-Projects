{
 "cells": [
  {
   "cell_type": "markdown",
   "metadata": {
    "id": "-qr3wyZTWdfl"
   },
   "source": [
    "**TP 1 : Langage Python**"
   ]
  },
  {
   "cell_type": "markdown",
   "metadata": {
    "id": "iaF7LFnzywpG"
   },
   "source": [
    "Binôme:\n",
    "\n",
    "   Mohammed Jawhar\n",
    "\n",
    "   Amine Snoussi"
   ]
  },
  {
   "cell_type": "markdown",
   "metadata": {
    "id": "6CvZPT-lWiPx"
   },
   "source": [
    "**Exercice - Boucles de base**"
   ]
  },
  {
   "cell_type": "markdown",
   "metadata": {
    "id": "wTPIxUh-XEw8"
   },
   "source": [
    "**Exercice 1**"
   ]
  },
  {
   "cell_type": "code",
   "execution_count": 1,
   "metadata": {
    "colab": {
     "base_uri": "https://localhost:8080/"
    },
    "id": "kbbPS-RFcndp",
    "outputId": "b1e50fa3-e8ba-4fa6-f3a2-5a21b03dcc78"
   },
   "outputs": [
    {
     "name": "stdout",
     "output_type": "stream",
     "text": [
      "JAVA\n",
      "C++\n",
      "C\n",
      "Python\n",
      "----------------------------------\n",
      "JAVA\n",
      "C++\n",
      "C\n",
      "Python\n",
      "----------------------------------\n",
      "JAVA\n",
      "C++\n",
      "C\n",
      "Python\n"
     ]
    }
   ],
   "source": [
    "#Méthode 1 \n",
    "l=[\"JAVA\",\"C++\",\"C\",\"Python\"]\n",
    "n=len(l)\n",
    "for i in range(n):\n",
    "    print(l[i])\n",
    "print(\"----------------------------------\")\n",
    "#Méthode 2\n",
    "for x in l:\n",
    "    print(x)\n",
    "print(\"----------------------------------\")\n",
    "#Méthode 3\n",
    "i=0\n",
    "while i<n :\n",
    "    print(l[i])\n",
    "    i+=1"
   ]
  },
  {
   "cell_type": "markdown",
   "metadata": {
    "id": "ePpfD-MGXWG1"
   },
   "source": [
    "**Exercice 2**"
   ]
  },
  {
   "cell_type": "code",
   "execution_count": 2,
   "metadata": {
    "colab": {
     "base_uri": "https://localhost:8080/"
    },
    "id": "34is9tVHcx8l",
    "outputId": "7146a307-abf1-456a-9d51-120f8d241bb1"
   },
   "outputs": [
    {
     "name": "stdout",
     "output_type": "stream",
     "text": [
      "Monday\n",
      "Tuesday\n",
      "Wednesday\n",
      "Thursday\n",
      "Friday\n",
      "Saturday\n",
      "----------------------------\n",
      "Saturday\n",
      "Sunday\n"
     ]
    }
   ],
   "source": [
    "#Affichage des jours de la semaine\n",
    "L=[\"Monday\",\"Tuesday\",\"Wednesday\",\"Thursday\",\"Friday\",\"Saturday\",\"Sunday\"]\n",
    "for x in L[0:6]:\n",
    "    print(x)\n",
    "print(\"----------------------------\")\n",
    "#Affichage des jours du weekend\n",
    "j=5\n",
    "while j<7:\n",
    "  print(L[j])\n",
    "  j+=1"
   ]
  },
  {
   "cell_type": "markdown",
   "metadata": {
    "id": "lPG-o0rNXjME"
   },
   "source": [
    "**Exercice 3**"
   ]
  },
  {
   "cell_type": "code",
   "execution_count": null,
   "metadata": {
    "colab": {
     "base_uri": "https://localhost:8080/"
    },
    "id": "uaxK5ptOcx5g",
    "outputId": "7841eccb-57da-41bb-d8a6-aeec8d6d8028"
   },
   "outputs": [
    {
     "name": "stdout",
     "output_type": "stream",
     "text": [
      "0 1 2 3 4 5 6 7 8 9 10 "
     ]
    }
   ],
   "source": [
    "for x in range(11):\n",
    "  print(x,end=' ')"
   ]
  },
  {
   "cell_type": "markdown",
   "metadata": {
    "id": "dhtjbVpDXmWb"
   },
   "source": [
    "**Exercice 4**"
   ]
  },
  {
   "cell_type": "code",
   "execution_count": null,
   "metadata": {
    "colab": {
     "base_uri": "https://localhost:8080/"
    },
    "id": "n3v2Nmz2cx2j",
    "outputId": "23ac143e-81e1-4b5a-8bf1-65bd6dd0ac31"
   },
   "outputs": [
    {
     "data": {
      "text/plain": [
       "[2, 4, 6, 8, 10, 12, 14, 16, 18, 20, 22]"
      ]
     },
     "execution_count": 14,
     "metadata": {},
     "output_type": "execute_result"
    }
   ],
   "source": [
    "impairs=[1,3,5,7,9,11,13,15,17,19,21]\n",
    "pairs=[]\n",
    "for x in impairs:\n",
    "  pairs.append(x+1)\n",
    "pairs  "
   ]
  },
  {
   "cell_type": "markdown",
   "metadata": {
    "id": "ZOz6DmO-YDOS"
   },
   "source": [
    "**Exercice 5**"
   ]
  },
  {
   "cell_type": "code",
   "execution_count": null,
   "metadata": {
    "colab": {
     "base_uri": "https://localhost:8080/"
    },
    "id": "PKFz81bpcxrL",
    "outputId": "6db6bd63-7694-431f-af3d-b86145491657"
   },
   "outputs": [
    {
     "name": "stdout",
     "output_type": "stream",
     "text": [
      "la moyenne est 9.80\n"
     ]
    }
   ],
   "source": [
    "notes=[14,9,6,8,12]\n",
    "n=len(notes)\n",
    "s=0\n",
    "for x in notes:\n",
    "  s+=x\n",
    "mean=s/n\n",
    "print(f\"la moyenne est {mean:.2f}\")\n"
   ]
  },
  {
   "cell_type": "markdown",
   "metadata": {
    "id": "SkVHmft3YGds"
   },
   "source": [
    "**Exercice 6**"
   ]
  },
  {
   "cell_type": "code",
   "execution_count": null,
   "metadata": {
    "colab": {
     "base_uri": "https://localhost:8080/"
    },
    "id": "MVkCBIJOcxXL",
    "outputId": "92f7982f-08f0-4f64-cfbd-7b694aade6f3"
   },
   "outputs": [
    {
     "name": "stdout",
     "output_type": "stream",
     "text": [
      "8\n",
      "24\n",
      "48\n",
      "80\n",
      "120\n",
      "168\n",
      "224\n",
      "288\n",
      "360\n"
     ]
    }
   ],
   "source": [
    "l=list(range(2,21,2))\n",
    "n=len(l)\n",
    "for i in range(n-1):\n",
    "  print(l[i]*l[i+1])\n"
   ]
  },
  {
   "cell_type": "markdown",
   "metadata": {
    "id": "FpqiE5i3YK_a"
   },
   "source": [
    "Boucles de base : Triangle "
   ]
  },
  {
   "cell_type": "markdown",
   "metadata": {
    "id": "Se4ql9HfYUEL"
   },
   "source": [
    "**Trianlge**"
   ]
  },
  {
   "cell_type": "code",
   "execution_count": null,
   "metadata": {
    "colab": {
     "base_uri": "https://localhost:8080/"
    },
    "id": "K-46ff2gjlE2",
    "outputId": "ff175c7b-7670-48ec-8dd9-80982542f141"
   },
   "outputs": [
    {
     "name": "stdout",
     "output_type": "stream",
     "text": [
      "*\n",
      "**\n",
      "***\n",
      "****\n",
      "*****\n",
      "******\n",
      "*******\n",
      "********\n",
      "*********\n",
      "**********\n"
     ]
    }
   ],
   "source": [
    "for i in range(1,11):\n",
    "  print(\"*\"*i)"
   ]
  },
  {
   "cell_type": "markdown",
   "metadata": {
    "id": "t02ExMFNYWYz"
   },
   "source": [
    "**Triangle inversé**"
   ]
  },
  {
   "cell_type": "code",
   "execution_count": null,
   "metadata": {
    "colab": {
     "base_uri": "https://localhost:8080/"
    },
    "id": "EJhIN-T7jxwz",
    "outputId": "65a182b5-c724-4b69-dde0-c20a6de5c070"
   },
   "outputs": [
    {
     "name": "stdout",
     "output_type": "stream",
     "text": [
      "**********\n",
      "*********\n",
      "********\n",
      "*******\n",
      "******\n",
      "*****\n",
      "****\n",
      "***\n",
      "**\n",
      "*\n"
     ]
    }
   ],
   "source": [
    "for i in range(10,0,-1):\n",
    "  print(\"*\"*i)"
   ]
  },
  {
   "cell_type": "markdown",
   "metadata": {
    "id": "dC_P6O3rYbLx"
   },
   "source": [
    "**Triangle gauche**"
   ]
  },
  {
   "cell_type": "code",
   "execution_count": null,
   "metadata": {
    "colab": {
     "base_uri": "https://localhost:8080/"
    },
    "id": "bIm5KVjpj7oj",
    "outputId": "eca9595d-41f7-415a-c892-b3b07346802d"
   },
   "outputs": [
    {
     "name": "stdout",
     "output_type": "stream",
     "text": [
      "         *\n",
      "        **\n",
      "       ***\n",
      "      ****\n",
      "     *****\n",
      "    ******\n",
      "   *******\n",
      "  ********\n",
      " *********\n",
      "**********\n"
     ]
    }
   ],
   "source": [
    "for i in range(1,11):\n",
    "  print(\" \"*(10-i)+\"*\"*i)\n"
   ]
  },
  {
   "cell_type": "markdown",
   "metadata": {
    "id": "-Qcb2Gx1Yi5F"
   },
   "source": [
    "**Pyramide**"
   ]
  },
  {
   "cell_type": "code",
   "execution_count": null,
   "metadata": {
    "colab": {
     "base_uri": "https://localhost:8080/"
    },
    "id": "RjSKi2dQkn_z",
    "outputId": "c45fe75b-8ac5-4edd-a974-dfc9c61d3e2d"
   },
   "outputs": [
    {
     "name": "stdout",
     "output_type": "stream",
     "text": [
      "          *\n",
      "         ***\n",
      "        *****\n",
      "       *******\n",
      "      *********\n",
      "     ***********\n",
      "    *************\n",
      "   ***************\n",
      "  *****************\n",
      " *******************\n"
     ]
    }
   ],
   "source": [
    "j=10\n",
    "for i in range(1,21,2):\n",
    "  print(\" \"*j+\"*\"*i)\n",
    "  j-=1"
   ]
  },
  {
   "cell_type": "markdown",
   "metadata": {
    "id": "65xqreBZYpKN"
   },
   "source": [
    "*Pyramide avec un nombre de ligne à choisir*"
   ]
  },
  {
   "cell_type": "code",
   "execution_count": null,
   "metadata": {
    "colab": {
     "base_uri": "https://localhost:8080/"
    },
    "id": "koAU_7kImF0U",
    "outputId": "fb3b10a0-3f3f-4945-b773-f79ad6b25ebe"
   },
   "outputs": [
    {
     "name": "stdout",
     "output_type": "stream",
     "text": [
      "                    *\n",
      "                   ***\n",
      "                  *****\n",
      "                 *******\n",
      "                *********\n",
      "               ***********\n",
      "              *************\n",
      "             ***************\n",
      "            *****************\n",
      "           *******************\n",
      "          *********************\n",
      "         ***********************\n",
      "        *************************\n",
      "       ***************************\n",
      "      *****************************\n",
      "     *******************************\n",
      "    *********************************\n",
      "   ***********************************\n",
      "  *************************************\n",
      " ***************************************\n"
     ]
    }
   ],
   "source": [
    "def pyramide(N):\n",
    "  j=N\n",
    "  for i in range(1,N*2+1,2):\n",
    "    print(\" \"*j+\"*\"*i)\n",
    "    j-=1\n",
    "pyramide(20)"
   ]
  },
  {
   "cell_type": "markdown",
   "metadata": {
    "id": "tymWzcpsYxCD"
   },
   "source": [
    "**Parcours de matrice**"
   ]
  },
  {
   "cell_type": "markdown",
   "metadata": {
    "id": "kPXwh_zPY0ty"
   },
   "source": [
    "**Exercice 1**"
   ]
  },
  {
   "cell_type": "code",
   "execution_count": null,
   "metadata": {
    "colab": {
     "base_uri": "https://localhost:8080/"
    },
    "id": "6Tjf0Q79noim",
    "outputId": "f3cd2655-bfb2-4b72-e2d3-10cb740658db"
   },
   "outputs": [
    {
     "name": "stdout",
     "output_type": "stream",
     "text": [
      "lignes colonnes\n",
      "    1\t1\n",
      "    1\t2\n",
      "    1\t3\n",
      "    2\t1\n",
      "    2\t2\n",
      "    2\t3\n",
      "    3\t1\n",
      "    3\t2\n",
      "    3\t3\n"
     ]
    }
   ],
   "source": [
    "l=[(\"lignes\",\"colonnes\")]\n",
    "def parcours(M):\n",
    "  for i in range(len(M)):\n",
    "    for j in range(len(M[0])):\n",
    "      l.append((i+1,j+1))\n",
    "  print(l[0][0]+\" \"+l[0][1]) \n",
    "  for i in range(1,len(l)):\n",
    "    print(\"    \"+str(l[i][0])+\"\\t\"+str(l[i][1]))\n",
    "\n",
    "\n",
    "h=[[0,0,0],[1,1,1],[2,2,2]]\n",
    "parcours(h)"
   ]
  },
  {
   "cell_type": "markdown",
   "metadata": {
    "id": "g2mQZlgUY4uE"
   },
   "source": [
    "**Exercice 2**"
   ]
  },
  {
   "cell_type": "code",
   "execution_count": null,
   "metadata": {
    "colab": {
     "base_uri": "https://localhost:8080/"
    },
    "id": "iE0OuxAjpzvO",
    "outputId": "a5101ad3-c2ab-4753-84bf-76612446b725"
   },
   "outputs": [
    {
     "name": "stdout",
     "output_type": "stream",
     "text": [
      "lignes colonnes\n",
      "    1\t1\n",
      "    1\t2\n",
      "    1\t3\n",
      "    2\t1\n",
      "    2\t2\n",
      "    2\t3\n",
      "    3\t1\n",
      "    3\t2\n",
      "    3\t3\n"
     ]
    }
   ],
   "source": [
    "l=[(\"lignes\",\"colonnes\")]\n",
    "def parcours(M):\n",
    "  i=0\n",
    "  j=0\n",
    "  while i<len(M):\n",
    "    while j<len(M[0]):\n",
    "      l.append((i+1,j+1))\n",
    "      j+=1      \n",
    "    i+=1\n",
    "    j=0\n",
    "  print(l[0][0]+\" \"+l[0][1]) \n",
    "  for k in range(1,len(l)):\n",
    "    print(\"    \"+str(l[k][0])+\"\\t\"+str(l[k][1]))\n",
    "\n",
    "\n",
    "\n",
    "h=[[0,0,0],[1,1,1],[2,2,2]]\n",
    "parcours(h)"
   ]
  },
  {
   "cell_type": "markdown",
   "metadata": {
    "id": "Pjpu1AusY7js"
   },
   "source": [
    "**Exercice 3**"
   ]
  },
  {
   "cell_type": "code",
   "execution_count": null,
   "metadata": {
    "colab": {
     "base_uri": "https://localhost:8080/"
    },
    "id": "1lbb7eUDwp4J",
    "outputId": "5be8869f-977a-45b7-f71f-64dd61b30c2b"
   },
   "outputs": [
    {
     "name": "stdout",
     "output_type": "stream",
     "text": [
      "lignes colonnes\n",
      "    1\t2\n",
      "    1\t3\n",
      "    1\t4\n",
      "    2\t3\n",
      "    2\t4\n",
      "    3\t4\n"
     ]
    }
   ],
   "source": [
    "l=[(\"lignes\",\"colonnes\")]\n",
    "def parcours(M):\n",
    "  for i in range(len(M)):\n",
    "    for j in range(len(M[0])):\n",
    "      if (i!=j and (i+1,j+1) not in l and (j+1,i+1) not in l):\n",
    "        l.append((i+1,j+1))\n",
    "  print(l[0][0]+\" \"+l[0][1]) \n",
    "  for i in range(1,len(l)):\n",
    "    print(\"    \"+str(l[i][0])+\"\\t\"+str(l[i][1]))\n",
    "\n",
    "\n",
    "h=[[0,0,0,0],[1,1,1,1],[2,2,2,2],[3,3,3,3]]\n",
    "parcours(h)"
   ]
  },
  {
   "cell_type": "markdown",
   "metadata": {
    "id": "5Q0Y1ZoSZAsF"
   },
   "source": [
    "**Exercice 4**"
   ]
  },
  {
   "cell_type": "code",
   "execution_count": null,
   "metadata": {
    "colab": {
     "base_uri": "https://localhost:8080/"
    },
    "id": "B0g7RziMzEYb",
    "outputId": "fc8f61c7-7e16-469b-8692-64145b8ea2c3"
   },
   "outputs": [
    {
     "name": "stdout",
     "output_type": "stream",
     "text": [
      "lignes colonnes\n",
      "    1\t2\n",
      "    1\t3\n",
      "    1\t4\n",
      "    1\t5\n",
      "    2\t3\n",
      "    2\t4\n",
      "    2\t5\n",
      "    3\t4\n",
      "    3\t5\n",
      "    4\t5\n",
      "Pour une matrice 5x5 on a parcouru 10 cases\n"
     ]
    }
   ],
   "source": [
    "l=[(\"lignes\",\"colonnes\")]\n",
    "def parcours(M):\n",
    "  for i in range(len(M)):\n",
    "    for j in range(len(M[0])):\n",
    "      if (i!=j and (i+1,j+1) not in l and (j+1,i+1) not in l):\n",
    "        l.append((i+1,j+1))\n",
    "  print(l[0][0]+\" \"+l[0][1]) \n",
    "  for i in range(1,len(l)):\n",
    "    print(\"    \"+str(l[i][0])+\"\\t\"+str(l[i][1]))\n",
    "  print(\"Pour une matrice \"+str(len(M))+\"x\"+str(len(M[0]))+\" on a parcouru \"+str(len(l)-1)+\" cases\")\n",
    "\n",
    "h=[[0,0,0,0,0],[1,1,1,1,1],[2,2,2,2,2],[3,3,3,3,3],[4,4,4,4,4]]\n",
    "parcours(h)"
   ]
  },
  {
   "cell_type": "markdown",
   "metadata": {
    "id": "Hjn1dgKsZL1l"
   },
   "source": [
    "**Sauts de puce et suite de Fibonacci**"
   ]
  },
  {
   "cell_type": "code",
   "execution_count": 2,
   "metadata": {
    "colab": {
     "base_uri": "https://localhost:8080/"
    },
    "id": "EmRz6lJB2GaL",
    "outputId": "21307748-4684-4e44-caf8-dd6fbc79015e"
   },
   "outputs": [
    {
     "name": "stdout",
     "output_type": "stream",
     "text": [
      "267\n"
     ]
    }
   ],
   "source": [
    "import random\n",
    "i=0\n",
    "j=0\n",
    "while i<5:\n",
    "  i=i+random.choice([-1,1])\n",
    "  j+=1\n",
    "\n",
    "print(j)  "
   ]
  },
  {
   "cell_type": "code",
   "execution_count": 3,
   "metadata": {
    "colab": {
     "base_uri": "https://localhost:8080/"
    },
    "id": "hmOkCzm_2zGg",
    "outputId": "9f346cab-9252-49d5-ebb4-43cebffee9b6"
   },
   "outputs": [
    {
     "name": "stdout",
     "output_type": "stream",
     "text": [
      "[0, 1, 1, 2, 3, 5, 8, 13, 21, 34, 55, 89, 144, 233, 377]\n"
     ]
    }
   ],
   "source": [
    "u=0\n",
    "v=1\n",
    "l=[0,1]\n",
    "for i in range(2,15):\n",
    "  next=u+v\n",
    "  l.append(next)\n",
    "  u=v\n",
    "  v=next\n",
    "\n",
    "print(l)"
   ]
  },
  {
   "cell_type": "code",
   "execution_count": 4,
   "metadata": {
    "colab": {
     "base_uri": "https://localhost:8080/"
    },
    "id": "Z3Hr-XZQ32CP",
    "outputId": "aedad59f-eabc-4a14-b078-c1e2986d1ef0"
   },
   "outputs": [
    {
     "name": "stdout",
     "output_type": "stream",
     "text": [
      "[0, 1, (1, 1.0), (2, 2.0), (3, 1.5), (5, 1.6666666666666667), (8, 1.6), (13, 1.625), (21, 1.6153846153846154), (34, 1.619047619047619), (55, 1.6176470588235294), (89, 1.6181818181818182), (144, 1.6179775280898876), (233, 1.6180555555555556), (377, 1.6180257510729614)]\n"
     ]
    }
   ],
   "source": [
    "u=0\n",
    "v=1\n",
    "l=[0,1]\n",
    "for i in range(2,15):\n",
    "  next=u+v\n",
    "  l.append((next,next/v))\n",
    "  u=v\n",
    "  v=next\n",
    "\n",
    "print(l)"
   ]
  },
  {
   "cell_type": "markdown",
   "metadata": {
    "id": "ZB-tTF_74zWd"
   },
   "source": [
    "le rapport tend vers une limite constante égale à 1,618\n"
   ]
  },
  {
   "cell_type": "markdown",
   "metadata": {
    "id": "WRKqZHlsZdED"
   },
   "source": [
    "**Exercices-Tests**"
   ]
  },
  {
   "cell_type": "markdown",
   "metadata": {
    "id": "5ZyrmbKBZg-M"
   },
   "source": [
    "**Exercice 1**"
   ]
  },
  {
   "cell_type": "code",
   "execution_count": 5,
   "metadata": {
    "colab": {
     "base_uri": "https://localhost:8080/"
    },
    "id": "5Y2O0ug05RjB",
    "outputId": "f7e6d230-55de-4aa1-f86f-de43b89ae5db"
   },
   "outputs": [
    {
     "name": "stdout",
     "output_type": "stream",
     "text": [
      "C'est Lundi au travail.\n",
      "C'est Mardi au travail.\n",
      "C'est Mercredi au travail.\n",
      "C'est Jeudi au travail.\n",
      "C'est Vendredi bientôt le wee-kend\n",
      "prenez du repos c'est le weekend\n",
      "prenez du repos c'est le weekend\n"
     ]
    }
   ],
   "source": [
    "L=[\"Lundi\",\"Mardi\",\"Mercredi\",\"Jeudi\",\"Vendredi\",\"Samedi\",\"Dimanche\"]\n",
    "n=len(L)\n",
    "for j in range(n):\n",
    "  if 0<=j<4:\n",
    "    print(\"C'est \"+L[j]+\" au travail.\")\n",
    "  elif L[j]==\"Vendredi\":\n",
    "    print(\"C'est Vendredi bientôt le wee-kend\")\n",
    "  else:\n",
    "    print(\"prenez du repos c'est le weekend\")  "
   ]
  },
  {
   "cell_type": "markdown",
   "metadata": {
    "id": "MHLmrnfYZlOr"
   },
   "source": [
    "**Exercice 2**"
   ]
  },
  {
   "cell_type": "code",
   "execution_count": null,
   "metadata": {
    "colab": {
     "base_uri": "https://localhost:8080/"
    },
    "id": "2Ei8WNi-7WqG",
    "outputId": "46f3e459-4ff1-4414-cc9b-02fd1de5b249"
   },
   "outputs": [
    {
     "name": "stdout",
     "output_type": "stream",
     "text": [
      "1\n"
     ]
    }
   ],
   "source": [
    "l=[8, 4, 6, 1, 5]\n",
    "min=l[0]\n",
    "for x in l:\n",
    "  if x<min:\n",
    "    min=x\n",
    "print(min)    "
   ]
  },
  {
   "cell_type": "markdown",
   "metadata": {
    "id": "GZu6wvQ_ZtAa"
   },
   "source": [
    "**Exercice 3**"
   ]
  },
  {
   "cell_type": "code",
   "execution_count": null,
   "metadata": {
    "colab": {
     "base_uri": "https://localhost:8080/"
    },
    "id": "9_M6DmmN7sy8",
    "outputId": "8b02c876-5a55-4393-c2ba-7f1c0cd74483"
   },
   "outputs": [
    {
     "data": {
      "text/plain": [
       "{'A': 5, 'G': 1, 'R': 3, 'W': 5}"
      ]
     },
     "execution_count": 115,
     "metadata": {},
     "output_type": "execute_result"
    }
   ],
   "source": [
    "l=[\"A\",\"R\",\"A\",\"W\",\"W\",\"A\",\"W\",\"A\",\"R\",\"W\",\"W\",\"R\",\"A\",\"G\"]\n",
    "M={}\n",
    "for x in l:\n",
    "  if x not in M:\n",
    "    M[x]=0\n",
    "  M[x]+=1\n",
    "M\n"
   ]
  },
  {
   "cell_type": "markdown",
   "metadata": {
    "id": "ykVpPtE5Zwqi"
   },
   "source": [
    "**Exercice 4**"
   ]
  },
  {
   "cell_type": "code",
   "execution_count": 1,
   "metadata": {
    "colab": {
     "base_uri": "https://localhost:8080/"
    },
    "id": "Qa1OUT189GOf",
    "outputId": "9284fae4-a53b-405a-d82a-3a3eee920e59"
   },
   "outputs": [
    {
     "name": "stdout",
     "output_type": "stream",
     "text": [
      "la note maximale de cet étudiant est  15\n",
      "la note minimale de cet étudiant est  9\n",
      "la moyenne des notes de cet étudiant est 12.60\n",
      "Mention Assez bien\n"
     ]
    }
   ],
   "source": [
    "l=[14, 9, 13, 15,12]\n",
    "m=max(l)\n",
    "mi=min(l)\n",
    "g=0\n",
    "for x in l:\n",
    "  g+=x\n",
    "moy=g/len(l)\n",
    "mention=\"\"\n",
    "if 10<=moy<12:\n",
    "  mention=\"Passable\"\n",
    "elif 12<=moy<14:\n",
    "  mention=\"Assez bien\"\n",
    "elif moy>=14:\n",
    "  mention=\"Bien\"  \n",
    "print(\"la note maximale de cet étudiant est \",m)\n",
    "print(\"la note minimale de cet étudiant est \",mi)\n",
    "\n",
    "print(f\"la moyenne des notes de cet étudiant est {moy:.2f}\")\n",
    "print(\"Mention\",mention)\n",
    "\n",
    "\n",
    "\n"
   ]
  },
  {
   "cell_type": "markdown",
   "metadata": {
    "id": "R21enwNtZ11A"
   },
   "source": [
    "**Exercice 5**"
   ]
  },
  {
   "cell_type": "code",
   "execution_count": null,
   "metadata": {
    "colab": {
     "base_uri": "https://localhost:8080/"
    },
    "id": "vSNEG4jA6GNg",
    "outputId": "721072e8-873a-4837-b42c-4b9e43f6d0b8"
   },
   "outputs": [
    {
     "name": "stdout",
     "output_type": "stream",
     "text": [
      "le nombre  0 est pair\n",
      "le nombre  2 est pair\n",
      "le nombre  4 est pair\n",
      "le nombre  6 est pair\n",
      "le nombre  8 est pair\n",
      "le nombre  10 est pair\n",
      "le nombre  11 est impair\n",
      "le nombre  13 est impair\n",
      "le nombre  15 est impair\n",
      "le nombre  17 est impair\n",
      "le nombre  19 est impair\n"
     ]
    }
   ],
   "source": [
    "for i in range(21):\n",
    "  if i<=10 and i%2==0:\n",
    "    print(\"le nombre \",i,\"est pair\")\n",
    "  elif i>10 and i%2!=0:\n",
    "    print(\"le nombre \",i,\"est impair\")  "
   ]
  },
  {
   "cell_type": "markdown",
   "metadata": {
    "id": "YtyLOxq2Z4zM"
   },
   "source": [
    "**Exercice : Conjecture de Syracuse**"
   ]
  },
  {
   "cell_type": "code",
   "execution_count": null,
   "metadata": {
    "colab": {
     "base_uri": "https://localhost:8080/"
    },
    "id": "J6tJcDIW4fQr",
    "outputId": "baa2b6ad-42b4-486b-e070-be62290a6c48"
   },
   "outputs": [
    {
     "name": "stdout",
     "output_type": "stream",
     "text": [
      "10\n",
      "5\n",
      "16\n",
      "8\n",
      "4\n",
      "2\n",
      "1\n",
      "4\n",
      "2\n",
      "1\n",
      "4\n",
      "2\n",
      "13\n",
      "40\n",
      "20\n",
      "10\n",
      "5\n",
      "16\n",
      "8\n",
      "4\n",
      "2\n",
      "1\n",
      "4\n",
      "2\n",
      "583\n",
      "1750\n",
      "875\n",
      "2626\n",
      "1313\n",
      "3940\n",
      "1970\n",
      "985\n",
      "2956\n",
      "1478\n",
      "739\n",
      "2218\n",
      "1109\n",
      "3328\n",
      "1664\n",
      "832\n",
      "416\n",
      "208\n",
      "104\n",
      "52\n",
      "26\n",
      "13\n",
      "40\n",
      "20\n",
      "10\n",
      "5\n",
      "16\n",
      "8\n",
      "4\n",
      "2\n",
      "1\n",
      "4\n",
      "2\n",
      "1\n",
      "4\n",
      "2\n",
      "1\n",
      "4\n",
      "2\n",
      "1\n"
     ]
    }
   ],
   "source": [
    "def Syracuse(n,i):\n",
    "  c=0\n",
    "  while c!=i:\n",
    "    print(n)\n",
    "    if n%2==0:\n",
    "      n=int(n/2)\n",
    "    else:\n",
    "      n=n*3+1  \n",
    "    c+=1\n",
    "\n",
    "Syracuse(10,12)\n",
    "Syracuse(13,12)\n",
    "Syracuse(583,40)\n"
   ]
  },
  {
   "cell_type": "markdown",
   "metadata": {
    "id": "vsbMsU8PRQmg"
   },
   "source": [
    "Les nombres qui constituent le cycle trivial sont 1, 2 et 4"
   ]
  },
  {
   "cell_type": "markdown",
   "metadata": {
    "id": "oOmY1dRmaAjz"
   },
   "source": [
    "**Exercice : Recherche d'un nombre par dichotomie**"
   ]
  },
  {
   "cell_type": "code",
   "execution_count": null,
   "metadata": {
    "colab": {
     "base_uri": "https://localhost:8080/"
    },
    "id": "O1pbYYWfRK_a",
    "outputId": "95dd2134-fbab-44ae-947f-2139f3376a73"
   },
   "outputs": [
    {
     "name": "stdout",
     "output_type": "stream",
     "text": [
      "Pensez à un nombre entre 0 et 100 50\n",
      "Est-ce votre nombre est plus grand , plus petit ou égal à 50?=\n",
      "le nombre auquel vous avez pensé est 50\n",
      "Je l'ai trouvé en  1 questions\n"
     ]
    }
   ],
   "source": [
    "def recherchedicho(a,b):\n",
    "  n=int(input(\"Pensez à un nombre entre \"+str(a)+\" et \"+str(b)+\" \"))\n",
    "  cpt=1\n",
    "  d=int((b+a)/2)\n",
    "  quest=input(\"Est-ce votre nombre est plus grand , plus petit ou égal à \"+str(d)+\"?\")\n",
    "  while(quest!=\"=\"):\n",
    "    if quest==\"+\":\n",
    "      a=d\n",
    "      d=int((b+a)/2)\n",
    "    elif quest==\"-\":\n",
    "      b=d\n",
    "      d=int((b+a)/2)\n",
    "    quest=input(\"Est-ce votre nombre est plus grand , plus petit ou égal à \"+str(d)+\"?\")\n",
    "    cpt+=1\n",
    "  print(\"le nombre auquel vous avez pensé est\",d)\n",
    "  print(\"Je l'ai trouvé en \",cpt,\"questions\")\n",
    "\n",
    "recherchedicho(0,100)\n",
    "\n",
    "\n"
   ]
  },
  {
   "cell_type": "markdown",
   "metadata": {
    "id": "KusFgVi0aMvu"
   },
   "source": [
    "**Exercice-Fonctions**"
   ]
  },
  {
   "cell_type": "markdown",
   "metadata": {
    "id": "uqAm3MKCaRUE"
   },
   "source": [
    "**Exercice 1**"
   ]
  },
  {
   "cell_type": "code",
   "execution_count": null,
   "metadata": {
    "colab": {
     "base_uri": "https://localhost:8080/"
    },
    "id": "9mn0f-B0YHFY",
    "outputId": "2a4bcb36-996c-472f-df25-db2cac21731e"
   },
   "outputs": [
    {
     "name": "stdout",
     "output_type": "stream",
     "text": [
      "2^ 1 = 2\n",
      "2^ 2 = 4\n",
      "2^ 3 = 8\n",
      "2^ 4 = 16\n",
      "2^ 5 = 32\n",
      "2^ 6 = 64\n",
      "2^ 7 = 128\n",
      "2^ 8 = 256\n",
      "2^ 9 = 512\n",
      "2^ 10 = 1024\n",
      "2^ 11 = 2048\n",
      "2^ 12 = 4096\n",
      "2^ 13 = 8192\n",
      "2^ 14 = 16384\n",
      "2^ 15 = 32768\n",
      "2^ 16 = 65536\n",
      "2^ 17 = 131072\n",
      "2^ 18 = 262144\n",
      "2^ 19 = 524288\n",
      "2^ 20 = 1048576\n"
     ]
    }
   ],
   "source": [
    "def calc_puissance(x,y):\n",
    "  return(x**y)\n",
    "for i in range(1,21):\n",
    "  print(\"2^\",i,\"=\",calc_puissance(2,i))"
   ]
  },
  {
   "cell_type": "markdown",
   "metadata": {
    "id": "rBMtQw3EaT4e"
   },
   "source": [
    "**Exercice 2**"
   ]
  },
  {
   "cell_type": "code",
   "execution_count": null,
   "metadata": {
    "colab": {
     "base_uri": "https://localhost:8080/"
    },
    "id": "hMQWN77ZcTIB",
    "outputId": "c568b09c-3b94-47e0-9b7a-657daad50aeb"
   },
   "outputs": [
    {
     "name": "stdout",
     "output_type": "stream",
     "text": [
      "veuillez saisir le nombre de lignes du pyramide souhaité 40\n",
      "                                        *\n",
      "                                       ***\n",
      "                                      *****\n",
      "                                     *******\n",
      "                                    *********\n",
      "                                   ***********\n",
      "                                  *************\n",
      "                                 ***************\n",
      "                                *****************\n",
      "                               *******************\n",
      "                              *********************\n",
      "                             ***********************\n",
      "                            *************************\n",
      "                           ***************************\n",
      "                          *****************************\n",
      "                         *******************************\n",
      "                        *********************************\n",
      "                       ***********************************\n",
      "                      *************************************\n",
      "                     ***************************************\n",
      "                    *****************************************\n",
      "                   *******************************************\n",
      "                  *********************************************\n",
      "                 ***********************************************\n",
      "                *************************************************\n",
      "               ***************************************************\n",
      "              *****************************************************\n",
      "             *******************************************************\n",
      "            *********************************************************\n",
      "           ***********************************************************\n",
      "          *************************************************************\n",
      "         ***************************************************************\n",
      "        *****************************************************************\n",
      "       *******************************************************************\n",
      "      *********************************************************************\n",
      "     ***********************************************************************\n",
      "    *************************************************************************\n",
      "   ***************************************************************************\n",
      "  *****************************************************************************\n",
      " *******************************************************************************\n"
     ]
    }
   ],
   "source": [
    "def gen_pyramide(N):\n",
    "  j=N\n",
    "  for i in range(1,N*2+1,2):\n",
    "    print(\" \"*j+\"*\"*i)\n",
    "    j-=1\n",
    "\n",
    "n=int(input(\"veuillez saisir le nombre de lignes du pyramide souhaité \"))    \n",
    "gen_pyramide(n)\n"
   ]
  },
  {
   "cell_type": "markdown",
   "metadata": {
    "id": "HOGZPrdEaWhE"
   },
   "source": [
    "**Exercice 3**"
   ]
  },
  {
   "cell_type": "code",
   "execution_count": null,
   "metadata": {
    "colab": {
     "base_uri": "https://localhost:8080/"
    },
    "id": "MFraGN9Jc-7l",
    "outputId": "473409f4-c03d-4f19-d6c7-3996e9ebef34"
   },
   "outputs": [
    {
     "name": "stdout",
     "output_type": "stream",
     "text": [
      "veuilez saisir un nombre entier 247\n",
      "False\n",
      "2\n",
      "3\n",
      "5\n",
      "7\n",
      "11\n",
      "13\n",
      "17\n",
      "19\n",
      "23\n",
      "29\n",
      "31\n",
      "37\n",
      "41\n",
      "43\n",
      "47\n",
      "53\n",
      "59\n",
      "61\n",
      "67\n",
      "71\n",
      "73\n",
      "79\n",
      "83\n",
      "89\n",
      "97\n"
     ]
    }
   ],
   "source": [
    "def est_premier(n):\n",
    "  for i in range(2,n//2+1):\n",
    "    if n%i==0:\n",
    "      return False\n",
    "  return True\n",
    "\n",
    "n=int(input(\"veuilez saisir un nombre entier \"))\n",
    "print(est_premier(n))\n",
    "\n",
    "for i in range(2,101):\n",
    "  if est_premier(i):\n",
    "    print(i)"
   ]
  },
  {
   "cell_type": "markdown",
   "metadata": {
    "id": "Ut5_JCEIaZ1s"
   },
   "source": [
    "**Exercice 4**"
   ]
  },
  {
   "cell_type": "code",
   "execution_count": null,
   "metadata": {
    "colab": {
     "base_uri": "https://localhost:8080/"
    },
    "id": "LOeJ1TuVgHSt",
    "outputId": "6b719d6f-32d1-40ab-f50e-5c92c2ec7df9"
   },
   "outputs": [
    {
     "data": {
      "text/plain": [
       "1.7320508075688772"
      ]
     },
     "execution_count": 70,
     "metadata": {},
     "output_type": "execute_result"
    }
   ],
   "source": [
    "import math\n",
    "def calc_distance_3D(a,b):\n",
    "  return(math.sqrt((a[0]-b[0])**2+(a[1]-b[1])**2+(a[2]-b[2])**2))\n",
    "\n",
    "calc_distance_3D((0,0,0),(1,1,1))"
   ]
  },
  {
   "cell_type": "markdown",
   "metadata": {
    "id": "2qylv94gaekI"
   },
   "source": [
    "**Exercice-Distribution et Statistiques**"
   ]
  },
  {
   "cell_type": "code",
   "execution_count": null,
   "metadata": {
    "colab": {
     "base_uri": "https://localhost:8080/"
    },
    "id": "KtJ3Mopghcot",
    "outputId": "4ba153c9-dbc5-4f1e-e650-b5f062329f89"
   },
   "outputs": [
    {
     "data": {
      "text/plain": [
       "[49.54916867277319,\n",
       " 21.074095505881868,\n",
       " 14.759956037705194,\n",
       " 62.001637725790914,\n",
       " 40.53152054701306,\n",
       " 4.945317167184948,\n",
       " 55.57263007153905,\n",
       " 68.73009801912866,\n",
       " 13.24474044912149,\n",
       " 54.249687969251156,\n",
       " 71.58339151394131,\n",
       " 39.01427431594572,\n",
       " 19.81078469310146,\n",
       " 48.403416375450824]"
      ]
     },
     "execution_count": 27,
     "metadata": {},
     "output_type": "execute_result"
    }
   ],
   "source": [
    "import random\n",
    "def gen_distrib(deb,fin,N):\n",
    "  l=[]\n",
    "  for i in range(N):\n",
    "    l.append(random.uniform(deb,fin))\n",
    "  return(l)\n",
    "\n",
    "gen_distrib(1,100,14)"
   ]
  },
  {
   "cell_type": "code",
   "execution_count": null,
   "metadata": {
    "colab": {
     "base_uri": "https://localhost:8080/",
     "height": 630
    },
    "id": "euxVEDC0iU4f",
    "outputId": "9ea0e0ea-fe32-49ef-ef82-39d71117deb4"
   },
   "outputs": [
    {
     "name": "stdout",
     "output_type": "stream",
     "text": [
      "Liste  1  Min: 1.40 ; Max: 99.83 ; Moyenne: 49.43\n",
      "Liste  2  Min: 1.64 ; Max: 99.76 ; Moyenne: 47.55\n",
      "Liste  3  Min: 0.47 ; Max: 99.80 ; Moyenne: 46.02\n",
      "Liste  4  Min: 0.36 ; Max: 99.98 ; Moyenne: 51.33\n",
      "Liste  5  Min: 4.10 ; Max: 98.58 ; Moyenne: 49.22\n",
      "Liste  6  Min: 0.56 ; Max: 98.25 ; Moyenne: 48.97\n",
      "Liste  7  Min: 0.21 ; Max: 99.89 ; Moyenne: 49.18\n",
      "Liste  8  Min: 0.31 ; Max: 98.70 ; Moyenne: 47.34\n",
      "Liste  9  Min: 1.30 ; Max: 97.63 ; Moyenne: 52.02\n",
      "Liste  10  Min: 1.94 ; Max: 98.78 ; Moyenne: 51.22\n",
      "Liste  11  Min: 0.54 ; Max: 99.39 ; Moyenne: 47.79\n",
      "Liste  12  Min: 0.38 ; Max: 99.21 ; Moyenne: 48.80\n",
      "Liste  13  Min: 1.20 ; Max: 98.40 ; Moyenne: 49.21\n",
      "Liste  14  Min: 1.20 ; Max: 99.98 ; Moyenne: 53.12\n",
      "Liste  15  Min: 0.61 ; Max: 98.93 ; Moyenne: 50.91\n",
      "Liste  16  Min: 0.40 ; Max: 99.79 ; Moyenne: 51.11\n",
      "Liste  17  Min: 1.05 ; Max: 99.83 ; Moyenne: 51.98\n",
      "Liste  18  Min: 1.74 ; Max: 99.65 ; Moyenne: 52.95\n",
      "Liste  19  Min: 0.24 ; Max: 98.68 ; Moyenne: 48.23\n",
      "Liste  20  Min: 0.63 ; Max: 98.78 ; Moyenne: 51.41\n"
     ]
    },
    {
     "data": {
      "image/png": "[encoded data removed]",
      "text/plain": [
       "<Figure size 432x288 with 1 Axes>"
      ]
     },
     "metadata": {
      "needs_background": "light"
     },
     "output_type": "display_data"
    }
   ],
   "source": [
    "import matplotlib.pyplot as plt\n",
    "import numpy as np\n",
    "def calc_stat(l):\n",
    "  h=min(l)\n",
    "  k=max(l)\n",
    "  moy=sum(l)/len(l)\n",
    "  return([h,k,moy])\n",
    "\n",
    "mini=[]\n",
    "maxi=[]\n",
    "moye=[]\n",
    "for i in range(20):\n",
    "  l=gen_distrib(0,100,100)\n",
    "  M=calc_stat(l)\n",
    "  print(\"Liste \",i+1,f\" Min: {M[0]:.2f} ; Max: {M[1]:.2f} ; Moyenne: {M[2]:.2f}\")\n",
    "  mini.append(M[0])\n",
    "  maxi.append(M[1])\n",
    "  moye.append(M[2])\n",
    "\n",
    "plt.plot(range(0,20),mini)\n",
    "plt.plot(range(0,20),maxi)\n",
    "plt.plot(range(0,20),moye)\n",
    "plt.show()"
   ]
  },
  {
   "cell_type": "code",
   "execution_count": null,
   "metadata": {
    "colab": {
     "base_uri": "https://localhost:8080/",
     "height": 630
    },
    "id": "WvLZbSkNo2Cr",
    "outputId": "58ca0202-4c73-40e4-932b-c2693204dcea"
   },
   "outputs": [
    {
     "name": "stdout",
     "output_type": "stream",
     "text": [
      "Liste  1  Min: 0.04 ; Max: 99.92 ; Moyenne: 48.39\n",
      "Liste  2  Min: 0.23 ; Max: 99.77 ; Moyenne: 49.44\n",
      "Liste  3  Min: 0.11 ; Max: 99.90 ; Moyenne: 51.33\n",
      "Liste  4  Min: 0.03 ; Max: 99.95 ; Moyenne: 50.82\n",
      "Liste  5  Min: 0.01 ; Max: 99.94 ; Moyenne: 47.74\n",
      "Liste  6  Min: 0.12 ; Max: 99.99 ; Moyenne: 49.44\n",
      "Liste  7  Min: 0.19 ; Max: 99.82 ; Moyenne: 49.33\n",
      "Liste  8  Min: 0.05 ; Max: 99.98 ; Moyenne: 50.44\n",
      "Liste  9  Min: 0.00 ; Max: 99.89 ; Moyenne: 49.76\n",
      "Liste  10  Min: 0.15 ; Max: 99.97 ; Moyenne: 50.50\n",
      "Liste  11  Min: 0.02 ; Max: 99.98 ; Moyenne: 49.73\n",
      "Liste  12  Min: 0.02 ; Max: 100.00 ; Moyenne: 50.69\n",
      "Liste  13  Min: 0.03 ; Max: 99.83 ; Moyenne: 49.47\n",
      "Liste  14  Min: 0.27 ; Max: 99.86 ; Moyenne: 52.21\n",
      "Liste  15  Min: 0.05 ; Max: 100.00 ; Moyenne: 49.75\n",
      "Liste  16  Min: 0.11 ; Max: 100.00 ; Moyenne: 51.62\n",
      "Liste  17  Min: 0.05 ; Max: 99.99 ; Moyenne: 50.88\n",
      "Liste  18  Min: 0.11 ; Max: 99.84 ; Moyenne: 50.51\n",
      "Liste  19  Min: 0.04 ; Max: 99.90 ; Moyenne: 49.75\n",
      "Liste  20  Min: 0.00 ; Max: 100.00 ; Moyenne: 50.79\n"
     ]
    },
    {
     "data": {
      "image/png": "[encoded data removed]",
      "text/plain": [
       "<Figure size 432x288 with 1 Axes>"
      ]
     },
     "metadata": {
      "needs_background": "light"
     },
     "output_type": "display_data"
    }
   ],
   "source": [
    "mini=[]\n",
    "maxi=[]\n",
    "moye=[]\n",
    "for i in range(20):\n",
    "  l=gen_distrib(0,100,1000)\n",
    "  M=calc_stat(l)\n",
    "  print(\"Liste \",i+1,f\" Min: {M[0]:.2f} ; Max: {M[1]:.2f} ; Moyenne: {M[2]:.2f}\")\n",
    "  mini.append(M[0])\n",
    "  maxi.append(M[1])\n",
    "  moye.append(M[2])\n",
    "\n",
    "plt.plot(range(0,20),mini)\n",
    "plt.plot(range(0,20),maxi)\n",
    "plt.plot(range(0,20),moye)\n",
    "plt.show()"
   ]
  },
  {
   "cell_type": "code",
   "execution_count": null,
   "metadata": {
    "colab": {
     "base_uri": "https://localhost:8080/",
     "height": 630
    },
    "id": "dB5i_V8ErmBn",
    "outputId": "b218251a-f8cc-48b6-faf7-785e02365af7"
   },
   "outputs": [
    {
     "name": "stdout",
     "output_type": "stream",
     "text": [
      "Liste  1  Min: 0.02 ; Max: 99.99 ; Moyenne: 49.84\n",
      "Liste  2  Min: 0.02 ; Max: 99.99 ; Moyenne: 50.13\n",
      "Liste  3  Min: 0.00 ; Max: 99.99 ; Moyenne: 50.16\n",
      "Liste  4  Min: 0.00 ; Max: 99.99 ; Moyenne: 50.28\n",
      "Liste  5  Min: 0.02 ; Max: 99.94 ; Moyenne: 49.70\n",
      "Liste  6  Min: 0.01 ; Max: 100.00 ; Moyenne: 50.26\n",
      "Liste  7  Min: 0.01 ; Max: 99.99 ; Moyenne: 50.28\n",
      "Liste  8  Min: 0.01 ; Max: 100.00 ; Moyenne: 49.60\n",
      "Liste  9  Min: 0.01 ; Max: 99.99 ; Moyenne: 49.77\n",
      "Liste  10  Min: 0.01 ; Max: 99.99 ; Moyenne: 49.83\n",
      "Liste  11  Min: 0.00 ; Max: 100.00 ; Moyenne: 50.11\n",
      "Liste  12  Min: 0.00 ; Max: 100.00 ; Moyenne: 49.98\n",
      "Liste  13  Min: 0.01 ; Max: 99.99 ; Moyenne: 49.82\n",
      "Liste  14  Min: 0.00 ; Max: 99.99 ; Moyenne: 49.90\n",
      "Liste  15  Min: 0.01 ; Max: 100.00 ; Moyenne: 50.37\n",
      "Liste  16  Min: 0.00 ; Max: 99.99 ; Moyenne: 49.16\n",
      "Liste  17  Min: 0.01 ; Max: 99.98 ; Moyenne: 49.85\n",
      "Liste  18  Min: 0.00 ; Max: 99.99 ; Moyenne: 50.16\n",
      "Liste  19  Min: 0.01 ; Max: 99.99 ; Moyenne: 50.11\n",
      "Liste  20  Min: 0.01 ; Max: 99.98 ; Moyenne: 50.07\n"
     ]
    },
    {
     "data": {
      "image/png": "[encoded data removed]",
      "text/plain": [
       "<Figure size 432x288 with 1 Axes>"
      ]
     },
     "metadata": {
      "needs_background": "light"
     },
     "output_type": "display_data"
    }
   ],
   "source": [
    "mini=[]\n",
    "maxi=[]\n",
    "moye=[]\n",
    "for i in range(20):\n",
    "  l=gen_distrib(0,100,10000)\n",
    "  M=calc_stat(l)\n",
    "  print(\"Liste \",i+1,f\" Min: {M[0]:.2f} ; Max: {M[1]:.2f} ; Moyenne: {M[2]:.2f}\")\n",
    "  mini.append(M[0])\n",
    "  maxi.append(M[1])\n",
    "  moye.append(M[2])\n",
    "\n",
    "plt.plot(range(0,20),mini)\n",
    "plt.plot(range(0,20),maxi)\n",
    "plt.plot(range(0,20),moye)\n",
    "plt.show()"
   ]
  },
  {
   "cell_type": "markdown",
   "metadata": {
    "id": "Smm0OhjumP7G"
   },
   "source": [
    "Les écarts sur les statistiques entre les différentes listes ne sont pas très importants.\n",
    "\n",
    "On remarque que plus on augmente le nombre d'éléments par liste, les écarts diminuent et on obtiendra par la suite dans l'affichage à peu près une droite.  "
   ]
  },
  {
   "cell_type": "code",
   "execution_count": null,
   "metadata": {
    "colab": {
     "base_uri": "https://localhost:8080/"
    },
    "id": "EtaB6xA2k7K8",
    "outputId": "057081bd-f6f8-4615-f3ef-794c51786e17"
   },
   "outputs": [
    {
     "name": "stdout",
     "output_type": "stream",
     "text": [
      "la moyenne des notes est 12.57\n"
     ]
    }
   ],
   "source": [
    "l=[]\n",
    "with open(\"notes.txt\",'r') as f:\n",
    "  for x in f:\n",
    "    m=float(x[:len(x)-1])\n",
    "    l.append(m)\n",
    "  moy=sum(l)/len(l)\n",
    "  print(f\"la moyenne des notes est {moy:.2f}\")  \n",
    "    \n",
    "    "
   ]
  },
  {
   "cell_type": "code",
   "execution_count": null,
   "metadata": {
    "id": "5Q9l_1Gvp-po"
   },
   "outputs": [],
   "source": [
    "l=[]\n",
    "with open(\"notes.txt\",'r') as f:\n",
    "  for x in f:\n",
    "    m=float(x[:len(x)-1])\n",
    "    l.append(m)\n",
    "with open(\"notes2.txt\",'w') as fo:\n",
    "  for x in l:\n",
    "    if x<10:\n",
    "      fo.write(f\"{x:.2f} recalé\\n\")\n",
    "    elif x>=10:\n",
    "      fo.write(f\"{x:.2f} admis\\n\")\n",
    "f.close()\n",
    "fo.close()\n",
    "\n",
    "\n"
   ]
  },
  {
   "cell_type": "markdown",
   "metadata": {
    "id": "uwlhGP4ha4ck"
   },
   "source": [
    "**Exercice-Spirale**"
   ]
  },
  {
   "cell_type": "code",
   "execution_count": 1,
   "metadata": {
    "colab": {
     "base_uri": "https://localhost:8080/",
     "height": 265
    },
    "id": "Ejv91cUlsKIV",
    "outputId": "5c0cd47e-0192-47ca-ee18-e76c6582adca"
   },
   "outputs": [
    {
     "data": {
      "image/png": "[encoded data removed]",
      "text/plain": [
       "<Figure size 432x288 with 1 Axes>"
      ]
     },
     "metadata": {
      "needs_background": "light"
     },
     "output_type": "display_data"
    }
   ],
   "source": [
    "import math\n",
    "import matplotlib.pyplot as plt\n",
    "x=[]\n",
    "y=[]\n",
    "r=0.5\n",
    "teta=0\n",
    "while(teta<=4*math.pi):\n",
    "   x.append(r*math.cos(teta))\n",
    "   y.append(r*math.sin(teta))\n",
    "   teta+=0.1\n",
    "   r+=0.1\n",
    "\n",
    "plt.plot(x,y)\n",
    "\n",
    "with open(\"spirale.dat\",'w') as fi:\n",
    "  for i in range(len(x)):\n",
    "    fi.write(f\"{x[i]:.5f}\"+\"  \"+f\"{y[i]:.5f}\"+\"\\n\")\n",
    "\n"
   ]
  },
  {
   "cell_type": "code",
   "execution_count": null,
   "metadata": {},
   "outputs": [],
   "source": []
  }
 ],
 "metadata": {
  "colab": {
   "collapsed_sections": [],
   "name": "TP 1 : Langage Python.ipynb",
   "provenance": []
  },
  "kernelspec": {
   "display_name": "Python 3",
   "language": "python",
   "name": "python3"
  },
  "language_info": {
   "codemirror_mode": {
    "name": "ipython",
    "version": 3
   },
   "file_extension": ".py",
   "mimetype": "text/x-python",
   "name": "python",
   "nbconvert_exporter": "python",
   "pygments_lexer": "ipython3",
   "version": "3.8.5"
  }
 },
 "nbformat": 4,
 "nbformat_minor": 1
}
