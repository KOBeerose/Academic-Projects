{
  "cells": [
    {
      "cell_type": "markdown",
      "metadata": {},
      "source": [
        "## This notebook was made by Taha ELGHABI and Badr-eddine ELBATOURI"
      ]
    },
    {
      "cell_type": "markdown",
      "metadata": {
        "id": "maRdC07WZTbE"
      },
      "source": [
        "# Programming Exercise 1: Linear Regression\n",
        "\n",
        "## Introduction\n",
        "\n",
        "In this exercise, you will implement linear regression and get to see it work on data. Before starting on this programming exercise, we strongly recommend watching the video lectures and completing the review questions for the associated topics.\n",
        "\n",
        "All the information you need for solving this assignment is in this notebook, and all the code you will be implementing will take place within this notebook.\n",
        "\n",
        "Before we begin with the exercises, we need to import all libraries required for this programming exercise. Throughout the course, we will be using [`numpy`](http://www.numpy.org/) for all arrays and matrix operations, and [`matplotlib`](https://matplotlib.org/) for plotting."
      ]
    },
    {
      "cell_type": "code",
      "execution_count": 1,
      "metadata": {
        "id": "O2_lV9I1ZTbL"
      },
      "outputs": [],
      "source": [
        "# used for manipulating directory paths\n",
        "import os\n",
        "\n",
        "# Scientific and vector computation for python\n",
        "import numpy as np\n",
        "\n",
        "# Plotting library\n",
        "from matplotlib import pyplot as plt\n",
        "from mpl_toolkits.mplot3d import Axes3D  # needed to plot 3-D surfaces\n",
        "\n",
        "# tells matplotlib to embed plots within the notebook\n",
        "%matplotlib inline"
      ]
    },
    {
      "cell_type": "markdown",
      "metadata": {
        "id": "jYWa2vjwZTbN"
      },
      "source": [
        "## Debugging\n",
        "\n",
        "Here are some things to keep in mind throughout this exercise:\n",
        "\n",
        "- Python array indices start from zero, not one (contrary to OCTAVE/MATLAB). \n",
        "\n",
        "- There is an important distinction between python arrays (called `list` or `tuple`) and `numpy` arrays. You should use `numpy` arrays in all your computations. Vector/matrix operations work only with `numpy` arrays. Python lists do not support vector operations (you need to use for loops).\n",
        "\n",
        "- If you are seeing many errors at runtime, inspect your matrix operations to make sure that you are adding and multiplying matrices of compatible dimensions. Printing the dimensions of `numpy` arrays using the `shape` property will help you debug.\n",
        "\n",
        "- By default, `numpy` interprets math operators to be element-wise operators. If you want to do matrix multiplication, you need to use the `dot` function in `numpy`. For, example if `A` and `B` are two `numpy` matrices, then the matrix operation AB is `np.dot(A, B)`. Note that for 2-dimensional matrices or vectors (1-dimensional), this is also equivalent to `A@B` (requires python >= 3.5)."
      ]
    },
    {
      "cell_type": "markdown",
      "metadata": {
        "id": "DREu1_3yZTbO"
      },
      "source": [
        "<a id=\"section1\"></a>\n",
        "## 1 Simple python and `numpy` function\n",
        "\n",
        "The first part of this assignment gives you practice with python and `numpy` syntax. In the next cell, you will find the outline of a `python` function. Modify it to return a 5 x 5 identity matrix by filling in the following code:\n",
        "\n",
        "```python\n",
        "A = np.eye(5)\n",
        "```\n",
        "<a id=\"warmUpExercise\"></a>"
      ]
    },
    {
      "cell_type": "code",
      "execution_count": 2,
      "metadata": {
        "id": "BrYoDVfeZTbP"
      },
      "outputs": [],
      "source": [
        "def warmUpExercise():\n",
        "    \"\"\"\n",
        "    Example function in Python which computes the identity matrix.\n",
        "    \n",
        "    Returns\n",
        "    -------\n",
        "    A : array_like\n",
        "        The 5x5 identity matrix.\n",
        "    \n",
        "    Instructions\n",
        "    ------------\n",
        "    Return the 5x5 identity matrix.\n",
        "    \"\"\"    \n",
        "    # ======== YOUR CODE HERE ======\n",
        "    A =  np.identity(5)   # modify this line\n",
        "    \n",
        "    # ==============================\n",
        "    return A"
      ]
    },
    {
      "cell_type": "markdown",
      "metadata": {
        "id": "mzJRKgsQZTbQ"
      },
      "source": [
        "The previous cell only defines the function `warmUpExercise`. We can now run it by executing the following cell to see its output. You should see output similar to the following:\n",
        "\n",
        "```python\n",
        "array([[ 1.,  0.,  0.,  0.,  0.],\n",
        "       [ 0.,  1.,  0.,  0.,  0.],\n",
        "       [ 0.,  0.,  1.,  0.,  0.],\n",
        "       [ 0.,  0.,  0.,  1.,  0.],\n",
        "       [ 0.,  0.,  0.,  0.,  1.]])\n",
        "```"
      ]
    },
    {
      "cell_type": "code",
      "execution_count": 3,
      "metadata": {
        "colab": {
          "base_uri": "https://localhost:8080/"
        },
        "id": "P_uZ2lydZTbR",
        "outputId": "25f0240d-aadd-4d12-8b4b-5642089aeefb"
      },
      "outputs": [
        {
          "data": {
            "text/plain": [
              "array([[1., 0., 0., 0., 0.],\n",
              "       [0., 1., 0., 0., 0.],\n",
              "       [0., 0., 1., 0., 0.],\n",
              "       [0., 0., 0., 1., 0.],\n",
              "       [0., 0., 0., 0., 1.]])"
            ]
          },
          "execution_count": 3,
          "metadata": {},
          "output_type": "execute_result"
        }
      ],
      "source": [
        "warmUpExercise()"
      ]
    },
    {
      "cell_type": "markdown",
      "metadata": {
        "id": "TPPdvWkkZTbS"
      },
      "source": [
        "## 2 Linear regression with one variable\n",
        "\n",
        "Now you will implement linear regression with one variable to predict profits for a food truck. Suppose you are the CEO of a restaurant franchise and are considering different cities for opening a new outlet. The chain already has trucks in various cities and you have data for profits and populations from the cities. You would like to use this data to help you select which city to expand to next. \n",
        "\n",
        "The file `Data/ex1data1.txt` contains the dataset for our linear regression problem. The first column is the population of a city (in 10,000s) and the second column is the profit of a food truck in that city (in $10,000s). A negative value for profit indicates a loss. \n",
        "\n",
        "We provide you with the code needed to load this data. The dataset is loaded from the data file into the variables `x` and `y`:"
      ]
    },
    {
      "cell_type": "code",
      "execution_count": 4,
      "metadata": {
        "id": "GQ7Pdu9oZTbT"
      },
      "outputs": [],
      "source": [
        "# Read comma separated data\n",
        "data = np.loadtxt(os.path.join('sample_data', 'ex1data1.txt'), delimiter=',')\n",
        "X, y = data[:, 0], data[:, 1]\n",
        "\n",
        "m = y.size  # number of training examples"
      ]
    },
    {
      "cell_type": "code",
      "execution_count": 5,
      "metadata": {
        "colab": {
          "base_uri": "https://localhost:8080/"
        },
        "id": "FYFU9dKWZTbT",
        "outputId": "5730e2bc-3ac7-42fc-f017-9d5e604a9263"
      },
      "outputs": [
        {
          "data": {
            "text/plain": [
              "(97,)"
            ]
          },
          "execution_count": 5,
          "metadata": {},
          "output_type": "execute_result"
        }
      ],
      "source": [
        "y.shape"
      ]
    },
    {
      "cell_type": "markdown",
      "metadata": {
        "id": "70zrkNLEZTbV"
      },
      "source": [
        "### 2.1 Plotting the Data\n",
        "\n",
        "Before starting on any task, it is often useful to understand the data by visualizing it. For this dataset, you can use a scatter plot to visualize the data, since it has only two properties to plot (profit and population). Many other problems that you will encounter in real life are multi-dimensional and cannot be plotted on a 2-d plot. There are many plotting libraries in python (see this [blog post](https://blog.modeanalytics.com/python-data-visualization-libraries/) for a good summary of the most popular ones). \n",
        "\n",
        "In this course, we will be exclusively using `matplotlib` to do all our plotting. `matplotlib` is one of the most popular scientific plotting libraries in python and has extensive tools and functions to make beautiful plots. `pyplot` is a module within `matplotlib` which provides a simplified interface to `matplotlib`'s most common plotting tasks, mimicking MATLAB's plotting interface.\n",
        "\n",
        "In the following part, your first job is to complete the `plotData` function below. Modify the function and fill in the following code:\n",
        "\n",
        "```python\n",
        "    plt.plot(x, y, 'ro', ms=10, mec='k')\n",
        "    plt.ylabel('Profit in $10,000')\n",
        "    plt.xlabel('Population of City in 10,000s')\n",
        "```"
      ]
    },
    {
      "cell_type": "code",
      "execution_count": 6,
      "metadata": {
        "id": "Qpn9MpW-ZTbV"
      },
      "outputs": [],
      "source": [
        "def plotData(x, y):\n",
        "    \"\"\"\n",
        "    Plots the data points x and y into a new figure. Plots the data \n",
        "    points and gives the figure axes labels of population and profit.\n",
        "    \n",
        "    Parameters\n",
        "    ----------\n",
        "    x : array_like\n",
        "        Data point values for x-axis.\n",
        "\n",
        "    y : array_like\n",
        "        Data point values for y-axis. Note x and y should have the same size.\n",
        "    \n",
        "    Instructions\n",
        "    ------------\n",
        "    Plot the training data into a figure using the \"figure\" and \"plot\"\n",
        "    functions. Set the axes labels using the \"xlabel\" and \"ylabel\" functions.\n",
        "    Assume the population and revenue data have been passed in as the x\n",
        "    and y arguments of this function.    \n",
        "    \n",
        "    Hint\n",
        "    ----\n",
        "    You can use the 'ro' option with plot to have the markers\n",
        "    appear as red circles. Furthermore, you can make the markers larger by\n",
        "    using plot(..., 'ro', ms=10), where `ms` refers to marker size. You \n",
        "    can also set the marker edge color using the `mec` property.\n",
        "    \"\"\"\n",
        "    fig = plt.figure()  # open a new figure\n",
        "    \n",
        "    # ====================== YOUR CODE HERE ======================= \n",
        "    \n",
        "    plt.plot(x,y,'ro',ms = 10,mec = 'K')\n",
        "    plt.xlabel('Popluation of City in 10,000s')\n",
        "    plt.ylabel('Profit in $10,000')\n",
        "\n",
        "    # =============================================================\n"
      ]
    },
    {
      "cell_type": "markdown",
      "metadata": {
        "id": "xl9CKa0fZTbW"
      },
      "source": [
        "Now run the defined function with the loaded data to visualize the data. The end result should look like the following figure:\n",
        "\n",
        "![](Figures/dataset1.png)\n",
        "\n",
        "Execute the next cell to visualize the data."
      ]
    },
    {
      "cell_type": "code",
      "execution_count": 7,
      "metadata": {
        "colab": {
          "base_uri": "https://localhost:8080/",
          "height": 335
        },
        "id": "PfBF7eiyZTbW",
        "outputId": "3868be2d-3bd9-4f08-c4e7-cca9e9aad702"
      },
      "outputs": [
        {
          "name": "stderr",
          "output_type": "stream",
          "text": [
            "/usr/local/lib/python3.7/dist-packages/google/colab/_event_manager.py:28: MatplotlibDeprecationWarning: Support for uppercase single-letter colors is deprecated since Matplotlib 3.1 and will be removed in 3.3; please use lowercase instead.\n",
            "  func(*args, **kwargs)\n"
          ]
        },
        {
          "data": {
            "image/png": "[encoded data removed]",
            "text/plain": [
              "<Figure size 432x288 with 1 Axes>"
            ]
          },
          "metadata": {
            "needs_background": "light"
          },
          "output_type": "display_data"
        }
      ],
      "source": [
        "plotData(X, y)"
      ]
    },
    {
      "cell_type": "markdown",
      "metadata": {
        "id": "AckCC7dIZTbX"
      },
      "source": [
        "To quickly learn more about the `matplotlib` plot function and what arguments you can provide to it, you can type `?pyplot.plot` in a cell within the jupyter notebook. This opens a separate page showing the documentation for the requested function. You can also search online for plotting documentation. \n",
        "\n",
        "To set the markers to red circles, we used the option `'or'` within the `plot` function."
      ]
    },
    {
      "cell_type": "code",
      "execution_count": 8,
      "metadata": {
        "id": "NHOrjLvaZTbX"
      },
      "outputs": [],
      "source": [
        "?plt.plot"
      ]
    },
    {
      "cell_type": "markdown",
      "metadata": {
        "id": "8VKqqG8sZTbY"
      },
      "source": [
        "<a id=\"section2\"></a>\n",
        "### 2.2 Gradient Descent\n",
        "\n",
        "In this part, you will fit the linear regression parameters $\\theta$ to our dataset using gradient descent.\n",
        "\n",
        "#### 2.2.1 Update Equations\n",
        "\n",
        "The objective of linear regression is to minimize the cost function\n",
        "\n",
        "$$ J(\\theta) = \\frac{1}{2m} \\sum_{i=1}^m \\left( h_{\\theta}(x^{(i)}) - y^{(i)}\\right)^2$$\n",
        "\n",
        "where the hypothesis $h_\\theta(x)$ is given by the linear model\n",
        "$$ h_\\theta(x) = \\theta^Tx = \\theta_0 + \\theta_1 x_1$$\n",
        "\n",
        "Recall that the parameters of your model are the $\\theta_j$ values. These are\n",
        "the values you will adjust to minimize cost $J(\\theta)$. One way to do this is to\n",
        "use the batch gradient descent algorithm. In batch gradient descent, each\n",
        "iteration performs the update\n",
        "\n",
        "$$ \\theta_j = \\theta_j - \\alpha \\frac{1}{m} \\sum_{i=1}^m \\left( h_\\theta(x^{(i)}) - y^{(i)}\\right)x_j^{(i)} \\qquad \\text{simultaneously update } \\theta_j \\text{ for all } j$$\n",
        "\n",
        "With each step of gradient descent, your parameters $\\theta_j$ come closer to the optimal values that will achieve the lowest cost J($\\theta$).\n",
        "\n",
        "<div class=\"alert alert-block alert-warning\">\n",
        "**Implementation Note:** We store each example as a row in the the $X$ matrix in Python `numpy`. To take into account the intercept term ($\\theta_0$), we add an additional first column to $X$ and set it to all ones. This allows us to treat $\\theta_0$ as simply another 'feature'.\n",
        "</div>\n",
        "\n",
        "\n",
        "#### 2.2.2 Implementation\n",
        "\n",
        "We have already set up the data for linear regression. In the following cell, we add another dimension to our data to accommodate the $\\theta_0$ intercept term. Do NOT execute this cell more than once."
      ]
    },
    {
      "cell_type": "code",
      "execution_count": 9,
      "metadata": {
        "id": "kTg2RDnaZTbY"
      },
      "outputs": [],
      "source": [
        "# Add a column of ones to X. The numpy function stack joins arrays along a given axis. \n",
        "# The first axis (axis=0) refers to rows (training examples) \n",
        "# and second axis (axis=1) refers to columns (features).\n",
        "X = np.stack([np.ones(m), X], axis=1)"
      ]
    },
    {
      "cell_type": "markdown",
      "metadata": {
        "id": "75lAUMgcZTbY"
      },
      "source": [
        "<a id=\"section2\"></a>\n",
        "#### 2.2.3 Computing the cost $J(\\theta)$\n",
        "\n",
        "As you perform gradient descent to learn minimize the cost function $J(\\theta)$, it is helpful to monitor the convergence by computing the cost. In this section, you will implement a function to calculate $J(\\theta)$ so you can check the convergence of your gradient descent implementation. \n",
        "\n",
        "Your next task is to complete the code for the function `computeCost` which computes $J(\\theta)$. As you are doing this, remember that the variables $X$ and $y$ are not scalar values. $X$ is a matrix whose rows represent the examples from the training set and $y$ is a vector whose each elemennt represent the value at a given row of $X$.\n",
        "<a id=\"computeCost\"></a>"
      ]
    },
    {
      "cell_type": "code",
      "execution_count": 10,
      "metadata": {
        "id": "jKK3Ixp5ZTbZ"
      },
      "outputs": [],
      "source": [
        "def computeCost(X, y, theta):\n",
        "    \"\"\"\n",
        "    Compute cost for linear regression. Computes the cost of using theta as the\n",
        "    parameter for linear regression to fit the data points in X and y.\n",
        "    \n",
        "    Parameters\n",
        "    ----------\n",
        "    X : array_like\n",
        "        The input dataset of shape (m x n+1), where m is the number of examples,\n",
        "        and n is the number of features. We assume a vector of one's already \n",
        "        appended to the features so we have n+1 columns.\n",
        "    \n",
        "    y : array_like\n",
        "        The values of the function at each data point. This is a vector of\n",
        "        shape (m, ).\n",
        "    \n",
        "    theta : array_like\n",
        "        The parameters for the regression function. This is a vector of \n",
        "        shape (n+1, ).\n",
        "    \n",
        "    Returns\n",
        "    -------\n",
        "    J : float\n",
        "        The value of the regression cost function.\n",
        "    \n",
        "    Instructions\n",
        "    ------------\n",
        "    Compute the cost of a particular choice of theta. \n",
        "    You should set J to the cost.\n",
        "    \"\"\"\n",
        "    \n",
        "    # initialize some useful values\n",
        "    m = y.size  # number of training examples\n",
        "    \n",
        "    # You need to return the following variables correctly\n",
        "    J = 0\n",
        "    \n",
        "    # ====================== YOUR CODE HERE =====================\n",
        "\n",
        "    h = np.dot(X,theta)\n",
        "    J = (1/(2 * m))*(np.sum(np.square((h)-y)))\n",
        "    \n",
        "    # ===========================================================\n",
        "    return J"
      ]
    },
    {
      "cell_type": "markdown",
      "metadata": {
        "id": "FmNGcJu8ZTbZ"
      },
      "source": [
        "Once you have completed the function, the next step will run `computeCost` two times using two different initializations of $\\theta$. You will see the cost printed to the screen."
      ]
    },
    {
      "cell_type": "code",
      "execution_count": 11,
      "metadata": {
        "colab": {
          "base_uri": "https://localhost:8080/"
        },
        "id": "f9fGhblcZTba",
        "outputId": "be14329c-635c-4038-b4c8-b7610fe70ded"
      },
      "outputs": [
        {
          "name": "stdout",
          "output_type": "stream",
          "text": [
            "With theta = [0, 0] \n",
            "Cost computed = 32.07\n",
            "Expected cost value (approximately) 32.07\n",
            "\n",
            "With theta = [-1, 2]\n",
            "Cost computed = 54.24\n",
            "Expected cost value (approximately) 54.24\n"
          ]
        }
      ],
      "source": [
        "J = computeCost(X, y, theta=np.array([0.0, 0.0]))\n",
        "print('With theta = [0, 0] \\nCost computed = %.2f' % J)\n",
        "print('Expected cost value (approximately) 32.07\\n')\n",
        "\n",
        "# further testing of the cost function\n",
        "J = computeCost(X, y, theta=np.array([-1, 2]))\n",
        "print('With theta = [-1, 2]\\nCost computed = %.2f' % J)\n",
        "print('Expected cost value (approximately) 54.24')"
      ]
    },
    {
      "cell_type": "markdown",
      "metadata": {
        "id": "dg9YqcFHZTba"
      },
      "source": [
        "<a id=\"section3\"></a>\n",
        "#### 2.2.4 Gradient descent\n",
        "\n",
        "Next, you will complete a function which implements gradient descent.\n",
        "The loop structure has been written for you, and you only need to supply the updates to $\\theta$ within each iteration. \n",
        "\n",
        "As you program, make sure you understand what you are trying to optimize and what is being updated. Keep in mind that the cost $J(\\theta)$ is parameterized by the vector $\\theta$, not $X$ and $y$. That is, we minimize the value of $J(\\theta)$ by changing the values of the vector $\\theta$, not by changing $X$ or $y$. [Refer to the equations in this notebook](#section2) and to the video lectures if you are uncertain. A good way to verify that gradient descent is working correctly is to look at the value of $J(\\theta)$ and check that it is decreasing with each step. \n",
        "\n",
        "The starter code for the function `gradientDescent` calls `computeCost` on every iteration and saves the cost to a `python` list. Assuming you have implemented gradient descent and `computeCost` correctly, your value of $J(\\theta)$ should never increase, and should converge to a steady value by the end of the algorithm.\n",
        "\n",
        "<div class=\"alert alert-box alert-warning\">\n",
        "**Vectors and matrices in `numpy`** - Important implementation notes\n",
        "\n",
        "A vector in `numpy` is a one dimensional array, for example `np.array([1, 2, 3])` is a vector. A matrix in `numpy` is a two dimensional array, for example `np.array([[1, 2, 3], [4, 5, 6]])`. However, the following is still considered a matrix `np.array([[1, 2, 3]])` since it has two dimensions, even if it has a shape of 1x3 (which looks like a vector).\n",
        "\n",
        "Given the above, the function `np.dot` which we will use for all matrix/vector multiplication has the following properties:\n",
        "- It always performs inner products on vectors. If `x=np.array([1, 2, 3])`, then `np.dot(x, x)` is a scalar.\n",
        "- For matrix-vector multiplication, so if $X$ is a $m\\times n$ matrix and $y$ is a vector of length $m$, then the operation `np.dot(y, X)` considers $y$ as a $1 \\times m$ vector. On the other hand, if $y$ is a vector of length $n$, then the operation `np.dot(X, y)` considers $y$ as a $n \\times 1$ vector.\n",
        "- A vector can be promoted to a matrix using `y[None]` or `[y[np.newaxis]`. That is, if `y = np.array([1, 2, 3])` is a vector of size 3, then `y[None, :]` is a matrix of shape $1 \\times 3$. We can use `y[:, None]` to obtain a shape of $3 \\times 1$.\n",
        "<div>\n",
        "<a id=\"gradientDescent\"></a>"
      ]
    },
    {
      "cell_type": "code",
      "execution_count": 12,
      "metadata": {
        "id": "wQOBkzanZTba"
      },
      "outputs": [],
      "source": [
        "def gradientDescent(X, y, theta, alpha, num_iters):\n",
        "    \"\"\"\n",
        "    Performs gradient descent to learn `theta`. Updates theta by taking `num_iters`\n",
        "    gradient steps with learning rate `alpha`.\n",
        "    \n",
        "    Parameters\n",
        "    ----------\n",
        "    X : array_like\n",
        "        The input dataset of shape (m x n+1).\n",
        "    \n",
        "    y : array_like\n",
        "        Value at given features. A vector of shape (m, ).\n",
        "    \n",
        "    theta : array_like\n",
        "        Initial values for the linear regression parameters. \n",
        "        A vector of shape (n+1, ).\n",
        "    \n",
        "    alpha : float\n",
        "        The learning rate.\n",
        "    \n",
        "    num_iters : int\n",
        "        The number of iterations for gradient descent. \n",
        "    \n",
        "    Returns\n",
        "    -------\n",
        "    theta : array_like\n",
        "        The learned linear regression parameters. A vector of shape (n+1, ).\n",
        "    \n",
        "    J_history : list\n",
        "        A python list for the values of the cost function after each iteration.\n",
        "    \n",
        "    Instructions\n",
        "    ------------\n",
        "    Peform a single gradient step on the parameter vector theta.\n",
        "\n",
        "    While debugging, it can be useful to print out the values of \n",
        "    the cost function (computeCost) and gradient here.\n",
        "    \"\"\"\n",
        "    # Initialize some useful values\n",
        "    m = y.shape[0]  # number of training examples\n",
        "    \n",
        "    # make a copy of theta, to avoid changing the original array, since numpy arrays\n",
        "    # are passed by reference to functions\n",
        "    theta = theta.copy()\n",
        "    \n",
        "    J_history = [] # Use a python list to save cost in every iteration\n",
        "    h = np.dot(X,theta)\n",
        "    \n",
        "    for i in range(num_iters):\n",
        "        # ==================== YOUR CODE HERE =================================\n",
        "        \n",
        "        theta -= (alpha/m)*(np.sum((h-y)*i))\n",
        "\n",
        "        # =====================================================================\n",
        "        \n",
        "        # save the cost J in every iteration\n",
        "        J_history.append(computeCost(X, y, theta))\n",
        "    \n",
        "    return theta, J_history"
      ]
    },
    {
      "cell_type": "markdown",
      "metadata": {
        "id": "8mMlQIxPZTbb"
      },
      "source": [
        "After you are finished call the implemented `gradientDescent` function and print the computed $\\theta$. We initialize the $\\theta$ parameters to 0 and the learning rate $\\alpha$ to 0.01. Execute the following cell to check your code."
      ]
    },
    {
      "cell_type": "code",
      "execution_count": 13,
      "metadata": {
        "colab": {
          "base_uri": "https://localhost:8080/"
        },
        "id": "5kZfza3KZTbb",
        "outputId": "be8211a4-e66b-41d2-faaa-56039e3c96a3"
      },
      "outputs": [
        {
          "name": "stdout",
          "output_type": "stream",
          "text": [
            "Theta found by gradient descent: 65646.4758, 65646.4758\n",
            "Expected theta values (approximately): [-3.6303, 1.1664]\n"
          ]
        }
      ],
      "source": [
        "# initialize fitting parameters\n",
        "theta = np.zeros(2)\n",
        "\n",
        "# some gradient descent settings\n",
        "iterations = 1500\n",
        "alpha = 0.01\n",
        "\n",
        "theta, J_history = gradientDescent(X ,y, theta, alpha, iterations)\n",
        "print('Theta found by gradient descent: {:.4f}, {:.4f}'.format(*theta))\n",
        "print('Expected theta values (approximately): [-3.6303, 1.1664]')"
      ]
    },
    {
      "cell_type": "markdown",
      "metadata": {
        "id": "AjYuEz8QZTbb"
      },
      "source": [
        "We will use your final parameters to plot the linear fit. The results should look like the following figure.\n",
        "\n",
        "![](Figures/regression_result.png)"
      ]
    },
    {
      "cell_type": "code",
      "execution_count": 14,
      "metadata": {
        "colab": {
          "base_uri": "https://localhost:8080/",
          "height": 290
        },
        "id": "CNRehmV_ZTbc",
        "outputId": "092cd20c-ef9d-44c8-c9a0-2c268fbc28ad"
      },
      "outputs": [
        {
          "data": {
            "image/png": "[encoded data removed]",
            "text/plain": [
              "<Figure size 432x288 with 1 Axes>"
            ]
          },
          "metadata": {
            "needs_background": "light"
          },
          "output_type": "display_data"
        }
      ],
      "source": [
        "# plot the linear fit\n",
        "plotData(X[:, 1], y)\n",
        "plt.plot(X[:, 1], np.dot(X, theta), '-')\n",
        "plt.legend(['Training data', 'Linear regression']);"
      ]
    },
    {
      "cell_type": "markdown",
      "metadata": {
        "id": "_pRjQ-IFZTbc"
      },
      "source": [
        "Your final values for $\\theta$ will also be used to make predictions on profits in areas of 35,000 and 70,000 people.\n",
        "\n",
        "<div class=\"alert alert-block alert-success\">\n",
        "Note the way that the following lines use matrix multiplication, rather than explicit summation or looping, to calculate the predictions. This is an example of code vectorization in `numpy`.\n",
        "</div>\n",
        "\n",
        "<div class=\"alert alert-block alert-success\">\n",
        "Note that the first argument to the `numpy` function `dot` is a python list. `numpy` can internally converts **valid** python lists to numpy arrays when explicitly provided as arguments to `numpy` functions.\n",
        "</div>\n"
      ]
    },
    {
      "cell_type": "code",
      "execution_count": 15,
      "metadata": {
        "colab": {
          "base_uri": "https://localhost:8080/"
        },
        "id": "ju-4Pix0ZTbc",
        "outputId": "e16ad213-b412-4275-f321-3d4d49142543"
      },
      "outputs": [
        {
          "name": "stdout",
          "output_type": "stream",
          "text": [
            "For population = 35,000, we predict a profit of 2954091411.77\n",
            "\n",
            "For population = 70,000, we predict a profit of 5251718065.36\n",
            "\n"
          ]
        }
      ],
      "source": [
        "# Predict values for population sizes of 35,000 and 70,000\n",
        "predict1 = np.dot([1, 3.5], theta)\n",
        "print('For population = 35,000, we predict a profit of {:.2f}\\n'.format(predict1*10000))\n",
        "\n",
        "predict2 = np.dot([1, 7], theta)\n",
        "print('For population = 70,000, we predict a profit of {:.2f}\\n'.format(predict2*10000))"
      ]
    },
    {
      "cell_type": "markdown",
      "metadata": {
        "id": "BBTkc2SpZTbc"
      },
      "source": [
        "### 2.4 Visualizing $J(\\theta)$\n",
        "\n",
        "To understand the cost function $J(\\theta)$ better, you will now plot the cost over a 2-dimensional grid of $\\theta_0$ and $\\theta_1$ values. You will not need to code anything new for this part, but you should understand how the code you have written already is creating these images.\n",
        "\n",
        "In the next cell, the code is set up to calculate $J(\\theta)$ over a grid of values using the `computeCost` function that you wrote. After executing the following cell, you will have a 2-D array of $J(\\theta)$ values. Then, those values are used to produce surface and contour plots of $J(\\theta)$ using the matplotlib `plot_surface` and `contourf` functions. The plots should look something like the following:\n",
        "\n",
        "![](Figures/cost_function.png)\n",
        "\n",
        "The purpose of these graphs is to show you how $J(\\theta)$ varies with changes in $\\theta_0$ and $\\theta_1$. The cost function $J(\\theta)$ is bowl-shaped and has a global minimum. (This is easier to see in the contour plot than in the 3D surface plot). This minimum is the optimal point for $\\theta_0$ and $\\theta_1$, and each step of gradient descent moves closer to this point."
      ]
    },
    {
      "cell_type": "code",
      "execution_count": 16,
      "metadata": {
        "colab": {
          "base_uri": "https://localhost:8080/",
          "height": 350
        },
        "id": "mGF3q5seZTbd",
        "outputId": "076169ea-fc7f-4b0d-a1dd-0643e6d3944c"
      },
      "outputs": [
        {
          "data": {
            "image/png": "[encoded data removed]",
            "text/plain": [
              "<Figure size 864x360 with 2 Axes>"
            ]
          },
          "metadata": {
            "needs_background": "light"
          },
          "output_type": "display_data"
        }
      ],
      "source": [
        "# grid over which we will calculate J\n",
        "theta0_vals = np.linspace(-10, 10, 100)\n",
        "theta1_vals = np.linspace(-1, 4, 100)\n",
        "\n",
        "# initialize J_vals to a matrix of 0's\n",
        "J_vals = np.zeros((theta0_vals.shape[0], theta1_vals.shape[0]))\n",
        "\n",
        "# Fill out J_vals\n",
        "for i, theta0 in enumerate(theta0_vals):\n",
        "    for j, theta1 in enumerate(theta1_vals):\n",
        "        J_vals[i, j] = computeCost(X, y, [theta0, theta1])\n",
        "        \n",
        "# Because of the way meshgrids work in the surf command, we need to\n",
        "# transpose J_vals before calling surf, or else the axes will be flipped\n",
        "J_vals = J_vals.T\n",
        "\n",
        "# surface plot\n",
        "fig = plt.figure(figsize=(12, 5))\n",
        "ax = fig.add_subplot(121, projection='3d')\n",
        "ax.plot_surface(theta0_vals, theta1_vals, J_vals, cmap='viridis')\n",
        "plt.xlabel('theta0')\n",
        "plt.ylabel('theta1')\n",
        "plt.title('Surface')\n",
        "\n",
        "# contour plot\n",
        "# Plot J_vals as 15 contours spaced logarithmically between 0.01 and 100\n",
        "ax = plt.subplot(122)\n",
        "plt.contour(theta0_vals, theta1_vals, J_vals, linewidths=2, cmap='viridis', levels=np.logspace(-2, 3, 20))\n",
        "plt.xlabel('theta0')\n",
        "plt.ylabel('theta1')\n",
        "plt.plot(theta[0], theta[1], 'ro', ms=10, lw=2)\n",
        "plt.title('Contour, showing minimum')\n",
        "pass"
      ]
    },
    {
      "cell_type": "markdown",
      "metadata": {
        "id": "AnfBVn0tZTbd"
      },
      "source": [
        "If you have successfully completed the material above, congratulations! You now understand linear regression and should able to start using it on your own datasets.\n",
        "\n",
        "For the rest of this programming exercise, we have included the following optional exercises. These exercises will help you gain a deeper understanding of the material, and if you are able to do so, we encourage you to complete them as well.\n",
        "\n",
        "## 3 Linear regression with multiple variables\n",
        "\n",
        "In this part, you will implement linear regression with multiple variables to predict the prices of houses. Suppose you are selling your house and you want to know what a good market price would be. One way to do this is to first collect information on recent houses sold and make a model of housing prices.\n",
        "\n",
        "The file `Data/ex1data2.txt` contains a training set of housing prices in Portland, Oregon. The first column is the size of the house (in square feet), the second column is the number of bedrooms, and the third column is the price\n",
        "of the house. \n",
        "\n",
        "<a id=\"section4\"></a>\n",
        "### 3.1 Feature Normalization\n",
        "\n",
        "We start by loading and displaying some values from this dataset. By looking at the values, note that house sizes are about 1000 times the number of bedrooms. When features differ by orders of magnitude, first performing feature scaling can make gradient descent converge much more quickly."
      ]
    },
    {
      "cell_type": "code",
      "execution_count": 17,
      "metadata": {
        "colab": {
          "base_uri": "https://localhost:8080/"
        },
        "id": "Rr3zoszCZTbd",
        "outputId": "502b7cf4-0d47-4e83-9a08-1d2e8ea365e5"
      },
      "outputs": [
        {
          "name": "stdout",
          "output_type": "stream",
          "text": [
            "  X[:,0] X[:, 1]         y\n",
            "--------------------------\n",
            "[[2.10400e+03 1.60000e+03 2.40000e+03 1.41600e+03 3.00000e+03 1.98500e+03\n",
            "  1.53400e+03 1.42700e+03 1.38000e+03 1.49400e+03]\n",
            " [3.00000e+00 3.00000e+00 3.00000e+00 2.00000e+00 4.00000e+00 4.00000e+00\n",
            "  3.00000e+00 3.00000e+00 3.00000e+00 3.00000e+00]\n",
            " [3.99900e+05 3.29900e+05 3.69000e+05 2.32000e+05 5.39900e+05 2.99900e+05\n",
            "  3.14900e+05 1.98999e+05 2.12000e+05 2.42500e+05]]\n"
          ]
        }
      ],
      "source": [
        "# Load data\n",
        "data = np.loadtxt(os.path.join('sample_data', 'ex1data2.txt'), delimiter=',')\n",
        "X = np.reshape(data[:, 0:2], (data.shape[0], 2))\n",
        "y = np.reshape(data[:, 2], (data.shape[0], 1))\n",
        "m = y.size\n",
        "\n",
        "# print out some data points\n",
        "print('{:>8s}{:>8s}{:>10s}'.format('X[:,0]', 'X[:, 1]', 'y'))\n",
        "print('-'*26)\n",
        "print(np.c_[X[0:10, :], y[0:10, :]].T)"
      ]
    },
    {
      "cell_type": "markdown",
      "metadata": {
        "id": "MNRTagl_ZTbd"
      },
      "source": [
        "Your task here is to complete the code in `featureNormalize` function:\n",
        "- Subtract the mean value of each feature from the dataset.\n",
        "- After subtracting the mean, additionally scale (divide) the feature values by their respective “standard deviations.”\n",
        "\n",
        "The standard deviation is a way of measuring how much variation there is in the range of values of a particular feature (most data points will lie within ±2 standard deviations of the mean); this is an alternative to taking the range of values (max-min). In `numpy`, you can use the `std` function to compute the standard deviation. \n",
        "\n",
        "For example, the quantity `X[:, 0]` contains all the values of $x_1$ (house sizes) in the training set, so `np.std(X[:, 0])` computes the standard deviation of the house sizes.\n",
        "At the time that the function `featureNormalize` is called, the extra column of 1’s corresponding to $x_0 = 1$ has not yet been added to $X$. \n",
        "\n",
        "You will do this for all the features and your code should work with datasets of all sizes (any number of features / examples). Note that each column of the matrix $X$ corresponds to one feature.\n",
        "\n",
        "<div class=\"alert alert-block alert-warning\">\n",
        "**Implementation Note:** When normalizing the features, it is important\n",
        "to store the values used for normalization - the mean value and the standard deviation used for the computations. After learning the parameters\n",
        "from the model, we often want to predict the prices of houses we have not\n",
        "seen before. Given a new x value (living room area and number of bedrooms), we must first normalize x using the mean and standard deviation that we had previously computed from the training set.\n",
        "</div>\n",
        "<a id=\"featureNormalize\"></a>"
      ]
    },
    {
      "cell_type": "code",
      "execution_count": 18,
      "metadata": {
        "id": "hRJnZ2FPZTbe"
      },
      "outputs": [],
      "source": [
        "def  featureNormalize(X):\n",
        "    \"\"\"\n",
        "    Normalizes the features in X. returns a normalized version of X where\n",
        "    the mean value of each feature is 0 and the standard deviation\n",
        "    is 1. This is often a good preprocessing step to do when working with\n",
        "    learning algorithms.\n",
        "    \n",
        "    Parameters\n",
        "    ----------\n",
        "    X : array_like\n",
        "        The dataset of shape (m x n).\n",
        "    \n",
        "    Returns\n",
        "    -------\n",
        "    X_norm : array_like\n",
        "        The normalized dataset of shape (m x n).\n",
        "    \n",
        "    Instructions\n",
        "    ------------\n",
        "    First, for each feature dimension, compute the mean of the feature\n",
        "    and subtract it from the dataset, storing the mean value in mu. \n",
        "    Next, compute the  standard deviation of each feature and divide\n",
        "    each feature by it's standard deviation, storing the standard deviation \n",
        "    in sigma. \n",
        "    \n",
        "    Note that X is a matrix where each column is a feature and each row is\n",
        "    an example. You needto perform the normalization separately for each feature. \n",
        "    \n",
        "    Hint\n",
        "    ----\n",
        "    You might find the 'np.mean' and 'np.std' functions useful.\n",
        "    \"\"\"\n",
        "    # You need to set these values correctly\n",
        "    X_norm = X.copy()\n",
        "    mu = np.zeros(X.shape[1])\n",
        "    sigma = np.zeros(X.shape[1])\n",
        "\n",
        "    # =========================== YOUR CODE HERE =====================\n",
        "    \n",
        "    mu = np.mean(X,axis = 0)\n",
        "    sigma = np.std(X,axis = 0)\n",
        "    X_norm = (X - mu) / sigma\n",
        "    \n",
        "    # ================================================================\n",
        "    return X_norm, mu, sigma"
      ]
    },
    {
      "cell_type": "markdown",
      "metadata": {
        "id": "3VhEhm4LZTbe"
      },
      "source": [
        "Execute the next cell to run the implemented `featureNormalize` function."
      ]
    },
    {
      "cell_type": "code",
      "execution_count": 19,
      "metadata": {
        "colab": {
          "base_uri": "https://localhost:8080/"
        },
        "id": "zLQuLvcmZTbe",
        "outputId": "cf1541b8-b02b-4fa8-f8a6-a0d7f5f2e633"
      },
      "outputs": [
        {
          "name": "stdout",
          "output_type": "stream",
          "text": [
            "Computed mean: [2000.68085106    3.17021277]\n",
            "Computed standard deviation: [7.86202619e+02 7.52842809e-01]\n"
          ]
        }
      ],
      "source": [
        "# call featureNormalize on the loaded data\n",
        "X_norm, mu, sigma = featureNormalize(X)\n",
        "\n",
        "print('Computed mean:', mu)\n",
        "print('Computed standard deviation:', sigma)"
      ]
    },
    {
      "cell_type": "markdown",
      "metadata": {
        "id": "-OWEUipDZTbf"
      },
      "source": [
        "After the `featureNormalize` function is tested, we now add the intercept term to `X_norm`:"
      ]
    },
    {
      "cell_type": "code",
      "execution_count": 20,
      "metadata": {
        "id": "y40SGlEvZTbf"
      },
      "outputs": [],
      "source": [
        "# Add intercept term to X\n",
        "X = np.concatenate([np.ones((m, 1)), X_norm], axis=1)"
      ]
    },
    {
      "cell_type": "markdown",
      "metadata": {
        "id": "7RImENBgZTbf"
      },
      "source": [
        "<a id=\"section5\"></a>\n",
        "### 3.2 Gradient Descent\n",
        "\n",
        "Previously, you implemented gradient descent on a univariate regression problem. The only difference now is that there is one more feature in the matrix $X$. The hypothesis function and the batch gradient descent update\n",
        "rule remain unchanged. \n",
        "\n",
        "You should complete the code for the functions `computeCostMulti` and `gradientDescentMulti` to implement the cost function and gradient descent for linear regression with multiple variables. If your code in the previous part (single variable) already supports multiple variables, you can use it here too.\n",
        "Make sure your code supports any number of features and is well-vectorized.\n",
        "You can use the `shape` property of `numpy` arrays to find out how many features are present in the dataset.\n",
        "\n",
        "<div class=\"alert alert-block alert-warning\">\n",
        "**Implementation Note:** In the multivariate case, the cost function can\n",
        "also be written in the following vectorized form:\n",
        "\n",
        "$$ J(\\theta) = \\frac{1}{2m}(X\\theta - \\vec{y})^T(X\\theta - \\vec{y}) $$\n",
        "\n",
        "where \n",
        "\n",
        "$$ X = \\begin{pmatrix}\n",
        "          - (x^{(1)})^T - \\\\\n",
        "          - (x^{(2)})^T - \\\\\n",
        "          \\vdots \\\\\n",
        "          - (x^{(m)})^T - \\\\ \\\\\n",
        "        \\end{pmatrix} \\qquad \\mathbf{y} = \\begin{bmatrix} y^{(1)} \\\\ y^{(2)} \\\\ \\vdots \\\\ y^{(m)} \\\\\\end{bmatrix}$$\n",
        "\n",
        "the vectorized version is efficient when you are working with numerical computing tools like `numpy`. If you are an expert with matrix operations, you can prove to yourself that the two forms are equivalent.\n",
        "</div>\n",
        "\n",
        "<a id=\"computeCostMulti\"></a>"
      ]
    },
    {
      "cell_type": "code",
      "execution_count": 21,
      "metadata": {
        "id": "N7gRj0xMZTbg"
      },
      "outputs": [],
      "source": [
        "def computeCostMulti(X, y, theta):\n",
        "    \"\"\"\n",
        "    Compute cost for linear regression with multiple variables.\n",
        "    Computes the cost of using theta as the parameter for linear regression to fit the data points in X and y.\n",
        "    \n",
        "    Parameters\n",
        "    ----------\n",
        "    X : array_like\n",
        "        The dataset of shape (m x n+1).\n",
        "    \n",
        "    y : array_like\n",
        "        A vector of shape (m, ) for the values at a given data point.\n",
        "    \n",
        "    theta : array_like\n",
        "        The linear regression parameters. A vector of shape (n+1, )\n",
        "    \n",
        "    Returns\n",
        "    -------\n",
        "    J : float\n",
        "        The value of the cost function. \n",
        "    \n",
        "    Instructions\n",
        "    ------------\n",
        "    Compute the cost of a particular choice of theta. You should set J to the cost.\n",
        "    \"\"\"\n",
        "    # Initialize some useful values\n",
        "    m = y.shape[0] # number of training examples\n",
        "    \n",
        "    # You need to return the following variable correctly\n",
        "    J = 0\n",
        "    \n",
        "    # ======================= YOUR CODE HERE ===========================\n",
        "    h = np.dot(X, theta)\n",
        "    sq_error = np.sum(np.square(h - y))\n",
        "    J = (sq_error) / (2 * m)\n",
        "    \n",
        "    # ==================================================================\n",
        "    return J"
      ]
    },
    {
      "cell_type": "markdown",
      "metadata": {
        "id": "jLXlOoB1ZTbg"
      },
      "source": [
        "<a id=\"gradientDescentMulti\"></a>"
      ]
    },
    {
      "cell_type": "code",
      "execution_count": 22,
      "metadata": {
        "id": "I1A1zroxZTbg"
      },
      "outputs": [],
      "source": [
        "def gradientDescentMulti(X, y, theta, alpha, num_iters):\n",
        "    \"\"\"\n",
        "    Performs gradient descent to learn theta.\n",
        "    Updates theta by taking num_iters gradient steps with learning rate alpha.\n",
        "        \n",
        "    Parameters\n",
        "    ----------\n",
        "    X : array_like\n",
        "        The dataset of shape (m x n+1).\n",
        "    \n",
        "    y : array_like\n",
        "        A vector of shape (m, ) for the values at a given data point.\n",
        "    \n",
        "    theta : array_like\n",
        "        The linear regression parameters. A vector of shape (n+1, )\n",
        "    \n",
        "    alpha : float\n",
        "        The learning rate for gradient descent. \n",
        "    \n",
        "    num_iters : int\n",
        "        The number of iterations to run gradient descent. \n",
        "    \n",
        "    Returns\n",
        "    -------\n",
        "    theta : array_like\n",
        "        The learned linear regression parameters. A vector of shape (n+1, ).\n",
        "    \n",
        "    J_history : list\n",
        "        A python list for the values of the cost function after each iteration.\n",
        "    \n",
        "    Instructions\n",
        "    ------------\n",
        "    Peform a single gradient step on the parameter vector theta.\n",
        "\n",
        "    While debugging, it can be useful to print out the values of \n",
        "    the cost function (computeCost) and gradient here.\n",
        "    \"\"\"\n",
        "    # Initialize some useful values\n",
        "    m = y.size # number of training examples\n",
        "    \n",
        "    # make a copy of theta, which will be updated by gradient descent\n",
        "    theta = theta.copy()\n",
        "    \n",
        "    J_history = []\n",
        "    \n",
        "    for i in range(num_iters):\n",
        "        # ======================= YOUR CODE HERE ==========================\n",
        "        h = np.dot(X, theta)\n",
        "        theta = theta - ((alpha / m) * (np.dot(X.T, (h - y))))\n",
        "\n",
        "        # =================================================================\n",
        "        \n",
        "        # save the cost J in every iteration\n",
        "        J_history.append(computeCostMulti(X, y, theta))\n",
        "    return theta, J_history"
      ]
    },
    {
      "cell_type": "markdown",
      "metadata": {
        "id": "sqMzaC2fZTbh"
      },
      "source": [
        "#### 3.2.1 Optional exercise: Selecting learning rates\n",
        "\n",
        "In this part of the exercise, you will get to try out different learning rates for the dataset and find a learning rate that converges quickly. You can change the learning rate by modifying the following code and changing the part of the code that sets the learning rate.\n",
        "\n",
        "Use your implementation of `gradientDescentMulti` function and run gradient descent for about 50 iterations at the chosen learning rate. The function should also return the history of $J(\\theta)$ values in a vector $J$.\n",
        "\n",
        "After the last iteration, plot the J values against the number of the iterations.\n",
        "\n",
        "If you picked a learning rate within a good range, your plot look similar as the following Figure. \n",
        "\n",
        "![](Figures/learning_rate.png)\n",
        "\n",
        "If your graph looks very different, especially if your value of $J(\\theta)$ increases or even blows up, adjust your learning rate and try again. We recommend trying values of the learning rate $\\alpha$ on a log-scale, at multiplicative steps of about 3 times the previous value (i.e., 0.3, 0.1, 0.03, 0.01 and so on). You may also want to adjust the number of iterations you are running if that will help you see the overall trend in the curve.\n",
        "\n",
        "<div class=\"alert alert-block alert-warning\">\n",
        "**Implementation Note:** If your learning rate is too large, $J(\\theta)$ can diverge and ‘blow up’, resulting in values which are too large for computer calculations. In these situations, `numpy` will tend to return\n",
        "NaNs. NaN stands for ‘not a number’ and is often caused by undefined operations that involve −∞ and +∞.\n",
        "</div>\n",
        "\n",
        "<div class=\"alert alert-block alert-warning\">\n",
        "**MATPLOTLIB tip:** To compare how different learning learning rates affect convergence, it is helpful to plot $J$ for several learning rates on the same figure. This can be done by making `alpha` a python list, and looping across the values within this list, and calling the plot function in every iteration of the loop. It is also useful to have a legend to distinguish the different lines within the plot. Search online for `pyplot.legend` for help on showing legends in `matplotlib`.\n",
        "</div>\n",
        "\n",
        "Notice the changes in the convergence curves as the learning rate changes. With a small learning rate, you should find that gradient descent takes a very long time to converge to the optimal value. Conversely, with a large learning rate, gradient descent might not converge or might even diverge!\n",
        "Using the best learning rate that you found, run the script\n",
        "to run gradient descent until convergence to find the final values of $\\theta$. Next,\n",
        "use this value of $\\theta$ to predict the price of a house with 1650 square feet and\n",
        "3 bedrooms. You will use value later to check your implementation of the normal equations. Don’t forget to normalize your features when you make this prediction!"
      ]
    },
    {
      "cell_type": "code",
      "execution_count": 23,
      "metadata": {
        "colab": {
          "base_uri": "https://localhost:8080/",
          "height": 359
        },
        "id": "r1DAbJhlZTbh",
        "outputId": "a0d2a106-3461-4ac2-8736-76e2544be84c"
      },
      "outputs": [
        {
          "name": "stdout",
          "output_type": "stream",
          "text": [
            "theta computed from gradient descent: [[334302.06399328]\n",
            " [ 99411.44947359]\n",
            " [  3267.01285407]]\n",
            "Predicted price of a 1650 sq-ft, 3 br house (using gradient descent):  [289221.54737122]\n"
          ]
        },
        {
          "data": {
            "image/png": "[encoded data removed]",
            "text/plain": [
              "<Figure size 432x288 with 1 Axes>"
            ]
          },
          "metadata": {
            "needs_background": "light"
          },
          "output_type": "display_data"
        }
      ],
      "source": [
        "\"\"\"\n",
        "Instructions\n",
        "------------\n",
        "We have provided you with the following starter code that runs\n",
        "gradient descent with a particular learning rate (alpha). \n",
        "\n",
        "Your task is to first make sure that your functions - `computeCost`\n",
        "and `gradientDescent` already work with  this starter code and\n",
        "support multiple variables.\n",
        "\n",
        "After that, try running gradient descent with different values of\n",
        "alpha and see which one gives you the best result.\n",
        "\n",
        "Finally, you should complete the code at the end to predict the price\n",
        "of a 1650 sq-ft, 3 br house.\n",
        "\n",
        "Hint\n",
        "----\n",
        "At prediction, make sure you do the same feature normalization.\n",
        "\"\"\"\n",
        "# Choose some alpha value - change this\n",
        "alpha = 0.01\n",
        "num_iters = 400\n",
        "\n",
        "# init theta and run gradient descent\n",
        "theta = np.reshape(np.zeros((3, 1)), (3, 1))\n",
        "theta, J_history = gradientDescentMulti(X, y, theta, alpha, num_iters);\n",
        "\n",
        "# Plot the convergence graph\n",
        "plt.plot(np.arange(len(J_history)), J_history, lw=2)\n",
        "plt.xlabel('Number of iterations')\n",
        "plt.ylabel('Cost J')\n",
        "\n",
        "# Display the gradient descent's result\n",
        "print('theta computed from gradient descent: {:s}'.format(str(theta)))\n",
        "\n",
        "# Estimate the price of a 1650 sq-ft, 3 br house\n",
        "# ======================= YOUR CODE HERE ===========================\n",
        "# Recall that the first column of X is all-ones. \n",
        "# Thus, it does not need to be normalized.\n",
        "X_array = [1,1650,3]\n",
        "X_array[1:3] = (X_array[1:3] - mu)/sigma\n",
        "\n",
        "price =  np.dot(X_array,theta)  # You should change this\n",
        "\n",
        "# ===================================================================\n",
        "\n",
        "print('Predicted price of a 1650 sq-ft, 3 br house (using gradient descent): ',price)"
      ]
    },
    {
      "cell_type": "markdown",
      "metadata": {
        "id": "AelkIIRdZTbh"
      },
      "source": [
        "*You do not need to submit any solutions for this optional (ungraded) part.*"
      ]
    },
    {
      "cell_type": "markdown",
      "metadata": {
        "id": "bLRl9mBXZTbi"
      },
      "source": [
        "<a id=\"section7\"></a>\n",
        "### 3.3 Normal Equations\n",
        "\n",
        "In the lecture videos, you learned that the closed-form solution to linear regression is\n",
        "\n",
        "$$ \\theta = \\left( X^T X\\right)^{-1} X^T\\vec{y}$$\n",
        "\n",
        "Using this formula does not require any feature scaling, and you will get an exact solution in one calculation: there is no “loop until convergence” like in gradient descent. \n",
        "\n",
        "First, we will reload the data to ensure that the variables have not been modified. Remember that while you do not need to scale your features, we still need to add a column of 1’s to the $X$ matrix to have an intercept term ($\\theta_0$). The code in the next cell will add the column of 1’s to X for you."
      ]
    },
    {
      "cell_type": "code",
      "execution_count": 24,
      "metadata": {
        "id": "hOSucq6kZTbi"
      },
      "outputs": [],
      "source": [
        "# Load data\n",
        "data = np.loadtxt(os.path.join('sample_data', 'ex1data2.txt'), delimiter=',')\n",
        "X = data[:, :2]\n",
        "y = data[:, 2]\n",
        "m = y.size\n",
        "X = np.concatenate([np.ones((m, 1)), X], axis=1)"
      ]
    },
    {
      "cell_type": "markdown",
      "metadata": {
        "id": "lDx-5SrzZTbi"
      },
      "source": [
        "Complete the code for the function `normalEqn` below to use the formula above to calculate $\\theta$. \n",
        "\n",
        "<a id=\"normalEqn\"></a>"
      ]
    },
    {
      "cell_type": "code",
      "execution_count": 25,
      "metadata": {
        "id": "srQWQTUPZTbi"
      },
      "outputs": [],
      "source": [
        "def normalEqn(X, y):\n",
        "    \"\"\"\n",
        "    Computes the closed-form solution to linear regression using the normal equations.\n",
        "    \n",
        "    Parameters\n",
        "    ----------\n",
        "    X : array_like\n",
        "        The dataset of shape (m x n+1).\n",
        "    \n",
        "    y : array_like\n",
        "        The value at each data point. A vector of shape (m, ).\n",
        "    \n",
        "    Returns\n",
        "    -------\n",
        "    theta : array_like\n",
        "        Estimated linear regression parameters. A vector of shape (n+1, ).\n",
        "    \n",
        "    Instructions\n",
        "    ------------\n",
        "    Complete the code to compute the closed form solution to linear\n",
        "    regression and put the result in theta.\n",
        "    \n",
        "    Hint\n",
        "    ----\n",
        "    Look up the function `np.linalg.pinv` for computing matrix inverse.\n",
        "    \"\"\"\n",
        "    theta = np.zeros(X.shape[1])\n",
        "    \n",
        "    # ===================== YOUR CODE HERE ============================\n",
        "    transpo = np.dot(np.transpose(X),X)\n",
        "    theta = np.dot(np.linalg.inv(transpo),np.transpose(X)).dot(y)\n",
        "    \n",
        "    # =================================================================\n",
        "    return theta"
      ]
    },
    {
      "cell_type": "markdown",
      "metadata": {
        "id": "nnUgqyJeZTbi"
      },
      "source": [
        "Optional (ungraded) exercise: Now, once you have found $\\theta$ using this\n",
        "method, use it to make a price prediction for a 1650-square-foot house with\n",
        "3 bedrooms. You should find that gives the same predicted price as the value\n",
        "you obtained using the model fit with gradient descent (in Section 3.2.1)."
      ]
    },
    {
      "cell_type": "code",
      "execution_count": 26,
      "metadata": {
        "colab": {
          "base_uri": "https://localhost:8080/"
        },
        "id": "OM3YCgmAZTbj",
        "outputId": "c452bec7-5f88-4546-a98f-6d777f5467af"
      },
      "outputs": [
        {
          "name": "stdout",
          "output_type": "stream",
          "text": [
            "Theta computed from the normal equations: [89597.9095428    139.21067402 -8738.01911233]\n",
            "Predicted price of a 1650 sq-ft, 3 br house (using normal equations): $293081\n"
          ]
        }
      ],
      "source": [
        "# Calculate the parameters from the normal equation\n",
        "theta = normalEqn(X, y);\n",
        "\n",
        "# Display normal equation's result\n",
        "print('Theta computed from the normal equations: {:s}'.format(str(theta)));\n",
        "\n",
        "# Estimate the price of a 1650 sq-ft, 3 br house\n",
        "# ====================== YOUR CODE HERE ======================\n",
        "\n",
        "X_arr = [1,1650,3]\n",
        "price = np.dot(X_arr,theta) # You should change this\n",
        "\n",
        "# ============================================================\n",
        "\n",
        "print('Predicted price of a 1650 sq-ft, 3 br house (using normal equations): ${:.0f}'.format(price))"
      ]
    }
  ],
  "metadata": {
    "colab": {
      "collapsed_sections": [],
      "name": "exercise1.ipynb",
      "provenance": []
    },
    "kernelspec": {
      "display_name": "Python 3",
      "language": "python",
      "name": "python3"
    },
    "language_info": {
      "codemirror_mode": {
        "name": "ipython",
        "version": 3
      },
      "file_extension": ".py",
      "mimetype": "text/x-python",
      "name": "python",
      "nbconvert_exporter": "python",
      "pygments_lexer": "ipython3",
      "version": "3.9.2"
    }
  },
  "nbformat": 4,
  "nbformat_minor": 0
}
