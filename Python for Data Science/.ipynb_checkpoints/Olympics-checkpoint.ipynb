{
 "cells": [
  {
   "cell_type": "markdown",
   "metadata": {
    "_uuid": "522ead0f425c454ccd61381ea367edd8612d2a9b"
   },
   "source": [
    "# Exploring statistical data from the history of the Olympic Games\n",
    "\n",
    "**Centent**\n",
    "\n",
    "The athlete_events.csv file contains 271116 rows and 15 columns; each row corresponds to one and only one athlete participating in a single Olympic event (athlete-events).\n",
    "The columns are:\n",
    "\n",
    "1. ID - Unique number for each athlete;\n",
    "2. Name - Name of the athlete;\n",
    "3. Sex - M or F;\n",
    "4. Age - Integer;\n",
    "5. Height - In centimeters;\n",
    "6. Weight - In kilograms;\n",
    "7. Team - Name of the team;\n",
    "8. NOC - National Olympic Committee (three letter code);\n",
    "9. Games - Year and season;\n",
    "10. Year - Whole;\n",
    "11. Season - Summer or Winter;\n",
    "12. City - City of organization;\n",
    "13. Sport - Sport;\n",
    "14. Event - Event;\n",
    "15. Medal - Gold, Silver, Bronze, or NA."
   ]
  },
  {
   "cell_type": "markdown",
   "metadata": {
    "_uuid": "894a4e40048d5cc3c4fc621d4e21186dadf97fa1"
   },
   "source": [
    "# 1. Loading modules"
   ]
  },
  {
   "cell_type": "code",
   "execution_count": 1,
   "metadata": {
    "_cell_guid": "b1076dfc-b9ad-4769-8c92-a6c4dae69d19",
    "_uuid": "8f2839f25d086af736a60e9eeb907d3b93b6e0e5"
   },
   "outputs": [
    {
     "name": "stdout",
     "output_type": "stream",
     "text": [
      "['athlete_events.csv', 'marks.txt', 'marks2.txt', 'noc_regions.csv']\n"
     ]
    }
   ],
   "source": [
    "import numpy as np\n",
    "import pandas as pd\n",
    "import seaborn as sns\n",
    "from matplotlib import pyplot as plt\n",
    "\n",
    "import os\n",
    "print(os.listdir(\"./data\"))"
   ]
  },
  {
   "cell_type": "markdown",
   "metadata": {
    "_uuid": "57e4b08e8df21fcb5618de67281c9e0629422b84"
   },
   "source": [
    "# 2. Loading Data"
   ]
  },
  {
   "cell_type": "code",
   "execution_count": 2,
   "metadata": {
    "_cell_guid": "79c7e3d0-c299-4dcb-8224-4455121ee9b0",
    "_uuid": "d629ff2d2480ee46fbb7e2d37f6b5fab8052498a"
   },
   "outputs": [],
   "source": [
    "# DataFrame athlete_events file data\n",
    "data = pd. \"./data/athlete_events.csv\"\n",
    "# DataFrame noc_regions.csv file data\n",
    "regions = \"./data/noc_regions.csv\""
   ]
  },
  {
   "cell_type": "markdown",
   "metadata": {
    "_uuid": "2376ec975f261dabc2a926c756af7cb1b74be748"
   },
   "source": [
    "# 3. Info about the two datasets"
   ]
  },
  {
   "cell_type": "markdown",
   "metadata": {
    "_uuid": "3af051803b3f1a9e2f755ebd0df499f252857f86"
   },
   "source": [
    "We're going:\n",
    "\n",
    "1. Display the first lines;\n",
    "2. Use the two functions \"describe\" and \"info\" to display statistics, type of data, name of columns and other information."
   ]
  },
  {
   "cell_type": "code",
   "execution_count": 3,
   "metadata": {
    "_uuid": "ae58e68e8302eb0bb3df862f6311a720f1c26865"
   },
   "outputs": [
    {
     "ename": "AttributeError",
     "evalue": "'str' object has no attribute 'head'",
     "output_type": "error",
     "traceback": [
      "\u001b[1;31m---------------------------------------------------------------------------\u001b[0m",
      "\u001b[1;31mAttributeError\u001b[0m                            Traceback (most recent call last)",
      "\u001b[1;32m<ipython-input-3-5c2c8095c505>\u001b[0m in \u001b[0;36m<module>\u001b[1;34m\u001b[0m\n\u001b[0;32m      1\u001b[0m \u001b[1;31m# Display the first 5 lines of the \"data\" Dataframe\u001b[0m\u001b[1;33m\u001b[0m\u001b[1;33m\u001b[0m\u001b[1;33m\u001b[0m\u001b[0m\n\u001b[1;32m----> 2\u001b[1;33m \u001b[0mdata\u001b[0m\u001b[1;33m.\u001b[0m\u001b[0mhead\u001b[0m\u001b[1;33m(\u001b[0m\u001b[1;33m)\u001b[0m\u001b[1;33m\u001b[0m\u001b[1;33m\u001b[0m\u001b[0m\n\u001b[0m",
      "\u001b[1;31mAttributeError\u001b[0m: 'str' object has no attribute 'head'"
     ]
    }
   ],
   "source": [
    "# Display the first 5 lines of the \"data\" Dataframe\n",
    "data.head()"
   ]
  },
  {
   "cell_type": "code",
   "execution_count": null,
   "metadata": {
    "_uuid": "06ab4534533ab262e730b3e60ae4a7da4382b197"
   },
   "outputs": [],
   "source": [
    "data.describe()"
   ]
  },
  {
   "cell_type": "code",
   "execution_count": null,
   "metadata": {
    "_uuid": "455b4118a50de2bef0059eca274aa618b1306c7c"
   },
   "outputs": [],
   "source": [
    "data.info()"
   ]
  },
  {
   "cell_type": "code",
   "execution_count": null,
   "metadata": {
    "_uuid": "914cefa0b6ad17ec0aead6b9c4c27a02e34f610e"
   },
   "outputs": [],
   "source": [
    "# Afficher les cinq premières lignes de \"regions\"\n"
   ]
  },
  {
   "cell_type": "markdown",
   "metadata": {
    "_uuid": "cd3b74b6b5f1c8a92948258e9c17151efd44ac3b"
   },
   "source": [
    "# 4. Concaténation des deux dataframes"
   ]
  },
  {
   "cell_type": "markdown",
   "metadata": {
    "_uuid": "a2d1091f26cf2fffc8e0847caa93dd92ceb48815"
   },
   "source": [
    "Nous pouvons concaténer les deux dataframes, en utilisant la clé \"NOC\" avec la fonction \"Merge\" de Pandas ([voir la  documentation](https://pandas.pydata.org/pandas-docs/stable/merging.html))"
   ]
  },
  {
   "cell_type": "code",
   "execution_count": null,
   "metadata": {
    "_uuid": "ce11b76e91e61ebe19c6f40ee86eb2a0dc56e2f8"
   },
   "outputs": [],
   "source": [
    "merged = # Concaténation des deux dataframes"
   ]
  },
  {
   "cell_type": "markdown",
   "metadata": {
    "_uuid": "ec03b439b080b6cf0100959327f5d27bddd6d27a"
   },
   "source": [
    "Afficher les premières lignes du résultats:"
   ]
  },
  {
   "cell_type": "code",
   "execution_count": null,
   "metadata": {
    "_uuid": "5670d573ec6b4ce429a86335e5d530647b827af0"
   },
   "outputs": [],
   "source": [
    "merged.head()"
   ]
  },
  {
   "cell_type": "markdown",
   "metadata": {
    "_uuid": "03c8a315255b93fe4e1f8840f3af4e079b82f9db"
   },
   "source": [
    "# 5. Distribution d'age des médalistes \"en or\""
   ]
  },
  {
   "cell_type": "markdown",
   "metadata": {
    "_uuid": "080f73c3e40c4df44f034ee14708e66f86254626"
   },
   "source": [
    "Créer un dataframe représentant les médalistes \"en or\""
   ]
  },
  {
   "cell_type": "code",
   "execution_count": null,
   "metadata": {
    "_uuid": "355b930760d3bdbd4d461ef4b98b7c73bcb6daef"
   },
   "outputs": [],
   "source": [
    "goldMedals = \n",
    "goldMedals.head()"
   ]
  },
  {
   "cell_type": "markdown",
   "metadata": {
    "_uuid": "78d3660ad540129265bea9d3d6b52471be44fdf1"
   },
   "source": [
    "Nous souhaitons dessiner la distribution d'Age des athlètes. Tout d'abord, on doit vérifier s'il y a des valeurs NaN dans la colonne \"Age\""
   ]
  },
  {
   "cell_type": "code",
   "execution_count": null,
   "metadata": {
    "_uuid": "6b8a2fecc3992616b11a71d3ad6d8bc5d33236ba"
   },
   "outputs": [],
   "source": [
    "# Utiliser la fonction isnull()\n"
   ]
  },
  {
   "cell_type": "markdown",
   "metadata": {
    "_uuid": "885e4ca104e9dd7b61a291adda6166dca84abaa1"
   },
   "source": [
    "Prenons seulement les valeurs différentes de NaN."
   ]
  },
  {
   "cell_type": "code",
   "execution_count": null,
   "metadata": {
    "_uuid": "24d85441cd482afc4d4f10ab8c17ec5c9d328b6e"
   },
   "outputs": [],
   "source": [
    "goldMedals = goldMedals[np.isfinite(goldMedals['Age'])]"
   ]
  },
  {
   "cell_type": "markdown",
   "metadata": {
    "_uuid": "609f7c7f04fb76cefcebc7d3e998f70ae0e3bb95"
   },
   "source": [
    "Dessin de la distribution d'age des athlètes:"
   ]
  },
  {
   "cell_type": "code",
   "execution_count": null,
   "metadata": {
    "_uuid": "79c6f25661ddcf5a3ac15c89cf679d26c47d3346"
   },
   "outputs": [],
   "source": [
    "plt.figure(figsize=(20, 10))\n",
    "plt.tight_layout()\n",
    "sns.countplot(goldMedals['Age'])\n",
    "plt.title('Distribution des Médailles en Or');"
   ]
  },
  {
   "cell_type": "markdown",
   "metadata": {
    "_uuid": "e2aebb7ef9c37b91653316abaad706b73a551d04"
   },
   "source": [
    "Il semble que nous ayons des personnes âgées de plus de 50 ans avec une médaille d'or: en compter leur nombre"
   ]
  },
  {
   "cell_type": "code",
   "execution_count": null,
   "metadata": {
    "_uuid": "2b33dc22e2e59ed85813fc8daaf35c512c911112"
   },
   "outputs": [],
   "source": []
  },
  {
   "cell_type": "markdown",
   "metadata": {
    "_uuid": "4e46b9321038fc8739d25062dfe0a6179cb91b31"
   },
   "source": [
    "Quelles disciplines vous permettent de décrocher une médaille d'or après la cinquantaine ?"
   ]
  },
  {
   "cell_type": "code",
   "execution_count": null,
   "metadata": {
    "_uuid": "153c7c5043e65fd97986675633420843a80b4300"
   },
   "outputs": [],
   "source": [
    "masterDisciplines = "
   ]
  },
  {
   "cell_type": "code",
   "execution_count": null,
   "metadata": {
    "_uuid": "52ab85ebbe16a7b44b524511df18c19a78e5fe51"
   },
   "outputs": [],
   "source": [
    "plt.figure(figsize=(20, 10))\n",
    "plt.tight_layout()\n",
    "sns.countplot(masterDisciplines)\n",
    "plt.title('Médailles en or pour les athlètes de plus de 50 ans');"
   ]
  },
  {
   "cell_type": "markdown",
   "metadata": {
    "_uuid": "43ccdd39eee693b1d275cc58859d76c093e0a587"
   },
   "source": [
    "# 6. Femmes en athlétisme"
   ]
  },
  {
   "cell_type": "markdown",
   "metadata": {
    "_uuid": "89b4ff2f8b258476aace622b1ee722a2c07b54ab"
   },
   "source": [
    "En étudiant les données, nous pouvons compter le nombre de médailles gagnées par les femmes durant l'histoire des Jeux olympiques d'été"
   ]
  },
  {
   "cell_type": "markdown",
   "metadata": {
    "_uuid": "a6a79e5e4ec0d956e16016532f8bf351ff259cf6"
   },
   "source": [
    "Créer un dataframe des femmes ayant participé aux jeux d'été:"
   ]
  },
  {
   "cell_type": "code",
   "execution_count": null,
   "metadata": {
    "_uuid": "7390670a50a01514c05b69b5212861de7391ccd9"
   },
   "outputs": [],
   "source": [
    "womenInOlympics = "
   ]
  },
  {
   "cell_type": "markdown",
   "metadata": {
    "_uuid": "0f42eccab7a61863cf483c79550a754df8732104"
   },
   "source": [
    "Afficher les 10 première lignes:"
   ]
  },
  {
   "cell_type": "code",
   "execution_count": null,
   "metadata": {
    "_uuid": "c11471fdf794c6acf39e0b30001e6be1ed3dd169"
   },
   "outputs": [],
   "source": []
  },
  {
   "cell_type": "markdown",
   "metadata": {
    "_uuid": "5482944aedbd3a1e8f2277278e23849f02c6b892"
   },
   "source": [
    "Créer un plot du nombre de médailles gagnées (axe des $y$) par des femmes par année (axe des $x$)"
   ]
  },
  {
   "cell_type": "code",
   "execution_count": null,
   "metadata": {
    "_uuid": "2d67109a8300dd2ac851c5cacd09cadab9827bba"
   },
   "outputs": [],
   "source": [
    "sns.set(style=\"darkgrid\")\n",
    "plt.figure(figsize=(20, 10))\n",
    "sns.countplot(x='Year', data=womenInOlympics)\n",
    "plt.title('Femmes médalaistes par compétition');"
   ]
  },
  {
   "cell_type": "markdown",
   "metadata": {
    "_uuid": "c26d4d413d38f724c02db73b062f03d4ffabd3f2"
   },
   "source": [
    "Afficher les 10 athlètes femmes, dans la liste, qui ont participées aux jeux d'été de 1900 "
   ]
  },
  {
   "cell_type": "code",
   "execution_count": null,
   "metadata": {
    "_uuid": "60912b489d240f278c256b8d993b369d8203a4e3"
   },
   "outputs": [],
   "source": []
  },
  {
   "cell_type": "markdown",
   "metadata": {
    "_uuid": "9f0a2d350e4a6e1a97b28066bdab01c828fe10b0"
   },
   "source": [
    "Compter leurs nombres"
   ]
  },
  {
   "cell_type": "code",
   "execution_count": null,
   "metadata": {
    "_uuid": "6139ddc019b14b6527d87bb287140033301e1c77"
   },
   "outputs": [],
   "source": []
  },
  {
   "cell_type": "markdown",
   "metadata": {
    "_uuid": "65e552504948bdb37fa5dac39b869202519ce389"
   },
   "source": [
    "# 7. Médailles par pays"
   ]
  },
  {
   "cell_type": "markdown",
   "metadata": {
    "_uuid": "0dccc561926e2d45a7eb8d04ed595357f52b9d92"
   },
   "source": [
    "Afficher le top 5 des pays qui ont gagné le plus grand nombre de médailles en Or:"
   ]
  },
  {
   "cell_type": "code",
   "execution_count": null,
   "metadata": {
    "_uuid": "215ee5437bf4260b9ce3dc12bd6f25807e259713"
   },
   "outputs": [],
   "source": []
  },
  {
   "cell_type": "markdown",
   "metadata": {
    "_uuid": "6626bb4182f6a0120b02e47ae528603367b3e28a"
   },
   "source": [
    "Faire un plot:"
   ]
  },
  {
   "cell_type": "code",
   "execution_count": null,
   "metadata": {
    "_uuid": "ac0e59d4ee0bba0dc9fe091791ea2349d21e9959"
   },
   "outputs": [],
   "source": [
    "totalGoldMedals = goldMedals.region.value_counts().reset_index(name='Medal').head(5)\n",
    "g = sns.catplot(x=\"index\", y=\"Medal\", data=totalGoldMedals,\n",
    "                height=6, kind=\"bar\");\n",
    "g.set_xlabels(\"Top 5 des pays\")\n",
    "g.set_ylabels(\"Nombre de médailles\")\n",
    "plt.title('Médailles par pays');"
   ]
  },
  {
   "cell_type": "markdown",
   "metadata": {
    "_uuid": "15d029be12cd52bfe9817513cad5bb04476fd917"
   },
   "source": [
    "# 8. Disciplines avec le plus grand nombre de médailles d'or"
   ]
  },
  {
   "cell_type": "markdown",
   "metadata": {
    "_uuid": "faff7a95a6d4b206291986ddef7d0e48ddbe8c6b"
   },
   "source": [
    "Créer un dataframe contenant les athlètes des USA qui ont gagné une médaille d'Or."
   ]
  },
  {
   "cell_type": "code",
   "execution_count": null,
   "metadata": {
    "_uuid": "8fcab60d131e05ec9bdf560674a23553d4401842"
   },
   "outputs": [],
   "source": []
  },
  {
   "cell_type": "markdown",
   "metadata": {
    "_uuid": "9875f0e74612741c7d009d897648fae32fafc8dd"
   },
   "source": [
    "Compter leurs nombres par discipline:"
   ]
  },
  {
   "cell_type": "code",
   "execution_count": null,
   "metadata": {
    "_uuid": "0e5cd84678025f017ca66515b2d914b919e045b5"
   },
   "outputs": [],
   "source": []
  },
  {
   "cell_type": "markdown",
   "metadata": {
    "_uuid": "c6ee929c4feeae52af8379db1fcd857057819e95"
   },
   "source": [
    "Vérifier, en affichant les médallistes hommes en Or du Sport Basketball des USA, que les médailles sont octroyées à chaque membre de l'équipe."
   ]
  },
  {
   "cell_type": "code",
   "execution_count": null,
   "metadata": {
    "_uuid": "65ce25e9e0472d833e2cf9a49887b88e484a9474"
   },
   "outputs": [],
   "source": [
    "basketballGoldUSA = "
   ]
  },
  {
   "cell_type": "code",
   "execution_count": null,
   "metadata": {
    "_uuid": "ea498ab269016879a96e3453ce3f583a1334e55b"
   },
   "outputs": [],
   "source": [
    "basketballGoldUSA.head(15)"
   ]
  },
  {
   "cell_type": "markdown",
   "metadata": {
    "_uuid": "2c59fb6873fcf9defbd6017f85e372cd51db8d30"
   },
   "source": [
    "Il se peut (dans votre solution) que les médailles ne sont pas regroupées par Edition / Equipe mais vous comptiez les médailles d'or de chaque membre de l'équipe!\n",
    "Si c'est le cas, il faut regrouper les athlètes par année - l'idée est de créer un nouveau dataframe pour faire un filtre en utilisant uniquement le premier enregistrement pour chaque membre de l'équipe."
   ]
  },
  {
   "cell_type": "code",
   "execution_count": null,
   "metadata": {
    "_uuid": "44f0c0643efc26d4e9471b49183065c1679c3404"
   },
   "outputs": [],
   "source": [
    "groupedBasketUSA = basketballGoldUSA.groupby(['Year']).first()\n",
    "groupedBasketUSA"
   ]
  },
  {
   "cell_type": "markdown",
   "metadata": {
    "_uuid": "516abbb2a6f8a2076976015c74e6738e126ac239"
   },
   "source": [
    "Compter leur nombre :"
   ]
  },
  {
   "cell_type": "code",
   "execution_count": null,
   "metadata": {
    "_uuid": "85d88c37c01c8cec4d808f9caa2b5e38b644402a"
   },
   "outputs": [],
   "source": []
  },
  {
   "cell_type": "markdown",
   "metadata": {
    "_uuid": "44744af059a300667629686a0ba8c1dfb32c82e5"
   },
   "source": [
    "# 9. Quelle est la taille / le poids médian d'un médaillé olympique ?"
   ]
  },
  {
   "cell_type": "markdown",
   "metadata": {
    "_uuid": "30878f13dbc575189fce6508f9304ce0cfdf20cc"
   },
   "source": [
    "Faire un plot de type scatterplot de la taille vs le poids pour visualiser leur distribution (sans regroupement par discipline).\n",
    "\n",
    "Afficher les premières lignes du DataFrame goldMedals et vérifier qu'il existe des lignes avec des valeurs NaN pour le poids et la taille"
   ]
  },
  {
   "cell_type": "code",
   "execution_count": null,
   "metadata": {
    "_uuid": "3136988aa4e264e4d0747aa39c39bccf9de511d0"
   },
   "outputs": [],
   "source": [
    "goldMedals.head()"
   ]
  },
  {
   "cell_type": "markdown",
   "metadata": {
    "_uuid": "8b512353cb2022e6173ce5c276a0514e0c1531a0"
   },
   "source": [
    "La première chose à faire est de collecter des informations générales sur le dataframe que vous allez utiliser: goldMedals."
   ]
  },
  {
   "cell_type": "code",
   "execution_count": null,
   "metadata": {
    "_uuid": "7b082149fbc6894e17fde6277ab42b89f46a6649"
   },
   "outputs": [],
   "source": [
    "goldMedals.info()"
   ]
  },
  {
   "cell_type": "markdown",
   "metadata": {
    "_uuid": "dd589832b85f0eaa745a8f34be87c1eb9820a74e"
   },
   "source": [
    "Créer un dataframe contenant seulement les lignes où nous avons l'information sur la taille et le poids des athlètes"
   ]
  },
  {
   "cell_type": "code",
   "execution_count": null,
   "metadata": {
    "_uuid": "6324582a227f3608169f32f2f37f3b28033838b9"
   },
   "outputs": [],
   "source": [
    "notNullMedals = "
   ]
  },
  {
   "cell_type": "markdown",
   "metadata": {
    "_uuid": "6f70434406cb21dec70e9e787ae1fd2ded773b10"
   },
   "source": [
    "Afficher ses premières lignes et ses informations"
   ]
  },
  {
   "cell_type": "code",
   "execution_count": null,
   "metadata": {
    "_uuid": "4ed612c18553b5acbca48fa40a29887a6f45af1e"
   },
   "outputs": [],
   "source": [
    "notNullMedals.head()"
   ]
  },
  {
   "cell_type": "code",
   "execution_count": null,
   "metadata": {
    "_uuid": "8511c07ec36c033c0fbe13a5e5b526eb9974976d"
   },
   "outputs": [],
   "source": [
    "notNullMedals.info()"
   ]
  },
  {
   "cell_type": "markdown",
   "metadata": {
    "_uuid": "0cda55cec2ff4fd48756c431f48ba9d58a42a3a3"
   },
   "source": [
    "scatterplot du poids vs. taille"
   ]
  },
  {
   "cell_type": "code",
   "execution_count": null,
   "metadata": {
    "_uuid": "6a14adbd3a638e82b271c6379b3be0eb404ea75d"
   },
   "outputs": [],
   "source": [
    "plt.figure(figsize=(12, 10))\n",
    "ax = sns.scatterplot(x=\"Height\", y=\"Weight\", data=notNullMedals)\n",
    "plt.title('Height vs Weight of Olympic Medalists');"
   ]
  },
  {
   "cell_type": "markdown",
   "metadata": {
    "_uuid": "6ae5611fc37b20e2d0683d24424ef8347c4a46ea"
   },
   "source": [
    "Afficher les athlètes dont leurs poids est supérieur à 160 kilograms"
   ]
  },
  {
   "cell_type": "code",
   "execution_count": null,
   "metadata": {
    "_uuid": "9bec75dbb4ee30b02870ec77e55aec376bc675c2"
   },
   "outputs": [],
   "source": []
  },
  {
   "cell_type": "markdown",
   "metadata": {
    "_uuid": "14e2d2b41d021d25012ad033511b161cbe577a3d"
   },
   "source": [
    "# 10. Évolution des Jeux olympiques au fil du temps"
   ]
  },
  {
   "cell_type": "markdown",
   "metadata": {
    "_uuid": "945d5adbe565ee31b6e19390c6165109632d8930"
   },
   "source": [
    "Nous allons essayer de répondre aux questions suivantes:\n",
    "\n",
    "* Comment le nombre d'athlètes/pays a varié au fil du temps ?\n",
    "* Comment la proportion d'hommes/femmes varie-t-elle avec le temps ?\n",
    "* Qu'en est-il de l'âge moyen, du poids et de la taille au fil du temps ?"
   ]
  },
  {
   "cell_type": "markdown",
   "metadata": {
    "_uuid": "51ad5bc38d367632708d44683206c619c44e1a0f"
   },
   "source": [
    "*** 10.1 Evolution des athlètes hommes / femmes au fil du temps (Jeux d'été) ***"
   ]
  },
  {
   "cell_type": "markdown",
   "metadata": {
    "_uuid": "5bb714c3449f1fcbe4cd6fdece13a8f2e476be13"
   },
   "source": [
    "Créer deux dataframes divisant la population de l'ensemble de données à l'aide de Sex et Season (considérer seulement les jeux d'été)"
   ]
  },
  {
   "cell_type": "code",
   "execution_count": null,
   "metadata": {
    "_uuid": "086b9162ec0794d74d257a5192c7b00a212c6895"
   },
   "outputs": [],
   "source": [
    "MenOverTime = \n",
    "WomenOverTime = "
   ]
  },
  {
   "cell_type": "markdown",
   "metadata": {
    "_uuid": "b1a017028e5094d6f85c610841d53ef483ff029d"
   },
   "source": [
    "Afficher les premières lignes du dataframe des hommes"
   ]
  },
  {
   "cell_type": "code",
   "execution_count": null,
   "metadata": {
    "_uuid": "25a4f2af7e6835c08b8beb25fc48da297e26456e"
   },
   "outputs": [],
   "source": [
    "MenOverTime.head()"
   ]
  },
  {
   "cell_type": "markdown",
   "metadata": {
    "_uuid": "f335d7ab05bc288cffb797f5da95bcf09c0611dd"
   },
   "source": [
    "Plot de l'évolution du nombre d'athlètes masculins au fil du temps, puis celui des athlètes féminins"
   ]
  },
  {
   "cell_type": "code",
   "execution_count": null,
   "metadata": {
    "_uuid": "4e46687add5c6558d887f472bb26b0dc22e87462"
   },
   "outputs": [],
   "source": [
    "part = MenOverTime.groupby('Year')['Sex'].value_counts()\n",
    "plt.figure(figsize=(20, 10))\n",
    "part.loc[:,'M'].plot()\n",
    "plt.title(\"Evolution du nombre d'athlètes masculins\");"
   ]
  },
  {
   "cell_type": "code",
   "execution_count": null,
   "metadata": {
    "_uuid": "a1fe8e4d92b6b5f9a8c5cc2b99570bdfb4dfa36b"
   },
   "outputs": [],
   "source": [
    "part = WomenOverTime.groupby('Year')['Sex'].value_counts()\n",
    "plt.figure(figsize=(20, 10))\n",
    "part.loc[:,'F'].plot()\n",
    "plt.title(\"Evolution du nombre d'athlètes féminins\");"
   ]
  },
  {
   "cell_type": "markdown",
   "metadata": {
    "_uuid": "5e39fdbcce34ee4ac4f65573bd85ee6dcf2a9ed6"
   },
   "source": [
    "***10.2 Evolution de l'age des athlètes italiens *** "
   ]
  },
  {
   "cell_type": "markdown",
   "metadata": {
    "_uuid": "d07fb45e87679a5fb9c1a71bad41589e88a05af0"
   },
   "source": [
    "Commençant par examiner l'ensemble de données MenOverTime pour actualiser les colonnes"
   ]
  },
  {
   "cell_type": "code",
   "execution_count": null,
   "metadata": {
    "_uuid": "4b1102a9188cd824572da32f14e563e500fa7b55"
   },
   "outputs": [],
   "source": [
    "MenOverTime.head(5)"
   ]
  },
  {
   "cell_type": "markdown",
   "metadata": {
    "_uuid": "0329d8f167fbb3e948168c6d6a3be9d796b78f0c"
   },
   "source": [
    "Créer un dataframe contenant les athlètes (hommes) italiens"
   ]
  },
  {
   "cell_type": "code",
   "execution_count": null,
   "metadata": {
    "_uuid": "470d7dba4f44cc351f41b17da594aa8b27f8fc8a"
   },
   "outputs": [],
   "source": [
    "itMenOverTime = "
   ]
  },
  {
   "cell_type": "markdown",
   "metadata": {
    "_uuid": "6ec55113a95cb90b5c5344a2ac886ce2f55569b6"
   },
   "source": [
    "Affichage des 5 premières lignes"
   ]
  },
  {
   "cell_type": "code",
   "execution_count": null,
   "metadata": {
    "_uuid": "eda4e7eebed7b8a5b9a89945762a48a8b6e5a8fa"
   },
   "outputs": [],
   "source": [
    "itMenOverTime.head(5)"
   ]
  },
  {
   "cell_type": "markdown",
   "metadata": {
    "_uuid": "144a860109deaf0721406be098c8f39dc2c506da"
   },
   "source": [
    "plot de l'age en fonction des années"
   ]
  },
  {
   "cell_type": "code",
   "execution_count": null,
   "metadata": {
    "_uuid": "83ccdec5f696e1b0e988c0058fab0248a12926de"
   },
   "outputs": [],
   "source": [
    "sns.set(style=\"darkgrid\")\n",
    "plt.figure(figsize=(20, 10))\n",
    "sns.countplot(x='Year', data=itMenOverTime, palette='Set2')\n",
    "plt.title('Variation of Age for Italian Male Athletes over time')"
   ]
  },
  {
   "cell_type": "markdown",
   "metadata": {
    "_uuid": "789c8f32d89807841f16543fe6583e20570faea2"
   },
   "source": [
    "Faire la même chose pour les femmes"
   ]
  },
  {
   "cell_type": "code",
   "execution_count": null,
   "metadata": {
    "_uuid": "fff94986b941c1bf055546bd60017e3c96d607d8"
   },
   "outputs": [],
   "source": [
    "itWomenOverTime = "
   ]
  },
  {
   "cell_type": "code",
   "execution_count": null,
   "metadata": {
    "_uuid": "8580298a08febd74b9499202c0bd1cff2388eeb6"
   },
   "outputs": [],
   "source": [
    "sns.set(style=\"darkgrid\")\n",
    "plt.figure(figsize=(20, 10))\n",
    "sns.countplot(x='Year', data=itWomenOverTime, palette='Set2')\n",
    "plt.title('Variation of Age for Italian Female Athletes over time')"
   ]
  },
  {
   "cell_type": "code",
   "execution_count": null,
   "metadata": {},
   "outputs": [],
   "source": []
  }
 ],
 "metadata": {
  "kernelspec": {
   "display_name": "Python 3",
   "language": "python",
   "name": "python3"
  },
  "language_info": {
   "codemirror_mode": {
    "name": "ipython",
    "version": 3
   },
   "file_extension": ".py",
   "mimetype": "text/x-python",
   "name": "python",
   "nbconvert_exporter": "python",
   "pygments_lexer": "ipython3",
   "version": "3.8.5"
  }
 },
 "nbformat": 4,
 "nbformat_minor": 1
}
