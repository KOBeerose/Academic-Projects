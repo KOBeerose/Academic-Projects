{
 "cells": [
  {
   "cell_type": "markdown",
   "metadata": {
    "id": "nhIG0_M1AgD6"
   },
   "source": [
    "**TP 2 : Bibliothèque Numpy**\n",
    "\n",
    "\n",
    "\n",
    "*   Mohammed JAWHAR\n",
    "*   Amine SNOUSSI\n",
    "\n",
    "\n"
   ]
  },
  {
   "cell_type": "markdown",
   "metadata": {
    "id": "KL1V60c5BGcN"
   },
   "source": [
    "**Exercice 1**"
   ]
  },
  {
   "cell_type": "code",
   "execution_count": null,
   "metadata": {
    "colab": {
     "base_uri": "https://localhost:8080/"
    },
    "id": "02kMJC2KguMb",
    "outputId": "43bd218d-06ec-475d-8895-f9f3720c53cc"
   },
   "outputs": [
    {
     "name": "stdout",
     "output_type": "stream",
     "text": [
      "True\n",
      "True\n"
     ]
    },
    {
     "data": {
      "text/plain": [
       "True"
      ]
     },
     "execution_count": 5,
     "metadata": {},
     "output_type": "execute_result"
    }
   ],
   "source": [
    "import random\n",
    "import numpy as np\n",
    "R=np.random.randn(4,4)\n",
    "H=np.dot(R,np.transpose(R))\n",
    "RInv=np.linalg.inv(R)\n",
    "I=np.dot(R,RInv)\n",
    "II=np.dot(RInv,R)\n",
    "print(np.allclose(II,I))\n",
    "print(np.allclose(II,np.eye(4)))  \n",
    "np.allclose(I,np.eye(4))\n",
    "\n"
   ]
  },
  {
   "cell_type": "markdown",
   "metadata": {
    "id": "Jn89LsaoBhzi"
   },
   "source": [
    "**Exercice 2**"
   ]
  },
  {
   "cell_type": "code",
   "execution_count": null,
   "metadata": {
    "colab": {
     "base_uri": "https://localhost:8080/"
    },
    "id": "QaDQp9z-mCaS",
    "outputId": "2004d947-6bc1-4e83-8971-2c0cf0b7cb66"
   },
   "outputs": [
    {
     "name": "stdout",
     "output_type": "stream",
     "text": [
      "[[1 0 1 0 1 0 1 0]\n",
      " [0 1 0 1 0 1 0 1]\n",
      " [1 0 1 0 1 0 1 0]\n",
      " [0 1 0 1 0 1 0 1]\n",
      " [1 0 1 0 1 0 1 0]\n",
      " [0 1 0 1 0 1 0 1]\n",
      " [1 0 1 0 1 0 1 0]\n",
      " [0 1 0 1 0 1 0 1]]\n",
      "[[1 0 1 0 1 0 1 0]\n",
      " [0 1 0 1 0 1 0 1]\n",
      " [1 0 1 0 1 0 1 0]\n",
      " [0 1 0 1 0 1 0 1]\n",
      " [1 0 1 0 1 0 1 0]\n",
      " [0 1 0 1 0 1 0 1]\n",
      " [1 0 1 0 1 0 1 0]\n",
      " [0 1 0 1 0 1 0 1]]\n"
     ]
    }
   ],
   "source": [
    "#methode1\n",
    "echiquier = np.zeros((8,8), dtype=int)\n",
    "echiquier[::2,::2] = 1\n",
    "echiquier[1::2,1::2] = 1\n",
    "print(echiquier)\n",
    "\n",
    "#methode2\n",
    "echiquier2 = np.tile([[1,0],[0,1]], (4,4))\n",
    "print(echiquier2)"
   ]
  },
  {
   "cell_type": "markdown",
   "metadata": {
    "id": "q1DHKzkmBpKu"
   },
   "source": [
    "**Exercice 3**"
   ]
  },
  {
   "cell_type": "code",
   "execution_count": null,
   "metadata": {
    "colab": {
     "base_uri": "https://localhost:8080/"
    },
    "id": "Equg1yIqhh4h",
    "outputId": "ce7598c9-45b4-4a86-81c3-97b88f523a09"
   },
   "outputs": [
    {
     "name": "stdout",
     "output_type": "stream",
     "text": [
      "[[ 1  5  9 13 17]\n",
      " [ 2  6 10 14 18]\n",
      " [ 3  7 11 15 19]\n",
      " [ 4  8 12 16 20]]\n"
     ]
    },
    {
     "data": {
      "text/plain": [
       "array([[ 6, 18, 10],\n",
       "       [ 7, 19, 11],\n",
       "       [ 5, 17,  9]])"
      ]
     },
     "execution_count": 8,
     "metadata": {},
     "output_type": "execute_result"
    }
   ],
   "source": [
    "M=np.transpose(np.arange(1,21).reshape(5,4))\n",
    "print(M)\n",
    "l=[1,2,0]\n",
    "c=[1,4,2]\n",
    "M[l][:,c]"
   ]
  },
  {
   "cell_type": "markdown",
   "metadata": {
    "id": "eTJKRl0LBsbH"
   },
   "source": [
    "**Exercice 4**"
   ]
  },
  {
   "cell_type": "code",
   "execution_count": null,
   "metadata": {
    "colab": {
     "base_uri": "https://localhost:8080/"
    },
    "id": "OLTgEvTgjyQC",
    "outputId": "fff006f1-d88a-4e6f-eb4e-e136c3a056e5"
   },
   "outputs": [
    {
     "data": {
      "text/plain": [
       "array([  2,   3,   5,   7,  11,  13,  17,  19,  23,  29,  31,  37,  41,\n",
       "        43,  47,  53,  59,  61,  67,  71,  73,  79,  83,  89,  97, 101,\n",
       "       103, 107, 109, 113, 127, 131, 137, 139, 149, 151, 157, 163, 167,\n",
       "       173, 179, 181, 191, 193, 197, 199, 211, 223, 227, 229, 233, 239,\n",
       "       241, 251, 257, 263, 269, 271, 277, 281, 283, 293, 307, 311, 313,\n",
       "       317, 331, 337, 347, 349, 353, 359, 367, 373, 379, 383, 389, 397,\n",
       "       401, 409, 419, 421, 431, 433, 439, 443, 449, 457, 461, 463, 467,\n",
       "       479, 487, 491, 499, 503, 509, 521, 523, 541, 547, 557, 563, 569,\n",
       "       571, 577, 587, 593, 599, 601, 607, 613, 617, 619, 631, 641, 643,\n",
       "       647, 653, 659, 661, 673, 677, 683, 691, 701, 709, 719, 727, 733,\n",
       "       739, 743, 751, 757, 761, 769, 773, 787, 797, 809, 811, 821, 823,\n",
       "       827, 829, 839, 853, 857, 859, 863, 877, 881, 883, 887, 907, 911,\n",
       "       919, 929, 937, 941, 947, 953, 967, 971, 977, 983, 991, 997])"
      ]
     },
     "execution_count": 14,
     "metadata": {},
     "output_type": "execute_result"
    }
   ],
   "source": [
    "import math\n",
    "def erathosthene(n):\n",
    "  l=np.ones(n,dtype=bool)\n",
    "  l[0:2]=False\n",
    "  for k in range(2,int(math.sqrt(n))+1):\n",
    "    l[(k**2)::k]=False\n",
    "  return(np.arange(n)[l])\n",
    "\n",
    "erathosthene(1000)  "
   ]
  },
  {
   "cell_type": "markdown",
   "metadata": {
    "id": "77ojUaiHBydF"
   },
   "source": [
    "**Exercice 5 : Marches Aléatoires**"
   ]
  },
  {
   "cell_type": "code",
   "execution_count": null,
   "metadata": {
    "colab": {
     "base_uri": "https://localhost:8080/",
     "height": 525
    },
    "id": "egqHcVgml14R",
    "outputId": "862add90-e6a6-49b4-95a0-cb84ac18b7a5"
   },
   "outputs": [
    {
     "name": "stdout",
     "output_type": "stream",
     "text": [
      "[[ 0.  1.  1. ... -1.  1. -1.]\n",
      " [ 0. -1. -1. ... -1.  1.  1.]\n",
      " [ 0.  1.  1. ... -1. -1.  1.]\n",
      " ...\n",
      " [ 0. -1. -1. ... -1. -1.  1.]\n",
      " [ 0.  1.  1. ...  1. -1. -1.]\n",
      " [ 0. -1. -1. ... -1. -1.  1.]]\n",
      "[[  0.   1.   2. ...  25.  26.  25.]\n",
      " [  0.  -1.  -2. ... -15. -14. -13.]\n",
      " [  0.   1.   2. ...  13.  12.  13.]\n",
      " ...\n",
      " [  0.  -1.  -2. ... -23. -24. -23.]\n",
      " [  0.   1.   2. ... -11. -12. -13.]\n",
      " [  0.  -1.  -2. ...  19.  18.  19.]]\n"
     ]
    },
    {
     "data": {
      "text/plain": [
       "[<matplotlib.lines.Line2D at 0x7f5bf810ae50>]"
      ]
     },
     "execution_count": 7,
     "metadata": {},
     "output_type": "execute_result"
    },
    {
     "data": {
      "image/png": "[encoded data removed]",
      "text/plain": [
       "<Figure size 432x288 with 1 Axes>"
      ]
     },
     "metadata": {
      "needs_background": "light"
     },
     "output_type": "display_data"
    }
   ],
   "source": [
    "import random\n",
    "l=np.zeros((10000,1000))\n",
    "for i in range(10000):\n",
    "  for j in range(1,1000):\n",
    "    l[i,j]=random.choice([-1,1])\n",
    "print(l)\n",
    "M=np.cumsum(l,axis=1)\n",
    "print(M)\n",
    "\n",
    "import matplotlib.pyplot as plt\n",
    "R=np.sqrt((M**2).mean(axis=0))\n",
    "T=np.arange(len(R))\n",
    "plt.plot(T,R)"
   ]
  },
  {
   "cell_type": "code",
   "execution_count": null,
   "metadata": {
    "colab": {
     "base_uri": "https://localhost:8080/"
    },
    "id": "3qMrlL2NtsnV",
    "outputId": "caced299-408b-4722-9d39-7c43ceef14c6"
   },
   "outputs": [
    {
     "name": "stdout",
     "output_type": "stream",
     "text": [
      "l'amplitude maximale atteinte est: 130.0\n",
      "l'amplitude minimale atteinte est: -137.0\n"
     ]
    }
   ],
   "source": [
    "print(\"l'amplitude maximale atteinte est:\",M.max())\n",
    "print(\"l'amplitude minimale atteinte est:\",M.min())"
   ]
  },
  {
   "cell_type": "code",
   "execution_count": null,
   "metadata": {
    "colab": {
     "base_uri": "https://localhost:8080/"
    },
    "id": "SGuqaq5kqYRt",
    "outputId": "79dd25ca-0cdc-4da8-c478-3e69d04caef3"
   },
   "outputs": [
    {
     "name": "stdout",
     "output_type": "stream",
     "text": [
      "le nombre de marches qui s'éloignent plus de 50 est: 2171\n"
     ]
    }
   ],
   "source": [
    "N=np.any(np.abs(M)>50,axis=1)\n",
    "print(\"le nombre de marches qui s'éloignent plus de 50 est:\",N.sum())"
   ]
  },
  {
   "cell_type": "code",
   "execution_count": null,
   "metadata": {
    "colab": {
     "base_uri": "https://localhost:8080/"
    },
    "id": "eAoGfrkXzrKZ",
    "outputId": "5c3c13cd-6c55-4df3-a280-9f0c0daa6c2e"
   },
   "outputs": [
    {
     "name": "stdout",
     "output_type": "stream",
     "text": [
      "Parmi les marches qui dépassent 50, la moyenne des temps de passage est: 678.858129894058\n"
     ]
    }
   ],
   "source": [
    "u=(np.abs(M[N,:])>50).argmax(axis=1)\n",
    "print(\"Parmi les marches qui dépassent 50, la moyenne des temps de passage est:\",u.mean())"
   ]
  },
  {
   "cell_type": "code",
   "execution_count": null,
   "metadata": {
    "colab": {
     "base_uri": "https://localhost:8080/"
    },
    "id": "SleEIGR94PoQ",
    "outputId": "546159d6-9d9d-4971-ebb4-06888103dc19"
   },
   "outputs": [
    {
     "name": "stdout",
     "output_type": "stream",
     "text": [
      "[[ 1.  1.  1. ... -1.  1. -1.]\n",
      " [-1. -1. -1. ... -1.  1.  1.]\n",
      " [ 1.  1.  1. ... -1. -1.  1.]\n",
      " ...\n",
      " [-1. -1.  1. ... -1. -1.  1.]\n",
      " [ 1.  1.  1. ...  1. -1. -1.]\n",
      " [-1. -1. -1. ... -1. -1.  1.]]\n"
     ]
    },
    {
     "data": {
      "text/plain": [
       "(10000, 999)"
      ]
     },
     "execution_count": 11,
     "metadata": {},
     "output_type": "execute_result"
    }
   ],
   "source": [
    "s=M[:,1:]-M[:,:-1]\n",
    "print(s)\n",
    "np.shape(s)"
   ]
  }
 ],
 "metadata": {
  "colab": {
   "collapsed_sections": [],
   "name": "Untitled7.ipynb",
   "provenance": []
  },
  "kernelspec": {
   "display_name": "Python 3",
   "language": "python",
   "name": "python3"
  },
  "language_info": {
   "codemirror_mode": {
    "name": "ipython",
    "version": 3
   },
   "file_extension": ".py",
   "mimetype": "text/x-python",
   "name": "python",
   "nbconvert_exporter": "python",
   "pygments_lexer": "ipython3",
   "version": "3.8.5"
  }
 },
 "nbformat": 4,
 "nbformat_minor": 1
}
