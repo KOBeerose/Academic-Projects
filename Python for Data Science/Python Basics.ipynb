{
 "cells": [
  {
   "cell_type": "markdown",
   "metadata": {},
   "source": [
    "## Exercise − Loops basics"
   ]
  },
  {
   "cell_type": "markdown",
   "metadata": {},
   "source": [
    "1- Consider the list ['Java', 'C ++', 'C', 'Python']. Display all the elements of this list (one element per line) in three different ways (two with for and one with while)."
   ]
  },
  {
   "cell_type": "code",
   "execution_count": 1,
   "metadata": {},
   "outputs": [
    {
     "name": "stdout",
     "output_type": "stream",
     "text": [
      "Using for Loop \n",
      "\n",
      "Java\n",
      "C ++\n",
      "C\n",
      "Python\n",
      "\n",
      " Using while Loop \n",
      "\n",
      "Java\n",
      "C ++\n",
      "C\n",
      "Python\n",
      "\n",
      " Using list comprehension \n",
      "\n",
      "Java\n",
      "C ++\n",
      "C\n",
      "Python\n",
      "\n",
      " Using * operator \n",
      "\n",
      "Java\n",
      "C ++\n",
      "C\n",
      "Python\n",
      "\n",
      " Using map \n",
      "\n",
      "Java\n",
      "C ++\n",
      "C\n",
      "Python\n"
     ]
    }
   ],
   "source": [
    "list = ['Java', 'C ++', 'C', 'Python']\n",
    "i = 0\n",
    "# first method\n",
    "print(\"Using for Loop \\n\")\n",
    "for x in list : print(x)\n",
    "\n",
    "# second method\n",
    "print(\"\\n Using while Loop \\n\")\n",
    "while i < len(list) : \n",
    "    print(list[i])\n",
    "    i+=1\n",
    "    \n",
    "\n",
    "# third method\n",
    "print(\"\\n Using list comprehension \\n\")\n",
    "[print(i) for i in list]\n",
    "\n",
    "\n",
    "# bonus\n",
    "print(\"\\n Using * operator \\n\")\n",
    "print(*list, sep = \"\\n\")\n",
    "\n",
    "print(\"\\n Using map \\n\")\n",
    "print('\\n'.join(map(str, list)))"
   ]
  },
  {
   "cell_type": "markdown",
   "metadata": {},
   "source": [
    "2- Create a week list containing the 7 days of the week. Write a series of instructions displaying the days of the week (using a for loop), as well as another set of instructions showing the days of the weekend (using a while loop)."
   ]
  },
  {
   "cell_type": "code",
   "execution_count": 2,
   "metadata": {},
   "outputs": [
    {
     "name": "stdout",
     "output_type": "stream",
     "text": [
      "Using for Loop \n",
      "\n",
      "Monday\n",
      "Tuesday\n",
      "Wednesday\n",
      "Thursday\n",
      "Friday\n",
      "Saturday\n",
      "Sunday\n",
      "\n",
      " Using while Loop \n",
      "\n",
      "Monday\n",
      "Tuesday\n",
      "Wednesday\n",
      "Thursday\n",
      "Friday\n",
      "Saturday\n",
      "Sunday\n"
     ]
    }
   ],
   "source": [
    "Days_of_week = [ 'Monday', 'Tuesday', 'Wednesday', 'Thursday', 'Friday',  'Saturday', 'Sunday' ]\n",
    "i = 0\n",
    "\n",
    "print(\"Using for Loop \\n\")\n",
    "for day in Days_of_week : print(day)\n",
    "    \n",
    "print(\"\\n Using while Loop \\n\")\n",
    "while i < len(Days_of_week) : \n",
    "    print(Days_of_week[i])\n",
    "    i+=1\n",
    "    "
   ]
  },
  {
   "cell_type": "markdown",
   "metadata": {},
   "source": [
    "3- With a loop, display the numbers from 1 to 10 on a single line."
   ]
  },
  {
   "cell_type": "code",
   "execution_count": 3,
   "metadata": {
    "scrolled": true
   },
   "outputs": [],
   "source": [
    "# while (i < 11): print(i)     I didn't find any answer to this question "
   ]
  },
  {
   "cell_type": "markdown",
   "metadata": {},
   "source": [
    "4- Let the list of numbers be odd [1, 3, 5, 7, 9, 11, 13, 15, 17, 19, 21]. Write a program which, from the odd-numbered list, builds a list\n",
    "even in which all the elements of odd are incremented by 1."
   ]
  },
  {
   "cell_type": "code",
   "execution_count": 4,
   "metadata": {},
   "outputs": [
    {
     "name": "stdout",
     "output_type": "stream",
     "text": [
      "[2, 4, 6, 8, 10, 12, 14, 16, 18, 20, 22]\n"
     ]
    }
   ],
   "source": [
    "odd_list = [1, 3, 5, 7, 9, 11, 13, 15, 17, 19, 21]\n",
    "\n",
    "# Our function\n",
    "def odd2even(list):\n",
    "    return [x+1 for x in list]\n",
    "\n",
    "# let's Call it and see\n",
    "print(odd2even(odd_list))"
   ]
  },
  {
   "cell_type": "markdown",
   "metadata": {},
   "source": [
    "5- Here are a student's grades [14, 9, 6, 8, 12]. Calculate the average of these scores. Use formatted writing to display the mean value\n",
    "with two decimal places."
   ]
  },
  {
   "cell_type": "code",
   "execution_count": 5,
   "metadata": {},
   "outputs": [
    {
     "name": "stdout",
     "output_type": "stream",
     "text": [
      "9.8\n"
     ]
    }
   ],
   "source": [
    "grades = [14, 9, 6, 8, 12]\n",
    "\n",
    "# our function\n",
    "def arg_scores(list):\n",
    "    return round(sum(list) / len(list), 2)\n",
    "\n",
    "# let's Call it and see\n",
    "print(arg_scores(grades))"
   ]
  },
  {
   "cell_type": "markdown",
   "metadata": {},
   "source": [
    "6- With the list () and range () functions, create the integer list containing the even integers from 2 to 20 inclusive. Then calculate the product of the numbers consecutive two to two of integers using a loop. Example for the first iterations"
   ]
  },
  {
   "cell_type": "code",
   "execution_count": 6,
   "metadata": {},
   "outputs": [
    {
     "name": "stdout",
     "output_type": "stream",
     "text": [
      "8\n",
      "24\n",
      "48\n",
      "80\n",
      "120\n",
      "168\n",
      "224\n",
      "288\n",
      "360\n"
     ]
    }
   ],
   "source": [
    "even_list = range(2,21,2)\n",
    "\n",
    "for i in range(len(even_list)-1) : print(even_list[i]*even_list[i+1])"
   ]
  },
  {
   "cell_type": "markdown",
   "metadata": {},
   "source": [
    "## Basic loops: triangles"
   ]
  },
  {
   "cell_type": "code",
   "execution_count": 7,
   "metadata": {},
   "outputs": [
    {
     "name": "stdout",
     "output_type": "stream",
     "text": [
      "\n",
      "*\n",
      "**\n",
      "***\n",
      "****\n",
      "*****\n",
      "******\n",
      "*******\n",
      "********\n",
      "*********\n"
     ]
    }
   ],
   "source": [
    "# Triangle\n",
    "dots = '**********'\n",
    "\n",
    "for i in range (len(dots)) : print(dots[:i])\n"
   ]
  },
  {
   "cell_type": "code",
   "execution_count": 8,
   "metadata": {},
   "outputs": [
    {
     "name": "stdout",
     "output_type": "stream",
     "text": [
      "**********\n",
      "*********\n",
      "********\n",
      "*******\n",
      "******\n",
      "*****\n",
      "****\n",
      "***\n",
      "**\n",
      "*\n"
     ]
    }
   ],
   "source": [
    "# Inversed Triangle\n",
    "dots = '**********'\n",
    "\n",
    "for i in range (len(dots)) : print(dots[:len(dots)-i])"
   ]
  },
  {
   "cell_type": "code",
   "execution_count": 9,
   "metadata": {},
   "outputs": [
    {
     "name": "stdout",
     "output_type": "stream",
     "text": [
      "          \n",
      "         *\n",
      "        **\n",
      "       ***\n",
      "      ****\n",
      "     *****\n",
      "    ******\n",
      "   *******\n",
      "  ********\n",
      " *********\n"
     ]
    }
   ],
   "source": [
    "# Left Triangle\n",
    "dots = '**********'\n",
    "\n",
    "for i in range (len(dots)) : print(\" \"*(len(dots)-i) + dots[:i])"
   ]
  },
  {
   "cell_type": "markdown",
   "metadata": {},
   "source": [
    "1- Create a pyra.py script that draws a pyramid "
   ]
  },
  {
   "cell_type": "code",
   "execution_count": 10,
   "metadata": {},
   "outputs": [
    {
     "name": "stdout",
     "output_type": "stream",
     "text": [
      "          *\n",
      "         ***\n",
      "        *****\n",
      "       *******\n",
      "      *********\n",
      "     ***********\n",
      "    *************\n",
      "   ***************\n",
      "  *****************\n",
      " *******************\n"
     ]
    }
   ],
   "source": [
    "# Pyramid\n",
    "dots = '**********'\n",
    "\n",
    "for i in range (len(dots)) : print(\" \"*(len(dots)-i) + dots[0]*(i*2+1))"
   ]
  },
  {
   "cell_type": "markdown",
   "metadata": {},
   "source": [
    "2- Try to evolve your script to draw the pyramid from an arbitrary number of N lines. You can ask the user for the\n",
    "number of lines in the pyramid with the following statements that use the input () function:"
   ]
  },
  {
   "cell_type": "code",
   "execution_count": 11,
   "metadata": {},
   "outputs": [
    {
     "name": "stdout",
     "output_type": "stream",
     "text": [
      "Enter a number of rows (positive integer): 7\n",
      "       *\n",
      "      ***\n",
      "     *****\n",
      "    *******\n",
      "   *********\n",
      "  ***********\n",
      " *************\n"
     ]
    }
   ],
   "source": [
    "response = input(\"Enter a number of rows (positive integer): \")\n",
    "N = int(response)\n",
    "\n",
    "# Pyramid\n",
    "dots = '*'*N\n",
    "\n",
    "for i in range (len(dots)) : print(\" \"*(len(dots)-i) + dots[0]*(i*2+1))"
   ]
  },
  {
   "cell_type": "markdown",
   "metadata": {},
   "source": [
    "## Iterating over Matrix"
   ]
  },
  {
   "cell_type": "markdown",
   "metadata": {},
   "source": [
    "let's assume that we wish to browse all the elements of a square matrix, that is to say of a matrix which is made up of as many rows as there are\n",
    "columns. Create a script that iterates through each element of the array and displays the row and column number only with for loops."
   ]
  },
  {
   "cell_type": "code",
   "execution_count": 12,
   "metadata": {},
   "outputs": [
    {
     "name": "stdout",
     "output_type": "stream",
     "text": [
      "line column\n",
      "  1\t1\n",
      "  1\t2\n",
      "  1\t3\n",
      "  2\t1\n",
      "  2\t2\n",
      "  2\t3\n",
      "  3\t1\n",
      "  3\t2\n",
      "  3\t3\n"
     ]
    }
   ],
   "source": [
    "l=[(\"line\",\"column\")]\n",
    "Matrix=[[0,0,0],[1,1,1],[2,2,2]]\n",
    "\n",
    "def iterate(M):\n",
    "  for i in range(len(M)):\n",
    "    for j in range(len(M[0])):\n",
    "      l.append((i+1,j+1))\n",
    "  print(l[0][0]+\" \"+l[0][1]) \n",
    "  for i in range(1,len(l)):\n",
    "    print(\"  \"+str(l[i][0])+\"\\t\"+str(l[i][1]))\n",
    "\n",
    "\n",
    "iterate(Matrix)"
   ]
  },
  {
   "cell_type": "markdown",
   "metadata": {
    "id": "Hjn1dgKsZL1l"
   },
   "source": [
    "**Fibonacci**"
   ]
  },
  {
   "cell_type": "code",
   "execution_count": 13,
   "metadata": {
    "colab": {
     "base_uri": "https://localhost:8080/"
    },
    "id": "EmRz6lJB2GaL",
    "outputId": "21307748-4684-4e44-caf8-dd6fbc79015e"
   },
   "outputs": [
    {
     "name": "stdout",
     "output_type": "stream",
     "text": [
      "3785\n"
     ]
    }
   ],
   "source": [
    "import random\n",
    "i=j=0\n",
    "while i<5:\n",
    "  i+=random.choice([-1,1])\n",
    "  j+=1\n",
    "\n",
    "print(j)  "
   ]
  },
  {
   "cell_type": "code",
   "execution_count": 14,
   "metadata": {
    "colab": {
     "base_uri": "https://localhost:8080/"
    },
    "id": "hmOkCzm_2zGg",
    "outputId": "9f346cab-9252-49d5-ebb4-43cebffee9b6"
   },
   "outputs": [
    {
     "name": "stdout",
     "output_type": "stream",
     "text": [
      "[0, 1, 1, 2, 3, 5, 8, 13, 21, 34, 55, 89, 144, 233, 377]\n"
     ]
    }
   ],
   "source": [
    "u,v = 0,1\n",
    "l=[0,1]\n",
    "for i in range(2,15):\n",
    "  next=u+v\n",
    "  l.append(next)\n",
    "  u,v = v,next\n",
    "\n",
    "print(l)"
   ]
  },
  {
   "cell_type": "code",
   "execution_count": 15,
   "metadata": {
    "colab": {
     "base_uri": "https://localhost:8080/"
    },
    "id": "Z3Hr-XZQ32CP",
    "outputId": "aedad59f-eabc-4a14-b078-c1e2986d1ef0"
   },
   "outputs": [
    {
     "name": "stdout",
     "output_type": "stream",
     "text": [
      "[0, 1, (1, 1.0), (2, 2.0), (3, 1.5), (5, 1.6666666666666667), (8, 1.6), (13, 1.625), (21, 1.6153846153846154), (34, 1.619047619047619), (55, 1.6176470588235294), (89, 1.6181818181818182), (144, 1.6179775280898876), (233, 1.6180555555555556), (377, 1.6180257510729614)]\n"
     ]
    }
   ],
   "source": [
    "u,v = 0,1\n",
    "l=[0,1]\n",
    "for i in range(2,15):\n",
    "  next=u+v\n",
    "  l.append((next,next/v))\n",
    "  u,v = v,next\n",
    "\n",
    "print(l)"
   ]
  },
  {
   "cell_type": "markdown",
   "metadata": {
    "id": "ZB-tTF_74zWd"
   },
   "source": [
    "the ratio tends towards a constant limit equal to 1.618"
   ]
  },
  {
   "cell_type": "markdown",
   "metadata": {
    "id": "WRKqZHlsZdED"
   },
   "source": [
    "## Exercises-Tests"
   ]
  },
  {
   "cell_type": "markdown",
   "metadata": {
    "id": "5ZyrmbKBZg-M"
   },
   "source": [
    "**Exercise 1**"
   ]
  },
  {
   "cell_type": "code",
   "execution_count": 16,
   "metadata": {
    "colab": {
     "base_uri": "https://localhost:8080/"
    },
    "id": "5Y2O0ug05RjB",
    "outputId": "f7e6d230-55de-4aa1-f86f-de43b89ae5db"
   },
   "outputs": [
    {
     "name": "stdout",
     "output_type": "stream",
     "text": [
      "It's Monday go to work.\n",
      "It's Tuesday go to work.\n",
      "It's Wednesday go to work.\n",
      "It's Thursday go to work.\n",
      "It's Friday the weekend is soon\n",
      "take a rest it's the weekend\n",
      "take a rest it's the weekend\n"
     ]
    }
   ],
   "source": [
    "L = [\"Monday\", \"Tuesday\", \"Wednesday\", \"Thursday\", \"Friday\", \"Saturday\", \"Sunday\"]\n",
    "n=len(L)\n",
    "for j in range(n):\n",
    "    if 0<=j<4:\n",
    "        print (\"It's \" + L [j] + \" go to work.\")\n",
    "    elif L [j] == \"Friday\":\n",
    "        print (\"It's Friday the weekend is soon\")\n",
    "    else:\n",
    "        print (\"take a rest it's the weekend\")"
   ]
  },
  {
   "cell_type": "markdown",
   "metadata": {
    "id": "MHLmrnfYZlOr"
   },
   "source": [
    "**Exercise 2**"
   ]
  },
  {
   "cell_type": "code",
   "execution_count": 17,
   "metadata": {
    "colab": {
     "base_uri": "https://localhost:8080/"
    },
    "id": "2Ei8WNi-7WqG",
    "outputId": "46f3e459-4ff1-4414-cc9b-02fd1de5b249"
   },
   "outputs": [
    {
     "name": "stdout",
     "output_type": "stream",
     "text": [
      "1\n"
     ]
    }
   ],
   "source": [
    "l=[8, 4, 6, 1, 5]\n",
    "minimum=l[0]\n",
    "for x in l:\n",
    "    if x<minimum:\n",
    "        minimum=x\n",
    "print(minimum)    "
   ]
  },
  {
   "cell_type": "markdown",
   "metadata": {
    "id": "GZu6wvQ_ZtAa"
   },
   "source": [
    "**Exercise 3**"
   ]
  },
  {
   "cell_type": "code",
   "execution_count": 18,
   "metadata": {
    "colab": {
     "base_uri": "https://localhost:8080/"
    },
    "id": "9_M6DmmN7sy8",
    "outputId": "8b02c876-5a55-4393-c2ba-7f1c0cd74483"
   },
   "outputs": [
    {
     "data": {
      "text/plain": [
       "{'A': 5, 'R': 3, 'W': 5, 'G': 1}"
      ]
     },
     "execution_count": 18,
     "metadata": {},
     "output_type": "execute_result"
    }
   ],
   "source": [
    "l=[\"A\",\"R\",\"A\",\"W\",\"W\",\"A\",\"W\",\"A\",\"R\",\"W\",\"W\",\"R\",\"A\",\"G\"]\n",
    "M={}\n",
    "for x in l:\n",
    "  if x not in M:\n",
    "    M[x]=0\n",
    "  M[x]+=1\n",
    "M\n"
   ]
  },
  {
   "cell_type": "markdown",
   "metadata": {
    "id": "ykVpPtE5Zwqi"
   },
   "source": [
    "**Exercise 4**"
   ]
  },
  {
   "cell_type": "code",
   "execution_count": 19,
   "metadata": {
    "colab": {
     "base_uri": "https://localhost:8080/"
    },
    "id": "Qa1OUT189GOf",
    "outputId": "9284fae4-a53b-405a-d82a-3a3eee920e59"
   },
   "outputs": [
    {
     "name": "stdout",
     "output_type": "stream",
     "text": [
      "the max mark of this student is   15\n",
      "the min mark of this student is   9\n",
      "the average mark of this student 12.60\n",
      "grade: Good\n"
     ]
    }
   ],
   "source": [
    "lit = [14, 9, 13, 15, 12]\n",
    "maximum=max(lit)\n",
    "minimum=min(lit)\n",
    "g=0\n",
    "for x in lit:\n",
    "    g+=x\n",
    "moy=g/len(lit)\n",
    "grade=\"\"\n",
    "if 10<=moy<12:\n",
    "  grade=\"Passable\"\n",
    "elif 12<=moy<14:\n",
    "  grade=\"Good\"\n",
    "elif moy>=14:\n",
    "  grade=\"Very Good\"  \n",
    "print(\"the max mark of this student is  \",maximum)\n",
    "print(\"the min mark of this student is  \",minimum)\n",
    "\n",
    "print(f\"the average mark of this student {moy:.2f}\")\n",
    "print(\"grade: \"+grade)\n",
    "\n",
    "\n",
    "\n"
   ]
  },
  {
   "cell_type": "markdown",
   "metadata": {
    "id": "R21enwNtZ11A"
   },
   "source": [
    "**Exercise 5**"
   ]
  },
  {
   "cell_type": "code",
   "execution_count": 20,
   "metadata": {
    "colab": {
     "base_uri": "https://localhost:8080/"
    },
    "id": "vSNEG4jA6GNg",
    "outputId": "721072e8-873a-4837-b42c-4b9e43f6d0b8"
   },
   "outputs": [
    {
     "name": "stdout",
     "output_type": "stream",
     "text": [
      "the number  0 is even\n",
      "the number  2 is even\n",
      "the number  4 is even\n",
      "the number  6 is even\n",
      "the number  8 is even\n",
      "the number  10 is even\n",
      "the number  11 is odd\n",
      "the number  13 is odd\n",
      "the number  15 is odd\n",
      "the number  17 is odd\n",
      "the number  19 is odd\n"
     ]
    }
   ],
   "source": [
    "for i in range(21):\n",
    "  if i<=10 and i%2==0:\n",
    "    print(\"the number \",i,\"is even\")\n",
    "  elif i>10 and i%2!=0:\n",
    "    print(\"the number \",i,\"is odd\")  "
   ]
  },
  {
   "cell_type": "markdown",
   "metadata": {
    "id": "YtyLOxq2Z4zM"
   },
   "source": [
    "**Exercise : Syracuse Conjecture**"
   ]
  },
  {
   "cell_type": "code",
   "execution_count": 21,
   "metadata": {
    "colab": {
     "base_uri": "https://localhost:8080/"
    },
    "id": "J6tJcDIW4fQr",
    "outputId": "baa2b6ad-42b4-486b-e070-be62290a6c48"
   },
   "outputs": [
    {
     "name": "stdout",
     "output_type": "stream",
     "text": [
      "10\n",
      "5\n",
      "16\n",
      "8\n",
      "4\n",
      "2\n",
      "1\n",
      "4\n",
      "2\n",
      "1\n",
      "4\n",
      "2\n",
      "13\n",
      "40\n",
      "20\n",
      "10\n",
      "5\n",
      "16\n",
      "8\n",
      "4\n",
      "2\n",
      "1\n",
      "4\n",
      "2\n",
      "583\n",
      "1750\n",
      "875\n",
      "2626\n",
      "1313\n",
      "3940\n",
      "1970\n",
      "985\n",
      "2956\n",
      "1478\n",
      "739\n",
      "2218\n",
      "1109\n",
      "3328\n",
      "1664\n",
      "832\n",
      "416\n",
      "208\n",
      "104\n",
      "52\n",
      "26\n",
      "13\n",
      "40\n",
      "20\n",
      "10\n",
      "5\n",
      "16\n",
      "8\n",
      "4\n",
      "2\n",
      "1\n",
      "4\n",
      "2\n",
      "1\n",
      "4\n",
      "2\n",
      "1\n",
      "4\n",
      "2\n",
      "1\n"
     ]
    }
   ],
   "source": [
    "def Syracuse(n,i):\n",
    "  c=0\n",
    "  while c!=i:\n",
    "    print(n)\n",
    "    if n%2==0:\n",
    "      n=int(n/2)\n",
    "    else:\n",
    "      n=n*3+1  \n",
    "    c+=1\n",
    "\n",
    "Syracuse(10,12)\n",
    "Syracuse(13,12)\n",
    "Syracuse(583,40)\n"
   ]
  },
  {
   "cell_type": "markdown",
   "metadata": {
    "id": "vsbMsU8PRQmg"
   },
   "source": [
    "The numbers that make up the trivial cycle are 1, 2 et 4"
   ]
  },
  {
   "cell_type": "markdown",
   "metadata": {
    "id": "oOmY1dRmaAjz"
   },
   "source": [
    "**Exercise : Finding a number by dichotomy**"
   ]
  },
  {
   "cell_type": "code",
   "execution_count": 22,
   "metadata": {
    "colab": {
     "base_uri": "https://localhost:8080/"
    },
    "id": "O1pbYYWfRK_a",
    "outputId": "95dd2134-fbab-44ae-947f-2139f3376a73"
   },
   "outputs": [
    {
     "name": "stdout",
     "output_type": "stream",
     "text": [
      "Think about a number between 0 and 100 67\n",
      "is your number larger, smaller or equals to 50?   larger\n",
      "is your number larger, smaller or equals to 75?   smaller\n",
      "is your number larger, smaller or equals to 62?   larger\n",
      "is your number larger, smaller or equals to 68?   smaller\n",
      "is your number larger, smaller or equals to 65?   larger\n",
      "is your number larger, smaller or equals to 66?   larger\n",
      "is your number larger, smaller or equals to 67?   equals\n",
      "the number that you're thinking about is 67\n",
      "I have found it after 7 questions\n"
     ]
    }
   ],
   "source": [
    "def dicho_search(a,b):\n",
    "  n=int(input(\"Think about a number between \"+str(a)+\" and \"+str(b)+\" \"))\n",
    "  cpt=1\n",
    "  d=int((b+a)/2)\n",
    "  quest=input(\"is your number larger, smaller or equals to \"+str(d)+\"?   \")\n",
    "  while(quest!=\"equals\"):\n",
    "    if quest==\"larger\":\n",
    "      a=d\n",
    "      d=int((b+a)/2)\n",
    "    elif quest==\"smaller\":\n",
    "      b=d\n",
    "      d=int((b+a)/2)\n",
    "    quest=input(\"is your number larger, smaller or equals to \"+str(d)+\"?   \")\n",
    "    cpt+=1\n",
    "  print(\"the number that you're thinking about is\",d)\n",
    "  print(\"I have found it after\",cpt,\"questions\")\n",
    "\n",
    "dicho_search(0,100)\n",
    "\n",
    "\n"
   ]
  },
  {
   "cell_type": "markdown",
   "metadata": {
    "id": "KusFgVi0aMvu"
   },
   "source": [
    "**Exercise-Functions**"
   ]
  },
  {
   "cell_type": "markdown",
   "metadata": {
    "id": "uqAm3MKCaRUE"
   },
   "source": [
    "**Exercise 1**"
   ]
  },
  {
   "cell_type": "code",
   "execution_count": 23,
   "metadata": {
    "colab": {
     "base_uri": "https://localhost:8080/"
    },
    "id": "9mn0f-B0YHFY",
    "outputId": "2a4bcb36-996c-472f-df25-db2cac21731e"
   },
   "outputs": [
    {
     "name": "stdout",
     "output_type": "stream",
     "text": [
      "2 ^ 1 = 2\n",
      "2 ^ 2 = 4\n",
      "2 ^ 3 = 8\n",
      "2 ^ 4 = 16\n",
      "2 ^ 5 = 32\n",
      "2 ^ 6 = 64\n",
      "2 ^ 7 = 128\n",
      "2 ^ 8 = 256\n",
      "2 ^ 9 = 512\n",
      "2 ^ 10 = 1024\n",
      "2 ^ 11 = 2048\n",
      "2 ^ 12 = 4096\n",
      "2 ^ 13 = 8192\n",
      "2 ^ 14 = 16384\n",
      "2 ^ 15 = 32768\n",
      "2 ^ 16 = 65536\n",
      "2 ^ 17 = 131072\n",
      "2 ^ 18 = 262144\n",
      "2 ^ 19 = 524288\n",
      "2 ^ 20 = 1048576\n"
     ]
    }
   ],
   "source": [
    "def get_power(x,y):\n",
    "    return(x**y)\n",
    "for i in range(1,21):\n",
    "    print(\"2 ^\",i,\"=\",get_power(2,i))"
   ]
  },
  {
   "cell_type": "markdown",
   "metadata": {
    "id": "rBMtQw3EaT4e"
   },
   "source": [
    "**Exercise 2**"
   ]
  },
  {
   "cell_type": "code",
   "execution_count": 24,
   "metadata": {
    "colab": {
     "base_uri": "https://localhost:8080/"
    },
    "id": "hMQWN77ZcTIB",
    "outputId": "c568b09c-3b94-47e0-9b7a-657daad50aeb"
   },
   "outputs": [
    {
     "name": "stdout",
     "output_type": "stream",
     "text": [
      "please enter the number of lines of the pyramid you want 17\n",
      "                 *\n",
      "                ***\n",
      "               *****\n",
      "              *******\n",
      "             *********\n",
      "            ***********\n",
      "           *************\n",
      "          ***************\n",
      "         *****************\n",
      "        *******************\n",
      "       *********************\n",
      "      ***********************\n",
      "     *************************\n",
      "    ***************************\n",
      "   *****************************\n",
      "  *******************************\n",
      " *********************************\n"
     ]
    }
   ],
   "source": [
    "def gen_pyramide(N):\n",
    "    j=N\n",
    "    for i in range(1,N*2+1,2):\n",
    "        print(\" \"*j+\"*\"*i)\n",
    "        j-=1\n",
    "\n",
    "n=int(input(\"please enter the number of lines of the pyramid you want \"))    \n",
    "gen_pyramide(n)\n"
   ]
  },
  {
   "cell_type": "markdown",
   "metadata": {
    "id": "HOGZPrdEaWhE"
   },
   "source": [
    "**Exercise 3**"
   ]
  },
  {
   "cell_type": "code",
   "execution_count": 25,
   "metadata": {
    "colab": {
     "base_uri": "https://localhost:8080/"
    },
    "id": "MFraGN9Jc-7l",
    "outputId": "473409f4-c03d-4f19-d6c7-3996e9ebef34"
   },
   "outputs": [
    {
     "name": "stdout",
     "output_type": "stream",
     "text": [
      "please enter an integer 324191271\n",
      "False\n"
     ]
    }
   ],
   "source": [
    "def is_prime(n):\n",
    "    for i in range(2,n//2+1):\n",
    "        if n%i==0:\n",
    "          return False\n",
    "    return True\n",
    "\n",
    "n=int(input(\"please enter an integer \"))\n",
    "print(is_prime(n))\n"
   ]
  },
  {
   "cell_type": "code",
   "execution_count": 26,
   "metadata": {},
   "outputs": [
    {
     "name": "stdout",
     "output_type": "stream",
     "text": [
      "2\n",
      "3\n",
      "5\n",
      "7\n",
      "11\n",
      "13\n",
      "17\n",
      "19\n",
      "23\n",
      "29\n",
      "31\n",
      "37\n",
      "41\n",
      "43\n",
      "47\n",
      "53\n",
      "59\n",
      "61\n",
      "67\n",
      "71\n",
      "73\n",
      "79\n",
      "83\n",
      "89\n",
      "97\n"
     ]
    }
   ],
   "source": [
    "# printing prime number from 2 to 100\n",
    "for i in range(2,101):\n",
    "    if is_prime(i):\n",
    "        print(i)"
   ]
  },
  {
   "cell_type": "markdown",
   "metadata": {
    "id": "Ut5_JCEIaZ1s"
   },
   "source": [
    "**Exercise 4**"
   ]
  },
  {
   "cell_type": "code",
   "execution_count": 27,
   "metadata": {
    "colab": {
     "base_uri": "https://localhost:8080/"
    },
    "id": "LOeJ1TuVgHSt",
    "outputId": "6b719d6f-32d1-40ab-f50e-5c92c2ec7df9"
   },
   "outputs": [
    {
     "data": {
      "text/plain": [
       "1.7320508075688772"
      ]
     },
     "execution_count": 27,
     "metadata": {},
     "output_type": "execute_result"
    }
   ],
   "source": [
    "import math\n",
    "def calc_distance_3D(a,b):\n",
    "    return(math.sqrt((a[0]-b[0])**2+(a[1]-b[1])**2+(a[2]-b[2])**2))\n",
    "\n",
    "calc_distance_3D((0,0,0),(1,1,1))"
   ]
  },
  {
   "cell_type": "markdown",
   "metadata": {
    "id": "2qylv94gaekI"
   },
   "source": [
    "**Exercise-Distribution and Statistics**"
   ]
  },
  {
   "cell_type": "code",
   "execution_count": 28,
   "metadata": {
    "colab": {
     "base_uri": "https://localhost:8080/"
    },
    "id": "KtJ3Mopghcot",
    "outputId": "4ba153c9-dbc5-4f1e-e650-b5f062329f89"
   },
   "outputs": [
    {
     "data": {
      "text/plain": [
       "[89.387713019303,\n",
       " 92.18498564214065,\n",
       " 91.92949780197102,\n",
       " 87.35272393752133,\n",
       " 52.64829192020484,\n",
       " 1.851531086287388,\n",
       " 45.638055443015915,\n",
       " 38.90578125990406,\n",
       " 74.26820507075827,\n",
       " 65.55939879179098,\n",
       " 1.222246476250385,\n",
       " 21.83337944872488,\n",
       " 65.9445828954081,\n",
       " 82.67076367265501]"
      ]
     },
     "execution_count": 28,
     "metadata": {},
     "output_type": "execute_result"
    }
   ],
   "source": [
    "import random\n",
    "def gen_distrib(deb,fin,N):\n",
    "    l=[]\n",
    "    for i in range(N):\n",
    "        l.append(random.uniform(deb,fin))\n",
    "    return(l)\n",
    "\n",
    "gen_distrib(1,100,14)"
   ]
  },
  {
   "cell_type": "code",
   "execution_count": 29,
   "metadata": {
    "colab": {
     "base_uri": "https://localhost:8080/",
     "height": 630
    },
    "id": "euxVEDC0iU4f",
    "outputId": "9ea0e0ea-fe32-49ef-ef82-39d71117deb4"
   },
   "outputs": [
    {
     "name": "stdout",
     "output_type": "stream",
     "text": [
      "Liste  1  Min: 0.21 ; Max: 99.55 ; Moyenne: 51.86\n",
      "Liste  2  Min: 1.73 ; Max: 99.68 ; Moyenne: 49.14\n",
      "Liste  3  Min: 0.06 ; Max: 98.51 ; Moyenne: 50.65\n",
      "Liste  4  Min: 0.35 ; Max: 99.50 ; Moyenne: 52.31\n",
      "Liste  5  Min: 0.27 ; Max: 99.36 ; Moyenne: 50.18\n",
      "Liste  6  Min: 0.06 ; Max: 99.81 ; Moyenne: 51.98\n",
      "Liste  7  Min: 0.68 ; Max: 97.03 ; Moyenne: 47.83\n",
      "Liste  8  Min: 0.03 ; Max: 99.12 ; Moyenne: 50.95\n",
      "Liste  9  Min: 0.16 ; Max: 98.33 ; Moyenne: 52.98\n",
      "Liste  10  Min: 3.42 ; Max: 99.93 ; Moyenne: 53.05\n",
      "Liste  11  Min: 0.17 ; Max: 97.77 ; Moyenne: 47.99\n",
      "Liste  12  Min: 0.70 ; Max: 99.83 ; Moyenne: 48.71\n",
      "Liste  13  Min: 2.56 ; Max: 99.71 ; Moyenne: 47.99\n",
      "Liste  14  Min: 1.98 ; Max: 99.56 ; Moyenne: 51.49\n",
      "Liste  15  Min: 3.28 ; Max: 97.79 ; Moyenne: 51.32\n",
      "Liste  16  Min: 0.19 ; Max: 98.97 ; Moyenne: 51.66\n",
      "Liste  17  Min: 0.62 ; Max: 98.89 ; Moyenne: 50.41\n",
      "Liste  18  Min: 0.30 ; Max: 99.64 ; Moyenne: 55.51\n",
      "Liste  19  Min: 0.80 ; Max: 98.58 ; Moyenne: 48.36\n",
      "Liste  20  Min: 1.98 ; Max: 98.84 ; Moyenne: 47.38\n"
     ]
    },
    {
     "data": {
      "image/png": "[encoded data removed]",
      "text/plain": [
       "<Figure size 432x288 with 1 Axes>"
      ]
     },
     "metadata": {
      "needs_background": "light"
     },
     "output_type": "display_data"
    }
   ],
   "source": [
    "import matplotlib.pyplot as plt\n",
    "import numpy as np\n",
    "def calc_stat(ary):\n",
    "    h=min(ary)\n",
    "    k=max(ary)\n",
    "    moy=sum(ary)/len(ary)\n",
    "    return([h,k,moy])\n",
    "\n",
    "mini=[]\n",
    "maxi=[]\n",
    "moye=[]\n",
    "for i in range(20):\n",
    "    ary=gen_distrib(0,100,100)\n",
    "    M=calc_stat(ary)\n",
    "    print(\"Liste \",i+1,f\" Min: {M[0]:.2f} ; Max: {M[1]:.2f} ; Moyenne: {M[2]:.2f}\")\n",
    "    mini.append(M[0])\n",
    "    maxi.append(M[1])\n",
    "    moye.append(M[2])\n",
    "\n",
    "plt.plot(range(0,20),mini)\n",
    "plt.plot(range(0,20),maxi)\n",
    "plt.plot(range(0,20),moye)\n",
    "plt.show()"
   ]
  },
  {
   "cell_type": "code",
   "execution_count": 30,
   "metadata": {
    "colab": {
     "base_uri": "https://localhost:8080/",
     "height": 630
    },
    "id": "WvLZbSkNo2Cr",
    "outputId": "58ca0202-4c73-40e4-932b-c2693204dcea"
   },
   "outputs": [
    {
     "name": "stdout",
     "output_type": "stream",
     "text": [
      "List  1  Min: 0.02 ; Max: 99.83 ; Mean: 50.48\n",
      "List  2  Min: 0.05 ; Max: 99.97 ; Mean: 51.14\n",
      "List  3  Min: 0.04 ; Max: 99.96 ; Mean: 49.87\n",
      "List  4  Min: 0.07 ; Max: 99.73 ; Mean: 51.59\n",
      "List  5  Min: 0.09 ; Max: 99.99 ; Mean: 51.44\n",
      "List  6  Min: 0.08 ; Max: 99.99 ; Mean: 48.65\n",
      "List  7  Min: 0.06 ; Max: 99.95 ; Mean: 51.35\n",
      "List  8  Min: 0.20 ; Max: 99.98 ; Mean: 50.70\n",
      "List  9  Min: 0.03 ; Max: 99.97 ; Mean: 49.30\n",
      "List  10  Min: 0.07 ; Max: 99.91 ; Mean: 50.13\n",
      "List  11  Min: 0.07 ; Max: 99.97 ; Mean: 48.49\n",
      "List  12  Min: 0.13 ; Max: 99.82 ; Mean: 49.71\n",
      "List  13  Min: 0.02 ; Max: 99.69 ; Mean: 49.72\n",
      "List  14  Min: 0.30 ; Max: 99.62 ; Mean: 50.34\n",
      "List  15  Min: 0.10 ; Max: 99.90 ; Mean: 50.87\n",
      "List  16  Min: 0.01 ; Max: 99.95 ; Mean: 49.43\n",
      "List  17  Min: 0.18 ; Max: 99.96 ; Mean: 48.82\n",
      "List  18  Min: 0.25 ; Max: 99.98 ; Mean: 49.87\n",
      "List  19  Min: 0.12 ; Max: 99.98 ; Mean: 50.38\n",
      "List  20  Min: 0.12 ; Max: 99.93 ; Mean: 51.12\n"
     ]
    },
    {
     "data": {
      "image/png": "[encoded data removed]",
      "text/plain": [
       "<Figure size 432x288 with 1 Axes>"
      ]
     },
     "metadata": {
      "needs_background": "light"
     },
     "output_type": "display_data"
    }
   ],
   "source": [
    "mini=[]\n",
    "maxi=[]\n",
    "moye=[]\n",
    "for i in range(20):\n",
    "  l=gen_distrib(0,100,1000)\n",
    "  M=calc_stat(l)\n",
    "  print(\"List \",i+1,f\" Min: {M[0]:.2f} ; Max: {M[1]:.2f} ; Mean: {M[2]:.2f}\")\n",
    "  mini.append(M[0])\n",
    "  maxi.append(M[1])\n",
    "  moye.append(M[2])\n",
    "\n",
    "plt.plot(range(0,20),mini)\n",
    "plt.plot(range(0,20),maxi)\n",
    "plt.plot(range(0,20),moye)\n",
    "plt.show()"
   ]
  },
  {
   "cell_type": "code",
   "execution_count": 31,
   "metadata": {
    "colab": {
     "base_uri": "https://localhost:8080/",
     "height": 630
    },
    "id": "dB5i_V8ErmBn",
    "outputId": "b218251a-f8cc-48b6-faf7-785e02365af7"
   },
   "outputs": [
    {
     "name": "stdout",
     "output_type": "stream",
     "text": [
      "List  1  Min: 0.01 ; Max: 99.98 ; Mean: 50.03\n",
      "List  2  Min: 0.01 ; Max: 100.00 ; Mean: 50.40\n",
      "List  3  Min: 0.01 ; Max: 99.99 ; Mean: 49.99\n",
      "List  4  Min: 0.01 ; Max: 100.00 ; Mean: 50.18\n",
      "List  5  Min: 0.01 ; Max: 100.00 ; Mean: 50.20\n",
      "List  6  Min: 0.00 ; Max: 100.00 ; Mean: 49.90\n",
      "List  7  Min: 0.01 ; Max: 99.98 ; Mean: 49.44\n",
      "List  8  Min: 0.01 ; Max: 99.99 ; Mean: 50.11\n",
      "List  9  Min: 0.00 ; Max: 99.95 ; Mean: 49.95\n",
      "List  10  Min: 0.01 ; Max: 100.00 ; Mean: 50.24\n",
      "List  11  Min: 0.01 ; Max: 100.00 ; Mean: 50.61\n",
      "List  12  Min: 0.00 ; Max: 100.00 ; Mean: 50.58\n",
      "List  13  Min: 0.00 ; Max: 100.00 ; Mean: 50.13\n",
      "List  14  Min: 0.02 ; Max: 99.98 ; Mean: 49.95\n",
      "List  15  Min: 0.05 ; Max: 99.99 ; Mean: 50.15\n",
      "List  16  Min: 0.02 ; Max: 100.00 ; Mean: 50.04\n",
      "List  17  Min: 0.00 ; Max: 100.00 ; Mean: 49.57\n",
      "List  18  Min: 0.00 ; Max: 100.00 ; Mean: 50.01\n",
      "List  19  Min: 0.00 ; Max: 99.99 ; Mean: 49.97\n",
      "List  20  Min: 0.01 ; Max: 100.00 ; Mean: 50.20\n"
     ]
    },
    {
     "data": {
      "image/png": "[encoded data removed]",
      "text/plain": [
       "<Figure size 432x288 with 1 Axes>"
      ]
     },
     "metadata": {
      "needs_background": "light"
     },
     "output_type": "display_data"
    }
   ],
   "source": [
    "mini=[]\n",
    "maxi=[]\n",
    "moye=[]\n",
    "for i in range(20):\n",
    "  l=gen_distrib(0,100,10000)\n",
    "  M=calc_stat(l)\n",
    "  print(\"List \",i+1,f\" Min: {M[0]:.2f} ; Max: {M[1]:.2f} ; Mean: {M[2]:.2f}\")\n",
    "  mini.append(M[0])\n",
    "  maxi.append(M[1])\n",
    "  moye.append(M[2])\n",
    "\n",
    "plt.plot(range(0,20),mini)\n",
    "plt.plot(range(0,20),maxi)\n",
    "plt.plot(range(0,20),moye)\n",
    "plt.show()"
   ]
  },
  {
   "cell_type": "markdown",
   "metadata": {
    "id": "Smm0OhjumP7G"
   },
   "source": [
    "The differences in statistics between the different lists are not very important.\n",
    "\n",
    "We notice that the more we increase the number of elements per list, the differences decrease and we will subsequently obtain in the display approximately a straight line."
   ]
  },
  {
   "cell_type": "code",
   "execution_count": 32,
   "metadata": {
    "colab": {
     "base_uri": "https://localhost:8080/"
    },
    "id": "EtaB6xA2k7K8",
    "outputId": "057081bd-f6f8-4615-f3ef-794c51786e17"
   },
   "outputs": [
    {
     "name": "stdout",
     "output_type": "stream",
     "text": [
      "the mean of the marks is 12.57\n"
     ]
    }
   ],
   "source": [
    "l=[]\n",
    "with open(\"marks.txt\",'r') as f:\n",
    "  for x in f:\n",
    "    m=float(x[:len(x)-1])\n",
    "    l.append(m)\n",
    "  moy=sum(l)/len(l)\n",
    "  print(f\"the mean of the marks is {moy:.2f}\")  \n",
    "    \n",
    "    "
   ]
  },
  {
   "cell_type": "code",
   "execution_count": 33,
   "metadata": {
    "id": "5Q9l_1Gvp-po"
   },
   "outputs": [],
   "source": [
    "l=[]\n",
    "with open(\"marks.txt\",'r') as f:\n",
    "  for x in f:\n",
    "    m=float(x[:len(x)-1])\n",
    "    l.append(m)\n",
    "with open(\"marks2.txt\",'w') as fo:\n",
    "  for x in l:\n",
    "    if x<10:\n",
    "      fo.write(f\"{x:.2f} failed\\n\")\n",
    "    elif x>=10:\n",
    "      fo.write(f\"{x:.2f} admitted\\n\")\n",
    "f.close()\n",
    "fo.close()\n",
    "\n",
    "\n"
   ]
  },
  {
   "cell_type": "markdown",
   "metadata": {
    "id": "uwlhGP4ha4ck"
   },
   "source": [
    "**Exercise-Spiral**"
   ]
  },
  {
   "cell_type": "code",
   "execution_count": 34,
   "metadata": {
    "colab": {
     "base_uri": "https://localhost:8080/",
     "height": 265
    },
    "id": "Ejv91cUlsKIV",
    "outputId": "5c0cd47e-0192-47ca-ee18-e76c6582adca"
   },
   "outputs": [
    {
     "data": {
      "image/png": "[encoded data removed]",
      "text/plain": [
       "<Figure size 432x288 with 1 Axes>"
      ]
     },
     "metadata": {
      "needs_background": "light"
     },
     "output_type": "display_data"
    }
   ],
   "source": [
    "import math\n",
    "import matplotlib.pyplot as plt\n",
    "x=[]\n",
    "y=[]\n",
    "r=0.5\n",
    "teta=0\n",
    "while(teta<=4*math.pi):\n",
    "   x.append(r*math.cos(teta))\n",
    "   y.append(r*math.sin(teta))\n",
    "   teta+=0.1\n",
    "   r+=0.1\n",
    "\n",
    "plt.plot(x,y)\n",
    "\n",
    "with open(\"spirale.dat\",'w') as fi:\n",
    "  for i in range(len(x)):\n",
    "    fi.write(f\"{x[i]:.5f}\"+\"  \"+f\"{y[i]:.5f}\"+\"\\n\")\n",
    "\n"
   ]
  }
 ],
 "metadata": {
  "kernelspec": {
   "display_name": "Python 3",
   "language": "python",
   "name": "python3"
  },
  "language_info": {
   "codemirror_mode": {
    "name": "ipython",
    "version": 3
   },
   "file_extension": ".py",
   "mimetype": "text/x-python",
   "name": "python",
   "nbconvert_exporter": "python",
   "pygments_lexer": "ipython3",
   "version": "3.8.5"
  }
 },
 "nbformat": 4,
 "nbformat_minor": 4
}
