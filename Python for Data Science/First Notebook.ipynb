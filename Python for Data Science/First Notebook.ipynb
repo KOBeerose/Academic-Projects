{
 "cells": [
  {
   "cell_type": "markdown",
   "metadata": {},
   "source": [
    "## Exercise − Loops basics"
   ]
  },
  {
   "cell_type": "markdown",
   "metadata": {},
   "source": [
    "1- Consider the list ['Java', 'C ++', 'C', 'Python']. Display all the elements of this list (one element per line) in three different ways (two with for and one with while)."
   ]
  },
  {
   "cell_type": "code",
   "execution_count": 20,
   "metadata": {},
   "outputs": [
    {
     "name": "stdout",
     "output_type": "stream",
     "text": [
      "Using for Loop \n",
      "\n",
      "Java\n",
      "C ++\n",
      "C\n",
      "Python\n",
      "\n",
      " Using while Loop \n",
      "\n",
      "Java\n",
      "C ++\n",
      "C\n",
      "Python\n",
      "\n",
      " Using list comprehension \n",
      "\n",
      "Java\n",
      "C ++\n",
      "C\n",
      "Python\n",
      "\n",
      " Using * operator \n",
      "\n",
      "Java\n",
      "C ++\n",
      "C\n",
      "Python\n",
      "\n",
      " Using map \n",
      "\n",
      "Java\n",
      "C ++\n",
      "C\n",
      "Python\n"
     ]
    }
   ],
   "source": [
    "list = ['Java', 'C ++', 'C', 'Python']\n",
    "i = 0\n",
    "# first method\n",
    "print(\"Using for Loop \\n\")\n",
    "for x in list : print(x)\n",
    "\n",
    "# second method\n",
    "print(\"\\n Using while Loop \\n\")\n",
    "while i < len(list) : \n",
    "    print(list[i])\n",
    "    i+=1\n",
    "    \n",
    "\n",
    "# third method\n",
    "print(\"\\n Using list comprehension \\n\")\n",
    "[print(i) for i in list]\n",
    "\n",
    "\n",
    "# bonus\n",
    "print(\"\\n Using * operator \\n\")\n",
    "print(*list, sep = \"\\n\")\n",
    "\n",
    "print(\"\\n Using map \\n\")\n",
    "print('\\n'.join(map(str, list)))"
   ]
  },
  {
   "cell_type": "markdown",
   "metadata": {},
   "source": [
    "2- Create a week list containing the 7 days of the week. Write a series of instructions displaying the days of the week (using a for loop), as well as another set of instructions showing the days of the weekend (using a while loop)."
   ]
  },
  {
   "cell_type": "code",
   "execution_count": 22,
   "metadata": {},
   "outputs": [
    {
     "name": "stdout",
     "output_type": "stream",
     "text": [
      "Using for Loop \n",
      "\n",
      "Monday\n",
      "Tuesday\n",
      "Wednesday\n",
      "Thursday\n",
      "Friday\n",
      "Saturday\n",
      "Sunday\n",
      "\n",
      " Using while Loop \n",
      "\n",
      "Monday\n",
      "Tuesday\n",
      "Wednesday\n",
      "Thursday\n",
      "Friday\n",
      "Saturday\n",
      "Sunday\n"
     ]
    }
   ],
   "source": [
    "Days_of_week = [ 'Monday', 'Tuesday', 'Wednesday', 'Thursday', 'Friday',  'Saturday', 'Sunday' ]\n",
    "i = 0\n",
    "\n",
    "print(\"Using for Loop \\n\")\n",
    "for day in Days_of_week : print(day)\n",
    "    \n",
    "print(\"\\n Using while Loop \\n\")\n",
    "while i < len(Days_of_week) : \n",
    "    print(Days_of_week[i])\n",
    "    i+=1\n",
    "    "
   ]
  },
  {
   "cell_type": "markdown",
   "metadata": {},
   "source": [
    "3- With a loop, display the numbers from 1 to 10 on a single line."
   ]
  },
  {
   "cell_type": "code",
   "execution_count": null,
   "metadata": {},
   "outputs": [],
   "source": [
    "while (i<): print(i)"
   ]
  },
  {
   "cell_type": "markdown",
   "metadata": {},
   "source": [
    "4- Let the list of numbers be odd [1, 3, 5, 7, 9, 11, 13, 15, 17, 19, 21]. Write a program which, from the odd-numbered list, builds a list\n",
    "even in which all the elements of odd are incremented by 1."
   ]
  },
  {
   "cell_type": "code",
   "execution_count": 31,
   "metadata": {},
   "outputs": [
    {
     "name": "stdout",
     "output_type": "stream",
     "text": [
      "[2, 4, 6, 8, 10, 12, 14, 16, 18, 20, 22]\n"
     ]
    }
   ],
   "source": [
    "odd_list = [1, 3, 5, 7, 9, 11, 13, 15, 17, 19, 21]\n",
    "\n",
    "# Our function\n",
    "def odd2even(list):\n",
    "    return [x+1 for x in list]\n",
    "\n",
    "# let's Call it and see\n",
    "print(odd2even(odd_list))"
   ]
  },
  {
   "cell_type": "markdown",
   "metadata": {},
   "source": [
    "5- Here are a student's grades [14, 9, 6, 8, 12]. Calculate the average of these scores. Use formatted writing to display the mean value\n",
    "with two decimal places."
   ]
  },
  {
   "cell_type": "code",
   "execution_count": 29,
   "metadata": {},
   "outputs": [
    {
     "name": "stdout",
     "output_type": "stream",
     "text": [
      "9.8\n"
     ]
    }
   ],
   "source": [
    "grades = [14, 9, 6, 8, 12]\n",
    "\n",
    "# our function\n",
    "def arg_scores(list):\n",
    "    return round(sum(list) / len(list), 2)\n",
    "\n",
    "# let's Call it and see\n",
    "print(arg_scores(grades))"
   ]
  },
  {
   "cell_type": "markdown",
   "metadata": {},
   "source": [
    "6- With the list () and range () functions, create the integer list containing the even integers from 2 to 20 inclusive. Then calculate the product of the numbers consecutive two to two of integers using a loop. Example for the first iterations"
   ]
  },
  {
   "cell_type": "code",
   "execution_count": 44,
   "metadata": {},
   "outputs": [
    {
     "name": "stdout",
     "output_type": "stream",
     "text": [
      "8\n",
      "24\n",
      "48\n",
      "80\n",
      "120\n",
      "168\n",
      "224\n",
      "288\n",
      "360\n"
     ]
    }
   ],
   "source": [
    "even_list = range(2,21,2)\n",
    "\n",
    "for i in range(len(even_list)-1) : print(even_list[i]*even_list[i+1])"
   ]
  },
  {
   "cell_type": "markdown",
   "metadata": {},
   "source": [
    "## Basic loops: triangles"
   ]
  },
  {
   "cell_type": "code",
   "execution_count": 61,
   "metadata": {},
   "outputs": [
    {
     "name": "stdout",
     "output_type": "stream",
     "text": [
      "\n",
      "*\n",
      "**\n",
      "***\n",
      "****\n",
      "*****\n",
      "******\n",
      "*******\n",
      "********\n",
      "*********\n"
     ]
    }
   ],
   "source": [
    "# Triangle\n",
    "dots = '**********'\n",
    "\n",
    "for i in range (len(dots)) : print(dots[:i])\n"
   ]
  },
  {
   "cell_type": "code",
   "execution_count": 60,
   "metadata": {},
   "outputs": [
    {
     "name": "stdout",
     "output_type": "stream",
     "text": [
      "**********\n",
      "*********\n",
      "********\n",
      "*******\n",
      "******\n",
      "*****\n",
      "****\n",
      "***\n",
      "**\n",
      "*\n"
     ]
    }
   ],
   "source": [
    "# Inversed Triangle\n",
    "dots = '**********'\n",
    "\n",
    "for i in range (len(dots)) : print(dots[:len(dots)-i])"
   ]
  },
  {
   "cell_type": "code",
   "execution_count": 64,
   "metadata": {},
   "outputs": [
    {
     "name": "stdout",
     "output_type": "stream",
     "text": [
      "          \n",
      "         *\n",
      "        **\n",
      "       ***\n",
      "      ****\n",
      "     *****\n",
      "    ******\n",
      "   *******\n",
      "  ********\n",
      " *********\n"
     ]
    }
   ],
   "source": [
    "# Left Triangle\n",
    "dots = '**********'\n",
    "\n",
    "for i in range (len(dots)) : print(\" \"*(len(dots)-i) + dots[:i])"
   ]
  },
  {
   "cell_type": "markdown",
   "metadata": {},
   "source": [
    "1- Create a pyra.py script that draws a pyramid "
   ]
  },
  {
   "cell_type": "code",
   "execution_count": 71,
   "metadata": {},
   "outputs": [
    {
     "name": "stdout",
     "output_type": "stream",
     "text": [
      "          *\n",
      "         ***\n",
      "        *****\n",
      "       *******\n",
      "      *********\n",
      "     ***********\n",
      "    *************\n",
      "   ***************\n",
      "  *****************\n",
      " *******************\n"
     ]
    }
   ],
   "source": [
    "# Pyramid\n",
    "dots = '**********'\n",
    "\n",
    "for i in range (len(dots)) : print(\" \"*(len(dots)-i) + dots[0]*(i*2+1))"
   ]
  },
  {
   "cell_type": "markdown",
   "metadata": {},
   "source": [
    "2- Try to evolve your script to draw the pyramid from an arbitrary number of N lines. You can ask the user for the\n",
    "number of lines in the pyramid with the following statements that use the input () function:"
   ]
  },
  {
   "cell_type": "code",
   "execution_count": 74,
   "metadata": {},
   "outputs": [
    {
     "name": "stdout",
     "output_type": "stream",
     "text": [
      "Enter a number of rows (positive integer): 5\n",
      "     *\n",
      "    ***\n",
      "   *****\n",
      "  *******\n",
      " *********\n"
     ]
    }
   ],
   "source": [
    "response = input(\"Enter a number of rows (positive integer): \")\n",
    "N = int(response)\n",
    "\n",
    "# Pyramid\n",
    "dots = '*'*N\n",
    "\n",
    "for i in range (len(dots)) : print(\" \"*(len(dots)-i) + dots[0]*(i*2+1))"
   ]
  },
  {
   "cell_type": "markdown",
   "metadata": {},
   "source": [
    "## Iterating over Matrix"
   ]
  },
  {
   "cell_type": "markdown",
   "metadata": {},
   "source": [
    "let's assume that we wish to browse all the elements of a square matrix, that is to say of a matrix which is made up of as many rows as there are\n",
    "columns. Create a script that iterates through each element of the array and displays the row and column number only with for loops."
   ]
  },
  {
   "cell_type": "code",
   "execution_count": 142,
   "metadata": {},
   "outputs": [
    {
     "name": "stdout",
     "output_type": "stream",
     "text": [
      "line \t column\n",
      "  1\t    2\n",
      "  1\t    1\n",
      "  1\t    3\n",
      "  2\t    2\n",
      "  2\t    1\n",
      "  2\t    3\n",
      "  3\t    2\n",
      "  3\t    1\n",
      "  3\t    3\n"
     ]
    }
   ],
   "source": [
    "# Defining the Matrix dimensions\n",
    "N = 3\n",
    "\n",
    "print(\"line \\t column\")\n",
    "for i in range(1,N*N+1): print(\"  \"+str((i+N-1)//N) + \"\\t    \" + str(N-i%N) )"
   ]
  },
  {
   "cell_type": "code",
   "execution_count": null,
   "metadata": {},
   "outputs": [],
   "source": []
  }
 ],
 "metadata": {
  "kernelspec": {
   "display_name": "Python 3",
   "language": "python",
   "name": "python3"
  },
  "language_info": {
   "codemirror_mode": {
    "name": "ipython",
    "version": 3
   },
   "file_extension": ".py",
   "mimetype": "text/x-python",
   "name": "python",
   "nbconvert_exporter": "python",
   "pygments_lexer": "ipython3",
   "version": "3.8.5"
  }
 },
 "nbformat": 4,
 "nbformat_minor": 4
}
