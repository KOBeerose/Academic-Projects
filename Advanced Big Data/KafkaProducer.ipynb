{
 "cells": [
  {
   "cell_type": "code",
   "execution_count": null,
   "id": "f19405f0",
   "metadata": {},
   "outputs": [
    {
     "ename": "",
     "evalue": "",
     "output_type": "error",
     "traceback": [
      "\u001b[1;31mRunning cells with 'c:\\Users\\taha\\AppData\\Local\\Programs\\Python\\Python311\\python.exe' requires the ipykernel package.\n",
      "\u001b[1;31mRun the following command to install 'ipykernel' into the Python environment. \n",
      "\u001b[1;31mCommand: 'c:/Users/taha/AppData/Local/Programs/Python/Python311/python.exe -m pip install ipykernel -U --user --force-reinstall'"
     ]
    }
   ],
   "source": [
    "import praw\n",
    "import threading\n",
    "from json import dumps\n",
    "from time import sleep\n",
    "from kafka import KafkaProducer\n",
    "from concurrent.futures import ThreadPoolExecutor\n",
    "from prawcore.exceptions import ResponseException\n"
   ]
  },
  {
   "cell_type": "code",
   "execution_count": null,
   "id": "b876d3c4",
   "metadata": {},
   "outputs": [],
   "source": [
    "topic = 'reddit'\n",
    "clientid = '52.19.145.82:9092'"
   ]
  },
  {
   "cell_type": "code",
   "execution_count": null,
   "id": "b483a0e4",
   "metadata": {},
   "outputs": [],
   "source": [
    "producer = KafkaProducer(bootstrap_servers=[clientid], \n",
    "                         value_serializer=lambda x: \n",
    "                         dumps(x).encode('utf-8'))"
   ]
  },
  {
   "cell_type": "code",
   "execution_count": null,
   "id": "0c30b915",
   "metadata": {},
   "outputs": [],
   "source": [
    "producer.send(topic, value={'test':'value for test'})"
   ]
  },
  {
   "cell_type": "code",
   "execution_count": 1,
   "id": "b62e9804",
   "metadata": {},
   "outputs": [],
   "source": []
  },
  {
   "cell_type": "code",
   "execution_count": null,
   "id": "272411f6",
   "metadata": {},
   "outputs": [],
   "source": [
    "# Define the Reddit API credentials and user agent\n",
    "reddit = praw.Reddit(\n",
    "    client_id=client_id,\n",
    "    client_secret=client_secret,\n",
    "    username='KOBeerose',\n",
    "    password=password,\n",
    "    user_agent='Scraper 1.0 by /u/KOBeerose')"
   ]
  },
  {
   "cell_type": "code",
   "execution_count": null,
   "id": "e1455df3",
   "metadata": {},
   "outputs": [],
   "source": [
    "try:\n",
    "    print(\"Authenticated as {}\".format(reddit.user.me()))\n",
    "except ResponseException as e:\n",
    "    print(e)\n"
   ]
  },
  {
   "cell_type": "code",
   "execution_count": null,
   "id": "642eea73",
   "metadata": {},
   "outputs": [],
   "source": [
    "for submission in reddit.subreddit(\"test\").hot(limit=10):\n",
    "    print(submission.title)"
   ]
  },
  {
   "cell_type": "code",
   "execution_count": null,
   "id": "c0285eb9",
   "metadata": {},
   "outputs": [],
   "source": [
    "# Define a function to filter submissions by keywords and send them to Kafka\n",
    "def reddit_stream(keywords):\n",
    "    for submission in reddit.subreddit('all').search(keywords, limit=None):\n",
    "        try:\n",
    "            post = {\n",
    "                # Output: the submission's id\n",
    "                'id': submission.id,\n",
    "                # Output: the submission's title\n",
    "                'title': submission.title,\n",
    "                # Output: the submission's text\n",
    "                'text': submission.selftext,\n",
    "                # Output: the submission's creation date\n",
    "                'created_at': submission.created_utc,\n",
    "                # Output: the submission's score\n",
    "                'score':submission.score,\n",
    "                # Output: the submission's author id\n",
    "                'user_id': submission.author.id,\n",
    "                # Output: the submission's subreddit\n",
    "                'subreddit': submission.subreddit.display_name,\n",
    "                    'user_name': submission.author.name,\n",
    "                    'followers_count': submission.subreddit.subscribers,\n",
    "            }\n",
    "            producer.send(topic, value=post)\n",
    "            print(f\"Sent '{submission.title}' post to Kafka topic '{topic}'\")\n",
    "        except AttributeError as e:\n",
    "            print(e)\n",
    "            pass"
   ]
  },
  {
   "cell_type": "code",
   "execution_count": null,
   "id": "175cd233",
   "metadata": {},
   "outputs": [],
   "source": [
    "keywords = ['bitcoin', 'crypto', 'cryptocurrency', 'blockchain']"
   ]
  },
  {
   "cell_type": "code",
   "execution_count": null,
   "id": "c19aa433",
   "metadata": {},
   "outputs": [],
   "source": [
    "reddit_stream(keywords)"
   ]
  },
  {
   "cell_type": "code",
   "execution_count": null,
   "id": "ed71c0e4",
   "metadata": {},
   "outputs": [],
   "source": [
    "producer.flush() #clear data from kafka server"
   ]
  }
 ],
 "metadata": {
  "kernelspec": {
   "display_name": "Python 3 (ipykernel)",
   "language": "python",
   "name": "python3"
  },
  "language_info": {
   "codemirror_mode": {
    "name": "ipython",
    "version": 3
   },
   "file_extension": ".py",
   "mimetype": "text/x-python",
   "name": "python",
   "nbconvert_exporter": "python",
   "pygments_lexer": "ipython3",
   "version": "3.11.2"
  }
 },
 "nbformat": 4,
 "nbformat_minor": 5
}
